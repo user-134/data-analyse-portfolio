{
 "cells": [
  {
   "cell_type": "markdown",
   "metadata": {},
   "source": [
    "# Исследование по выявлению определяющих успешность игры закономерностей."
   ]
  },
  {
   "cell_type": "markdown",
   "metadata": {},
   "source": [
    "Вы работаете в интернет-магазине «Стримчик», который продаёт по всему миру компьютерные игры. Из открытых источников доступны исторические данные о продажах игр, оценки пользователей и экспертов, жанры и платформы (например, Xbox или PlayStation). Вам нужно выявить определяющие успешность игры закономерности. Это позволит сделать ставку на потенциально популярный продукт и спланировать рекламные кампании.\\\n",
    "Перед вами данные до 2016 года. Представим, что сейчас декабрь 2016 г., и вы планируете кампанию на 2017-й. Нужно отработать принцип работы с данными. Неважно, прогнозируете ли вы продажи на 2017 год по данным 2016-го или же 2027-й — по данным 2026 года.\\\n",
    "В наборе данных попадается аббревиатура ESRB (Entertainment Software Rating Board) — это ассоциация, определяющая возрастной рейтинг компьютерных игр. ESRB оценивает игровой контент и присваивает ему подходящую возрастную категорию, например, «Для взрослых», «Для детей младшего возраста» или «Для подростков».\n",
    "\n",
    "Цель исследования: \n",
    "- Определить потенциально популярный продукт и спланировать рекламные кампании\n",
    "\n",
    "План исследования: \n",
    "- Подготовка данных\n",
    "- Проведение исследования\n",
    "- Обработка результатов исследования\n",
    "- Проверка гипотезы\n",
    "- Формулирование выводов"
   ]
  },
  {
   "cell_type": "markdown",
   "metadata": {},
   "source": [
    "### Открываем файл с данными и изучаем общую информацию"
   ]
  },
  {
   "cell_type": "code",
   "execution_count": 1,
   "metadata": {},
   "outputs": [],
   "source": [
    "import pandas as pd\n",
    "import matplotlib.pyplot as plt\n",
    "import numpy as np\n",
    "import seaborn as sns\n",
    "from scipy import stats as st\n",
    "#Импортируем бмблмотеки"
   ]
  },
  {
   "cell_type": "code",
   "execution_count": 2,
   "metadata": {},
   "outputs": [
    {
     "data": {
      "text/html": [
       "<div>\n",
       "<style scoped>\n",
       "    .dataframe tbody tr th:only-of-type {\n",
       "        vertical-align: middle;\n",
       "    }\n",
       "\n",
       "    .dataframe tbody tr th {\n",
       "        vertical-align: top;\n",
       "    }\n",
       "\n",
       "    .dataframe thead th {\n",
       "        text-align: right;\n",
       "    }\n",
       "</style>\n",
       "<table border=\"1\" class=\"dataframe\">\n",
       "  <thead>\n",
       "    <tr style=\"text-align: right;\">\n",
       "      <th></th>\n",
       "      <th>Name</th>\n",
       "      <th>Platform</th>\n",
       "      <th>Year_of_Release</th>\n",
       "      <th>Genre</th>\n",
       "      <th>NA_sales</th>\n",
       "      <th>EU_sales</th>\n",
       "      <th>JP_sales</th>\n",
       "      <th>Other_sales</th>\n",
       "      <th>Critic_Score</th>\n",
       "      <th>User_Score</th>\n",
       "      <th>Rating</th>\n",
       "    </tr>\n",
       "  </thead>\n",
       "  <tbody>\n",
       "    <tr>\n",
       "      <th>0</th>\n",
       "      <td>Wii Sports</td>\n",
       "      <td>Wii</td>\n",
       "      <td>2006.0</td>\n",
       "      <td>Sports</td>\n",
       "      <td>41.36</td>\n",
       "      <td>28.96</td>\n",
       "      <td>3.77</td>\n",
       "      <td>8.45</td>\n",
       "      <td>76.0</td>\n",
       "      <td>8</td>\n",
       "      <td>E</td>\n",
       "    </tr>\n",
       "    <tr>\n",
       "      <th>1</th>\n",
       "      <td>Super Mario Bros.</td>\n",
       "      <td>NES</td>\n",
       "      <td>1985.0</td>\n",
       "      <td>Platform</td>\n",
       "      <td>29.08</td>\n",
       "      <td>3.58</td>\n",
       "      <td>6.81</td>\n",
       "      <td>0.77</td>\n",
       "      <td>NaN</td>\n",
       "      <td>NaN</td>\n",
       "      <td>NaN</td>\n",
       "    </tr>\n",
       "    <tr>\n",
       "      <th>2</th>\n",
       "      <td>Mario Kart Wii</td>\n",
       "      <td>Wii</td>\n",
       "      <td>2008.0</td>\n",
       "      <td>Racing</td>\n",
       "      <td>15.68</td>\n",
       "      <td>12.76</td>\n",
       "      <td>3.79</td>\n",
       "      <td>3.29</td>\n",
       "      <td>82.0</td>\n",
       "      <td>8.3</td>\n",
       "      <td>E</td>\n",
       "    </tr>\n",
       "    <tr>\n",
       "      <th>3</th>\n",
       "      <td>Wii Sports Resort</td>\n",
       "      <td>Wii</td>\n",
       "      <td>2009.0</td>\n",
       "      <td>Sports</td>\n",
       "      <td>15.61</td>\n",
       "      <td>10.93</td>\n",
       "      <td>3.28</td>\n",
       "      <td>2.95</td>\n",
       "      <td>80.0</td>\n",
       "      <td>8</td>\n",
       "      <td>E</td>\n",
       "    </tr>\n",
       "    <tr>\n",
       "      <th>4</th>\n",
       "      <td>Pokemon Red/Pokemon Blue</td>\n",
       "      <td>GB</td>\n",
       "      <td>1996.0</td>\n",
       "      <td>Role-Playing</td>\n",
       "      <td>11.27</td>\n",
       "      <td>8.89</td>\n",
       "      <td>10.22</td>\n",
       "      <td>1.00</td>\n",
       "      <td>NaN</td>\n",
       "      <td>NaN</td>\n",
       "      <td>NaN</td>\n",
       "    </tr>\n",
       "  </tbody>\n",
       "</table>\n",
       "</div>"
      ],
      "text/plain": [
       "                       Name Platform  Year_of_Release         Genre  NA_sales  \\\n",
       "0                Wii Sports      Wii           2006.0        Sports     41.36   \n",
       "1         Super Mario Bros.      NES           1985.0      Platform     29.08   \n",
       "2            Mario Kart Wii      Wii           2008.0        Racing     15.68   \n",
       "3         Wii Sports Resort      Wii           2009.0        Sports     15.61   \n",
       "4  Pokemon Red/Pokemon Blue       GB           1996.0  Role-Playing     11.27   \n",
       "\n",
       "   EU_sales  JP_sales  Other_sales  Critic_Score User_Score Rating  \n",
       "0     28.96      3.77         8.45          76.0          8      E  \n",
       "1      3.58      6.81         0.77           NaN        NaN    NaN  \n",
       "2     12.76      3.79         3.29          82.0        8.3      E  \n",
       "3     10.93      3.28         2.95          80.0          8      E  \n",
       "4      8.89     10.22         1.00           NaN        NaN    NaN  "
      ]
     },
     "metadata": {},
     "output_type": "display_data"
    },
    {
     "name": "stdout",
     "output_type": "stream",
     "text": [
      "                       Name Platform  Year_of_Release         Genre  NA_sales  \\\n",
      "0                Wii Sports      Wii           2006.0        Sports     41.36   \n",
      "1         Super Mario Bros.      NES           1985.0      Platform     29.08   \n",
      "2            Mario Kart Wii      Wii           2008.0        Racing     15.68   \n",
      "3         Wii Sports Resort      Wii           2009.0        Sports     15.61   \n",
      "4  Pokemon Red/Pokemon Blue       GB           1996.0  Role-Playing     11.27   \n",
      "\n",
      "   EU_sales  JP_sales  Other_sales  Critic_Score User_Score Rating  \n",
      "0     28.96      3.77         8.45          76.0          8      E  \n",
      "1      3.58      6.81         0.77           NaN        NaN    NaN  \n",
      "2     12.76      3.79         3.29          82.0        8.3      E  \n",
      "3     10.93      3.28         2.95          80.0          8      E  \n",
      "4      8.89     10.22         1.00           NaN        NaN    NaN  \n"
     ]
    }
   ],
   "source": [
    "data = pd.read_csv('/datasets/games.csv')\n",
    "pd.set_option('display.max_columns', None)\n",
    "display(data.head())\n",
    "print(data.head())\n",
    "#Открываем файл с данными и изучаем общую информацию"
   ]
  },
  {
   "cell_type": "code",
   "execution_count": 3,
   "metadata": {},
   "outputs": [
    {
     "name": "stdout",
     "output_type": "stream",
     "text": [
      "<class 'pandas.core.frame.DataFrame'>\n",
      "RangeIndex: 16715 entries, 0 to 16714\n",
      "Data columns (total 11 columns):\n",
      " #   Column           Non-Null Count  Dtype  \n",
      "---  ------           --------------  -----  \n",
      " 0   Name             16713 non-null  object \n",
      " 1   Platform         16715 non-null  object \n",
      " 2   Year_of_Release  16446 non-null  float64\n",
      " 3   Genre            16713 non-null  object \n",
      " 4   NA_sales         16715 non-null  float64\n",
      " 5   EU_sales         16715 non-null  float64\n",
      " 6   JP_sales         16715 non-null  float64\n",
      " 7   Other_sales      16715 non-null  float64\n",
      " 8   Critic_Score     8137 non-null   float64\n",
      " 9   User_Score       10014 non-null  object \n",
      " 10  Rating           9949 non-null   object \n",
      "dtypes: float64(6), object(5)\n",
      "memory usage: 1.4+ MB\n"
     ]
    }
   ],
   "source": [
    "data.info()"
   ]
  },
  {
   "cell_type": "code",
   "execution_count": 4,
   "metadata": {},
   "outputs": [
    {
     "name": "stdout",
     "output_type": "stream",
     "text": [
      "Количество явных дубликатов: 0\n"
     ]
    }
   ],
   "source": [
    "print('Количество явных дубликатов:', data.duplicated().sum())"
   ]
  },
  {
   "cell_type": "code",
   "execution_count": 5,
   "metadata": {},
   "outputs": [
    {
     "data": {
      "text/plain": [
       "Name                  2\n",
       "Platform              0\n",
       "Year_of_Release     269\n",
       "Genre                 2\n",
       "NA_sales              0\n",
       "EU_sales              0\n",
       "JP_sales              0\n",
       "Other_sales           0\n",
       "Critic_Score       8578\n",
       "User_Score         6701\n",
       "Rating             6766\n",
       "dtype: int64"
      ]
     },
     "execution_count": 5,
     "metadata": {},
     "output_type": "execute_result"
    }
   ],
   "source": [
    "data.isna().sum()"
   ]
  },
  {
   "cell_type": "markdown",
   "metadata": {},
   "source": [
    "В исследуемых данных 11 столбцов и 16715 записей.\\\n",
    "В 6 столбцах присутсвуют пропуски. Попробую разобраться что это за пропуски и как их можно заполнить. А также проверю типы данных в этих колонках и по какой причине их нужно заменить.\n",
    "\n",
    "Пропущенные значения в столбцах:\n",
    "\n",
    "name -  2 пропуска.\\\n",
    "Минимальное количество пропусков, возможно из-за ошибки при заполнении.\n",
    "\n",
    "genre - 2 пропуска.\\\n",
    "Минимальное количество пропусков, возможно из-за ошибки при заполнении.\n",
    "\n",
    "year_of_release - 269 пропусков. Их можно удалить, так как пропусков не существенное количество.\\\n",
    "Пропуски связаны с тем, что не указана дата релиза, возможно игра слишком старая.\\\n",
    "Необходимо перевести тип данных к целочисленному, так как год не может относится к вещественным.\n",
    "\n",
    "critic_score - 8578 пропуска. Оставляем пропуски, заполнение  может исказить итоговые результаты корреляционного анализа и стат-тестов.\n",
    "\n",
    "user_score - 6701 пропуск. Оставляем пропуски, заполнение  может исказить итоговые результаты корреляционного анализа и стат-тестов.\\\n",
    "Пропуски, связаны с тем, что игра еще не добралась до пользователей.\\\n",
    "В столбце с оценкой пользователей, присутствует значение 'tbd' - оценка еще не определена. То есть, данные отсутствуют. Значит их можно изменить на NaN. После этого, необходимо перевести тип данных к вещественному.\n",
    "\n",
    "rating - 6766 пропусков. Пустые значения скорее всего связаны с тем, что до определенного года, данный ретинг не существовал.\\\n",
    "Пропуски заполним значением \"не определен\", потому что это категориальная переменная."
   ]
  },
  {
   "cell_type": "markdown",
   "metadata": {},
   "source": [
    "### Предобработка данных"
   ]
  },
  {
   "cell_type": "code",
   "execution_count": 6,
   "metadata": {},
   "outputs": [],
   "source": [
    "data.columns = data.columns.str.lower()\n",
    "#Приводим название столбцов к нижнему регистру"
   ]
  },
  {
   "cell_type": "code",
   "execution_count": 7,
   "metadata": {},
   "outputs": [],
   "source": [
    "data.dropna(subset=['year_of_release'], inplace = True)\n",
    "#Удаляем пропуски в 'year_of_release'"
   ]
  },
  {
   "cell_type": "code",
   "execution_count": 8,
   "metadata": {},
   "outputs": [],
   "source": [
    "data['year_of_release'] = data['year_of_release'].round(0).astype('int')\n",
    "#Изменяем тип данных с вещественного на целочисленное"
   ]
  },
  {
   "cell_type": "code",
   "execution_count": 9,
   "metadata": {},
   "outputs": [],
   "source": [
    "data['user_score'] = data['user_score'].replace('tbd', np.NaN)\n",
    "#Замена 'tbd' на NaN\n",
    "data['user_score'] = data['user_score'].astype('float64')\n",
    "#Изменяем тип данных на вещественное"
   ]
  },
  {
   "cell_type": "code",
   "execution_count": 10,
   "metadata": {},
   "outputs": [],
   "source": [
    "data['rating'] = data['rating'].fillna('не определен')\n",
    "#заполняем пропуски значением \"не определен\""
   ]
  },
  {
   "cell_type": "code",
   "execution_count": 11,
   "metadata": {},
   "outputs": [],
   "source": [
    "#data['total_sales'] = data['na_sales'] + data['eu_sales'] + data['jp_sales'] + data['other_sales']\n",
    "#Подсчет суммарных продаж во всех регионах и записываем их в отдельный столбец\n",
    "data['total_sales'] = data[['na_sales','eu_sales','jp_sales', 'other_sales']].sum(axis = 1)"
   ]
  },
  {
   "cell_type": "code",
   "execution_count": 12,
   "metadata": {},
   "outputs": [
    {
     "name": "stdout",
     "output_type": "stream",
     "text": [
      "<class 'pandas.core.frame.DataFrame'>\n",
      "Int64Index: 16446 entries, 0 to 16714\n",
      "Data columns (total 12 columns):\n",
      " #   Column           Non-Null Count  Dtype  \n",
      "---  ------           --------------  -----  \n",
      " 0   name             16444 non-null  object \n",
      " 1   platform         16446 non-null  object \n",
      " 2   year_of_release  16446 non-null  int64  \n",
      " 3   genre            16444 non-null  object \n",
      " 4   na_sales         16446 non-null  float64\n",
      " 5   eu_sales         16446 non-null  float64\n",
      " 6   jp_sales         16446 non-null  float64\n",
      " 7   other_sales      16446 non-null  float64\n",
      " 8   critic_score     7983 non-null   float64\n",
      " 9   user_score       7463 non-null   float64\n",
      " 10  rating           16446 non-null  object \n",
      " 11  total_sales      16446 non-null  float64\n",
      "dtypes: float64(7), int64(1), object(4)\n",
      "memory usage: 1.6+ MB\n",
      "None\n",
      "-------------------------\n",
      "name [' Beyblade Burst' ' Fire Emblem Fates' \" Frozen: Olaf's Quest\" ...\n",
      " 'uDraw Studio: Instant Artist' '¡Shin Chan Flipa en colores!' nan]\n",
      "name : кол-во NaN 2 , процент NaN 0.01 %\n",
      "-------------------------\n",
      "platform ['2600' '3DO' '3DS' 'DC' 'DS' 'GB' 'GBA' 'GC' 'GEN' 'GG' 'N64' 'NES' 'NG'\n",
      " 'PC' 'PCFX' 'PS' 'PS2' 'PS3' 'PS4' 'PSP' 'PSV' 'SAT' 'SCD' 'SNES' 'TG16'\n",
      " 'WS' 'Wii' 'WiiU' 'X360' 'XB' 'XOne']\n",
      "platform : кол-во NaN 0 , процент NaN 0.0 %\n",
      "-------------------------\n",
      "year_of_release [1980 1981 1982 1983 1984 1985 1986 1987 1988 1989 1990 1991 1992 1993\n",
      " 1994 1995 1996 1997 1998 1999 2000 2001 2002 2003 2004 2005 2006 2007\n",
      " 2008 2009 2010 2011 2012 2013 2014 2015 2016]\n",
      "year_of_release : кол-во NaN 0 , процент NaN 0.0 %\n",
      "-------------------------\n",
      "genre ['Action' 'Adventure' 'Fighting' 'Misc' 'Platform' 'Puzzle' 'Racing'\n",
      " 'Role-Playing' 'Shooter' 'Simulation' 'Sports' 'Strategy' nan]\n",
      "genre : кол-во NaN 2 , процент NaN 0.01 %\n",
      "-------------------------\n",
      "critic_score [13. 17. 19. 20. 21. 23. 24. 25. 26. 27. 28. 29. 30. 31. 32. 33. 34. 35.\n",
      " 36. 37. 38. 39. 40. 41. 42. 43. 44. 45. 46. 47. 48. 49. 50. 51. 52. 53.\n",
      " 54. 55. 56. 57. 58. 59. 60. 61. 62. 63. 64. 65. 66. 67. 68. 69. 70. 71.\n",
      " 72. 73. 74. 75. 76. 77. 78. 79. 80. 81. 82. 83. 84. 85. 86. 87. 88. 89.\n",
      " 90. 91. 92. 93. 94. 95. 96. 97. 98. nan]\n",
      "critic_score : кол-во NaN 8463 , процент NaN 51.46 %\n",
      "-------------------------\n",
      "user_score [0.  0.2 0.3 0.5 0.6 0.7 0.9 1.  1.1 1.2 1.3 1.4 1.5 1.6 1.7 1.8 1.9 2.\n",
      " 2.1 2.2 2.3 2.4 2.5 2.6 2.7 2.8 2.9 3.  3.1 3.2 3.3 3.4 3.5 3.6 3.7 3.8\n",
      " 3.9 4.  4.1 4.2 4.3 4.4 4.5 4.6 4.7 4.8 4.9 5.  5.1 5.2 5.3 5.4 5.5 5.6\n",
      " 5.7 5.8 5.9 6.  6.1 6.2 6.3 6.4 6.5 6.6 6.7 6.8 6.9 7.  7.1 7.2 7.3 7.4\n",
      " 7.5 7.6 7.7 7.8 7.9 8.  8.1 8.2 8.3 8.4 8.5 8.6 8.7 8.8 8.9 9.  9.1 9.2\n",
      " 9.3 9.4 9.5 9.6 9.7 nan]\n",
      "user_score : кол-во NaN 8983 , процент NaN 54.62 %\n",
      "-------------------------\n",
      "rating ['AO' 'E' 'E10+' 'EC' 'K-A' 'M' 'RP' 'T' 'не определен']\n",
      "rating : кол-во NaN 0 , процент NaN 0.0 %\n"
     ]
    }
   ],
   "source": [
    "# Посмотрим, что у нас осталось\n",
    "temp = data.copy() \n",
    "list_c = ['name', 'platform', 'year_of_release', 'genre', 'critic_score', 'user_score', 'rating']\n",
    "print(temp.info())\n",
    "for col_l in list_c:\n",
    "  print('-'* 25)\n",
    "  print(col_l, temp[col_l].sort_values().unique())\n",
    "  print(col_l,': кол-во NaN',temp[col_l].isna().sum(),\n",
    "        ', процент NaN', round(temp[col_l].isna().sum()/len(temp)*100, 2),'%')"
   ]
  },
  {
   "cell_type": "code",
   "execution_count": 13,
   "metadata": {},
   "outputs": [],
   "source": [
    "data.dropna(subset=['name', 'genre'], inplace = True)\n",
    "#Удаляем пропуски в 'name' и 'genre'"
   ]
  },
  {
   "cell_type": "markdown",
   "metadata": {},
   "source": [
    "### Исследовательский анализ данных"
   ]
  },
  {
   "cell_type": "code",
   "execution_count": 14,
   "metadata": {},
   "outputs": [
    {
     "data": {
      "image/png": "[encoded data removed]",
      "text/plain": [
       "<Figure size 1224x360 with 1 Axes>"
      ]
     },
     "metadata": {
      "needs_background": "light"
     },
     "output_type": "display_data"
    }
   ],
   "source": [
    "data.pivot_table(index='year_of_release', values='name', aggfunc='count')\\\n",
    "    .plot(grid = True, figsize=(17,5))\n",
    "\n",
    "#Создаем сводную таблицу по столбцу 'year_of_release', значения - количество 'name'.\n",
    "#Строим график 17x5 для большей наглядности\n",
    "\n",
    "plt.title('Выпуск игр в разные годы')\n",
    "plt.xlabel('Год выпуска')\n",
    "plt.ylabel('Количество выпущенных игр')\n",
    "plt.legend('');"
   ]
  },
  {
   "cell_type": "markdown",
   "metadata": {},
   "source": [
    "С 2000-го года начинается активный рост выпуска компьютерных игр.\\\n",
    "На период 2006-2011гг. приходится максимальное количество выпущенных игр. Связано это с развитием цифровых технологий, доступностью персональных компьютеров и приставок, а так же спросом на появление соответствующего контента.\\\n",
    "Пик приходится на 2009г. После этого идет резкое снижение до 2013г.\\\n",
    "Период с 1980г. по 1994г. является стабильным и в тоже время наименьшим по производительности. Не является важным, так как имеет небольшие значения, по сравнению с остальной выборкой."
   ]
  },
  {
   "cell_type": "code",
   "execution_count": 15,
   "metadata": {},
   "outputs": [
    {
     "data": {
      "image/png": "[encoded data removed]",
      "text/plain": [
       "<Figure size 1224x648 with 1 Axes>"
      ]
     },
     "metadata": {
      "needs_background": "light"
     },
     "output_type": "display_data"
    }
   ],
   "source": [
    "data.pivot_table(index='platform', values='total_sales', aggfunc='sum')\\\n",
    "    .sort_values(by='total_sales')\\\n",
    "    .plot(kind=\"barh\", grid = True, figsize=(17,9))\n",
    "\n",
    "plt.title('Продажи по платформам')\n",
    "plt.xlabel('Количество продаж')\n",
    "plt.ylabel('Платформа')\n",
    "plt.legend('');"
   ]
  },
  {
   "cell_type": "markdown",
   "metadata": {},
   "source": [
    "5 игровых платформ с наибольшим количеством продаж:\\\n",
    "PS2 - более 1200\\\n",
    "X360, PS3, Wii, DS - от 800 до 1000 продаж."
   ]
  },
  {
   "cell_type": "code",
   "execution_count": 16,
   "metadata": {},
   "outputs": [],
   "source": [
    "top_platforms = data.groupby('platform')['total_sales'].sum().sort_values()[-5:].index.tolist()\n",
    "#Присваеваем переменной 5 самый продаваемых устройств."
   ]
  },
  {
   "cell_type": "code",
   "execution_count": 17,
   "metadata": {},
   "outputs": [
    {
     "data": {
      "image/png": "[encoded data removed]",
      "text/plain": [
       "<Figure size 1224x288 with 1 Axes>"
      ]
     },
     "metadata": {
      "needs_background": "light"
     },
     "output_type": "display_data"
    },
    {
     "data": {
      "image/png": "[encoded data removed]",
      "text/plain": [
       "<Figure size 1224x288 with 1 Axes>"
      ]
     },
     "metadata": {
      "needs_background": "light"
     },
     "output_type": "display_data"
    },
    {
     "data": {
      "image/png": "[encoded data removed]",
      "text/plain": [
       "<Figure size 1224x288 with 1 Axes>"
      ]
     },
     "metadata": {
      "needs_background": "light"
     },
     "output_type": "display_data"
    },
    {
     "data": {
      "image/png": "[encoded data removed]",
      "text/plain": [
       "<Figure size 1224x288 with 1 Axes>"
      ]
     },
     "metadata": {
      "needs_background": "light"
     },
     "output_type": "display_data"
    },
    {
     "data": {
      "image/png": "[encoded data removed]",
      "text/plain": [
       "<Figure size 1224x288 with 1 Axes>"
      ]
     },
     "metadata": {
      "needs_background": "light"
     },
     "output_type": "display_data"
    }
   ],
   "source": [
    "for platform in top_platforms:\n",
    "    data[data['platform'] == platform].pivot_table(index='year_of_release', values='total_sales', aggfunc='sum')\\\n",
    "    .plot(kind='bar', figsize=(17, 4), rot=0)\n",
    "    plt.title(platform)\n",
    "    plt.xlabel('Год')\n",
    "    plt.ylabel('Продажи')\n",
    "    \n",
    "#С помощью цикла строим вертикальные гистограммы для 5 самых продаваемых игровых платформ"
   ]
  },
  {
   "cell_type": "markdown",
   "metadata": {},
   "source": [
    "В среднем, активное использование игровых платформ 6-9 лет. Наибольшее число продаж выпадает на 2006-2010гг.\\\n",
    "Снижение продаж всех игровых платформ, в основном, происходит из-за устаревания платформы и выхода новых поколений.\\\n",
    "PS2 - лидер по продажам. Наибольшие значения приходятся на 2001-2005гг. Культовая игровая приставка, которая начала терять свои позиции, в связи с выходом нового покаления PS3 в 2006г и перестала асболютно быть интересной уже к 2011г. В свою очередь, 3 поколение игровой платформы было дольше времени популярно, но по количеству продаж не смогло обойти 2 поколение.\\\n",
    "Х360 - главный конкурент PS. Начало продаж платформы произошло в 2005г. и достигло своих пиков к 2010г., стремительное падение началось с 2013г.\\\n",
    "Замыкает список: Wii начало высоких продаж с появлением в 2006г. и постепенным снижением с 2010г.\\\n",
    "А так же DS с началом популярности в 2005 и снижения интереса у пользователей в 2009г.\\\n",
    "При построении графика обнаружена ошибка у платформы DS, в 1985г. приставки не существовало на рынке."
   ]
  },
  {
   "cell_type": "code",
   "execution_count": 18,
   "metadata": {},
   "outputs": [],
   "source": [
    "curr_period = data[data['year_of_release'] >= 2013]\n",
    "#Выбираем актуальный период\n",
    "#2013 год считаю актуальным, по причине того, что рост продаж имеется только у актуальных игрофых платформ."
   ]
  },
  {
   "cell_type": "code",
   "execution_count": 19,
   "metadata": {},
   "outputs": [
    {
     "data": {
      "image/png": "[encoded data removed]",
      "text/plain": [
       "<Figure size 1224x648 with 1 Axes>"
      ]
     },
     "metadata": {
      "needs_background": "light"
     },
     "output_type": "display_data"
    }
   ],
   "source": [
    "curr_period.pivot_table(index='platform', values='total_sales', aggfunc='sum')\\\n",
    "    .sort_values(by='total_sales')\\\n",
    "    .plot(kind=\"barh\", grid = True, figsize=(17,9))\n",
    "\n",
    "plt.title('Продажи по платформам с 2013г.')\n",
    "plt.xlabel('Количество продаж')\n",
    "plt.ylabel('Платформа')\n",
    "plt.legend('');"
   ]
  },
  {
   "cell_type": "markdown",
   "metadata": {},
   "source": [
    "С 2013г. самыми продаваемыми плотформами являются: лидер рынка PS4 и PS3.\\\n",
    "Следом, примерно с одинаковыми значениями конкуренты из Microsoft XOne и X360, а так же Nintendo 3DS."
   ]
  },
  {
   "cell_type": "code",
   "execution_count": 20,
   "metadata": {},
   "outputs": [
    {
     "data": {
      "text/html": [
       "<div>\n",
       "<style scoped>\n",
       "    .dataframe tbody tr th:only-of-type {\n",
       "        vertical-align: middle;\n",
       "    }\n",
       "\n",
       "    .dataframe tbody tr th {\n",
       "        vertical-align: top;\n",
       "    }\n",
       "\n",
       "    .dataframe thead th {\n",
       "        text-align: right;\n",
       "    }\n",
       "</style>\n",
       "<table border=\"1\" class=\"dataframe\">\n",
       "  <thead>\n",
       "    <tr style=\"text-align: right;\">\n",
       "      <th></th>\n",
       "      <th>count</th>\n",
       "      <th>mean</th>\n",
       "      <th>std</th>\n",
       "      <th>min</th>\n",
       "      <th>25%</th>\n",
       "      <th>50%</th>\n",
       "      <th>75%</th>\n",
       "      <th>max</th>\n",
       "    </tr>\n",
       "    <tr>\n",
       "      <th>platform</th>\n",
       "      <th></th>\n",
       "      <th></th>\n",
       "      <th></th>\n",
       "      <th></th>\n",
       "      <th></th>\n",
       "      <th></th>\n",
       "      <th></th>\n",
       "      <th></th>\n",
       "    </tr>\n",
       "  </thead>\n",
       "  <tbody>\n",
       "    <tr>\n",
       "      <th>PS4</th>\n",
       "      <td>392.0</td>\n",
       "      <td>0.801378</td>\n",
       "      <td>1.609456</td>\n",
       "      <td>0.01</td>\n",
       "      <td>0.0600</td>\n",
       "      <td>0.200</td>\n",
       "      <td>0.7300</td>\n",
       "      <td>14.63</td>\n",
       "    </tr>\n",
       "    <tr>\n",
       "      <th>PSV</th>\n",
       "      <td>358.0</td>\n",
       "      <td>0.092151</td>\n",
       "      <td>0.153816</td>\n",
       "      <td>0.01</td>\n",
       "      <td>0.0200</td>\n",
       "      <td>0.040</td>\n",
       "      <td>0.1100</td>\n",
       "      <td>1.96</td>\n",
       "    </tr>\n",
       "    <tr>\n",
       "      <th>PS3</th>\n",
       "      <td>345.0</td>\n",
       "      <td>0.525884</td>\n",
       "      <td>1.451939</td>\n",
       "      <td>0.01</td>\n",
       "      <td>0.0400</td>\n",
       "      <td>0.150</td>\n",
       "      <td>0.5100</td>\n",
       "      <td>21.05</td>\n",
       "    </tr>\n",
       "    <tr>\n",
       "      <th>3DS</th>\n",
       "      <td>303.0</td>\n",
       "      <td>0.472772</td>\n",
       "      <td>1.381347</td>\n",
       "      <td>0.01</td>\n",
       "      <td>0.0400</td>\n",
       "      <td>0.090</td>\n",
       "      <td>0.2800</td>\n",
       "      <td>14.60</td>\n",
       "    </tr>\n",
       "    <tr>\n",
       "      <th>XOne</th>\n",
       "      <td>247.0</td>\n",
       "      <td>0.645020</td>\n",
       "      <td>1.036139</td>\n",
       "      <td>0.01</td>\n",
       "      <td>0.0600</td>\n",
       "      <td>0.220</td>\n",
       "      <td>0.6850</td>\n",
       "      <td>7.39</td>\n",
       "    </tr>\n",
       "    <tr>\n",
       "      <th>PC</th>\n",
       "      <td>189.0</td>\n",
       "      <td>0.208624</td>\n",
       "      <td>0.352304</td>\n",
       "      <td>0.01</td>\n",
       "      <td>0.0300</td>\n",
       "      <td>0.080</td>\n",
       "      <td>0.2300</td>\n",
       "      <td>3.05</td>\n",
       "    </tr>\n",
       "    <tr>\n",
       "      <th>X360</th>\n",
       "      <td>186.0</td>\n",
       "      <td>0.735484</td>\n",
       "      <td>1.663275</td>\n",
       "      <td>0.01</td>\n",
       "      <td>0.0800</td>\n",
       "      <td>0.265</td>\n",
       "      <td>0.7950</td>\n",
       "      <td>16.27</td>\n",
       "    </tr>\n",
       "    <tr>\n",
       "      <th>WiiU</th>\n",
       "      <td>115.0</td>\n",
       "      <td>0.562000</td>\n",
       "      <td>1.038778</td>\n",
       "      <td>0.01</td>\n",
       "      <td>0.0600</td>\n",
       "      <td>0.200</td>\n",
       "      <td>0.5950</td>\n",
       "      <td>7.09</td>\n",
       "    </tr>\n",
       "    <tr>\n",
       "      <th>PSP</th>\n",
       "      <td>67.0</td>\n",
       "      <td>0.052239</td>\n",
       "      <td>0.059768</td>\n",
       "      <td>0.01</td>\n",
       "      <td>0.0150</td>\n",
       "      <td>0.020</td>\n",
       "      <td>0.0700</td>\n",
       "      <td>0.24</td>\n",
       "    </tr>\n",
       "    <tr>\n",
       "      <th>Wii</th>\n",
       "      <td>23.0</td>\n",
       "      <td>0.593913</td>\n",
       "      <td>0.915432</td>\n",
       "      <td>0.01</td>\n",
       "      <td>0.0450</td>\n",
       "      <td>0.180</td>\n",
       "      <td>0.7550</td>\n",
       "      <td>3.58</td>\n",
       "    </tr>\n",
       "    <tr>\n",
       "      <th>DS</th>\n",
       "      <td>8.0</td>\n",
       "      <td>0.192500</td>\n",
       "      <td>0.172026</td>\n",
       "      <td>0.03</td>\n",
       "      <td>0.0675</td>\n",
       "      <td>0.150</td>\n",
       "      <td>0.2525</td>\n",
       "      <td>0.51</td>\n",
       "    </tr>\n",
       "  </tbody>\n",
       "</table>\n",
       "</div>"
      ],
      "text/plain": [
       "          count      mean       std   min     25%    50%     75%    max\n",
       "platform                                                               \n",
       "PS4       392.0  0.801378  1.609456  0.01  0.0600  0.200  0.7300  14.63\n",
       "PSV       358.0  0.092151  0.153816  0.01  0.0200  0.040  0.1100   1.96\n",
       "PS3       345.0  0.525884  1.451939  0.01  0.0400  0.150  0.5100  21.05\n",
       "3DS       303.0  0.472772  1.381347  0.01  0.0400  0.090  0.2800  14.60\n",
       "XOne      247.0  0.645020  1.036139  0.01  0.0600  0.220  0.6850   7.39\n",
       "PC        189.0  0.208624  0.352304  0.01  0.0300  0.080  0.2300   3.05\n",
       "X360      186.0  0.735484  1.663275  0.01  0.0800  0.265  0.7950  16.27\n",
       "WiiU      115.0  0.562000  1.038778  0.01  0.0600  0.200  0.5950   7.09\n",
       "PSP        67.0  0.052239  0.059768  0.01  0.0150  0.020  0.0700   0.24\n",
       "Wii        23.0  0.593913  0.915432  0.01  0.0450  0.180  0.7550   3.58\n",
       "DS          8.0  0.192500  0.172026  0.03  0.0675  0.150  0.2525   0.51"
      ]
     },
     "execution_count": 20,
     "metadata": {},
     "output_type": "execute_result"
    }
   ],
   "source": [
    "curr_period.groupby('platform')['total_sales'].describe().sort_values(by='count', ascending=False)"
   ]
  },
  {
   "cell_type": "code",
   "execution_count": 21,
   "metadata": {},
   "outputs": [],
   "source": [
    "top_platform_uniq = ['PS4','XOne','3DS','PC','WiiU']\n",
    "#Выбираем 5 уникальных игровых платформ (потенциально прибыльные платформы)\n",
    "\n",
    "top_platform = curr_period[curr_period['platform'].isin(['PS4','XOne','3DS','PC','WiiU'])]\n",
    "#Создаем выборку из необходимых платформ"
   ]
  },
  {
   "cell_type": "code",
   "execution_count": 22,
   "metadata": {},
   "outputs": [
    {
     "data": {
      "image/png": "[encoded data removed]",
      "text/plain": [
       "<Figure size 1512x648 with 1 Axes>"
      ]
     },
     "metadata": {
      "needs_background": "light"
     },
     "output_type": "display_data"
    }
   ],
   "source": [
    "#диаграмма размаха по всем платформам за актуальный период\n",
    "plt.figure(figsize=(21,9))\n",
    "sns.boxplot(data=curr_period, x='platform', y='total_sales')\n",
    "plt.title('График \"Ящик с усами\"', fontsize=13)\n",
    "plt.xlabel('Платформа', fontsize=13)\n",
    "plt.ylabel('Глобальные продажи игр',fontsize=13);"
   ]
  },
  {
   "cell_type": "code",
   "execution_count": 23,
   "metadata": {},
   "outputs": [
    {
     "data": {
      "image/png": "[encoded data removed]",
      "text/plain": [
       "<Figure size 1512x648 with 1 Axes>"
      ]
     },
     "metadata": {
      "needs_background": "light"
     },
     "output_type": "display_data"
    }
   ],
   "source": [
    "#диаграмма размаха по всем платформам за актуальный период(увеличенная)\n",
    "plt.figure(figsize=(21,9))\n",
    "sns.boxplot(data=curr_period, x='platform', y='total_sales')\n",
    "plt.title('График \"Ящик с усами\"', fontsize=13)\n",
    "plt.xlabel('Платформа', fontsize=13)\n",
    "plt.ylabel('Глобальные продажи игр',fontsize=13)\n",
    "plt.ylim([0, 1]);"
   ]
  },
  {
   "cell_type": "markdown",
   "metadata": {},
   "source": [
    "Рассмотрев диаграмму размаха по всем платформам за актуальный период, можно увидеть, что медина у всех большинства платформ варьируется в диапазоне 0.1-0.3.\\\n",
    "Наибольшее медианное значение у X360, XOne, PS4 и WiiU. Среднее у 3DS и PC. Такое различие возможно из-за того, что последние две платформы меньше всего предназначены для комфортного гейминга. Кроме того, на показатели PC может влиять низкая стоимость игр в период распродаж в онлайн-сервисах цифрового распространения компьютерных игр (Steam), а так же наличие торрент трекеров, что уменьшает количество глобальных продаж игр у PC.\\\n",
    "Такие платформы как PSV и PSP имеют около нулевые значения, так как не являются восстребованными в рассматриваемом актуальном периоде."
   ]
  },
  {
   "cell_type": "code",
   "execution_count": 24,
   "metadata": {},
   "outputs": [
    {
     "data": {
      "image/png": "[encoded data removed]",
      "text/plain": [
       "<Figure size 1512x648 with 1 Axes>"
      ]
     },
     "metadata": {
      "needs_background": "light"
     },
     "output_type": "display_data"
    }
   ],
   "source": [
    "plt.figure(figsize=(21,9))\n",
    "sns.boxplot(data=top_platform, x='platform', y='total_sales')\n",
    "plt.title('График \"Ящик с усами\"', fontsize=13)\n",
    "plt.xlabel('Платформа', fontsize=13)\n",
    "plt.ylabel('Глобальные продажи игр',fontsize=13)\n",
    "plt.ylim([0, 1.8]);"
   ]
  },
  {
   "cell_type": "markdown",
   "metadata": {},
   "source": [
    "По ТОП-платформам:\n",
    "\n",
    "Медина у всех платформ приблизительно в одном диапазоне - около 0.1-0.3.\\\n",
    "Наибольшее значение у PS4, XOne и WiiU. Наименьшее у 3DS и PC. Такое различие возможно из-за того, что последние две платформы меньше всего предназначены для комфортного гейминга. Кроме того, на показатели PC может влиять низкая стоимость игр в период распродаж в онлайн-сервисах цифрового распространения компьютерных игр (Steam), а так же наличие торрент трекеров, что уменьшает количество глобальных продаж игр у PC.\\\n",
    "У всех платформ имеются выбросы, поэтому мы установили в последней диаграмме максимальное значение в срезе - 1.8."
   ]
  },
  {
   "cell_type": "code",
   "execution_count": 25,
   "metadata": {},
   "outputs": [
    {
     "data": {
      "text/plain": [
       "-0.031957110204556376"
      ]
     },
     "execution_count": 25,
     "metadata": {},
     "output_type": "execute_result"
    }
   ],
   "source": [
    "ps4_platform = data[data['platform'] == 'PS4']\n",
    "#Выбираем самую популярную платформу\n",
    "ps4_platform['user_score'].corr(ps4_platform['total_sales'])\n",
    "#Считаем корреляцию между отзывами пользователей и продажами"
   ]
  },
  {
   "cell_type": "code",
   "execution_count": 26,
   "metadata": {},
   "outputs": [
    {
     "data": {
      "image/png": "[encoded data removed]",
      "text/plain": [
       "<Figure size 1080x360 with 1 Axes>"
      ]
     },
     "metadata": {
      "needs_background": "light"
     },
     "output_type": "display_data"
    }
   ],
   "source": [
    "plt.figure(figsize=(15,5))\n",
    "sns.scatterplot(\n",
    "    x='user_score', \n",
    "    y='total_sales', \n",
    "    data=ps4_platform\n",
    ");\n",
    "\n",
    "#Зависимость отсутствует(-0.03)"
   ]
  },
  {
   "cell_type": "code",
   "execution_count": 27,
   "metadata": {},
   "outputs": [
    {
     "data": {
      "text/plain": [
       "0.40656790206178095"
      ]
     },
     "execution_count": 27,
     "metadata": {},
     "output_type": "execute_result"
    }
   ],
   "source": [
    "ps4_platform = data[data['platform'] == 'PS4']\n",
    "#Выбираем самую популярную платформу\n",
    "ps4_platform['critic_score'].corr(ps4_platform['total_sales'])\n",
    "#Считаем корреляцию между отзывами критиков и продажами"
   ]
  },
  {
   "cell_type": "code",
   "execution_count": 28,
   "metadata": {},
   "outputs": [
    {
     "data": {
      "text/plain": [
       "<AxesSubplot:xlabel='critic_score', ylabel='total_sales'>"
      ]
     },
     "execution_count": 28,
     "metadata": {},
     "output_type": "execute_result"
    },
    {
     "data": {
      "image/png": "[encoded data removed]",
      "text/plain": [
       "<Figure size 1080x360 with 1 Axes>"
      ]
     },
     "metadata": {
      "needs_background": "light"
     },
     "output_type": "display_data"
    }
   ],
   "source": [
    "#Зависимость между отзывами критиков и продажами слабая(корреляция 0.4)\n",
    "\n",
    "plt.figure(figsize=(15,5))\n",
    "sns.scatterplot(\n",
    "    data=ps4_platform,\n",
    "    x='critic_score',\n",
    "    y='total_sales'\n",
    ")"
   ]
  },
  {
   "cell_type": "code",
   "execution_count": 29,
   "metadata": {},
   "outputs": [
    {
     "data": {
      "text/html": [
       "<style  type=\"text/css\" >\n",
       "#T_9f735_row0_col0,#T_9f735_row1_col1,#T_9f735_row2_col2{\n",
       "            background-color:  #006837;\n",
       "            color:  #f1f1f1;\n",
       "        }#T_9f735_row0_col1,#T_9f735_row0_col2,#T_9f735_row2_col0{\n",
       "            background-color:  #a50026;\n",
       "            color:  #f1f1f1;\n",
       "        }#T_9f735_row1_col0{\n",
       "            background-color:  #fee797;\n",
       "            color:  #000000;\n",
       "        }#T_9f735_row1_col2{\n",
       "            background-color:  #e3f399;\n",
       "            color:  #000000;\n",
       "        }#T_9f735_row2_col1{\n",
       "            background-color:  #f99153;\n",
       "            color:  #000000;\n",
       "        }</style><table id=\"T_9f735_\" ><thead>    <tr>        <th class=\"blank level0\" ></th>        <th class=\"col_heading level0 col0\" >total_sales</th>        <th class=\"col_heading level0 col1\" >critic_score</th>        <th class=\"col_heading level0 col2\" >user_score</th>    </tr></thead><tbody>\n",
       "                <tr>\n",
       "                        <th id=\"T_9f735_level0_row0\" class=\"row_heading level0 row0\" >total_sales</th>\n",
       "                        <td id=\"T_9f735_row0_col0\" class=\"data row0 col0\" >1.000000</td>\n",
       "                        <td id=\"T_9f735_row0_col1\" class=\"data row0 col1\" >0.406568</td>\n",
       "                        <td id=\"T_9f735_row0_col2\" class=\"data row0 col2\" >-0.031957</td>\n",
       "            </tr>\n",
       "            <tr>\n",
       "                        <th id=\"T_9f735_level0_row1\" class=\"row_heading level0 row1\" >critic_score</th>\n",
       "                        <td id=\"T_9f735_row1_col0\" class=\"data row1 col0\" >0.406568</td>\n",
       "                        <td id=\"T_9f735_row1_col1\" class=\"data row1 col1\" >1.000000</td>\n",
       "                        <td id=\"T_9f735_row1_col2\" class=\"data row1 col2\" >0.557654</td>\n",
       "            </tr>\n",
       "            <tr>\n",
       "                        <th id=\"T_9f735_level0_row2\" class=\"row_heading level0 row2\" >user_score</th>\n",
       "                        <td id=\"T_9f735_row2_col0\" class=\"data row2 col0\" >-0.031957</td>\n",
       "                        <td id=\"T_9f735_row2_col1\" class=\"data row2 col1\" >0.557654</td>\n",
       "                        <td id=\"T_9f735_row2_col2\" class=\"data row2 col2\" >1.000000</td>\n",
       "            </tr>\n",
       "    </tbody></table>"
      ],
      "text/plain": [
       "<pandas.io.formats.style.Styler at 0x7fdbe3c93130>"
      ]
     },
     "execution_count": 29,
     "metadata": {},
     "output_type": "execute_result"
    }
   ],
   "source": [
    "ps4_platform[['total_sales', 'critic_score', 'user_score']].corr().style.background_gradient(cmap='RdYlGn')"
   ]
  },
  {
   "cell_type": "code",
   "execution_count": 30,
   "metadata": {},
   "outputs": [],
   "source": [
    "#xone_platform = data[data['platform'] == 'XOne']\n",
    "#xone_platform_corr = xone_platform['user_score'].corr(xone_platform['total_sales'])\n",
    "#print(f'Корреляцию между отзывами пользователей и продажами игр для XOne: {xone_platform_corr}')\n",
    "\n",
    "#xone_platform = data[data['platform'] == 'XOne']\n",
    "#xone_platform_corr = xone_platform['critic_score'].corr(xone_platform['total_sales'])\n",
    "#print(f'Корреляцию между отзывами критиков и продажами игр для XOne: {xone_platform_corr}')\n",
    "\n",
    "#xone_platform[['total_sales', 'critic_score', 'user_score']].corr().style.background_gradient(cmap='RdYlGn')"
   ]
  },
  {
   "cell_type": "code",
   "execution_count": 31,
   "metadata": {},
   "outputs": [],
   "source": [
    "#w_platform = data[data['platform'] == 'WiiU']\n",
    "#w_platform_corr = w_platform['user_score'].corr(w_platform['total_sales'])\n",
    "#print(f'Корреляцию между отзывами пользователей и продажами игр для WiiU: {w_platform_corr}')\n",
    "\n",
    "#w_platform = data[data['platform'] == 'WiiU']\n",
    "#w_platform_corr = w_platform['critic_score'].corr(w_platform['total_sales'])\n",
    "#print(f'Корреляцию между отзывами критиков и продажами игр для WiiU: {w_platform_corr}')\n",
    "\n",
    "#w_platform[['total_sales', 'critic_score', 'user_score']].corr().style.background_gradient(cmap='RdYlGn')"
   ]
  },
  {
   "cell_type": "code",
   "execution_count": 32,
   "metadata": {},
   "outputs": [],
   "source": [
    "#ds_platform = data[data['platform'] == '3DS']\n",
    "#ds_platform_corr = ds_platform['user_score'].corr(ds_platform['total_sales'])\n",
    "#print(f'Корреляцию между отзывами пользователей и продажами игр для 3DS: {ds_platform_corr}')\n",
    "\n",
    "#ds_platform = data[data['platform'] == '3DS']\n",
    "#ds_platform_corr = ds_platform['critic_score'].corr(ds_platform['total_sales'])\n",
    "#print(f'Корреляцию между отзывами критиков и продажами игр для 3DS: {ds_platform_corr}')\n",
    "\n",
    "#ds_platform[['total_sales', 'critic_score', 'user_score']].corr().style.background_gradient(cmap='RdYlGn')"
   ]
  },
  {
   "cell_type": "code",
   "execution_count": 33,
   "metadata": {},
   "outputs": [],
   "source": [
    "#pc_platform = data[data['platform'] == 'PC']\n",
    "#pc_platform_corr = pc_platform['user_score'].corr(pc_platform['total_sales'])\n",
    "#print(f'Корреляцию между отзывами пользователей и продажами игр для PC: {pc_platform_corr}')\n",
    "\n",
    "#pc_platform = data[data['platform'] == 'PC']\n",
    "#pc_platform_corr = pc_platform['critic_score'].corr(pc_platform['total_sales'])\n",
    "#print(f'Корреляцию между отзывами критиков и продажами игр для PC: {pc_platform_corr}')\n",
    "\n",
    "#pc_platform[['total_sales', 'critic_score', 'user_score']].corr().style.background_gradient(cmap='RdYlGn')"
   ]
  },
  {
   "cell_type": "code",
   "execution_count": 34,
   "metadata": {},
   "outputs": [
    {
     "data": {
      "image/png": "[encoded data removed]",
      "text/plain": [
       "<Figure size 1080x360 with 2 Axes>"
      ]
     },
     "metadata": {
      "needs_background": "light"
     },
     "output_type": "display_data"
    },
    {
     "name": "stdout",
     "output_type": "stream",
     "text": [
      "Корреляцию между отзывами критиков и продажами игр для PS4 : -0.031957110204556376\n",
      "Корреляцию между отзывами критиков и продажами игр для PS4 : 0.40656790206178095\n"
     ]
    },
    {
     "data": {
      "image/png": "[encoded data removed]",
      "text/plain": [
       "<Figure size 1080x360 with 2 Axes>"
      ]
     },
     "metadata": {
      "needs_background": "light"
     },
     "output_type": "display_data"
    },
    {
     "name": "stdout",
     "output_type": "stream",
     "text": [
      "Корреляцию между отзывами критиков и продажами игр для XOne : -0.06892505328279414\n",
      "Корреляцию между отзывами критиков и продажами игр для XOne : 0.4169983280084017\n"
     ]
    },
    {
     "data": {
      "image/png": "[encoded data removed]",
      "text/plain": [
       "<Figure size 1080x360 with 2 Axes>"
      ]
     },
     "metadata": {
      "needs_background": "light"
     },
     "output_type": "display_data"
    },
    {
     "name": "stdout",
     "output_type": "stream",
     "text": [
      "Корреляцию между отзывами критиков и продажами игр для 3DS : 0.22207843643390882\n",
      "Корреляцию между отзывами критиков и продажами игр для 3DS : 0.3487397305984834\n"
     ]
    },
    {
     "data": {
      "image/png": "[encoded data removed]",
      "text/plain": [
       "<Figure size 1080x360 with 2 Axes>"
      ]
     },
     "metadata": {
      "needs_background": "light"
     },
     "output_type": "display_data"
    },
    {
     "name": "stdout",
     "output_type": "stream",
     "text": [
      "Корреляцию между отзывами критиков и продажами игр для PC : 0.012904741611451175\n",
      "Корреляцию между отзывами критиков и продажами игр для PC : 0.257394718400985\n"
     ]
    },
    {
     "data": {
      "image/png": "[encoded data removed]",
      "text/plain": [
       "<Figure size 1080x360 with 2 Axes>"
      ]
     },
     "metadata": {
      "needs_background": "light"
     },
     "output_type": "display_data"
    },
    {
     "name": "stdout",
     "output_type": "stream",
     "text": [
      "Корреляцию между отзывами критиков и продажами игр для WiiU : 0.4002190202148617\n",
      "Корреляцию между отзывами критиков и продажами игр для WiiU : 0.34837976012017485\n"
     ]
    }
   ],
   "source": [
    "#функция для построения диаграмм рассеяния и расчета корреляции\n",
    "def platform_graphic(all_platform):\n",
    "    platform = data[data['platform']==all_platform]\n",
    "    fig, ax = plt.subplots(1 ,2, figsize=(15,5))\n",
    "    sns.scatterplot(x='user_score', y='total_sales', data=platform, ax=ax[0])\n",
    "    sns.scatterplot(x='critic_score', y='total_sales', data=platform, ax=ax[1])\n",
    "    fig.suptitle(all_platform, fontsize=15)\n",
    "    ax[0].set(xlabel='Оценка пользователей')\n",
    "    ax[1].set(xlabel='Оценка критиков')\n",
    "    ax[0].set(ylabel='Продажи')\n",
    "    ax[1].set(ylabel='Продажи')\n",
    "    plt.show();\n",
    "    \n",
    "    user_cor = platform['user_score'].corr(platform['total_sales'])\n",
    "    critic_cor = platform['critic_score'].corr(platform['total_sales'])\n",
    "    \n",
    "    print('Корреляцию между отзывами критиков и продажами игр для', all_platform, ':', user_cor)\n",
    "    print('Корреляцию между отзывами критиков и продажами игр для', all_platform, ':', critic_cor)\n",
    "\n",
    "for platform in top_platform_uniq:\n",
    "    platform_graphic(platform)"
   ]
  },
  {
   "cell_type": "markdown",
   "metadata": {},
   "source": [
    "Зависимость между отзывами пользователей и продажами отсутвует в продажах игр на платформах: PS4 и XOne, у PC зависимость стремится к 0.\\\n",
    "У WiiU и 3DS напротив, существует зависимость продаж от наличия отзывов пользователей 0.4 и 0.2 соответственно. Скорее всего это связано с тем, что это нишевые платформы. На них нет такого количества вышедших игр, как у лидеров рынка, поэтому каждая оценка влияет на общую выборку.\\\n",
    "Зависимость между отзывами критиков и продажами примерно у всех одинаковая, умеренная корреляция в пределах 0.3-0.4.\\\n",
    "Кроме того, присутствуют выбросы, игры у которых высокие оценки пользователей и критиков, но минимальные продажи."
   ]
  },
  {
   "attachments": {
    "image.png": {
     "image/png": "[encoded data removed]"
    }
   },
   "cell_type": "markdown",
   "metadata": {},
   "source": [
    "<font color='Black'>Шкала для оценки корреляции:</font>\n",
    "![image.png](attachment:image.png)"
   ]
  },
  {
   "cell_type": "code",
   "execution_count": 35,
   "metadata": {},
   "outputs": [
    {
     "data": {
      "text/html": [
       "<div>\n",
       "<style scoped>\n",
       "    .dataframe tbody tr th:only-of-type {\n",
       "        vertical-align: middle;\n",
       "    }\n",
       "\n",
       "    .dataframe tbody tr th {\n",
       "        vertical-align: top;\n",
       "    }\n",
       "\n",
       "    .dataframe thead th {\n",
       "        text-align: right;\n",
       "    }\n",
       "</style>\n",
       "<table border=\"1\" class=\"dataframe\">\n",
       "  <thead>\n",
       "    <tr style=\"text-align: right;\">\n",
       "      <th></th>\n",
       "      <th>total_sales</th>\n",
       "    </tr>\n",
       "    <tr>\n",
       "      <th>genre</th>\n",
       "      <th></th>\n",
       "    </tr>\n",
       "  </thead>\n",
       "  <tbody>\n",
       "    <tr>\n",
       "      <th>Action</th>\n",
       "      <td>189.46</td>\n",
       "    </tr>\n",
       "    <tr>\n",
       "      <th>Shooter</th>\n",
       "      <td>164.27</td>\n",
       "    </tr>\n",
       "    <tr>\n",
       "      <th>Role-Playing</th>\n",
       "      <td>113.71</td>\n",
       "    </tr>\n",
       "    <tr>\n",
       "      <th>Sports</th>\n",
       "      <td>88.59</td>\n",
       "    </tr>\n",
       "    <tr>\n",
       "      <th>Platform</th>\n",
       "      <td>33.75</td>\n",
       "    </tr>\n",
       "    <tr>\n",
       "      <th>Misc</th>\n",
       "      <td>30.81</td>\n",
       "    </tr>\n",
       "    <tr>\n",
       "      <th>Racing</th>\n",
       "      <td>30.26</td>\n",
       "    </tr>\n",
       "    <tr>\n",
       "      <th>Fighting</th>\n",
       "      <td>25.50</td>\n",
       "    </tr>\n",
       "    <tr>\n",
       "      <th>Simulation</th>\n",
       "      <td>19.76</td>\n",
       "    </tr>\n",
       "    <tr>\n",
       "      <th>Adventure</th>\n",
       "      <td>13.03</td>\n",
       "    </tr>\n",
       "    <tr>\n",
       "      <th>Strategy</th>\n",
       "      <td>8.56</td>\n",
       "    </tr>\n",
       "    <tr>\n",
       "      <th>Puzzle</th>\n",
       "      <td>3.07</td>\n",
       "    </tr>\n",
       "  </tbody>\n",
       "</table>\n",
       "</div>"
      ],
      "text/plain": [
       "              total_sales\n",
       "genre                    \n",
       "Action             189.46\n",
       "Shooter            164.27\n",
       "Role-Playing       113.71\n",
       "Sports              88.59\n",
       "Platform            33.75\n",
       "Misc                30.81\n",
       "Racing              30.26\n",
       "Fighting            25.50\n",
       "Simulation          19.76\n",
       "Adventure           13.03\n",
       "Strategy             8.56\n",
       "Puzzle               3.07"
      ]
     },
     "execution_count": 35,
     "metadata": {},
     "output_type": "execute_result"
    }
   ],
   "source": [
    "top_platform.pivot_table(index='genre', values='total_sales', aggfunc='sum')\\\n",
    "    .sort_values(by='total_sales', ascending=False)"
   ]
  },
  {
   "cell_type": "code",
   "execution_count": 36,
   "metadata": {},
   "outputs": [
    {
     "data": {
      "image/png": "[encoded data removed]",
      "text/plain": [
       "<Figure size 1512x648 with 1 Axes>"
      ]
     },
     "metadata": {
      "needs_background": "light"
     },
     "output_type": "display_data"
    }
   ],
   "source": [
    "#диаграмма размаха по всем платформам за актуальный период\n",
    "plt.figure(figsize=(21,9))\n",
    "sns.boxplot(data=top_platform, x='genre', y='total_sales')\n",
    "plt.title('Распределение игр по жанрам', fontsize=13)\n",
    "plt.xlabel('Жанр', fontsize=13)\n",
    "plt.ylabel('Продажи',fontsize=13)\n",
    "plt.ylim([0, 0.8]);"
   ]
  },
  {
   "cell_type": "code",
   "execution_count": 37,
   "metadata": {},
   "outputs": [],
   "source": [
    "#top_platform.pivot_table(index='genre', values='total_sales', aggfunc='sum')\\\n",
    "    #.sort_values(by='total_sales', ascending=False)\\\n",
    "    #.plot(kind=\"bar\", figsize=(18,6))\n",
    "\n",
    "#plt.title('Распределение игр по жанрам')\n",
    "#plt.xlabel('Жанр')\n",
    "#plt.ylabel('Продажи')\n",
    "#plt.legend('')"
   ]
  },
  {
   "cell_type": "markdown",
   "metadata": {},
   "source": [
    "Диаграммами размаха проиллюстрировала, что при сравнении медианных продаж, самым прибыльным жанром, не зависимо от платформы, является \"Shooter\".\\\n",
    "Следом за ним располагается жанр \"Sports\"(с очень популярной серией игр \"FIFA\"),с мединным значением около 0.3.\\\n",
    "Третье место занимают \"Platform\" с близким значением к предыдущему жанру, у которых так же не мало фанатов.\\\n",
    "Самыми нишевымии являются такие жанры как \"Puzzle\", \"Strategy\" и \"Adventure\", у которых обьемы продаж на порядок ниже самых популярных жанров, изначально рассчитаны на более низкую аудиторию. "
   ]
  },
  {
   "cell_type": "markdown",
   "metadata": {},
   "source": [
    "### Портрет пользователя каждого региона"
   ]
  },
  {
   "cell_type": "code",
   "execution_count": 38,
   "metadata": {},
   "outputs": [],
   "source": [
    "#Создаем функцию для построения графиков \"Самые популярные платформы (топ-5)\".\n",
    "def regions(groupby, region_sales, ax):\n",
    "    pivot = top_platform.groupby(groupby).agg({region_sales: 'sum'}).sort_values(by=region_sales, ascending=False)[:5]\n",
    "    title_dict = {'na_sales': 'North America', 'eu_sales': 'Europe', 'jp_sales': 'Japan'}\n",
    "    plot = pivot.plot(kind='bar', title=title_dict[region_sales], ax=axes[ax], fontsize=10, rot=0)\n",
    "    plot.set_xlabel('')\n",
    "    plot.legend('')\n",
    "    plot.title.set_size(20)"
   ]
  },
  {
   "cell_type": "code",
   "execution_count": 39,
   "metadata": {},
   "outputs": [
    {
     "data": {
      "image/png": "[encoded data removed]",
      "text/plain": [
       "<Figure size 1440x360 with 3 Axes>"
      ]
     },
     "metadata": {
      "needs_background": "light"
     },
     "output_type": "display_data"
    }
   ],
   "source": [
    "#Строим графики \"Самые популярные платформы (топ-5)\".\n",
    "fig, axes = plt.subplots(1, 3, figsize=(20,5))\n",
    "regions('platform', 'na_sales', 0)\n",
    "regions('platform', 'eu_sales', 1)\n",
    "regions('platform', 'jp_sales', 2)"
   ]
  },
  {
   "cell_type": "markdown",
   "metadata": {},
   "source": [
    "Для пользователей Северной Америки самыми популярными платформами являются X360, PS2 и Wii.\\\n",
    "В Европе популярные платформы: PS2, PS3, X360.\\\n",
    "Пользователи из Японии больше всего предпочитают DS, PS, PS2"
   ]
  },
  {
   "cell_type": "code",
   "execution_count": 40,
   "metadata": {},
   "outputs": [
    {
     "data": {
      "image/png": "[encoded data removed]",
      "text/plain": [
       "<Figure size 1440x360 with 3 Axes>"
      ]
     },
     "metadata": {
      "needs_background": "light"
     },
     "output_type": "display_data"
    }
   ],
   "source": [
    "#Строим графики \"Самые популярные жанры (топ-5)\".\n",
    "fig, axes = plt.subplots(1, 3, figsize=(20,5))\n",
    "regions('genre', 'na_sales', 0)\n",
    "regions('genre', 'eu_sales', 1)\n",
    "regions('genre', 'jp_sales', 2)"
   ]
  },
  {
   "cell_type": "code",
   "execution_count": 41,
   "metadata": {},
   "outputs": [
    {
     "data": {
      "image/png": "[encoded data removed]",
      "text/plain": [
       "<Figure size 1080x360 with 3 Axes>"
      ]
     },
     "metadata": {},
     "output_type": "display_data"
    }
   ],
   "source": [
    "#Круговая диаграмма по жанрам для каждого региона\n",
    "all_str = curr_period.columns[4:7]\n",
    "colors = sns.color_palette('bright')[0:6]\n",
    "fig, axs = plt.subplots(1, 3, figsize=(15, 5))\n",
    "fig.suptitle('ТОП-5 жанров в регионах')\n",
    "for i in range(3):\n",
    "    genre_i = (curr_period.groupby('genre')[all_str[i]].sum().reset_index()\\\n",
    "             .sort_values(all_str[i], ascending = False, ignore_index = True).head(5))\n",
    "    genre_i = genre_i.append({'genre': 'Другие', all_str[i]: curr_period[all_str[i]]\\\n",
    "                            .sum() - genre_i[all_str[i]].sum()}, ignore_index= True)\n",
    "    axs[i].pie(genre_i[all_str[i]], labels = genre_i['genre'])\n",
    "    axs[i].pie(genre_i[all_str[i]], labels = genre_i['genre'], colors = colors, autopct='%1.1f%%')\n",
    "    axs[i].set_title(genre_i.columns[1].split('_')[0].upper())\n",
    "plt.show() "
   ]
  },
  {
   "cell_type": "markdown",
   "metadata": {},
   "source": [
    "Самые популярные жанры в Северной Америке и Европе: 'Action' и 'Shooter'. Это основной рынок сбыта для данных жанров.\n",
    "Популярность подобных жанров можно обьяснить тем, что они помогают расслабиться после тяжелого трудового дня, в этом смысле они определённо полезны, ведь игрок может выплеснуть накопившуюся в нём агрессию от стрессов реального мира (что более присуще западным странам) в мире виртуальном.\\\n",
    "В Японии самый популярный жанр 'Role-Playing'. В азиатских странах последнее десятелетее преобладает подобный жанр, все больше игроков предпочитают фэнтезийные RPG, в том числе MMO. Западные производители с каждым годом теряют свою позиции в подобном жанре, потому что спрос на них не такой большой как на востоке. Спрос геймеров азиатских стран, подталкивает производителей сосредоточить производство игр в сторону RPG."
   ]
  },
  {
   "cell_type": "code",
   "execution_count": 42,
   "metadata": {},
   "outputs": [
    {
     "data": {
      "image/png": "[encoded data removed]",
      "text/plain": [
       "<Figure size 1440x360 with 3 Axes>"
      ]
     },
     "metadata": {
      "needs_background": "light"
     },
     "output_type": "display_data"
    }
   ],
   "source": [
    "#Строим графики \"Влияние рейтинга ESRB на продажи в отдельном регионе\"\n",
    "fig, axes = plt.subplots(1, 3, figsize=(20,5))\n",
    "regions('rating', 'na_sales', 0)\n",
    "regions('rating', 'eu_sales', 1)\n",
    "regions('rating', 'jp_sales', 2)"
   ]
  },
  {
   "cell_type": "markdown",
   "metadata": {},
   "source": [
    "Рейтинг ESRB:\\\n",
    "EC: Для детей младшего возраста\\\n",
    "E: Для всех\\\n",
    "E10+: Для всех старше 10 лет\\\n",
    "T: Подросткам 13—19 лет\\\n",
    "M: От 17 лет\\\n",
    "AO: Только для взрослых\\\n",
    "RP: Рейтинг ожидается\n",
    "\n",
    "В Северной Америке и Европе ситуация практически идентичная. Самые продаваемые игры с рейтингом 'От 17 лет'.\\\n",
    "Рейтинг практически не влияет на продажи.\\\n",
    "Рейтинги ESRB дейтвительны в США и Канаде, и большинство игровых издателей с уважением относятся к этой организации. Помимо ESRB, существуют и другие рейтинговые системы оценки игр: PEGI в Европе, CERO в Японии.\\\n",
    "Такой большой показатель не определенного жанра в Японии может говорить о том, что в данной выборке был учтен только рейтинг ESRB, без учета местных рейтингов PEGI и CERO. Скорее всего это игры в жанре RPG для местного рынка."
   ]
  },
  {
   "cell_type": "markdown",
   "metadata": {},
   "source": [
    "### Проверка гипотезы"
   ]
  },
  {
   "cell_type": "code",
   "execution_count": 43,
   "metadata": {},
   "outputs": [],
   "source": [
    "xone = top_platform.loc[top_platform['platform'] == 'XOne']['user_score'].dropna()\n",
    "pc = top_platform.loc[top_platform['platform'] == 'PC']['user_score'].dropna()\n",
    "#Создаем выборки по платформам XOne и PC, а также удаляем строки NaN для корректного подсчета"
   ]
  },
  {
   "cell_type": "markdown",
   "metadata": {},
   "source": [
    "Нулевая гипотеза (H0): Средние пользовательские рейтинги платформ Xbox One и PC одинаковые.\\\n",
    "Альтерантивная гипотеза (H1): Средние пользовательские рейтинги платформ Xbox One и PC различаются."
   ]
  },
  {
   "cell_type": "code",
   "execution_count": 44,
   "metadata": {},
   "outputs": [
    {
     "name": "stdout",
     "output_type": "stream",
     "text": [
      "0.14759594013430463\n",
      "Не получилось отвергнуть нулевую гипотезу, cредние пользовательские рейтинги платформ Xbox One и PC одинаковые.\n"
     ]
    }
   ],
   "source": [
    "#Проверка гипотезы, что средние пользовательские рейтинги платформ Xbox One и PC одинаковые\n",
    "results = st.ttest_ind(xone, pc, equal_var=False)\n",
    "\n",
    "alpha = 0.01\n",
    "\n",
    "print(results.pvalue)\n",
    "\n",
    "if results.pvalue < alpha:\n",
    "    print('Отвергаем нулевую гипотезу, cредние пользовательские рейтинги платформ Xbox One и PC различаются.')\n",
    "else:\n",
    "    print('Не получилось отвергнуть нулевую гипотезу, cредние пользовательские рейтинги платформ Xbox One и PC одинаковые.')"
   ]
  },
  {
   "cell_type": "markdown",
   "metadata": {},
   "source": [
    "Xbox One и PC(которая в большинстве своем имеет операционную систему Windows), принадлежат одному производителю Microsoft.\\\n",
    "Игры этого производителя, за исключением эксклюзивов, выходят на двух платформах и имеют одинаковые оценки.\\\n",
    "Поскольку наша нулевая гипотеза касается того, что широко признано истинным, тогда должна быть высокая степень доказательств в пользу отклонения нулевой гипотезы. Это обеспечивается pvalue, которое намного меньше, чем обычно используемые значения для alpha."
   ]
  },
  {
   "cell_type": "code",
   "execution_count": 45,
   "metadata": {},
   "outputs": [],
   "source": [
    "action = top_platform.loc[top_platform['genre'] == 'Action']['user_score'].dropna()\n",
    "sports = top_platform.loc[top_platform['genre'] == 'Sports']['user_score'].dropna()"
   ]
  },
  {
   "cell_type": "markdown",
   "metadata": {},
   "source": [
    "Нулевая гипотеза (H0): Средние пользовательские рейтинги жанров Action и Sports одинаковые.\\\n",
    "Альтерантивная гипотеза (H1): Средние пользовательские рейтинги жанров Action и Sports различаются."
   ]
  },
  {
   "cell_type": "code",
   "execution_count": 46,
   "metadata": {},
   "outputs": [
    {
     "name": "stdout",
     "output_type": "stream",
     "text": [
      "6.954390687344237e-11\n",
      "Отвергаем нулевую гипотезу, cредние пользовательские рейтинги жанров Action и Sports различаются.\n"
     ]
    }
   ],
   "source": [
    "results = st.ttest_ind(action, sports, equal_var=False)\n",
    "\n",
    "alpha = 0.01\n",
    "\n",
    "print(results.pvalue)\n",
    "\n",
    "if results.pvalue < alpha:\n",
    "    print('Отвергаем нулевую гипотезу, cредние пользовательские рейтинги жанров Action и Sports различаются.')\n",
    "else:\n",
    "    print('Не получилось отвергнуть нулевую гипотезу, cредние пользовательские рейтинги жанров Action и Sports одинаковые.')"
   ]
  },
  {
   "cell_type": "markdown",
   "metadata": {},
   "source": [
    "Нулевая гипотеза – это основное проверяемое предположение, которое обычно формулируется как отсутствие различий, отсутствие влияние фактора, отсутствие эффекта, равенство нулю значений выборочных характеристик и т.п. - H0\\\n",
    "Другое проверяемое предположение (не всегда строго противоположное или обратное первому) называется альтернативной гипотезой - Н1. Выдвинутая гипотеза может быть правильной или неправильной, поэтому возникает необходимость проверить ее.\n",
    "\n",
    "Поскольку данные имеют нормальное распределение, то для определения статистической значимости различий средних величин был применен двусторонний t-тест Стьюдента. \n",
    "\n",
    "Первая нулевая гипотеза:\n",
    "- Средние пользовательские рейтинги платформ Xbox One и PC одинаковые.\\\n",
    "pvalue = 0.14759594013430463\\\n",
    "Не получилось отвергнуть нулевую гипотезу, cредние пользовательские рейтинги платформ Xbox One и PC одинаковые.\n",
    "\n",
    "Вторая нулевая гипотеза:\n",
    "- Средние пользовательские рейтинги жанров Action и Sports одинаковые.\\\n",
    "pvalue = 6.954390687344237e-11\\\n",
    "Отвергаем нулевую гипотезу, cредние пользовательские рейтинги жанров Action и Sports различаются.\n",
    "\n",
    "\n"
   ]
  },
  {
   "cell_type": "markdown",
   "metadata": {},
   "source": [
    "### Общий вывод"
   ]
  },
  {
   "cell_type": "markdown",
   "metadata": {},
   "source": [
    "При проведении исследования и работы с данными, была изучена информация из открытых источников - исторические данные о продажах игр, оценки пользователей и экспертов, жанры и платформы.\n",
    "\n",
    "Выполнена предобработка данных. В том числе удаление пропусков, заполненение пропущенных и аномальных значений, изменение типов данных, исправление опечаток, посчитаны и добавлены новые значения в таблицу.\n",
    "Проведен исследовательский анализ данных. Найдены интересные особенности и зависимости, которые существовали на игровом рынке. При проведении исследования данных, я использовал различные методы, в том чиле сводные таблицы, группировку данных, а так же визуализировал данные. На основании проанализированной информации, мной были изучены основные данные о развитии в игровой индустрии до 2016 года.\n",
    "\n",
    "Так же я выявил:\n",
    "\n",
    "- Сколько игр выпускалось в разные годы.\n",
    "- Как менялись продажи по платформам.\n",
    "- Какие платформы лидировали по продажам, а так же росли и падали.\n",
    "- Общее распределение игр по жанрам.\n",
    "- Портрет пользователя каждого региона.\n",
    "\n",
    "С 2000-го года начинается активный рост выпуска компьютерных игр.\\\n",
    "На период 2006-2011гг. приходится максимальное количество выпущенных игр. Связано это с развитием цифровых технологий, доступностью персональных компьютеров и приставок, а так же спросом на появление соответствующего контента.\n",
    "Пик приходится на 2009г. После этого идет резкое снижение до 2013г.\n",
    "Период с 1980г. по 1994г. является стабильным и в тоже время наименьшим по производительности.\n",
    "\n",
    "В среднем, активное использование игровых платформ 6-9 лет. Наибольшее число продаж выпадает на 2006-2010гг.\\\n",
    "Снижение продаж всех игровых платформ, в основном, происходит из-за устаревания платформы и выхода новых поколений.\\\n",
    "Основные лидеры и главные конкуренты PS и Xbox.\\\n",
    "Аутсайдерами являются PC и портативные устройства 3DS в связи с тем, что они меньше всего предназначены для комфортного гейминга. Кроме того, на показатели PC может влиять низкая стоимость игр в период распродаж в онлайн-сервисах цифрового распространения компьютерных игр (Steam), а так же наличие торрент трекеров, что уменьшает количество глобальных продаж игр у PC.\n",
    "\n",
    "Зависимость между рейтингом и продажами – прямая. Чем лучше рейтинг, тем больше ей доверяют потенциальные клиенты, тем выше её прибыль.\\\n",
    "В данном случае зависимость между отзывами пользователей и продажами отсутвует на платформах: PS4 и XOne, у PC зависимость стремится к 0.\\\n",
    "У WiiU и 3DS напротив, существует зависимость продаж от наличия отзывов пользователей. Скорее всего это связано с тем, что это нишевые платформы. На них нет такого количества вышедших игр, как у лидеров рынка. И каждая оценка влияет на общую выборку.\\\n",
    "Зависимость между отзывами критиков и продажами примерно у всех одинаковая - умеренная зависимость.\\\n",
    "\n",
    "Самый прибыльный жанр - Shooter. Является лидером всех компьютерных игр, который рассчитан на широкую аудиторию.\\\n",
    "Следом за ним располагаются жанры: Action, у которого так же не мало поклонников. На третьем и четвертом месте Role-Playing (серия игр Diablo и Ведьмак) и Sports (серия игр FIFA) у которых так же не мало фанатов.\\\n",
    "\n",
    "Для пользователей Северной Америки самыми популярными платформами являются X360, PS2 и Wii.\\\n",
    "В Европе популярные платформы: PS2, PS3, X360.\\\n",
    "Пользователи из Японии больше всего предпочитают DS, PS, PS2.\n",
    "\n",
    "Самые популярные жанры в Северной Америке и Европе: 'Shooter' и 'Action'.\\\n",
    "В Японии самый популярный жанр 'Role-Playing'. В азиатских странах последнее десятелетее преобладает подобный жанр, все больше игроков предпочитают фэнтезийные RPG, в том числе MMO.\n",
    "\n",
    "Самые продаваемые игры в Северной Америке и Европе имеют рейтинг 'От 17 лет'.\\\n",
    "В Японии преобладают RPG игры для местного рынка.\\\n",
    "Рейтинг практически не влияет на продажи.\n",
    "\n",
    "Кроме того, не удалось отвергнуть первую нулевую гипотезу, что cредние пользовательские рейтинги платформ Xbox One и PC одинаковые.\\\n",
    "Но удалось подтвердить вторую гипотезу о том, что cредние пользовательские рейтинги жанров Action и Sports различаются.\n",
    "\n",
    "На основании анализа можно сделать рекомендации на какой продукт сделать ставку и как спланировать рекламные кампании.\n",
    "\n",
    "Для рекламных компаний в Северной Америки и Европы:\n",
    "- Наиболее перспективные игровые платформы является: PS4 и XOne.\n",
    "- Самые популярные жанры игр: Shooter и Action.\n",
    "- Популярный рейтинг ESRB: 'M' От 17 лет.\n",
    "\n",
    "Для рекламных компаний в Японии:\n",
    "- Наиболее перспективная игровая платформа: 3DS\n",
    "- Самый популярный жанр: Role_playing"
   ]
  }
 ],
 "metadata": {
  "ExecuteTimeLog": [
   {
    "duration": 500,
    "start_time": "2022-10-31T08:55:09.091Z"
   },
   {
    "duration": 15,
    "start_time": "2022-10-31T08:55:31.313Z"
   },
   {
    "duration": 72,
    "start_time": "2022-10-31T08:56:44.526Z"
   },
   {
    "duration": 4,
    "start_time": "2022-10-31T08:58:38.544Z"
   },
   {
    "duration": 15,
    "start_time": "2022-10-31T08:58:51.962Z"
   },
   {
    "duration": 38,
    "start_time": "2022-10-31T09:00:20.759Z"
   },
   {
    "duration": 445,
    "start_time": "2022-10-31T09:09:03.037Z"
   },
   {
    "duration": 19,
    "start_time": "2022-10-31T09:09:24.604Z"
   },
   {
    "duration": 72,
    "start_time": "2022-10-31T09:09:46.462Z"
   },
   {
    "duration": 4,
    "start_time": "2022-10-31T09:10:12.752Z"
   },
   {
    "duration": 3,
    "start_time": "2022-10-31T09:13:31.085Z"
   },
   {
    "duration": 14,
    "start_time": "2022-10-31T09:16:19.068Z"
   },
   {
    "duration": 32,
    "start_time": "2022-10-31T09:16:19.881Z"
   },
   {
    "duration": 12,
    "start_time": "2022-10-31T09:16:31.896Z"
   },
   {
    "duration": 680,
    "start_time": "2022-10-31T09:17:17.574Z"
   },
   {
    "duration": 13,
    "start_time": "2022-10-31T09:17:18.256Z"
   },
   {
    "duration": 2,
    "start_time": "2022-10-31T09:17:18.271Z"
   },
   {
    "duration": 76,
    "start_time": "2022-10-31T09:17:18.275Z"
   },
   {
    "duration": 0,
    "start_time": "2022-10-31T09:17:18.353Z"
   },
   {
    "duration": 12,
    "start_time": "2022-10-31T09:17:53.508Z"
   },
   {
    "duration": 7,
    "start_time": "2022-10-31T09:18:08.466Z"
   },
   {
    "duration": 30,
    "start_time": "2022-10-31T09:18:14.922Z"
   },
   {
    "duration": 13,
    "start_time": "2022-10-31T09:18:32.670Z"
   },
   {
    "duration": 68,
    "start_time": "2022-10-31T09:18:36.788Z"
   },
   {
    "duration": 14,
    "start_time": "2022-10-31T09:18:38.025Z"
   },
   {
    "duration": 4,
    "start_time": "2022-10-31T09:18:40.289Z"
   },
   {
    "duration": 12,
    "start_time": "2022-10-31T09:18:41.370Z"
   },
   {
    "duration": 14,
    "start_time": "2022-10-31T09:20:42.782Z"
   },
   {
    "duration": 8,
    "start_time": "2022-10-31T09:20:58.971Z"
   },
   {
    "duration": 12,
    "start_time": "2022-10-31T09:21:07.934Z"
   },
   {
    "duration": 5,
    "start_time": "2022-10-31T09:21:33.076Z"
   },
   {
    "duration": 754,
    "start_time": "2022-10-31T09:23:23.542Z"
   },
   {
    "duration": 8,
    "start_time": "2022-10-31T09:26:02.743Z"
   },
   {
    "duration": 9,
    "start_time": "2022-10-31T09:26:13.774Z"
   },
   {
    "duration": 11,
    "start_time": "2022-10-31T09:35:14.245Z"
   },
   {
    "duration": 6,
    "start_time": "2022-10-31T09:43:45.656Z"
   },
   {
    "duration": 6,
    "start_time": "2022-10-31T09:43:50.711Z"
   },
   {
    "duration": 8,
    "start_time": "2022-10-31T09:44:01.822Z"
   },
   {
    "duration": 5,
    "start_time": "2022-10-31T09:44:02.650Z"
   },
   {
    "duration": 4,
    "start_time": "2022-10-31T09:44:33.988Z"
   },
   {
    "duration": 13,
    "start_time": "2022-10-31T09:44:36.102Z"
   },
   {
    "duration": 29,
    "start_time": "2022-10-31T09:44:40.596Z"
   },
   {
    "duration": 3,
    "start_time": "2022-10-31T09:45:57.420Z"
   },
   {
    "duration": 5,
    "start_time": "2022-10-31T09:45:58.417Z"
   },
   {
    "duration": 3,
    "start_time": "2022-10-31T09:46:02.179Z"
   },
   {
    "duration": 9,
    "start_time": "2022-10-31T09:49:23.961Z"
   },
   {
    "duration": 8,
    "start_time": "2022-10-31T09:49:40.488Z"
   },
   {
    "duration": 8,
    "start_time": "2022-10-31T09:49:52.387Z"
   },
   {
    "duration": 7,
    "start_time": "2022-10-31T09:56:03.812Z"
   },
   {
    "duration": 6,
    "start_time": "2022-10-31T09:56:04.830Z"
   },
   {
    "duration": 15,
    "start_time": "2022-10-31T09:56:27.691Z"
   },
   {
    "duration": 708,
    "start_time": "2022-10-31T09:57:15.658Z"
   },
   {
    "duration": 14,
    "start_time": "2022-10-31T09:57:16.368Z"
   },
   {
    "duration": 12,
    "start_time": "2022-10-31T09:57:16.384Z"
   },
   {
    "duration": 18,
    "start_time": "2022-10-31T09:57:16.398Z"
   },
   {
    "duration": 36,
    "start_time": "2022-10-31T09:57:16.418Z"
   },
   {
    "duration": 14,
    "start_time": "2022-10-31T09:57:16.456Z"
   },
   {
    "duration": 24,
    "start_time": "2022-10-31T09:57:16.472Z"
   },
   {
    "duration": 58,
    "start_time": "2022-10-31T09:57:16.498Z"
   },
   {
    "duration": 19,
    "start_time": "2022-10-31T09:57:31.773Z"
   },
   {
    "duration": 5,
    "start_time": "2022-10-31T09:58:34.320Z"
   },
   {
    "duration": 29,
    "start_time": "2022-10-31T09:58:56.019Z"
   },
   {
    "duration": 7,
    "start_time": "2022-10-31T09:59:15.270Z"
   },
   {
    "duration": 30,
    "start_time": "2022-10-31T09:59:27.890Z"
   },
   {
    "duration": 3,
    "start_time": "2022-10-31T10:01:17.261Z"
   },
   {
    "duration": 9,
    "start_time": "2022-10-31T10:01:31.273Z"
   },
   {
    "duration": 5,
    "start_time": "2022-10-31T10:02:54.228Z"
   },
   {
    "duration": 29,
    "start_time": "2022-10-31T10:03:06.114Z"
   },
   {
    "duration": 15,
    "start_time": "2022-10-31T10:03:09.908Z"
   },
   {
    "duration": 4,
    "start_time": "2022-10-31T10:03:44.267Z"
   },
   {
    "duration": 78,
    "start_time": "2022-10-31T10:06:12.267Z"
   },
   {
    "duration": 13,
    "start_time": "2022-10-31T10:06:27.117Z"
   },
   {
    "duration": 8,
    "start_time": "2022-10-31T10:06:53.455Z"
   },
   {
    "duration": 148,
    "start_time": "2022-10-31T10:10:42.063Z"
   },
   {
    "duration": 7,
    "start_time": "2022-10-31T10:24:31.042Z"
   },
   {
    "duration": 8,
    "start_time": "2022-10-31T10:41:15.330Z"
   },
   {
    "duration": 12,
    "start_time": "2022-10-31T10:41:30.890Z"
   },
   {
    "duration": 6,
    "start_time": "2022-10-31T10:42:58.812Z"
   },
   {
    "duration": 4,
    "start_time": "2022-10-31T10:43:37.858Z"
   },
   {
    "duration": 33,
    "start_time": "2022-10-31T10:43:38.946Z"
   },
   {
    "duration": 20,
    "start_time": "2022-10-31T10:43:45.433Z"
   },
   {
    "duration": 13,
    "start_time": "2022-10-31T10:46:46.756Z"
   },
   {
    "duration": 5,
    "start_time": "2022-10-31T10:49:27.384Z"
   },
   {
    "duration": 13,
    "start_time": "2022-10-31T10:49:30.466Z"
   },
   {
    "duration": 5,
    "start_time": "2022-10-31T10:50:43.056Z"
   },
   {
    "duration": 8,
    "start_time": "2022-10-31T13:27:37.997Z"
   },
   {
    "duration": 9,
    "start_time": "2022-10-31T13:27:49.449Z"
   },
   {
    "duration": 194,
    "start_time": "2022-10-31T13:30:45.548Z"
   },
   {
    "duration": 189,
    "start_time": "2022-10-31T13:32:03.341Z"
   },
   {
    "duration": 196,
    "start_time": "2022-10-31T13:32:14.534Z"
   },
   {
    "duration": 166,
    "start_time": "2022-10-31T13:32:22.218Z"
   },
   {
    "duration": 218,
    "start_time": "2022-10-31T13:32:27.599Z"
   },
   {
    "duration": 191,
    "start_time": "2022-10-31T13:33:18.094Z"
   },
   {
    "duration": 185,
    "start_time": "2022-10-31T13:33:31.122Z"
   },
   {
    "duration": 181,
    "start_time": "2022-10-31T13:34:56.286Z"
   },
   {
    "duration": 171,
    "start_time": "2022-10-31T13:35:11.966Z"
   },
   {
    "duration": 185,
    "start_time": "2022-10-31T13:47:09.523Z"
   },
   {
    "duration": 13,
    "start_time": "2022-10-31T13:49:07.588Z"
   },
   {
    "duration": 10,
    "start_time": "2022-10-31T13:51:12.839Z"
   },
   {
    "duration": 11,
    "start_time": "2022-10-31T13:51:34.901Z"
   },
   {
    "duration": 717,
    "start_time": "2022-10-31T13:51:42.970Z"
   },
   {
    "duration": 17,
    "start_time": "2022-10-31T13:51:43.689Z"
   },
   {
    "duration": 7,
    "start_time": "2022-10-31T13:51:43.708Z"
   },
   {
    "duration": 7,
    "start_time": "2022-10-31T13:51:43.717Z"
   },
   {
    "duration": 14,
    "start_time": "2022-10-31T13:51:43.725Z"
   },
   {
    "duration": 7,
    "start_time": "2022-10-31T13:51:43.741Z"
   },
   {
    "duration": 23,
    "start_time": "2022-10-31T13:51:43.750Z"
   },
   {
    "duration": 10,
    "start_time": "2022-10-31T13:51:43.776Z"
   },
   {
    "duration": 9,
    "start_time": "2022-10-31T13:51:43.788Z"
   },
   {
    "duration": 213,
    "start_time": "2022-10-31T13:51:43.799Z"
   },
   {
    "duration": 114,
    "start_time": "2022-10-31T13:51:44.014Z"
   },
   {
    "duration": 161,
    "start_time": "2022-10-31T13:52:03.899Z"
   },
   {
    "duration": 273,
    "start_time": "2022-10-31T13:52:39.632Z"
   },
   {
    "duration": 349,
    "start_time": "2022-10-31T13:52:46.963Z"
   },
   {
    "duration": 312,
    "start_time": "2022-10-31T13:52:53.476Z"
   },
   {
    "duration": 296,
    "start_time": "2022-10-31T13:53:12.022Z"
   },
   {
    "duration": 291,
    "start_time": "2022-10-31T13:53:32.677Z"
   },
   {
    "duration": 311,
    "start_time": "2022-10-31T13:53:46.925Z"
   },
   {
    "duration": 309,
    "start_time": "2022-10-31T13:53:51.400Z"
   },
   {
    "duration": 385,
    "start_time": "2022-10-31T13:55:39.721Z"
   },
   {
    "duration": 398,
    "start_time": "2022-10-31T13:55:45.352Z"
   },
   {
    "duration": 308,
    "start_time": "2022-10-31T14:01:11.943Z"
   },
   {
    "duration": 345,
    "start_time": "2022-10-31T14:01:41.719Z"
   },
   {
    "duration": 344,
    "start_time": "2022-10-31T14:02:39.326Z"
   },
   {
    "duration": 182,
    "start_time": "2022-10-31T14:02:50.440Z"
   },
   {
    "duration": 8,
    "start_time": "2022-10-31T14:13:54.501Z"
   },
   {
    "duration": 8,
    "start_time": "2022-10-31T14:14:02.126Z"
   },
   {
    "duration": 7,
    "start_time": "2022-10-31T14:14:30.032Z"
   },
   {
    "duration": 11,
    "start_time": "2022-10-31T14:14:44.302Z"
   },
   {
    "duration": 7,
    "start_time": "2022-10-31T14:16:25.933Z"
   },
   {
    "duration": 3,
    "start_time": "2022-10-31T14:16:36.270Z"
   },
   {
    "duration": 4,
    "start_time": "2022-10-31T14:16:47.254Z"
   },
   {
    "duration": 446,
    "start_time": "2022-10-31T14:17:11.641Z"
   },
   {
    "duration": 8,
    "start_time": "2022-10-31T14:17:29.059Z"
   },
   {
    "duration": 4,
    "start_time": "2022-10-31T14:17:36.765Z"
   },
   {
    "duration": 313,
    "start_time": "2022-10-31T14:17:48.128Z"
   },
   {
    "duration": 2,
    "start_time": "2022-10-31T14:18:11.271Z"
   },
   {
    "duration": 5,
    "start_time": "2022-10-31T14:18:21.753Z"
   },
   {
    "duration": 8,
    "start_time": "2022-10-31T14:18:36.833Z"
   },
   {
    "duration": 56,
    "start_time": "2022-10-31T14:19:28.348Z"
   },
   {
    "duration": 6,
    "start_time": "2022-10-31T14:20:37.569Z"
   },
   {
    "duration": 4,
    "start_time": "2022-10-31T14:20:47.408Z"
   },
   {
    "duration": 6,
    "start_time": "2022-10-31T14:21:08.060Z"
   },
   {
    "duration": 4,
    "start_time": "2022-10-31T14:21:09.108Z"
   },
   {
    "duration": 7,
    "start_time": "2022-10-31T14:21:19.082Z"
   },
   {
    "duration": 5,
    "start_time": "2022-10-31T14:21:20.119Z"
   },
   {
    "duration": 6,
    "start_time": "2022-10-31T14:21:32.836Z"
   },
   {
    "duration": 4,
    "start_time": "2022-10-31T14:21:33.556Z"
   },
   {
    "duration": 921,
    "start_time": "2022-10-31T14:22:13.762Z"
   },
   {
    "duration": 10,
    "start_time": "2022-10-31T14:27:16.568Z"
   },
   {
    "duration": 7,
    "start_time": "2022-10-31T14:27:17.701Z"
   },
   {
    "duration": 10,
    "start_time": "2022-10-31T14:27:37.417Z"
   },
   {
    "duration": 7,
    "start_time": "2022-10-31T14:27:38.241Z"
   },
   {
    "duration": 21,
    "start_time": "2022-10-31T14:27:41.629Z"
   },
   {
    "duration": 18,
    "start_time": "2022-10-31T14:28:21.839Z"
   },
   {
    "duration": 7,
    "start_time": "2022-10-31T14:29:18.073Z"
   },
   {
    "duration": 5,
    "start_time": "2022-10-31T14:29:34.841Z"
   },
   {
    "duration": 4,
    "start_time": "2022-10-31T14:29:35.837Z"
   },
   {
    "duration": 930,
    "start_time": "2022-10-31T14:29:38.815Z"
   },
   {
    "duration": 1009,
    "start_time": "2022-10-31T14:30:27.624Z"
   },
   {
    "duration": 877,
    "start_time": "2022-10-31T14:30:58.504Z"
   },
   {
    "duration": 880,
    "start_time": "2022-10-31T14:31:08.056Z"
   },
   {
    "duration": 1100,
    "start_time": "2022-10-31T14:31:30.677Z"
   },
   {
    "duration": 937,
    "start_time": "2022-10-31T14:34:07.153Z"
   },
   {
    "duration": 45,
    "start_time": "2022-11-01T12:36:51.377Z"
   },
   {
    "duration": 1101,
    "start_time": "2022-11-01T12:36:58.590Z"
   },
   {
    "duration": 14,
    "start_time": "2022-11-01T12:36:59.694Z"
   },
   {
    "duration": 10,
    "start_time": "2022-11-01T12:36:59.710Z"
   },
   {
    "duration": 3,
    "start_time": "2022-11-01T12:36:59.722Z"
   },
   {
    "duration": 12,
    "start_time": "2022-11-01T12:36:59.729Z"
   },
   {
    "duration": 11,
    "start_time": "2022-11-01T12:36:59.743Z"
   },
   {
    "duration": 24,
    "start_time": "2022-11-01T12:36:59.755Z"
   },
   {
    "duration": 4,
    "start_time": "2022-11-01T12:36:59.781Z"
   },
   {
    "duration": 10,
    "start_time": "2022-11-01T12:36:59.786Z"
   },
   {
    "duration": 216,
    "start_time": "2022-11-01T12:36:59.797Z"
   },
   {
    "duration": 336,
    "start_time": "2022-11-01T12:37:00.014Z"
   },
   {
    "duration": 6,
    "start_time": "2022-11-01T12:37:00.351Z"
   },
   {
    "duration": 1089,
    "start_time": "2022-11-01T12:37:00.359Z"
   },
   {
    "duration": 5,
    "start_time": "2022-11-01T12:37:01.451Z"
   },
   {
    "duration": 5,
    "start_time": "2022-11-01T12:37:04.125Z"
   },
   {
    "duration": 5,
    "start_time": "2022-11-01T12:37:56.978Z"
   },
   {
    "duration": 23,
    "start_time": "2022-11-01T12:38:10.665Z"
   },
   {
    "duration": 74,
    "start_time": "2022-11-01T12:47:06.776Z"
   },
   {
    "duration": 221,
    "start_time": "2022-11-01T12:48:26.671Z"
   },
   {
    "duration": 224,
    "start_time": "2022-11-01T12:48:52.956Z"
   },
   {
    "duration": 4,
    "start_time": "2022-11-01T12:49:07.157Z"
   },
   {
    "duration": 223,
    "start_time": "2022-11-01T12:49:08.083Z"
   },
   {
    "duration": 748,
    "start_time": "2022-11-01T13:06:12.230Z"
   },
   {
    "duration": 11,
    "start_time": "2022-11-01T13:06:41.595Z"
   },
   {
    "duration": 5,
    "start_time": "2022-11-01T13:07:56.653Z"
   },
   {
    "duration": 7,
    "start_time": "2022-11-01T13:09:06.565Z"
   },
   {
    "duration": 3,
    "start_time": "2022-11-01T13:09:11.129Z"
   },
   {
    "duration": 3,
    "start_time": "2022-11-01T13:09:11.977Z"
   },
   {
    "duration": 8,
    "start_time": "2022-11-01T13:09:40.805Z"
   },
   {
    "duration": 7,
    "start_time": "2022-11-01T13:11:08.978Z"
   },
   {
    "duration": 4,
    "start_time": "2022-11-01T13:11:13.364Z"
   },
   {
    "duration": 6,
    "start_time": "2022-11-01T13:12:57.095Z"
   },
   {
    "duration": 9,
    "start_time": "2022-11-01T13:13:11.349Z"
   },
   {
    "duration": 12,
    "start_time": "2022-11-01T13:14:00.028Z"
   },
   {
    "duration": 10,
    "start_time": "2022-11-01T13:14:07.368Z"
   },
   {
    "duration": 42,
    "start_time": "2022-11-01T13:14:23.080Z"
   },
   {
    "duration": 35,
    "start_time": "2022-11-01T13:15:00.191Z"
   },
   {
    "duration": 37,
    "start_time": "2022-11-01T13:15:07.540Z"
   },
   {
    "duration": 38,
    "start_time": "2022-11-01T13:15:23.745Z"
   },
   {
    "duration": 9,
    "start_time": "2022-11-01T13:15:41.007Z"
   },
   {
    "duration": 39,
    "start_time": "2022-11-01T13:15:43.462Z"
   },
   {
    "duration": 11,
    "start_time": "2022-11-01T13:23:44.553Z"
   },
   {
    "duration": 174,
    "start_time": "2022-11-01T13:23:51.188Z"
   },
   {
    "duration": 8,
    "start_time": "2022-11-01T13:24:54.933Z"
   },
   {
    "duration": 9,
    "start_time": "2022-11-01T13:25:10.825Z"
   },
   {
    "duration": 155,
    "start_time": "2022-11-01T13:25:17.537Z"
   },
   {
    "duration": 8,
    "start_time": "2022-11-01T13:25:19.848Z"
   },
   {
    "duration": 8,
    "start_time": "2022-11-01T13:26:47.352Z"
   },
   {
    "duration": 8,
    "start_time": "2022-11-01T13:27:06.273Z"
   },
   {
    "duration": 210,
    "start_time": "2022-11-01T13:28:52.232Z"
   },
   {
    "duration": 11,
    "start_time": "2022-11-01T13:29:26.784Z"
   },
   {
    "duration": 152,
    "start_time": "2022-11-01T13:31:01.670Z"
   },
   {
    "duration": 11,
    "start_time": "2022-11-01T13:31:18.649Z"
   },
   {
    "duration": 627,
    "start_time": "2022-11-01T13:31:28.630Z"
   },
   {
    "duration": 46,
    "start_time": "2022-11-01T13:31:34.988Z"
   },
   {
    "duration": 275,
    "start_time": "2022-11-01T13:31:48.232Z"
   },
   {
    "duration": 299,
    "start_time": "2022-11-01T13:32:00.911Z"
   },
   {
    "duration": 369,
    "start_time": "2022-11-01T13:32:20.532Z"
   },
   {
    "duration": 975,
    "start_time": "2022-11-01T13:35:43.177Z"
   },
   {
    "duration": 0,
    "start_time": "2022-11-01T13:35:44.153Z"
   },
   {
    "duration": 422,
    "start_time": "2022-11-01T13:35:44.953Z"
   },
   {
    "duration": 842,
    "start_time": "2022-11-01T13:36:19.277Z"
   },
   {
    "duration": 41,
    "start_time": "2022-11-01T13:36:20.373Z"
   },
   {
    "duration": 335,
    "start_time": "2022-11-01T13:36:21.241Z"
   },
   {
    "duration": 840,
    "start_time": "2022-11-01T13:37:37.222Z"
   },
   {
    "duration": 858,
    "start_time": "2022-11-01T13:37:57.776Z"
   },
   {
    "duration": 63,
    "start_time": "2022-11-01T13:40:16.896Z"
   },
   {
    "duration": 862,
    "start_time": "2022-11-01T13:46:42.478Z"
   },
   {
    "duration": 1506,
    "start_time": "2022-11-01T13:47:01.469Z"
   },
   {
    "duration": 1184,
    "start_time": "2022-11-01T13:47:09.963Z"
   },
   {
    "duration": 13,
    "start_time": "2022-11-01T13:47:11.149Z"
   },
   {
    "duration": 8,
    "start_time": "2022-11-01T13:47:11.163Z"
   },
   {
    "duration": 3,
    "start_time": "2022-11-01T13:47:11.173Z"
   },
   {
    "duration": 19,
    "start_time": "2022-11-01T13:47:11.178Z"
   },
   {
    "duration": 4,
    "start_time": "2022-11-01T13:47:11.199Z"
   },
   {
    "duration": 8,
    "start_time": "2022-11-01T13:47:11.204Z"
   },
   {
    "duration": 6,
    "start_time": "2022-11-01T13:47:11.213Z"
   },
   {
    "duration": 7,
    "start_time": "2022-11-01T13:47:11.220Z"
   },
   {
    "duration": 200,
    "start_time": "2022-11-01T13:47:11.229Z"
   },
   {
    "duration": 352,
    "start_time": "2022-11-01T13:47:11.430Z"
   },
   {
    "duration": 6,
    "start_time": "2022-11-01T13:47:11.783Z"
   },
   {
    "duration": 962,
    "start_time": "2022-11-01T13:47:11.790Z"
   },
   {
    "duration": 4,
    "start_time": "2022-11-01T13:47:12.754Z"
   },
   {
    "duration": 233,
    "start_time": "2022-11-01T13:47:12.760Z"
   },
   {
    "duration": 7,
    "start_time": "2022-11-01T13:47:12.995Z"
   },
   {
    "duration": 36,
    "start_time": "2022-11-01T13:47:13.003Z"
   },
   {
    "duration": 119,
    "start_time": "2022-11-01T13:47:13.041Z"
   },
   {
    "duration": 6,
    "start_time": "2022-11-01T13:47:17.465Z"
   },
   {
    "duration": 5,
    "start_time": "2022-11-01T13:47:24.502Z"
   },
   {
    "duration": 37,
    "start_time": "2022-11-01T13:47:24.941Z"
   },
   {
    "duration": 11,
    "start_time": "2022-11-01T13:47:25.641Z"
   },
   {
    "duration": 483,
    "start_time": "2022-11-01T13:47:35.555Z"
   },
   {
    "duration": 19,
    "start_time": "2022-11-01T13:47:49.843Z"
   },
   {
    "duration": 16,
    "start_time": "2022-11-01T13:48:09.952Z"
   },
   {
    "duration": 3,
    "start_time": "2022-11-01T13:49:11.968Z"
   },
   {
    "duration": 6,
    "start_time": "2022-11-01T13:49:22.214Z"
   },
   {
    "duration": 6,
    "start_time": "2022-11-01T13:55:22.328Z"
   },
   {
    "duration": 38,
    "start_time": "2022-11-01T13:55:33.413Z"
   },
   {
    "duration": 16,
    "start_time": "2022-11-01T13:55:47.198Z"
   },
   {
    "duration": 283,
    "start_time": "2022-11-01T13:55:55.915Z"
   },
   {
    "duration": 213,
    "start_time": "2022-11-01T13:56:11.157Z"
   },
   {
    "duration": 240,
    "start_time": "2022-11-01T13:56:17.275Z"
   },
   {
    "duration": 217,
    "start_time": "2022-11-01T13:56:23.786Z"
   },
   {
    "duration": 6,
    "start_time": "2022-11-01T13:56:36.469Z"
   },
   {
    "duration": 40,
    "start_time": "2022-11-01T13:56:37.085Z"
   },
   {
    "duration": 221,
    "start_time": "2022-11-01T13:56:37.625Z"
   },
   {
    "duration": 6,
    "start_time": "2022-11-01T13:56:45.885Z"
   },
   {
    "duration": 40,
    "start_time": "2022-11-01T13:56:46.316Z"
   },
   {
    "duration": 250,
    "start_time": "2022-11-01T13:56:47.015Z"
   },
   {
    "duration": 6,
    "start_time": "2022-11-01T13:57:01.840Z"
   },
   {
    "duration": 38,
    "start_time": "2022-11-01T13:57:02.268Z"
   },
   {
    "duration": 308,
    "start_time": "2022-11-01T13:57:02.894Z"
   },
   {
    "duration": 241,
    "start_time": "2022-11-01T13:58:23.377Z"
   },
   {
    "duration": 232,
    "start_time": "2022-11-01T13:58:59.121Z"
   },
   {
    "duration": 218,
    "start_time": "2022-11-01T13:59:10.061Z"
   },
   {
    "duration": 231,
    "start_time": "2022-11-01T13:59:23.059Z"
   },
   {
    "duration": 233,
    "start_time": "2022-11-01T13:59:31.782Z"
   },
   {
    "duration": 111,
    "start_time": "2022-11-01T14:00:09.721Z"
   },
   {
    "duration": 252,
    "start_time": "2022-11-01T14:00:25.045Z"
   },
   {
    "duration": 39,
    "start_time": "2022-11-01T14:01:25.627Z"
   },
   {
    "duration": 37,
    "start_time": "2022-11-01T14:01:46.720Z"
   },
   {
    "duration": 226,
    "start_time": "2022-11-01T14:01:53.376Z"
   },
   {
    "duration": 209,
    "start_time": "2022-11-01T14:09:01.478Z"
   },
   {
    "duration": 19,
    "start_time": "2022-11-01T14:09:13.746Z"
   },
   {
    "duration": 237,
    "start_time": "2022-11-01T14:09:23.060Z"
   },
   {
    "duration": 7,
    "start_time": "2022-11-01T17:13:56.099Z"
   },
   {
    "duration": 47,
    "start_time": "2022-11-01T17:14:23.409Z"
   },
   {
    "duration": 7,
    "start_time": "2022-11-01T17:15:55.412Z"
   },
   {
    "duration": 4,
    "start_time": "2022-11-01T17:22:12.057Z"
   },
   {
    "duration": 316,
    "start_time": "2022-11-01T17:22:12.578Z"
   },
   {
    "duration": 221,
    "start_time": "2022-11-01T17:22:19.319Z"
   },
   {
    "duration": 225,
    "start_time": "2022-11-01T17:22:26.535Z"
   },
   {
    "duration": 220,
    "start_time": "2022-11-01T17:22:33.675Z"
   },
   {
    "duration": 226,
    "start_time": "2022-11-01T17:22:37.529Z"
   },
   {
    "duration": 245,
    "start_time": "2022-11-01T17:22:41.249Z"
   },
   {
    "duration": 223,
    "start_time": "2022-11-01T17:22:48.828Z"
   },
   {
    "duration": 4,
    "start_time": "2022-11-01T17:23:26.964Z"
   },
   {
    "duration": 233,
    "start_time": "2022-11-01T17:23:27.508Z"
   },
   {
    "duration": 8,
    "start_time": "2022-11-01T17:26:23.545Z"
   },
   {
    "duration": 49,
    "start_time": "2022-11-01T17:28:48.481Z"
   },
   {
    "duration": 66,
    "start_time": "2022-11-01T17:28:55.196Z"
   },
   {
    "duration": 55,
    "start_time": "2022-11-01T17:29:15.974Z"
   },
   {
    "duration": 40,
    "start_time": "2022-11-01T17:29:22.218Z"
   },
   {
    "duration": 48,
    "start_time": "2022-11-01T17:29:27.408Z"
   },
   {
    "duration": 9,
    "start_time": "2022-11-01T17:29:33.770Z"
   },
   {
    "duration": 86,
    "start_time": "2022-11-01T17:29:41.669Z"
   },
   {
    "duration": 43,
    "start_time": "2022-11-01T17:29:46.923Z"
   },
   {
    "duration": 8,
    "start_time": "2022-11-01T17:30:05.942Z"
   },
   {
    "duration": 9,
    "start_time": "2022-11-01T17:30:24.847Z"
   },
   {
    "duration": 10,
    "start_time": "2022-11-01T17:33:20.085Z"
   },
   {
    "duration": 15,
    "start_time": "2022-11-01T17:34:02.685Z"
   },
   {
    "duration": 282,
    "start_time": "2022-11-01T17:34:32.584Z"
   },
   {
    "duration": 305,
    "start_time": "2022-11-01T17:34:49.777Z"
   },
   {
    "duration": 274,
    "start_time": "2022-11-01T17:34:53.505Z"
   },
   {
    "duration": 314,
    "start_time": "2022-11-01T17:34:58.623Z"
   },
   {
    "duration": 302,
    "start_time": "2022-11-01T17:35:04.868Z"
   },
   {
    "duration": 12,
    "start_time": "2022-11-01T17:35:44.134Z"
   },
   {
    "duration": 152,
    "start_time": "2022-11-01T17:36:24.002Z"
   },
   {
    "duration": 285,
    "start_time": "2022-11-01T17:36:27.968Z"
   },
   {
    "duration": 158,
    "start_time": "2022-11-01T17:41:21.025Z"
   },
   {
    "duration": 713,
    "start_time": "2022-11-01T17:41:53.961Z"
   },
   {
    "duration": 8,
    "start_time": "2022-11-01T17:42:04.397Z"
   },
   {
    "duration": 170,
    "start_time": "2022-11-01T17:43:26.845Z"
   },
   {
    "duration": 151,
    "start_time": "2022-11-01T17:43:47.605Z"
   },
   {
    "duration": 158,
    "start_time": "2022-11-01T17:44:00.344Z"
   },
   {
    "duration": 161,
    "start_time": "2022-11-01T17:44:10.604Z"
   },
   {
    "duration": 7,
    "start_time": "2022-11-01T17:44:11.411Z"
   },
   {
    "duration": 149,
    "start_time": "2022-11-01T17:44:12.254Z"
   },
   {
    "duration": 155,
    "start_time": "2022-11-01T17:44:19.924Z"
   },
   {
    "duration": 162,
    "start_time": "2022-11-01T17:44:24.599Z"
   },
   {
    "duration": 165,
    "start_time": "2022-11-01T17:44:28.600Z"
   },
   {
    "duration": 165,
    "start_time": "2022-11-01T17:44:38.180Z"
   },
   {
    "duration": 9,
    "start_time": "2022-11-01T17:44:38.916Z"
   },
   {
    "duration": 158,
    "start_time": "2022-11-01T17:44:39.648Z"
   },
   {
    "duration": 149,
    "start_time": "2022-11-01T17:51:18.000Z"
   },
   {
    "duration": 9,
    "start_time": "2022-11-01T17:57:04.348Z"
   },
   {
    "duration": 15,
    "start_time": "2022-11-01T17:57:10.717Z"
   },
   {
    "duration": 16,
    "start_time": "2022-11-01T17:57:16.306Z"
   },
   {
    "duration": 150,
    "start_time": "2022-11-01T17:57:24.481Z"
   },
   {
    "duration": 21,
    "start_time": "2022-11-01T17:59:10.537Z"
   },
   {
    "duration": 16,
    "start_time": "2022-11-01T17:59:50.382Z"
   },
   {
    "duration": 240,
    "start_time": "2022-11-01T18:01:20.207Z"
   },
   {
    "duration": 8,
    "start_time": "2022-11-01T18:06:04.592Z"
   },
   {
    "duration": 70,
    "start_time": "2022-11-01T18:07:25.347Z"
   },
   {
    "duration": 7,
    "start_time": "2022-11-01T18:07:54.493Z"
   },
   {
    "duration": 9,
    "start_time": "2022-11-01T18:08:11.221Z"
   },
   {
    "duration": 9,
    "start_time": "2022-11-01T18:08:20.936Z"
   },
   {
    "duration": 10,
    "start_time": "2022-11-01T18:09:37.372Z"
   },
   {
    "duration": 9,
    "start_time": "2022-11-01T18:09:47.392Z"
   },
   {
    "duration": 10,
    "start_time": "2022-11-01T18:09:48.658Z"
   },
   {
    "duration": 57,
    "start_time": "2022-11-01T18:10:04.779Z"
   },
   {
    "duration": 9,
    "start_time": "2022-11-01T18:10:20.117Z"
   },
   {
    "duration": 9,
    "start_time": "2022-11-01T18:10:55.480Z"
   },
   {
    "duration": 11,
    "start_time": "2022-11-01T18:11:06.117Z"
   },
   {
    "duration": 10,
    "start_time": "2022-11-01T18:11:06.919Z"
   },
   {
    "duration": 12,
    "start_time": "2022-11-01T18:11:44.527Z"
   },
   {
    "duration": 12,
    "start_time": "2022-11-01T18:11:46.210Z"
   },
   {
    "duration": 9,
    "start_time": "2022-11-01T18:11:46.571Z"
   },
   {
    "duration": 10,
    "start_time": "2022-11-01T18:11:46.951Z"
   },
   {
    "duration": 11,
    "start_time": "2022-11-01T18:11:47.424Z"
   },
   {
    "duration": 10,
    "start_time": "2022-11-01T18:13:44.485Z"
   },
   {
    "duration": 10,
    "start_time": "2022-11-01T18:14:28.099Z"
   },
   {
    "duration": 19,
    "start_time": "2022-11-01T18:14:30.065Z"
   },
   {
    "duration": 15,
    "start_time": "2022-11-01T18:14:46.408Z"
   },
   {
    "duration": 11,
    "start_time": "2022-11-01T18:15:14.631Z"
   },
   {
    "duration": 11,
    "start_time": "2022-11-01T18:15:42.053Z"
   },
   {
    "duration": 12,
    "start_time": "2022-11-01T18:15:45.083Z"
   },
   {
    "duration": 10,
    "start_time": "2022-11-01T18:17:20.721Z"
   },
   {
    "duration": 10,
    "start_time": "2022-11-01T18:17:45.671Z"
   },
   {
    "duration": 48,
    "start_time": "2022-11-01T18:18:09.907Z"
   },
   {
    "duration": 16,
    "start_time": "2022-11-01T18:18:22.555Z"
   },
   {
    "duration": 22,
    "start_time": "2022-11-01T18:18:43.449Z"
   },
   {
    "duration": 2,
    "start_time": "2022-11-01T18:18:48.457Z"
   },
   {
    "duration": 21,
    "start_time": "2022-11-01T18:18:59.521Z"
   },
   {
    "duration": 23,
    "start_time": "2022-11-01T18:19:17.708Z"
   },
   {
    "duration": 20,
    "start_time": "2022-11-01T18:19:18.322Z"
   },
   {
    "duration": 17,
    "start_time": "2022-11-01T18:19:48.545Z"
   },
   {
    "duration": 5,
    "start_time": "2022-11-01T18:31:53.119Z"
   },
   {
    "duration": 289,
    "start_time": "2022-11-01T18:31:55.100Z"
   },
   {
    "duration": 51,
    "start_time": "2022-11-01T18:32:24.898Z"
   },
   {
    "duration": 184,
    "start_time": "2022-11-01T18:32:27.321Z"
   },
   {
    "duration": 466,
    "start_time": "2022-11-01T18:32:45.560Z"
   },
   {
    "duration": 46,
    "start_time": "2022-11-01T18:33:08.032Z"
   },
   {
    "duration": 257,
    "start_time": "2022-11-01T18:33:44.181Z"
   },
   {
    "duration": 12,
    "start_time": "2022-11-01T18:34:09.764Z"
   },
   {
    "duration": 15,
    "start_time": "2022-11-01T18:34:25.590Z"
   },
   {
    "duration": 15,
    "start_time": "2022-11-01T18:34:35.985Z"
   },
   {
    "duration": 232,
    "start_time": "2022-11-01T18:37:24.716Z"
   },
   {
    "duration": 222,
    "start_time": "2022-11-01T18:37:35.586Z"
   },
   {
    "duration": 9,
    "start_time": "2022-11-01T18:38:06.607Z"
   },
   {
    "duration": 9,
    "start_time": "2022-11-01T18:38:13.718Z"
   },
   {
    "duration": 13,
    "start_time": "2022-11-01T18:38:25.346Z"
   },
   {
    "duration": 41,
    "start_time": "2022-11-01T18:38:31.562Z"
   },
   {
    "duration": 11,
    "start_time": "2022-11-01T18:38:36.906Z"
   },
   {
    "duration": 14,
    "start_time": "2022-11-01T18:38:42.332Z"
   },
   {
    "duration": 14,
    "start_time": "2022-11-01T18:38:47.808Z"
   },
   {
    "duration": 246,
    "start_time": "2022-11-01T18:40:11.715Z"
   },
   {
    "duration": 227,
    "start_time": "2022-11-01T18:40:20.173Z"
   },
   {
    "duration": 193,
    "start_time": "2022-11-01T18:40:26.052Z"
   },
   {
    "duration": 208,
    "start_time": "2022-11-01T18:40:30.724Z"
   },
   {
    "duration": 216,
    "start_time": "2022-11-01T18:40:51.054Z"
   },
   {
    "duration": 213,
    "start_time": "2022-11-01T18:40:57.585Z"
   },
   {
    "duration": 1525,
    "start_time": "2022-11-02T09:05:00.715Z"
   },
   {
    "duration": 14,
    "start_time": "2022-11-02T09:05:02.242Z"
   },
   {
    "duration": 20,
    "start_time": "2022-11-02T09:05:02.257Z"
   },
   {
    "duration": 6,
    "start_time": "2022-11-02T09:05:02.279Z"
   },
   {
    "duration": 9,
    "start_time": "2022-11-02T09:05:02.288Z"
   },
   {
    "duration": 3,
    "start_time": "2022-11-02T09:05:02.299Z"
   },
   {
    "duration": 11,
    "start_time": "2022-11-02T09:05:02.304Z"
   },
   {
    "duration": 9,
    "start_time": "2022-11-02T09:05:02.317Z"
   },
   {
    "duration": 11,
    "start_time": "2022-11-02T09:05:02.328Z"
   },
   {
    "duration": 207,
    "start_time": "2022-11-02T09:05:02.341Z"
   },
   {
    "duration": 333,
    "start_time": "2022-11-02T09:05:02.550Z"
   },
   {
    "duration": 5,
    "start_time": "2022-11-02T09:05:02.884Z"
   },
   {
    "duration": 919,
    "start_time": "2022-11-02T09:05:02.891Z"
   },
   {
    "duration": 4,
    "start_time": "2022-11-02T09:05:03.813Z"
   },
   {
    "duration": 229,
    "start_time": "2022-11-02T09:05:03.819Z"
   },
   {
    "duration": 32,
    "start_time": "2022-11-02T09:05:04.049Z"
   },
   {
    "duration": 4,
    "start_time": "2022-11-02T09:05:04.083Z"
   },
   {
    "duration": 311,
    "start_time": "2022-11-02T09:05:04.108Z"
   },
   {
    "duration": 118,
    "start_time": "2022-11-02T09:05:04.420Z"
   },
   {
    "duration": 0,
    "start_time": "2022-11-02T09:05:04.540Z"
   },
   {
    "duration": 0,
    "start_time": "2022-11-02T09:05:04.541Z"
   },
   {
    "duration": 0,
    "start_time": "2022-11-02T09:05:04.542Z"
   },
   {
    "duration": 0,
    "start_time": "2022-11-02T09:05:04.543Z"
   },
   {
    "duration": 0,
    "start_time": "2022-11-02T09:05:04.544Z"
   },
   {
    "duration": 0,
    "start_time": "2022-11-02T09:05:04.544Z"
   },
   {
    "duration": 0,
    "start_time": "2022-11-02T09:05:04.545Z"
   },
   {
    "duration": 0,
    "start_time": "2022-11-02T09:05:04.546Z"
   },
   {
    "duration": 0,
    "start_time": "2022-11-02T09:05:04.546Z"
   },
   {
    "duration": 0,
    "start_time": "2022-11-02T09:05:04.548Z"
   },
   {
    "duration": 0,
    "start_time": "2022-11-02T09:05:04.549Z"
   },
   {
    "duration": 5,
    "start_time": "2022-11-02T09:21:11.208Z"
   },
   {
    "duration": 258,
    "start_time": "2022-11-02T09:21:25.324Z"
   },
   {
    "duration": 270,
    "start_time": "2022-11-02T09:21:48.953Z"
   },
   {
    "duration": 4,
    "start_time": "2022-11-02T09:22:11.177Z"
   },
   {
    "duration": 396,
    "start_time": "2022-11-02T09:22:11.972Z"
   },
   {
    "duration": 255,
    "start_time": "2022-11-02T09:22:53.155Z"
   },
   {
    "duration": 262,
    "start_time": "2022-11-02T09:23:01.949Z"
   },
   {
    "duration": 458,
    "start_time": "2022-11-02T09:23:06.929Z"
   },
   {
    "duration": 259,
    "start_time": "2022-11-02T09:23:33.943Z"
   },
   {
    "duration": 380,
    "start_time": "2022-11-02T09:23:41.831Z"
   },
   {
    "duration": 388,
    "start_time": "2022-11-02T09:24:32.948Z"
   },
   {
    "duration": 418,
    "start_time": "2022-11-02T09:24:44.435Z"
   },
   {
    "duration": 5,
    "start_time": "2022-11-02T09:25:12.322Z"
   },
   {
    "duration": 404,
    "start_time": "2022-11-02T09:25:12.962Z"
   },
   {
    "duration": 5,
    "start_time": "2022-11-02T09:27:52.827Z"
   },
   {
    "duration": 370,
    "start_time": "2022-11-02T09:27:53.620Z"
   },
   {
    "duration": 5,
    "start_time": "2022-11-02T09:28:00.621Z"
   },
   {
    "duration": 447,
    "start_time": "2022-11-02T09:28:02.624Z"
   },
   {
    "duration": 6,
    "start_time": "2022-11-02T09:28:17.618Z"
   },
   {
    "duration": 472,
    "start_time": "2022-11-02T09:28:18.470Z"
   },
   {
    "duration": 6,
    "start_time": "2022-11-02T09:28:26.046Z"
   },
   {
    "duration": 440,
    "start_time": "2022-11-02T09:28:26.496Z"
   },
   {
    "duration": 5,
    "start_time": "2022-11-02T09:28:33.827Z"
   },
   {
    "duration": 402,
    "start_time": "2022-11-02T09:28:34.473Z"
   },
   {
    "duration": 4,
    "start_time": "2022-11-02T09:28:59.229Z"
   },
   {
    "duration": 387,
    "start_time": "2022-11-02T09:28:59.894Z"
   },
   {
    "duration": 4,
    "start_time": "2022-11-02T09:29:06.886Z"
   },
   {
    "duration": 507,
    "start_time": "2022-11-02T09:29:07.207Z"
   },
   {
    "duration": 5,
    "start_time": "2022-11-02T09:29:19.271Z"
   },
   {
    "duration": 378,
    "start_time": "2022-11-02T09:29:19.731Z"
   },
   {
    "duration": 375,
    "start_time": "2022-11-02T09:29:32.036Z"
   },
   {
    "duration": 21,
    "start_time": "2022-11-02T09:29:51.558Z"
   },
   {
    "duration": 362,
    "start_time": "2022-11-02T09:29:57.876Z"
   },
   {
    "duration": 460,
    "start_time": "2022-11-02T09:30:28.714Z"
   },
   {
    "duration": 574,
    "start_time": "2022-11-02T09:30:40.512Z"
   },
   {
    "duration": 255,
    "start_time": "2022-11-02T09:31:04.994Z"
   },
   {
    "duration": 340,
    "start_time": "2022-11-02T09:31:09.207Z"
   },
   {
    "duration": 333,
    "start_time": "2022-11-02T09:31:36.256Z"
   },
   {
    "duration": 10,
    "start_time": "2022-11-02T09:37:41.324Z"
   },
   {
    "duration": 11,
    "start_time": "2022-11-02T09:37:53.166Z"
   },
   {
    "duration": 1228,
    "start_time": "2022-11-02T09:38:00.573Z"
   },
   {
    "duration": 15,
    "start_time": "2022-11-02T09:38:01.804Z"
   },
   {
    "duration": 10,
    "start_time": "2022-11-02T09:38:01.821Z"
   },
   {
    "duration": 24,
    "start_time": "2022-11-02T09:38:01.833Z"
   },
   {
    "duration": 15,
    "start_time": "2022-11-02T09:38:01.859Z"
   },
   {
    "duration": 3,
    "start_time": "2022-11-02T09:38:01.876Z"
   },
   {
    "duration": 12,
    "start_time": "2022-11-02T09:38:01.881Z"
   },
   {
    "duration": 18,
    "start_time": "2022-11-02T09:38:01.895Z"
   },
   {
    "duration": 16,
    "start_time": "2022-11-02T09:38:01.915Z"
   },
   {
    "duration": 200,
    "start_time": "2022-11-02T09:38:01.934Z"
   },
   {
    "duration": 325,
    "start_time": "2022-11-02T09:38:02.136Z"
   },
   {
    "duration": 5,
    "start_time": "2022-11-02T09:38:02.463Z"
   },
   {
    "duration": 1059,
    "start_time": "2022-11-02T09:38:02.470Z"
   },
   {
    "duration": 4,
    "start_time": "2022-11-02T09:38:03.531Z"
   },
   {
    "duration": 236,
    "start_time": "2022-11-02T09:38:03.536Z"
   },
   {
    "duration": 37,
    "start_time": "2022-11-02T09:38:03.774Z"
   },
   {
    "duration": 5,
    "start_time": "2022-11-02T09:38:03.812Z"
   },
   {
    "duration": 348,
    "start_time": "2022-11-02T09:38:03.819Z"
   },
   {
    "duration": 118,
    "start_time": "2022-11-02T09:38:04.168Z"
   },
   {
    "duration": 0,
    "start_time": "2022-11-02T09:38:04.287Z"
   },
   {
    "duration": 0,
    "start_time": "2022-11-02T09:38:04.288Z"
   },
   {
    "duration": 0,
    "start_time": "2022-11-02T09:38:04.289Z"
   },
   {
    "duration": 0,
    "start_time": "2022-11-02T09:38:04.290Z"
   },
   {
    "duration": 0,
    "start_time": "2022-11-02T09:38:04.291Z"
   },
   {
    "duration": 0,
    "start_time": "2022-11-02T09:38:04.292Z"
   },
   {
    "duration": 0,
    "start_time": "2022-11-02T09:38:04.293Z"
   },
   {
    "duration": 0,
    "start_time": "2022-11-02T09:38:04.294Z"
   },
   {
    "duration": 0,
    "start_time": "2022-11-02T09:38:04.295Z"
   },
   {
    "duration": 0,
    "start_time": "2022-11-02T09:38:04.309Z"
   },
   {
    "duration": 0,
    "start_time": "2022-11-02T09:38:04.310Z"
   },
   {
    "duration": 0,
    "start_time": "2022-11-02T09:38:04.311Z"
   },
   {
    "duration": 11,
    "start_time": "2022-11-02T09:38:07.630Z"
   },
   {
    "duration": 7,
    "start_time": "2022-11-02T09:38:22.183Z"
   },
   {
    "duration": 148,
    "start_time": "2022-11-02T09:38:23.398Z"
   },
   {
    "duration": 353,
    "start_time": "2022-11-02T09:38:53.867Z"
   },
   {
    "duration": 256,
    "start_time": "2022-11-02T09:40:32.912Z"
   },
   {
    "duration": 337,
    "start_time": "2022-11-02T09:40:36.540Z"
   },
   {
    "duration": 341,
    "start_time": "2022-11-02T09:40:59.260Z"
   },
   {
    "duration": 411,
    "start_time": "2022-11-02T09:41:06.950Z"
   },
   {
    "duration": 333,
    "start_time": "2022-11-02T09:41:16.462Z"
   },
   {
    "duration": 346,
    "start_time": "2022-11-02T09:41:21.272Z"
   },
   {
    "duration": 329,
    "start_time": "2022-11-02T09:41:27.034Z"
   },
   {
    "duration": 326,
    "start_time": "2022-11-02T09:41:37.259Z"
   },
   {
    "duration": 402,
    "start_time": "2022-11-02T09:41:42.500Z"
   },
   {
    "duration": 417,
    "start_time": "2022-11-02T09:41:51.741Z"
   },
   {
    "duration": 344,
    "start_time": "2022-11-02T09:50:09.899Z"
   },
   {
    "duration": 347,
    "start_time": "2022-11-02T09:50:19.912Z"
   },
   {
    "duration": 148,
    "start_time": "2022-11-02T09:50:43.339Z"
   },
   {
    "duration": 149,
    "start_time": "2022-11-02T09:50:57.537Z"
   },
   {
    "duration": 152,
    "start_time": "2022-11-02T09:51:03.931Z"
   },
   {
    "duration": 153,
    "start_time": "2022-11-02T09:51:06.844Z"
   },
   {
    "duration": 159,
    "start_time": "2022-11-02T09:51:11.397Z"
   },
   {
    "duration": 225,
    "start_time": "2022-11-02T09:51:15.199Z"
   },
   {
    "duration": 173,
    "start_time": "2022-11-02T09:51:41.497Z"
   },
   {
    "duration": 163,
    "start_time": "2022-11-02T09:51:44.717Z"
   },
   {
    "duration": 145,
    "start_time": "2022-11-02T09:51:49.761Z"
   },
   {
    "duration": 52,
    "start_time": "2022-11-02T09:52:12.123Z"
   },
   {
    "duration": 153,
    "start_time": "2022-11-02T09:52:18.063Z"
   },
   {
    "duration": 250,
    "start_time": "2022-11-02T09:52:34.398Z"
   },
   {
    "duration": 226,
    "start_time": "2022-11-02T09:52:43.494Z"
   },
   {
    "duration": 231,
    "start_time": "2022-11-02T09:54:56.841Z"
   },
   {
    "duration": 210,
    "start_time": "2022-11-02T09:55:05.368Z"
   },
   {
    "duration": 318,
    "start_time": "2022-11-02T09:55:17.969Z"
   },
   {
    "duration": 248,
    "start_time": "2022-11-02T09:55:22.241Z"
   },
   {
    "duration": 145,
    "start_time": "2022-11-02T09:55:37.669Z"
   },
   {
    "duration": 341,
    "start_time": "2022-11-02T09:55:51.174Z"
   },
   {
    "duration": 340,
    "start_time": "2022-11-02T09:56:03.613Z"
   },
   {
    "duration": 252,
    "start_time": "2022-11-02T09:56:18.221Z"
   },
   {
    "duration": 333,
    "start_time": "2022-11-02T09:56:22.922Z"
   },
   {
    "duration": 411,
    "start_time": "2022-11-02T09:56:30.154Z"
   },
   {
    "duration": 325,
    "start_time": "2022-11-02T09:56:35.761Z"
   },
   {
    "duration": 339,
    "start_time": "2022-11-02T09:56:42.032Z"
   },
   {
    "duration": 325,
    "start_time": "2022-11-02T09:56:46.828Z"
   },
   {
    "duration": 333,
    "start_time": "2022-11-02T09:56:50.772Z"
   },
   {
    "duration": 323,
    "start_time": "2022-11-02T09:56:55.040Z"
   },
   {
    "duration": 422,
    "start_time": "2022-11-02T09:56:59.431Z"
   },
   {
    "duration": 325,
    "start_time": "2022-11-02T09:57:04.366Z"
   },
   {
    "duration": 896,
    "start_time": "2022-11-02T09:57:28.872Z"
   },
   {
    "duration": 335,
    "start_time": "2022-11-02T09:57:56.589Z"
   },
   {
    "duration": 415,
    "start_time": "2022-11-02T09:58:07.056Z"
   },
   {
    "duration": 317,
    "start_time": "2022-11-02T09:58:23.098Z"
   },
   {
    "duration": 328,
    "start_time": "2022-11-02T09:58:40.231Z"
   },
   {
    "duration": 346,
    "start_time": "2022-11-02T09:58:54.007Z"
   },
   {
    "duration": 324,
    "start_time": "2022-11-02T09:59:00.707Z"
   },
   {
    "duration": 258,
    "start_time": "2022-11-02T10:00:03.655Z"
   },
   {
    "duration": 238,
    "start_time": "2022-11-02T10:01:53.615Z"
   },
   {
    "duration": 5,
    "start_time": "2022-11-02T10:02:14.752Z"
   },
   {
    "duration": 395,
    "start_time": "2022-11-02T10:02:17.042Z"
   },
   {
    "duration": 319,
    "start_time": "2022-11-02T10:02:48.687Z"
   },
   {
    "duration": 426,
    "start_time": "2022-11-02T10:02:50.269Z"
   },
   {
    "duration": 422,
    "start_time": "2022-11-02T10:03:44.537Z"
   },
   {
    "duration": 456,
    "start_time": "2022-11-02T10:03:53.845Z"
   },
   {
    "duration": 399,
    "start_time": "2022-11-02T10:04:47.956Z"
   },
   {
    "duration": 419,
    "start_time": "2022-11-02T10:04:49.934Z"
   },
   {
    "duration": 4,
    "start_time": "2022-11-02T10:04:54.282Z"
   },
   {
    "duration": 311,
    "start_time": "2022-11-02T10:04:54.998Z"
   },
   {
    "duration": 4,
    "start_time": "2022-11-02T10:05:13.947Z"
   },
   {
    "duration": 319,
    "start_time": "2022-11-02T10:05:14.793Z"
   },
   {
    "duration": 430,
    "start_time": "2022-11-02T10:05:18.897Z"
   },
   {
    "duration": 445,
    "start_time": "2022-11-02T10:05:53.020Z"
   },
   {
    "duration": 594,
    "start_time": "2022-11-02T10:06:02.478Z"
   },
   {
    "duration": 5,
    "start_time": "2022-11-02T10:06:12.760Z"
   },
   {
    "duration": 311,
    "start_time": "2022-11-02T10:06:13.194Z"
   },
   {
    "duration": 315,
    "start_time": "2022-11-02T10:06:14.451Z"
   },
   {
    "duration": 4,
    "start_time": "2022-11-02T10:18:59.126Z"
   },
   {
    "duration": 322,
    "start_time": "2022-11-02T10:18:59.894Z"
   },
   {
    "duration": 4,
    "start_time": "2022-11-02T10:19:15.046Z"
   },
   {
    "duration": 560,
    "start_time": "2022-11-02T10:19:15.586Z"
   },
   {
    "duration": 4,
    "start_time": "2022-11-02T10:19:19.804Z"
   },
   {
    "duration": 412,
    "start_time": "2022-11-02T10:19:20.338Z"
   },
   {
    "duration": 248,
    "start_time": "2022-11-02T10:26:15.319Z"
   },
   {
    "duration": 52,
    "start_time": "2022-11-02T10:26:17.731Z"
   },
   {
    "duration": 240,
    "start_time": "2022-11-02T10:26:18.458Z"
   },
   {
    "duration": 4,
    "start_time": "2022-11-02T10:27:02.730Z"
   },
   {
    "duration": 238,
    "start_time": "2022-11-02T10:27:05.018Z"
   },
   {
    "duration": 263,
    "start_time": "2022-11-02T10:28:12.069Z"
   },
   {
    "duration": 6,
    "start_time": "2022-11-02T10:28:14.064Z"
   },
   {
    "duration": 243,
    "start_time": "2022-11-02T10:28:14.614Z"
   },
   {
    "duration": 8,
    "start_time": "2022-11-02T10:28:28.238Z"
   },
   {
    "duration": 330,
    "start_time": "2022-11-02T10:28:28.727Z"
   },
   {
    "duration": 8,
    "start_time": "2022-11-02T10:29:11.227Z"
   },
   {
    "duration": 319,
    "start_time": "2022-11-02T10:29:11.801Z"
   },
   {
    "duration": 10,
    "start_time": "2022-11-02T10:29:59.704Z"
   },
   {
    "duration": 255,
    "start_time": "2022-11-02T10:30:00.531Z"
   },
   {
    "duration": 285,
    "start_time": "2022-11-02T10:31:23.170Z"
   },
   {
    "duration": 314,
    "start_time": "2022-11-02T10:34:23.894Z"
   },
   {
    "duration": 290,
    "start_time": "2022-11-02T10:39:24.994Z"
   },
   {
    "duration": 65,
    "start_time": "2022-11-02T10:46:08.848Z"
   },
   {
    "duration": 9,
    "start_time": "2022-11-02T10:48:39.733Z"
   },
   {
    "duration": 1123,
    "start_time": "2022-11-02T10:48:44.158Z"
   },
   {
    "duration": 0,
    "start_time": "2022-11-02T10:48:45.283Z"
   },
   {
    "duration": 867,
    "start_time": "2022-11-02T10:49:19.839Z"
   },
   {
    "duration": 1205,
    "start_time": "2022-11-02T10:49:28.480Z"
   },
   {
    "duration": 13,
    "start_time": "2022-11-02T10:49:29.687Z"
   },
   {
    "duration": 34,
    "start_time": "2022-11-02T10:49:29.702Z"
   },
   {
    "duration": 29,
    "start_time": "2022-11-02T10:49:29.737Z"
   },
   {
    "duration": 32,
    "start_time": "2022-11-02T10:49:29.768Z"
   },
   {
    "duration": 32,
    "start_time": "2022-11-02T10:49:29.802Z"
   },
   {
    "duration": 21,
    "start_time": "2022-11-02T10:49:29.836Z"
   },
   {
    "duration": 37,
    "start_time": "2022-11-02T10:49:29.859Z"
   },
   {
    "duration": 52,
    "start_time": "2022-11-02T10:49:29.897Z"
   },
   {
    "duration": 248,
    "start_time": "2022-11-02T10:49:29.951Z"
   },
   {
    "duration": 304,
    "start_time": "2022-11-02T10:49:30.200Z"
   },
   {
    "duration": 5,
    "start_time": "2022-11-02T10:49:30.508Z"
   },
   {
    "duration": 953,
    "start_time": "2022-11-02T10:49:30.515Z"
   },
   {
    "duration": 4,
    "start_time": "2022-11-02T10:49:31.470Z"
   },
   {
    "duration": 218,
    "start_time": "2022-11-02T10:49:31.476Z"
   },
   {
    "duration": 42,
    "start_time": "2022-11-02T10:49:31.695Z"
   },
   {
    "duration": 4,
    "start_time": "2022-11-02T10:49:31.738Z"
   },
   {
    "duration": 321,
    "start_time": "2022-11-02T10:49:31.744Z"
   },
   {
    "duration": 7,
    "start_time": "2022-11-02T10:49:32.067Z"
   },
   {
    "duration": 155,
    "start_time": "2022-11-02T10:49:32.075Z"
   },
   {
    "duration": 118,
    "start_time": "2022-11-02T10:49:32.232Z"
   },
   {
    "duration": 0,
    "start_time": "2022-11-02T10:49:32.351Z"
   },
   {
    "duration": 0,
    "start_time": "2022-11-02T10:49:32.352Z"
   },
   {
    "duration": 0,
    "start_time": "2022-11-02T10:49:32.354Z"
   },
   {
    "duration": 0,
    "start_time": "2022-11-02T10:49:32.355Z"
   },
   {
    "duration": 0,
    "start_time": "2022-11-02T10:49:32.355Z"
   },
   {
    "duration": 0,
    "start_time": "2022-11-02T10:49:32.356Z"
   },
   {
    "duration": 0,
    "start_time": "2022-11-02T10:49:32.357Z"
   },
   {
    "duration": 0,
    "start_time": "2022-11-02T10:49:32.358Z"
   },
   {
    "duration": 0,
    "start_time": "2022-11-02T10:49:32.359Z"
   },
   {
    "duration": 0,
    "start_time": "2022-11-02T10:49:32.360Z"
   },
   {
    "duration": 0,
    "start_time": "2022-11-02T10:49:32.361Z"
   },
   {
    "duration": 0,
    "start_time": "2022-11-02T10:49:32.361Z"
   },
   {
    "duration": 0,
    "start_time": "2022-11-02T10:49:32.364Z"
   },
   {
    "duration": 0,
    "start_time": "2022-11-02T10:49:32.365Z"
   },
   {
    "duration": 0,
    "start_time": "2022-11-02T10:49:32.366Z"
   },
   {
    "duration": 7,
    "start_time": "2022-11-02T10:49:38.628Z"
   },
   {
    "duration": 4,
    "start_time": "2022-11-02T10:49:39.202Z"
   },
   {
    "duration": 5,
    "start_time": "2022-11-02T10:50:11.426Z"
   },
   {
    "duration": 4,
    "start_time": "2022-11-02T10:50:17.021Z"
   },
   {
    "duration": 5,
    "start_time": "2022-11-02T10:50:37.907Z"
   },
   {
    "duration": 4,
    "start_time": "2022-11-02T10:51:31.936Z"
   },
   {
    "duration": 6,
    "start_time": "2022-11-02T10:52:08.633Z"
   },
   {
    "duration": 4,
    "start_time": "2022-11-02T10:52:09.078Z"
   },
   {
    "duration": 4,
    "start_time": "2022-11-02T10:52:56.028Z"
   },
   {
    "duration": 6,
    "start_time": "2022-11-02T10:55:22.610Z"
   },
   {
    "duration": 4,
    "start_time": "2022-11-02T10:55:26.865Z"
   },
   {
    "duration": 5,
    "start_time": "2022-11-02T10:57:28.556Z"
   },
   {
    "duration": 4,
    "start_time": "2022-11-02T10:57:35.800Z"
   },
   {
    "duration": 7,
    "start_time": "2022-11-02T10:59:27.966Z"
   },
   {
    "duration": 4,
    "start_time": "2022-11-02T11:01:33.703Z"
   },
   {
    "duration": 5,
    "start_time": "2022-11-02T11:02:14.211Z"
   },
   {
    "duration": 9,
    "start_time": "2022-11-02T11:02:15.581Z"
   },
   {
    "duration": 5,
    "start_time": "2022-11-02T11:02:16.086Z"
   },
   {
    "duration": 5,
    "start_time": "2022-11-02T11:02:23.002Z"
   },
   {
    "duration": 6,
    "start_time": "2022-11-02T11:04:04.079Z"
   },
   {
    "duration": 4,
    "start_time": "2022-11-02T11:04:04.600Z"
   },
   {
    "duration": 5,
    "start_time": "2022-11-02T11:04:22.173Z"
   },
   {
    "duration": 4,
    "start_time": "2022-11-02T11:06:52.991Z"
   },
   {
    "duration": 5,
    "start_time": "2022-11-02T11:07:00.176Z"
   },
   {
    "duration": 4,
    "start_time": "2022-11-02T11:07:04.313Z"
   },
   {
    "duration": 1223,
    "start_time": "2022-11-02T11:07:10.706Z"
   },
   {
    "duration": 13,
    "start_time": "2022-11-02T11:07:11.931Z"
   },
   {
    "duration": 9,
    "start_time": "2022-11-02T11:07:11.945Z"
   },
   {
    "duration": 5,
    "start_time": "2022-11-02T11:07:11.956Z"
   },
   {
    "duration": 8,
    "start_time": "2022-11-02T11:07:11.962Z"
   },
   {
    "duration": 5,
    "start_time": "2022-11-02T11:07:11.971Z"
   },
   {
    "duration": 35,
    "start_time": "2022-11-02T11:07:11.977Z"
   },
   {
    "duration": 5,
    "start_time": "2022-11-02T11:07:12.013Z"
   },
   {
    "duration": 7,
    "start_time": "2022-11-02T11:07:12.020Z"
   },
   {
    "duration": 210,
    "start_time": "2022-11-02T11:07:12.031Z"
   },
   {
    "duration": 387,
    "start_time": "2022-11-02T11:07:12.243Z"
   },
   {
    "duration": 7,
    "start_time": "2022-11-02T11:07:12.632Z"
   },
   {
    "duration": 970,
    "start_time": "2022-11-02T11:07:12.641Z"
   },
   {
    "duration": 4,
    "start_time": "2022-11-02T11:07:13.613Z"
   },
   {
    "duration": 239,
    "start_time": "2022-11-02T11:07:13.619Z"
   },
   {
    "duration": 39,
    "start_time": "2022-11-02T11:07:13.859Z"
   },
   {
    "duration": 4,
    "start_time": "2022-11-02T11:07:13.909Z"
   },
   {
    "duration": 321,
    "start_time": "2022-11-02T11:07:13.915Z"
   },
   {
    "duration": 8,
    "start_time": "2022-11-02T11:07:14.238Z"
   },
   {
    "duration": 182,
    "start_time": "2022-11-02T11:07:14.248Z"
   },
   {
    "duration": 114,
    "start_time": "2022-11-02T11:07:14.432Z"
   },
   {
    "duration": 0,
    "start_time": "2022-11-02T11:07:14.548Z"
   },
   {
    "duration": 0,
    "start_time": "2022-11-02T11:07:14.549Z"
   },
   {
    "duration": 0,
    "start_time": "2022-11-02T11:07:14.551Z"
   },
   {
    "duration": 0,
    "start_time": "2022-11-02T11:07:14.552Z"
   },
   {
    "duration": 0,
    "start_time": "2022-11-02T11:07:14.554Z"
   },
   {
    "duration": 0,
    "start_time": "2022-11-02T11:07:14.555Z"
   },
   {
    "duration": 0,
    "start_time": "2022-11-02T11:07:14.556Z"
   },
   {
    "duration": 0,
    "start_time": "2022-11-02T11:07:14.557Z"
   },
   {
    "duration": 0,
    "start_time": "2022-11-02T11:07:14.559Z"
   },
   {
    "duration": 0,
    "start_time": "2022-11-02T11:07:14.560Z"
   },
   {
    "duration": 0,
    "start_time": "2022-11-02T11:07:14.561Z"
   },
   {
    "duration": 0,
    "start_time": "2022-11-02T11:07:14.561Z"
   },
   {
    "duration": 0,
    "start_time": "2022-11-02T11:07:14.562Z"
   },
   {
    "duration": 0,
    "start_time": "2022-11-02T11:07:14.563Z"
   },
   {
    "duration": 0,
    "start_time": "2022-11-02T11:07:14.564Z"
   },
   {
    "duration": 0,
    "start_time": "2022-11-02T11:07:14.565Z"
   },
   {
    "duration": 0,
    "start_time": "2022-11-02T11:07:14.566Z"
   },
   {
    "duration": 0,
    "start_time": "2022-11-02T11:07:14.567Z"
   },
   {
    "duration": 21,
    "start_time": "2022-11-02T12:53:26.007Z"
   },
   {
    "duration": 10,
    "start_time": "2022-11-02T12:54:00.826Z"
   },
   {
    "duration": 6,
    "start_time": "2022-11-02T12:54:09.445Z"
   },
   {
    "duration": 5,
    "start_time": "2022-11-02T12:54:09.967Z"
   },
   {
    "duration": 10,
    "start_time": "2022-11-02T12:54:16.343Z"
   },
   {
    "duration": 7,
    "start_time": "2022-11-02T12:54:28.515Z"
   },
   {
    "duration": 4,
    "start_time": "2022-11-02T12:54:28.959Z"
   },
   {
    "duration": 5,
    "start_time": "2022-11-02T12:54:46.615Z"
   },
   {
    "duration": 12,
    "start_time": "2022-11-02T12:54:46.622Z"
   },
   {
    "duration": 5,
    "start_time": "2022-11-02T12:54:53.960Z"
   },
   {
    "duration": 4,
    "start_time": "2022-11-02T12:55:17.000Z"
   },
   {
    "duration": 4,
    "start_time": "2022-11-02T12:55:26.684Z"
   },
   {
    "duration": 5,
    "start_time": "2022-11-02T12:55:30.968Z"
   },
   {
    "duration": 5,
    "start_time": "2022-11-02T12:55:47.464Z"
   },
   {
    "duration": 5,
    "start_time": "2022-11-02T12:55:48.609Z"
   },
   {
    "duration": 5,
    "start_time": "2022-11-02T12:55:49.216Z"
   },
   {
    "duration": 7,
    "start_time": "2022-11-02T13:24:35.460Z"
   },
   {
    "duration": 7,
    "start_time": "2022-11-02T13:37:52.162Z"
   },
   {
    "duration": 5,
    "start_time": "2022-11-02T13:37:52.601Z"
   },
   {
    "duration": 5,
    "start_time": "2022-11-02T13:38:07.630Z"
   },
   {
    "duration": 5,
    "start_time": "2022-11-02T13:38:24.404Z"
   },
   {
    "duration": 4,
    "start_time": "2022-11-02T13:38:25.013Z"
   },
   {
    "duration": 8,
    "start_time": "2022-11-02T13:38:31.734Z"
   },
   {
    "duration": 8,
    "start_time": "2022-11-02T13:38:55.994Z"
   },
   {
    "duration": 7,
    "start_time": "2022-11-02T13:39:08.160Z"
   },
   {
    "duration": 8,
    "start_time": "2022-11-02T13:39:10.888Z"
   },
   {
    "duration": 5,
    "start_time": "2022-11-02T13:39:11.236Z"
   },
   {
    "duration": 5,
    "start_time": "2022-11-02T13:40:04.234Z"
   },
   {
    "duration": 5,
    "start_time": "2022-11-02T13:40:05.181Z"
   },
   {
    "duration": 5,
    "start_time": "2022-11-02T13:40:13.417Z"
   },
   {
    "duration": 4,
    "start_time": "2022-11-02T13:40:13.977Z"
   },
   {
    "duration": 5,
    "start_time": "2022-11-02T13:42:01.706Z"
   },
   {
    "duration": 5,
    "start_time": "2022-11-02T13:45:01.571Z"
   },
   {
    "duration": 4,
    "start_time": "2022-11-02T13:46:20.304Z"
   },
   {
    "duration": 4,
    "start_time": "2022-11-02T13:46:24.222Z"
   },
   {
    "duration": 11,
    "start_time": "2022-11-02T14:12:05.843Z"
   },
   {
    "duration": 7,
    "start_time": "2022-11-02T14:12:20.359Z"
   },
   {
    "duration": 1308,
    "start_time": "2022-11-02T14:36:32.084Z"
   },
   {
    "duration": 16,
    "start_time": "2022-11-02T14:36:33.394Z"
   },
   {
    "duration": 20,
    "start_time": "2022-11-02T14:36:33.415Z"
   },
   {
    "duration": 11,
    "start_time": "2022-11-02T14:36:33.437Z"
   },
   {
    "duration": 49,
    "start_time": "2022-11-02T14:36:33.449Z"
   },
   {
    "duration": 26,
    "start_time": "2022-11-02T14:36:33.499Z"
   },
   {
    "duration": 42,
    "start_time": "2022-11-02T14:36:33.527Z"
   },
   {
    "duration": 36,
    "start_time": "2022-11-02T14:36:33.570Z"
   },
   {
    "duration": 31,
    "start_time": "2022-11-02T14:36:33.608Z"
   },
   {
    "duration": 225,
    "start_time": "2022-11-02T14:36:33.640Z"
   },
   {
    "duration": 336,
    "start_time": "2022-11-02T14:36:33.866Z"
   },
   {
    "duration": 5,
    "start_time": "2022-11-02T14:36:34.208Z"
   },
   {
    "duration": 1009,
    "start_time": "2022-11-02T14:36:34.215Z"
   },
   {
    "duration": 4,
    "start_time": "2022-11-02T14:36:35.225Z"
   },
   {
    "duration": 224,
    "start_time": "2022-11-02T14:36:35.231Z"
   },
   {
    "duration": 34,
    "start_time": "2022-11-02T14:36:35.456Z"
   },
   {
    "duration": 20,
    "start_time": "2022-11-02T14:36:35.492Z"
   },
   {
    "duration": 327,
    "start_time": "2022-11-02T14:36:35.514Z"
   },
   {
    "duration": 7,
    "start_time": "2022-11-02T14:36:35.843Z"
   },
   {
    "duration": 170,
    "start_time": "2022-11-02T14:36:35.851Z"
   },
   {
    "duration": 8,
    "start_time": "2022-11-02T14:36:36.023Z"
   },
   {
    "duration": 181,
    "start_time": "2022-11-02T14:36:36.033Z"
   },
   {
    "duration": 49,
    "start_time": "2022-11-02T14:36:36.216Z"
   },
   {
    "duration": 20,
    "start_time": "2022-11-02T14:36:36.266Z"
   },
   {
    "duration": 37,
    "start_time": "2022-11-02T14:36:36.288Z"
   },
   {
    "duration": 36,
    "start_time": "2022-11-02T14:36:36.327Z"
   },
   {
    "duration": 29,
    "start_time": "2022-11-02T14:36:36.365Z"
   },
   {
    "duration": 21,
    "start_time": "2022-11-02T14:36:36.397Z"
   },
   {
    "duration": 237,
    "start_time": "2022-11-02T14:36:36.420Z"
   },
   {
    "duration": 4,
    "start_time": "2022-11-02T14:36:36.659Z"
   },
   {
    "duration": 349,
    "start_time": "2022-11-02T14:36:36.664Z"
   },
   {
    "duration": 334,
    "start_time": "2022-11-02T14:36:37.015Z"
   },
   {
    "duration": 318,
    "start_time": "2022-11-02T14:36:37.351Z"
   },
   {
    "duration": 5,
    "start_time": "2022-11-02T14:36:37.671Z"
   },
   {
    "duration": 24,
    "start_time": "2022-11-02T14:36:37.677Z"
   },
   {
    "duration": 8,
    "start_time": "2022-11-02T14:36:37.703Z"
   },
   {
    "duration": 8,
    "start_time": "2022-11-02T14:36:37.712Z"
   },
   {
    "duration": 1095,
    "start_time": "2022-11-02T14:53:18.655Z"
   },
   {
    "duration": 13,
    "start_time": "2022-11-02T14:53:19.752Z"
   },
   {
    "duration": 8,
    "start_time": "2022-11-02T14:53:19.766Z"
   },
   {
    "duration": 8,
    "start_time": "2022-11-02T14:53:19.775Z"
   },
   {
    "duration": 22,
    "start_time": "2022-11-02T14:53:19.785Z"
   },
   {
    "duration": 5,
    "start_time": "2022-11-02T14:53:19.808Z"
   },
   {
    "duration": 8,
    "start_time": "2022-11-02T14:53:19.814Z"
   },
   {
    "duration": 6,
    "start_time": "2022-11-02T14:53:19.824Z"
   },
   {
    "duration": 8,
    "start_time": "2022-11-02T14:53:19.831Z"
   },
   {
    "duration": 199,
    "start_time": "2022-11-02T14:53:19.841Z"
   },
   {
    "duration": 324,
    "start_time": "2022-11-02T14:53:20.042Z"
   },
   {
    "duration": 5,
    "start_time": "2022-11-02T14:53:20.368Z"
   },
   {
    "duration": 874,
    "start_time": "2022-11-02T14:53:20.375Z"
   },
   {
    "duration": 5,
    "start_time": "2022-11-02T14:53:21.253Z"
   },
   {
    "duration": 213,
    "start_time": "2022-11-02T14:53:21.260Z"
   },
   {
    "duration": 42,
    "start_time": "2022-11-02T14:53:21.474Z"
   },
   {
    "duration": 4,
    "start_time": "2022-11-02T14:53:21.518Z"
   },
   {
    "duration": 292,
    "start_time": "2022-11-02T14:53:21.523Z"
   },
   {
    "duration": 7,
    "start_time": "2022-11-02T14:53:21.817Z"
   },
   {
    "duration": 151,
    "start_time": "2022-11-02T14:53:21.826Z"
   },
   {
    "duration": 8,
    "start_time": "2022-11-02T14:53:21.978Z"
   },
   {
    "duration": 173,
    "start_time": "2022-11-02T14:53:21.987Z"
   },
   {
    "duration": 61,
    "start_time": "2022-11-02T14:53:22.162Z"
   },
   {
    "duration": 21,
    "start_time": "2022-11-02T14:53:22.224Z"
   },
   {
    "duration": 29,
    "start_time": "2022-11-02T14:53:22.247Z"
   },
   {
    "duration": 35,
    "start_time": "2022-11-02T14:53:22.278Z"
   },
   {
    "duration": 22,
    "start_time": "2022-11-02T14:53:22.315Z"
   },
   {
    "duration": 16,
    "start_time": "2022-11-02T14:53:22.339Z"
   },
   {
    "duration": 238,
    "start_time": "2022-11-02T14:53:22.356Z"
   },
   {
    "duration": 9,
    "start_time": "2022-11-02T14:53:22.596Z"
   },
   {
    "duration": 311,
    "start_time": "2022-11-02T14:53:22.607Z"
   },
   {
    "duration": 325,
    "start_time": "2022-11-02T14:53:22.919Z"
   },
   {
    "duration": 307,
    "start_time": "2022-11-02T14:53:23.246Z"
   },
   {
    "duration": 6,
    "start_time": "2022-11-02T14:53:23.555Z"
   },
   {
    "duration": 10,
    "start_time": "2022-11-02T14:53:23.563Z"
   },
   {
    "duration": 8,
    "start_time": "2022-11-02T14:53:23.575Z"
   },
   {
    "duration": 6,
    "start_time": "2022-11-02T14:53:23.585Z"
   },
   {
    "duration": 63,
    "start_time": "2022-11-02T15:54:02.981Z"
   },
   {
    "duration": 122,
    "start_time": "2022-11-02T16:50:02.308Z"
   },
   {
    "duration": 1399,
    "start_time": "2022-11-02T16:50:27.200Z"
   },
   {
    "duration": 132,
    "start_time": "2022-11-02T16:50:28.602Z"
   },
   {
    "duration": 51,
    "start_time": "2022-11-02T16:50:55.055Z"
   },
   {
    "duration": 19,
    "start_time": "2022-11-02T16:53:51.895Z"
   },
   {
    "duration": 15,
    "start_time": "2022-11-02T16:53:59.088Z"
   },
   {
    "duration": 17,
    "start_time": "2022-11-02T16:54:04.107Z"
   },
   {
    "duration": 24,
    "start_time": "2022-11-02T16:55:20.801Z"
   },
   {
    "duration": 142,
    "start_time": "2022-11-02T16:57:46.519Z"
   },
   {
    "duration": 1194,
    "start_time": "2022-11-02T16:58:04.302Z"
   },
   {
    "duration": 77,
    "start_time": "2022-11-02T16:58:05.498Z"
   },
   {
    "duration": 23,
    "start_time": "2022-11-02T16:58:05.577Z"
   },
   {
    "duration": 18,
    "start_time": "2022-11-02T16:58:05.604Z"
   },
   {
    "duration": 37,
    "start_time": "2022-11-02T16:58:05.624Z"
   },
   {
    "duration": 14,
    "start_time": "2022-11-02T16:58:05.663Z"
   },
   {
    "duration": 17,
    "start_time": "2022-11-02T16:58:05.680Z"
   },
   {
    "duration": 9,
    "start_time": "2022-11-02T16:58:05.699Z"
   },
   {
    "duration": 13,
    "start_time": "2022-11-02T16:58:05.710Z"
   },
   {
    "duration": 6,
    "start_time": "2022-11-02T16:58:05.727Z"
   },
   {
    "duration": 23,
    "start_time": "2022-11-02T16:58:05.735Z"
   },
   {
    "duration": 130,
    "start_time": "2022-11-02T16:58:05.761Z"
   },
   {
    "duration": 246,
    "start_time": "2022-11-02T16:58:05.893Z"
   },
   {
    "duration": 355,
    "start_time": "2022-11-02T16:58:06.141Z"
   },
   {
    "duration": 7,
    "start_time": "2022-11-02T16:58:06.497Z"
   },
   {
    "duration": 1033,
    "start_time": "2022-11-02T16:58:06.505Z"
   },
   {
    "duration": 14,
    "start_time": "2022-11-02T16:58:07.540Z"
   },
   {
    "duration": 236,
    "start_time": "2022-11-02T16:58:07.556Z"
   },
   {
    "duration": 39,
    "start_time": "2022-11-02T16:58:07.794Z"
   },
   {
    "duration": 19,
    "start_time": "2022-11-02T16:58:07.835Z"
   },
   {
    "duration": 342,
    "start_time": "2022-11-02T16:58:07.856Z"
   },
   {
    "duration": 8,
    "start_time": "2022-11-02T16:58:08.200Z"
   },
   {
    "duration": 179,
    "start_time": "2022-11-02T16:58:08.209Z"
   },
   {
    "duration": 8,
    "start_time": "2022-11-02T16:58:08.390Z"
   },
   {
    "duration": 189,
    "start_time": "2022-11-02T16:58:08.400Z"
   },
   {
    "duration": 53,
    "start_time": "2022-11-02T16:58:08.590Z"
   },
   {
    "duration": 32,
    "start_time": "2022-11-02T16:58:08.655Z"
   },
   {
    "duration": 25,
    "start_time": "2022-11-02T16:58:08.691Z"
   },
   {
    "duration": 50,
    "start_time": "2022-11-02T16:58:08.718Z"
   },
   {
    "duration": 24,
    "start_time": "2022-11-02T16:58:08.770Z"
   },
   {
    "duration": 15,
    "start_time": "2022-11-02T16:58:08.796Z"
   },
   {
    "duration": 273,
    "start_time": "2022-11-02T16:58:08.813Z"
   },
   {
    "duration": 6,
    "start_time": "2022-11-02T16:58:09.089Z"
   },
   {
    "duration": 372,
    "start_time": "2022-11-02T16:58:09.098Z"
   },
   {
    "duration": 378,
    "start_time": "2022-11-02T16:58:09.472Z"
   },
   {
    "duration": 346,
    "start_time": "2022-11-02T16:58:09.851Z"
   },
   {
    "duration": 6,
    "start_time": "2022-11-02T16:58:10.199Z"
   },
   {
    "duration": 9,
    "start_time": "2022-11-02T16:58:10.207Z"
   },
   {
    "duration": 12,
    "start_time": "2022-11-02T16:58:10.219Z"
   },
   {
    "duration": 24,
    "start_time": "2022-11-02T16:58:10.233Z"
   },
   {
    "duration": 8,
    "start_time": "2022-11-02T16:58:15.601Z"
   },
   {
    "duration": 7,
    "start_time": "2022-11-02T16:58:28.843Z"
   },
   {
    "duration": 9,
    "start_time": "2022-11-02T17:00:29.293Z"
   },
   {
    "duration": 14,
    "start_time": "2022-11-02T17:00:37.652Z"
   },
   {
    "duration": 10,
    "start_time": "2022-11-02T17:00:59.849Z"
   },
   {
    "duration": 47,
    "start_time": "2022-11-02T17:02:58.875Z"
   },
   {
    "duration": 340,
    "start_time": "2022-11-02T17:10:00.279Z"
   },
   {
    "duration": 3,
    "start_time": "2022-11-02T17:10:10.089Z"
   },
   {
    "duration": 610,
    "start_time": "2022-11-02T17:10:35.996Z"
   },
   {
    "duration": 626,
    "start_time": "2022-11-02T17:10:47.993Z"
   },
   {
    "duration": 723,
    "start_time": "2022-11-02T17:10:53.461Z"
   },
   {
    "duration": 595,
    "start_time": "2022-11-02T17:10:59.562Z"
   },
   {
    "duration": 622,
    "start_time": "2022-11-02T17:11:07.421Z"
   },
   {
    "duration": 605,
    "start_time": "2022-11-02T17:11:12.219Z"
   },
   {
    "duration": 718,
    "start_time": "2022-11-02T17:11:17.140Z"
   },
   {
    "duration": 632,
    "start_time": "2022-11-02T17:11:25.360Z"
   },
   {
    "duration": 626,
    "start_time": "2022-11-02T17:11:29.583Z"
   },
   {
    "duration": 718,
    "start_time": "2022-11-02T17:11:35.561Z"
   },
   {
    "duration": 678,
    "start_time": "2022-11-02T17:11:41.063Z"
   },
   {
    "duration": 597,
    "start_time": "2022-11-02T17:11:48.705Z"
   },
   {
    "duration": 751,
    "start_time": "2022-11-02T17:12:45.703Z"
   },
   {
    "duration": 106,
    "start_time": "2022-11-02T17:15:26.034Z"
   },
   {
    "duration": 1974,
    "start_time": "2022-11-02T17:15:36.757Z"
   },
   {
    "duration": 1909,
    "start_time": "2022-11-02T17:15:56.063Z"
   },
   {
    "duration": 558,
    "start_time": "2022-11-02T17:16:28.637Z"
   },
   {
    "duration": 730,
    "start_time": "2022-11-02T17:16:40.047Z"
   },
   {
    "duration": 13,
    "start_time": "2022-11-02T17:17:40.403Z"
   },
   {
    "duration": 738,
    "start_time": "2022-11-02T17:17:49.124Z"
   },
   {
    "duration": 819,
    "start_time": "2022-11-02T17:18:00.406Z"
   },
   {
    "duration": 877,
    "start_time": "2022-11-02T17:18:23.378Z"
   },
   {
    "duration": 579,
    "start_time": "2022-11-02T17:23:45.575Z"
   },
   {
    "duration": 614,
    "start_time": "2022-11-02T17:23:57.614Z"
   },
   {
    "duration": 601,
    "start_time": "2022-11-02T17:24:09.375Z"
   },
   {
    "duration": 431,
    "start_time": "2022-11-02T17:25:12.113Z"
   },
   {
    "duration": 583,
    "start_time": "2022-11-02T17:25:59.153Z"
   },
   {
    "duration": 608,
    "start_time": "2022-11-02T17:26:12.624Z"
   },
   {
    "duration": 571,
    "start_time": "2022-11-02T17:27:09.700Z"
   },
   {
    "duration": 776,
    "start_time": "2022-11-02T17:27:18.224Z"
   },
   {
    "duration": 575,
    "start_time": "2022-11-02T17:27:29.827Z"
   },
   {
    "duration": 317,
    "start_time": "2022-11-02T17:29:07.796Z"
   },
   {
    "duration": 296,
    "start_time": "2022-11-02T17:29:18.798Z"
   },
   {
    "duration": 304,
    "start_time": "2022-11-02T17:29:28.627Z"
   },
   {
    "duration": 625,
    "start_time": "2022-11-02T17:29:41.404Z"
   },
   {
    "duration": 323,
    "start_time": "2022-11-02T17:30:50.341Z"
   },
   {
    "duration": 22,
    "start_time": "2022-11-02T17:39:35.756Z"
   },
   {
    "duration": 332,
    "start_time": "2022-11-02T17:39:52.053Z"
   },
   {
    "duration": 32,
    "start_time": "2022-11-02T17:40:34.193Z"
   },
   {
    "duration": 335,
    "start_time": "2022-11-02T17:40:42.641Z"
   },
   {
    "duration": 3,
    "start_time": "2022-11-02T17:43:50.059Z"
   },
   {
    "duration": 3,
    "start_time": "2022-11-02T17:43:59.133Z"
   },
   {
    "duration": 3,
    "start_time": "2022-11-02T17:44:08.975Z"
   },
   {
    "duration": 3,
    "start_time": "2022-11-02T17:44:22.755Z"
   },
   {
    "duration": 5,
    "start_time": "2022-11-02T17:49:36.355Z"
   },
   {
    "duration": 44,
    "start_time": "2022-11-02T17:49:37.197Z"
   },
   {
    "duration": 13,
    "start_time": "2022-11-02T17:50:09.273Z"
   },
   {
    "duration": 5,
    "start_time": "2022-11-02T17:50:29.229Z"
   },
   {
    "duration": 13,
    "start_time": "2022-11-02T17:50:30.105Z"
   },
   {
    "duration": 5,
    "start_time": "2022-11-02T17:50:43.920Z"
   },
   {
    "duration": 216,
    "start_time": "2022-11-02T17:50:45.029Z"
   },
   {
    "duration": 5,
    "start_time": "2022-11-02T17:51:07.998Z"
   },
   {
    "duration": 5,
    "start_time": "2022-11-02T17:51:24.884Z"
   },
   {
    "duration": 221,
    "start_time": "2022-11-02T17:51:25.586Z"
   },
   {
    "duration": 5,
    "start_time": "2022-11-02T17:52:47.299Z"
   },
   {
    "duration": 207,
    "start_time": "2022-11-02T17:52:47.959Z"
   },
   {
    "duration": 4,
    "start_time": "2022-11-02T17:55:14.789Z"
   },
   {
    "duration": 317,
    "start_time": "2022-11-02T17:55:16.327Z"
   },
   {
    "duration": 4,
    "start_time": "2022-11-02T17:55:30.782Z"
   },
   {
    "duration": 159,
    "start_time": "2022-11-02T17:55:31.385Z"
   },
   {
    "duration": 5,
    "start_time": "2022-11-02T17:55:42.276Z"
   },
   {
    "duration": 213,
    "start_time": "2022-11-02T17:55:42.968Z"
   },
   {
    "duration": 1220,
    "start_time": "2022-11-02T17:55:54.454Z"
   },
   {
    "duration": 72,
    "start_time": "2022-11-02T17:55:55.676Z"
   },
   {
    "duration": 13,
    "start_time": "2022-11-02T17:55:55.750Z"
   },
   {
    "duration": 14,
    "start_time": "2022-11-02T17:55:55.766Z"
   },
   {
    "duration": 10,
    "start_time": "2022-11-02T17:55:55.782Z"
   },
   {
    "duration": 6,
    "start_time": "2022-11-02T17:55:55.794Z"
   },
   {
    "duration": 10,
    "start_time": "2022-11-02T17:55:55.801Z"
   },
   {
    "duration": 4,
    "start_time": "2022-11-02T17:55:55.813Z"
   },
   {
    "duration": 39,
    "start_time": "2022-11-02T17:55:55.819Z"
   },
   {
    "duration": 8,
    "start_time": "2022-11-02T17:55:55.861Z"
   },
   {
    "duration": 10,
    "start_time": "2022-11-02T17:55:55.871Z"
   },
   {
    "duration": 100,
    "start_time": "2022-11-02T17:55:55.883Z"
   },
   {
    "duration": 8,
    "start_time": "2022-11-02T17:55:55.985Z"
   },
   {
    "duration": 223,
    "start_time": "2022-11-02T17:55:55.995Z"
   },
   {
    "duration": 371,
    "start_time": "2022-11-02T17:55:56.220Z"
   },
   {
    "duration": 5,
    "start_time": "2022-11-02T17:55:56.593Z"
   },
   {
    "duration": 1008,
    "start_time": "2022-11-02T17:55:56.600Z"
   },
   {
    "duration": 4,
    "start_time": "2022-11-02T17:55:57.610Z"
   },
   {
    "duration": 234,
    "start_time": "2022-11-02T17:55:57.616Z"
   },
   {
    "duration": 39,
    "start_time": "2022-11-02T17:55:57.854Z"
   },
   {
    "duration": 5,
    "start_time": "2022-11-02T17:55:57.894Z"
   },
   {
    "duration": 447,
    "start_time": "2022-11-02T17:55:57.900Z"
   },
   {
    "duration": 308,
    "start_time": "2022-11-02T17:55:58.348Z"
   },
   {
    "duration": 255,
    "start_time": "2022-11-02T17:55:58.659Z"
   },
   {
    "duration": 7,
    "start_time": "2022-11-02T17:55:58.916Z"
   },
   {
    "duration": 179,
    "start_time": "2022-11-02T17:55:58.925Z"
   },
   {
    "duration": 7,
    "start_time": "2022-11-02T17:55:59.105Z"
   },
   {
    "duration": 186,
    "start_time": "2022-11-02T17:55:59.116Z"
   },
   {
    "duration": 62,
    "start_time": "2022-11-02T17:55:59.304Z"
   },
   {
    "duration": 3,
    "start_time": "2022-11-02T17:55:59.367Z"
   },
   {
    "duration": 8,
    "start_time": "2022-11-02T17:55:59.372Z"
   },
   {
    "duration": 16,
    "start_time": "2022-11-02T17:55:59.381Z"
   },
   {
    "duration": 9,
    "start_time": "2022-11-02T17:55:59.399Z"
   },
   {
    "duration": 9,
    "start_time": "2022-11-02T17:55:59.410Z"
   },
   {
    "duration": 337,
    "start_time": "2022-11-02T17:55:59.421Z"
   },
   {
    "duration": 0,
    "start_time": "2022-11-02T17:55:59.760Z"
   },
   {
    "duration": 0,
    "start_time": "2022-11-02T17:55:59.761Z"
   },
   {
    "duration": 0,
    "start_time": "2022-11-02T17:55:59.762Z"
   },
   {
    "duration": 0,
    "start_time": "2022-11-02T17:55:59.763Z"
   },
   {
    "duration": 0,
    "start_time": "2022-11-02T17:55:59.764Z"
   },
   {
    "duration": 0,
    "start_time": "2022-11-02T17:55:59.765Z"
   },
   {
    "duration": 0,
    "start_time": "2022-11-02T17:55:59.766Z"
   },
   {
    "duration": 0,
    "start_time": "2022-11-02T17:55:59.767Z"
   },
   {
    "duration": 0,
    "start_time": "2022-11-02T17:55:59.768Z"
   },
   {
    "duration": 0,
    "start_time": "2022-11-02T17:55:59.770Z"
   },
   {
    "duration": 6,
    "start_time": "2022-11-02T17:56:00.708Z"
   },
   {
    "duration": 218,
    "start_time": "2022-11-02T17:56:01.175Z"
   },
   {
    "duration": 5,
    "start_time": "2022-11-02T17:58:12.696Z"
   },
   {
    "duration": 2722,
    "start_time": "2022-11-02T17:58:13.202Z"
   },
   {
    "duration": 6,
    "start_time": "2022-11-02T18:00:24.262Z"
   },
   {
    "duration": 2899,
    "start_time": "2022-11-02T18:00:24.851Z"
   },
   {
    "duration": 5,
    "start_time": "2022-11-02T18:00:29.114Z"
   },
   {
    "duration": 2830,
    "start_time": "2022-11-02T18:00:30.617Z"
   },
   {
    "duration": 5,
    "start_time": "2022-11-02T18:00:52.458Z"
   },
   {
    "duration": 2463,
    "start_time": "2022-11-02T18:00:52.976Z"
   },
   {
    "duration": 5,
    "start_time": "2022-11-02T18:01:17.494Z"
   },
   {
    "duration": 2800,
    "start_time": "2022-11-02T18:01:18.144Z"
   },
   {
    "duration": 5,
    "start_time": "2022-11-02T18:02:18.334Z"
   },
   {
    "duration": 2724,
    "start_time": "2022-11-02T18:02:18.752Z"
   },
   {
    "duration": 56,
    "start_time": "2022-11-02T18:02:30.593Z"
   },
   {
    "duration": 5,
    "start_time": "2022-11-02T18:02:35.193Z"
   },
   {
    "duration": 13,
    "start_time": "2022-11-02T18:02:35.671Z"
   },
   {
    "duration": 5,
    "start_time": "2022-11-02T18:02:49.850Z"
   },
   {
    "duration": 2839,
    "start_time": "2022-11-02T18:02:50.279Z"
   },
   {
    "duration": 7,
    "start_time": "2022-11-02T18:02:55.450Z"
   },
   {
    "duration": 2742,
    "start_time": "2022-11-02T18:02:56.019Z"
   },
   {
    "duration": 5,
    "start_time": "2022-11-02T18:03:26.435Z"
   },
   {
    "duration": 2747,
    "start_time": "2022-11-02T18:03:27.254Z"
   },
   {
    "duration": 5,
    "start_time": "2022-11-02T18:03:32.083Z"
   },
   {
    "duration": 1214,
    "start_time": "2022-11-02T18:04:16.255Z"
   },
   {
    "duration": 74,
    "start_time": "2022-11-02T18:04:17.470Z"
   },
   {
    "duration": 14,
    "start_time": "2022-11-02T18:04:17.546Z"
   },
   {
    "duration": 15,
    "start_time": "2022-11-02T18:04:17.562Z"
   },
   {
    "duration": 9,
    "start_time": "2022-11-02T18:04:17.579Z"
   },
   {
    "duration": 4,
    "start_time": "2022-11-02T18:04:17.589Z"
   },
   {
    "duration": 9,
    "start_time": "2022-11-02T18:04:17.595Z"
   },
   {
    "duration": 4,
    "start_time": "2022-11-02T18:04:17.606Z"
   },
   {
    "duration": 44,
    "start_time": "2022-11-02T18:04:17.612Z"
   },
   {
    "duration": 4,
    "start_time": "2022-11-02T18:04:17.660Z"
   },
   {
    "duration": 15,
    "start_time": "2022-11-02T18:04:17.666Z"
   },
   {
    "duration": 92,
    "start_time": "2022-11-02T18:04:17.683Z"
   },
   {
    "duration": 9,
    "start_time": "2022-11-02T18:04:17.777Z"
   },
   {
    "duration": 235,
    "start_time": "2022-11-02T18:04:17.788Z"
   },
   {
    "duration": 356,
    "start_time": "2022-11-02T18:04:18.024Z"
   },
   {
    "duration": 7,
    "start_time": "2022-11-02T18:04:18.382Z"
   },
   {
    "duration": 1059,
    "start_time": "2022-11-02T18:04:18.390Z"
   },
   {
    "duration": 6,
    "start_time": "2022-11-02T18:04:19.454Z"
   },
   {
    "duration": 237,
    "start_time": "2022-11-02T18:04:19.461Z"
   },
   {
    "duration": 39,
    "start_time": "2022-11-02T18:04:19.701Z"
   },
   {
    "duration": 5,
    "start_time": "2022-11-02T18:04:19.753Z"
   },
   {
    "duration": 435,
    "start_time": "2022-11-02T18:04:19.760Z"
   },
   {
    "duration": 325,
    "start_time": "2022-11-02T18:04:20.198Z"
   },
   {
    "duration": 255,
    "start_time": "2022-11-02T18:04:20.525Z"
   },
   {
    "duration": 9,
    "start_time": "2022-11-02T18:04:20.782Z"
   },
   {
    "duration": 177,
    "start_time": "2022-11-02T18:04:20.793Z"
   },
   {
    "duration": 8,
    "start_time": "2022-11-02T18:04:20.972Z"
   },
   {
    "duration": 246,
    "start_time": "2022-11-02T18:04:20.984Z"
   },
   {
    "duration": 73,
    "start_time": "2022-11-02T18:04:21.232Z"
   },
   {
    "duration": 3,
    "start_time": "2022-11-02T18:04:21.306Z"
   },
   {
    "duration": 10,
    "start_time": "2022-11-02T18:04:21.311Z"
   },
   {
    "duration": 5,
    "start_time": "2022-11-02T18:04:21.323Z"
   },
   {
    "duration": 7,
    "start_time": "2022-11-02T18:04:21.329Z"
   },
   {
    "duration": 16,
    "start_time": "2022-11-02T18:04:21.338Z"
   },
   {
    "duration": 2747,
    "start_time": "2022-11-02T18:04:21.356Z"
   },
   {
    "duration": 16,
    "start_time": "2022-11-02T18:04:24.105Z"
   },
   {
    "duration": 267,
    "start_time": "2022-11-02T18:04:24.123Z"
   },
   {
    "duration": 5,
    "start_time": "2022-11-02T18:04:24.392Z"
   },
   {
    "duration": 476,
    "start_time": "2022-11-02T18:04:24.398Z"
   },
   {
    "duration": 384,
    "start_time": "2022-11-02T18:04:24.876Z"
   },
   {
    "duration": 356,
    "start_time": "2022-11-02T18:04:25.262Z"
   },
   {
    "duration": 7,
    "start_time": "2022-11-02T18:04:25.620Z"
   },
   {
    "duration": 11,
    "start_time": "2022-11-02T18:04:25.628Z"
   },
   {
    "duration": 23,
    "start_time": "2022-11-02T18:04:25.640Z"
   },
   {
    "duration": 21,
    "start_time": "2022-11-02T18:04:25.664Z"
   },
   {
    "duration": 7,
    "start_time": "2022-11-02T18:04:25.690Z"
   },
   {
    "duration": 2779,
    "start_time": "2022-11-02T18:04:25.700Z"
   },
   {
    "duration": 1640,
    "start_time": "2022-11-02T18:17:19.387Z"
   },
   {
    "duration": 1583,
    "start_time": "2022-11-02T18:17:48.115Z"
   },
   {
    "duration": 1334,
    "start_time": "2022-11-02T18:18:57.252Z"
   },
   {
    "duration": 1386,
    "start_time": "2022-11-02T18:20:17.103Z"
   },
   {
    "duration": 1382,
    "start_time": "2022-11-02T18:20:39.536Z"
   },
   {
    "duration": 871,
    "start_time": "2022-11-02T18:21:11.105Z"
   },
   {
    "duration": 1642,
    "start_time": "2022-11-02T18:21:26.134Z"
   },
   {
    "duration": 6,
    "start_time": "2022-11-02T18:25:36.486Z"
   },
   {
    "duration": 10,
    "start_time": "2022-11-02T18:25:36.954Z"
   },
   {
    "duration": 2839,
    "start_time": "2022-11-02T18:26:01.427Z"
   },
   {
    "duration": 1574,
    "start_time": "2022-11-02T18:27:22.752Z"
   },
   {
    "duration": 2965,
    "start_time": "2022-11-02T18:28:04.075Z"
   },
   {
    "duration": 1422,
    "start_time": "2022-11-02T18:28:08.493Z"
   },
   {
    "duration": 1423,
    "start_time": "2022-11-02T18:28:12.841Z"
   },
   {
    "duration": 5,
    "start_time": "2022-11-02T18:29:22.761Z"
   },
   {
    "duration": 1584,
    "start_time": "2022-11-02T18:29:23.212Z"
   },
   {
    "duration": 6,
    "start_time": "2022-11-02T18:30:49.359Z"
   },
   {
    "duration": 1390,
    "start_time": "2022-11-02T18:30:50.055Z"
   },
   {
    "duration": 6,
    "start_time": "2022-11-02T18:31:00.111Z"
   },
   {
    "duration": 1590,
    "start_time": "2022-11-02T18:31:07.808Z"
   },
   {
    "duration": 6,
    "start_time": "2022-11-02T18:33:18.815Z"
   },
   {
    "duration": 7,
    "start_time": "2022-11-02T18:33:35.590Z"
   },
   {
    "duration": 14,
    "start_time": "2022-11-02T18:34:15.122Z"
   },
   {
    "duration": 1456,
    "start_time": "2022-11-02T18:34:16.368Z"
   },
   {
    "duration": 18,
    "start_time": "2022-11-02T18:34:31.770Z"
   },
   {
    "duration": 13,
    "start_time": "2022-11-02T18:34:54.903Z"
   },
   {
    "duration": 1556,
    "start_time": "2022-11-02T18:34:56.054Z"
   },
   {
    "duration": 6,
    "start_time": "2022-11-02T18:35:39.354Z"
   },
   {
    "duration": 1661,
    "start_time": "2022-11-02T18:35:40.450Z"
   },
   {
    "duration": 9,
    "start_time": "2022-11-02T18:36:00.506Z"
   },
   {
    "duration": 1742,
    "start_time": "2022-11-02T18:36:01.152Z"
   },
   {
    "duration": 1477,
    "start_time": "2022-11-02T18:36:29.383Z"
   },
   {
    "duration": 1602,
    "start_time": "2022-11-02T18:37:39.419Z"
   },
   {
    "duration": 1567,
    "start_time": "2022-11-02T18:37:46.293Z"
   },
   {
    "duration": 1565,
    "start_time": "2022-11-02T18:37:51.630Z"
   },
   {
    "duration": 350,
    "start_time": "2022-11-02T18:39:34.914Z"
   },
   {
    "duration": 407,
    "start_time": "2022-11-02T18:42:18.091Z"
   },
   {
    "duration": 383,
    "start_time": "2022-11-02T18:42:53.510Z"
   },
   {
    "duration": 54,
    "start_time": "2022-11-02T18:43:43.943Z"
   },
   {
    "duration": 66,
    "start_time": "2022-11-02T18:44:45.089Z"
   },
   {
    "duration": 326,
    "start_time": "2022-11-02T18:45:58.145Z"
   },
   {
    "duration": 356,
    "start_time": "2022-11-02T18:46:16.375Z"
   },
   {
    "duration": 228,
    "start_time": "2022-11-02T18:46:31.089Z"
   },
   {
    "duration": 120,
    "start_time": "2022-11-02T18:46:39.828Z"
   },
   {
    "duration": 3,
    "start_time": "2022-11-02T18:46:44.534Z"
   },
   {
    "duration": 11,
    "start_time": "2022-11-02T18:57:35.121Z"
   },
   {
    "duration": 125,
    "start_time": "2022-11-02T18:58:21.063Z"
   },
   {
    "duration": 10,
    "start_time": "2022-11-02T18:59:21.226Z"
   },
   {
    "duration": 254,
    "start_time": "2022-11-02T18:59:28.205Z"
   },
   {
    "duration": 113,
    "start_time": "2022-11-02T18:59:42.973Z"
   },
   {
    "duration": 127,
    "start_time": "2022-11-02T19:00:05.578Z"
   },
   {
    "duration": 117,
    "start_time": "2022-11-02T19:00:11.289Z"
   },
   {
    "duration": 121,
    "start_time": "2022-11-02T19:01:35.272Z"
   },
   {
    "duration": 121,
    "start_time": "2022-11-02T19:07:40.625Z"
   },
   {
    "duration": 13,
    "start_time": "2022-11-02T19:08:23.445Z"
   },
   {
    "duration": 26,
    "start_time": "2022-11-02T19:08:28.691Z"
   },
   {
    "duration": 13,
    "start_time": "2022-11-02T19:09:09.969Z"
   },
   {
    "duration": 193,
    "start_time": "2022-11-02T19:10:08.622Z"
   },
   {
    "duration": 185,
    "start_time": "2022-11-02T19:10:14.533Z"
   },
   {
    "duration": 10,
    "start_time": "2022-11-02T19:11:14.286Z"
   },
   {
    "duration": 9,
    "start_time": "2022-11-02T19:11:28.408Z"
   },
   {
    "duration": 13,
    "start_time": "2022-11-02T19:12:01.422Z"
   },
   {
    "duration": 11,
    "start_time": "2022-11-02T19:13:08.519Z"
   },
   {
    "duration": 11,
    "start_time": "2022-11-02T19:14:48.765Z"
   },
   {
    "duration": 11,
    "start_time": "2022-11-02T19:15:56.040Z"
   },
   {
    "duration": 12,
    "start_time": "2022-11-02T19:16:05.224Z"
   },
   {
    "duration": 132,
    "start_time": "2022-11-02T19:19:24.256Z"
   },
   {
    "duration": 324,
    "start_time": "2022-11-02T19:19:53.661Z"
   },
   {
    "duration": 387,
    "start_time": "2022-11-02T19:20:05.754Z"
   },
   {
    "duration": 10,
    "start_time": "2022-11-02T19:22:38.529Z"
   },
   {
    "duration": 118,
    "start_time": "2022-11-02T19:24:47.719Z"
   },
   {
    "duration": 122,
    "start_time": "2022-11-02T19:25:19.554Z"
   },
   {
    "duration": 274,
    "start_time": "2022-11-02T19:26:15.909Z"
   },
   {
    "duration": 123,
    "start_time": "2022-11-02T19:27:03.340Z"
   },
   {
    "duration": 370,
    "start_time": "2022-11-02T19:27:16.676Z"
   },
   {
    "duration": 288,
    "start_time": "2022-11-02T19:27:28.942Z"
   },
   {
    "duration": 303,
    "start_time": "2022-11-02T19:28:25.486Z"
   },
   {
    "duration": 12,
    "start_time": "2022-11-02T19:28:58.160Z"
   },
   {
    "duration": 4,
    "start_time": "2022-11-02T19:29:42.778Z"
   },
   {
    "duration": 295,
    "start_time": "2022-11-02T19:29:43.349Z"
   },
   {
    "duration": 6,
    "start_time": "2022-11-02T19:29:47.204Z"
   },
   {
    "duration": 348,
    "start_time": "2022-11-02T19:29:47.781Z"
   },
   {
    "duration": 10,
    "start_time": "2022-11-02T19:31:13.988Z"
   },
   {
    "duration": 10,
    "start_time": "2022-11-02T19:31:32.543Z"
   },
   {
    "duration": 9,
    "start_time": "2022-11-02T19:32:26.778Z"
   },
   {
    "duration": 10,
    "start_time": "2022-11-02T19:33:03.973Z"
   },
   {
    "duration": 9,
    "start_time": "2022-11-02T19:33:23.491Z"
   },
   {
    "duration": 262,
    "start_time": "2022-11-02T19:35:22.521Z"
   },
   {
    "duration": 345,
    "start_time": "2022-11-02T19:35:48.753Z"
   },
   {
    "duration": 11,
    "start_time": "2022-11-02T19:36:31.083Z"
   },
   {
    "duration": 10,
    "start_time": "2022-11-02T19:37:29.212Z"
   },
   {
    "duration": 116,
    "start_time": "2022-11-02T19:37:49.861Z"
   },
   {
    "duration": 359,
    "start_time": "2022-11-02T19:37:56.643Z"
   },
   {
    "duration": 137,
    "start_time": "2022-11-02T19:38:01.923Z"
   },
   {
    "duration": 373,
    "start_time": "2022-11-02T19:38:07.508Z"
   },
   {
    "duration": 61,
    "start_time": "2022-11-02T19:45:47.336Z"
   },
   {
    "duration": 45,
    "start_time": "2022-11-02T19:46:07.041Z"
   },
   {
    "duration": 107,
    "start_time": "2022-11-02T19:46:23.686Z"
   },
   {
    "duration": 12,
    "start_time": "2022-11-02T19:46:57.272Z"
   },
   {
    "duration": 12,
    "start_time": "2022-11-02T19:53:36.344Z"
   },
   {
    "duration": 272,
    "start_time": "2022-11-02T19:55:23.565Z"
   },
   {
    "duration": 260,
    "start_time": "2022-11-02T19:58:03.079Z"
   },
   {
    "duration": 285,
    "start_time": "2022-11-02T19:59:00.894Z"
   },
   {
    "duration": 487,
    "start_time": "2022-11-02T20:01:06.699Z"
   },
   {
    "duration": 301,
    "start_time": "2022-11-02T20:01:25.314Z"
   },
   {
    "duration": 342,
    "start_time": "2022-11-02T20:01:42.469Z"
   },
   {
    "duration": 444,
    "start_time": "2022-11-02T20:02:04.668Z"
   },
   {
    "duration": 431,
    "start_time": "2022-11-02T20:02:57.229Z"
   },
   {
    "duration": 490,
    "start_time": "2022-11-02T20:03:17.275Z"
   },
   {
    "duration": 625,
    "start_time": "2022-11-02T20:03:33.377Z"
   },
   {
    "duration": 466,
    "start_time": "2022-11-02T20:03:58.551Z"
   },
   {
    "duration": 464,
    "start_time": "2022-11-02T20:04:04.225Z"
   },
   {
    "duration": 418,
    "start_time": "2022-11-02T20:04:14.568Z"
   },
   {
    "duration": 380,
    "start_time": "2022-11-02T20:04:24.608Z"
   },
   {
    "duration": 580,
    "start_time": "2022-11-02T20:04:29.450Z"
   },
   {
    "duration": 412,
    "start_time": "2022-11-02T20:04:49.337Z"
   },
   {
    "duration": 442,
    "start_time": "2022-11-02T20:06:25.284Z"
   },
   {
    "duration": 397,
    "start_time": "2022-11-02T20:06:39.187Z"
   },
   {
    "duration": 419,
    "start_time": "2022-11-02T20:06:45.295Z"
   },
   {
    "duration": 301,
    "start_time": "2022-11-02T20:07:47.223Z"
   },
   {
    "duration": 449,
    "start_time": "2022-11-02T20:07:55.493Z"
   },
   {
    "duration": 297,
    "start_time": "2022-11-02T20:08:08.520Z"
   },
   {
    "duration": 489,
    "start_time": "2022-11-02T20:08:13.311Z"
   },
   {
    "duration": 286,
    "start_time": "2022-11-02T20:08:27.804Z"
   },
   {
    "duration": 441,
    "start_time": "2022-11-02T20:09:14.572Z"
   },
   {
    "duration": 591,
    "start_time": "2022-11-02T20:09:33.770Z"
   },
   {
    "duration": 546,
    "start_time": "2022-11-02T20:10:09.311Z"
   },
   {
    "duration": 518,
    "start_time": "2022-11-02T20:10:36.804Z"
   },
   {
    "duration": 404,
    "start_time": "2022-11-02T20:11:11.796Z"
   },
   {
    "duration": 403,
    "start_time": "2022-11-02T20:11:15.574Z"
   },
   {
    "duration": 58,
    "start_time": "2022-11-02T20:43:19.611Z"
   },
   {
    "duration": 49,
    "start_time": "2022-11-02T20:44:50.549Z"
   },
   {
    "duration": 1408,
    "start_time": "2022-11-03T16:09:57.832Z"
   },
   {
    "duration": 75,
    "start_time": "2022-11-03T16:09:59.242Z"
   },
   {
    "duration": 19,
    "start_time": "2022-11-03T16:09:59.319Z"
   },
   {
    "duration": 12,
    "start_time": "2022-11-03T16:09:59.340Z"
   },
   {
    "duration": 13,
    "start_time": "2022-11-03T16:09:59.355Z"
   },
   {
    "duration": 3,
    "start_time": "2022-11-03T16:09:59.370Z"
   },
   {
    "duration": 11,
    "start_time": "2022-11-03T16:09:59.375Z"
   },
   {
    "duration": 4,
    "start_time": "2022-11-03T16:09:59.388Z"
   },
   {
    "duration": 12,
    "start_time": "2022-11-03T16:09:59.394Z"
   },
   {
    "duration": 33,
    "start_time": "2022-11-03T16:09:59.407Z"
   },
   {
    "duration": 10,
    "start_time": "2022-11-03T16:09:59.441Z"
   },
   {
    "duration": 86,
    "start_time": "2022-11-03T16:09:59.453Z"
   },
   {
    "duration": 10,
    "start_time": "2022-11-03T16:09:59.542Z"
   },
   {
    "duration": 392,
    "start_time": "2022-11-03T16:09:59.556Z"
   },
   {
    "duration": 553,
    "start_time": "2022-11-03T16:09:59.949Z"
   },
   {
    "duration": 6,
    "start_time": "2022-11-03T16:10:00.504Z"
   },
   {
    "duration": 2076,
    "start_time": "2022-11-03T16:10:00.512Z"
   },
   {
    "duration": 5,
    "start_time": "2022-11-03T16:10:02.590Z"
   },
   {
    "duration": 466,
    "start_time": "2022-11-03T16:10:02.597Z"
   },
   {
    "duration": 35,
    "start_time": "2022-11-03T16:10:03.066Z"
   },
   {
    "duration": 4,
    "start_time": "2022-11-03T16:10:03.103Z"
   },
   {
    "duration": 479,
    "start_time": "2022-11-03T16:10:03.109Z"
   },
   {
    "duration": 444,
    "start_time": "2022-11-03T16:10:03.590Z"
   },
   {
    "duration": 480,
    "start_time": "2022-11-03T16:10:04.036Z"
   },
   {
    "duration": 7,
    "start_time": "2022-11-03T16:10:04.518Z"
   },
   {
    "duration": 320,
    "start_time": "2022-11-03T16:10:04.534Z"
   },
   {
    "duration": 6,
    "start_time": "2022-11-03T16:10:04.856Z"
   },
   {
    "duration": 317,
    "start_time": "2022-11-03T16:10:04.864Z"
   },
   {
    "duration": 68,
    "start_time": "2022-11-03T16:10:05.183Z"
   },
   {
    "duration": 2,
    "start_time": "2022-11-03T16:10:05.253Z"
   },
   {
    "duration": 7,
    "start_time": "2022-11-03T16:10:05.257Z"
   },
   {
    "duration": 6,
    "start_time": "2022-11-03T16:10:05.266Z"
   },
   {
    "duration": 18,
    "start_time": "2022-11-03T16:10:05.273Z"
   },
   {
    "duration": 2251,
    "start_time": "2022-11-03T16:10:05.293Z"
   },
   {
    "duration": 12,
    "start_time": "2022-11-03T16:10:07.545Z"
   },
   {
    "duration": 483,
    "start_time": "2022-11-03T16:10:07.559Z"
   },
   {
    "duration": 3,
    "start_time": "2022-11-03T16:10:08.043Z"
   },
   {
    "duration": 8,
    "start_time": "2022-11-03T16:10:08.048Z"
   },
   {
    "duration": 621,
    "start_time": "2022-11-03T16:10:08.058Z"
   },
   {
    "duration": 670,
    "start_time": "2022-11-03T16:10:08.681Z"
   },
   {
    "duration": 583,
    "start_time": "2022-11-03T16:10:09.355Z"
   },
   {
    "duration": 597,
    "start_time": "2022-11-03T16:10:09.940Z"
   },
   {
    "duration": 5,
    "start_time": "2022-11-03T16:10:10.540Z"
   },
   {
    "duration": 20,
    "start_time": "2022-11-03T16:10:10.546Z"
   },
   {
    "duration": 10,
    "start_time": "2022-11-03T16:10:10.568Z"
   },
   {
    "duration": 9,
    "start_time": "2022-11-03T16:10:10.579Z"
   },
   {
    "duration": 47,
    "start_time": "2023-01-31T15:11:14.300Z"
   },
   {
    "duration": 8,
    "start_time": "2023-01-31T15:12:51.230Z"
   },
   {
    "duration": 1313,
    "start_time": "2023-01-31T15:13:42.877Z"
   },
   {
    "duration": 113,
    "start_time": "2023-01-31T15:13:44.192Z"
   },
   {
    "duration": 17,
    "start_time": "2023-01-31T15:13:44.307Z"
   },
   {
    "duration": 30,
    "start_time": "2023-01-31T15:13:44.326Z"
   },
   {
    "duration": 10,
    "start_time": "2023-01-31T15:13:44.358Z"
   },
   {
    "duration": 25,
    "start_time": "2023-01-31T15:13:44.370Z"
   },
   {
    "duration": 14,
    "start_time": "2023-01-31T15:13:44.397Z"
   },
   {
    "duration": 14,
    "start_time": "2023-01-31T15:13:44.413Z"
   },
   {
    "duration": 19,
    "start_time": "2023-01-31T15:13:44.428Z"
   },
   {
    "duration": 5,
    "start_time": "2023-01-31T15:13:44.450Z"
   },
   {
    "duration": 15,
    "start_time": "2023-01-31T15:13:44.457Z"
   },
   {
    "duration": 86,
    "start_time": "2023-01-31T15:13:44.473Z"
   },
   {
    "duration": 10,
    "start_time": "2023-01-31T15:13:44.561Z"
   },
   {
    "duration": 229,
    "start_time": "2023-01-31T15:13:44.572Z"
   },
   {
    "duration": 354,
    "start_time": "2023-01-31T15:13:44.803Z"
   },
   {
    "duration": 7,
    "start_time": "2023-01-31T15:13:45.159Z"
   },
   {
    "duration": 985,
    "start_time": "2023-01-31T15:13:45.168Z"
   },
   {
    "duration": 5,
    "start_time": "2023-01-31T15:13:46.155Z"
   },
   {
    "duration": 316,
    "start_time": "2023-01-31T15:13:46.161Z"
   },
   {
    "duration": 38,
    "start_time": "2023-01-31T15:13:46.479Z"
   },
   {
    "duration": 4,
    "start_time": "2023-01-31T15:13:46.519Z"
   },
   {
    "duration": 298,
    "start_time": "2023-01-31T15:13:46.553Z"
   },
   {
    "duration": 302,
    "start_time": "2023-01-31T15:13:46.853Z"
   },
   {
    "duration": 268,
    "start_time": "2023-01-31T15:13:47.157Z"
   },
   {
    "duration": 10,
    "start_time": "2023-01-31T15:13:47.427Z"
   },
   {
    "duration": 206,
    "start_time": "2023-01-31T15:13:47.438Z"
   },
   {
    "duration": 8,
    "start_time": "2023-01-31T15:13:47.652Z"
   },
   {
    "duration": 170,
    "start_time": "2023-01-31T15:13:47.664Z"
   },
   {
    "duration": 57,
    "start_time": "2023-01-31T15:13:47.837Z"
   },
   {
    "duration": 3,
    "start_time": "2023-01-31T15:13:47.896Z"
   },
   {
    "duration": 11,
    "start_time": "2023-01-31T15:13:47.900Z"
   },
   {
    "duration": 22,
    "start_time": "2023-01-31T15:13:47.913Z"
   },
   {
    "duration": 9,
    "start_time": "2023-01-31T15:13:47.937Z"
   },
   {
    "duration": 1414,
    "start_time": "2023-01-31T15:13:47.948Z"
   },
   {
    "duration": 13,
    "start_time": "2023-01-31T15:13:49.363Z"
   },
   {
    "duration": 335,
    "start_time": "2023-01-31T15:13:49.378Z"
   },
   {
    "duration": 3,
    "start_time": "2023-01-31T15:13:49.715Z"
   },
   {
    "duration": 19,
    "start_time": "2023-01-31T15:13:49.719Z"
   },
   {
    "duration": 335,
    "start_time": "2023-01-31T15:13:49.739Z"
   },
   {
    "duration": 321,
    "start_time": "2023-01-31T15:13:50.076Z"
   },
   {
    "duration": 383,
    "start_time": "2023-01-31T15:13:50.399Z"
   },
   {
    "duration": 397,
    "start_time": "2023-01-31T15:13:50.784Z"
   },
   {
    "duration": 6,
    "start_time": "2023-01-31T15:13:51.182Z"
   },
   {
    "duration": 27,
    "start_time": "2023-01-31T15:13:51.190Z"
   },
   {
    "duration": 9,
    "start_time": "2023-01-31T15:13:51.219Z"
   },
   {
    "duration": 7,
    "start_time": "2023-01-31T15:13:51.230Z"
   }
  ],
  "kernelspec": {
   "display_name": "Python 3 (ipykernel)",
   "language": "python",
   "name": "python3"
  },
  "language_info": {
   "codemirror_mode": {
    "name": "ipython",
    "version": 3
   },
   "file_extension": ".py",
   "mimetype": "text/x-python",
   "name": "python",
   "nbconvert_exporter": "python",
   "pygments_lexer": "ipython3",
   "version": "3.9.5"
  },
  "toc": {
   "base_numbering": 1,
   "nav_menu": {},
   "number_sections": true,
   "sideBar": true,
   "skip_h1_title": true,
   "title_cell": "Table of Contents",
   "title_sidebar": "Contents",
   "toc_cell": false,
   "toc_position": {
    "height": "calc(100% - 180px)",
    "left": "10px",
    "top": "150px",
    "width": "210.682px"
   },
   "toc_section_display": true,
   "toc_window_display": true
  }
 },
 "nbformat": 4,
 "nbformat_minor": 2
}
