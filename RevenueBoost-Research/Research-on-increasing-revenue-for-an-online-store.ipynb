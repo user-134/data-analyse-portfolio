{
 "cells": [
  {
   "cell_type": "markdown",
   "metadata": {},
   "source": [
    "# Исследование для крупного интернет-магазина по увеличению выручки."
   ]
  },
  {
   "cell_type": "markdown",
   "metadata": {},
   "source": [
    "Цель исследования:\n",
    "\n",
    "Приоритизировать гипотезы по увеличению выручки\\\n",
    "Провести A/B-тест\\\n",
    "Проанализировать результаты A/B-теста и принять решение по результатам теста\n",
    "\n",
    "План исследования:\n",
    "\n",
    "Подготовка данных к анализу\\\n",
    "Проведение приоритизации гипотез\\\n",
    "Интерпретация полученных графиков\\\n",
    "Рассчет статистической значимости\\\n",
    "Обработка результатов исследования\\\n",
    "Формулирование выводов по результатам A/B-тестов"
   ]
  },
  {
   "cell_type": "markdown",
   "metadata": {},
   "source": [
    "## Часть. Приоритизация гипотез."
   ]
  },
  {
   "cell_type": "markdown",
   "metadata": {},
   "source": [
    "### Изучаем общую информацию и выполняем предобработку"
   ]
  },
  {
   "cell_type": "code",
   "execution_count": 1,
   "metadata": {},
   "outputs": [],
   "source": [
    "import pandas as pd\n",
    "import matplotlib.pyplot as plt\n",
    "import numpy as np\n",
    "import datetime as dt\n",
    "import seaborn as sns\n",
    "from datetime import datetime, timedelta\n",
    "from scipy import stats as st\n",
    "from pandas.plotting import register_matplotlib_converters\n",
    "import warnings\n",
    "import scipy.stats as stats\n",
    "#Импортируем библиотеки"
   ]
  },
  {
   "cell_type": "code",
   "execution_count": 2,
   "metadata": {},
   "outputs": [],
   "source": [
    "data = pd.read_csv('/datasets/hypothesis.csv', sep=',')\n",
    "#открываем данные для первой части"
   ]
  },
  {
   "cell_type": "code",
   "execution_count": 3,
   "metadata": {},
   "outputs": [],
   "source": [
    "data.columns = data.columns.str.lower()\n",
    "#Приводим название столбцов к нижнему регистру"
   ]
  },
  {
   "cell_type": "code",
   "execution_count": 4,
   "metadata": {},
   "outputs": [
    {
     "data": {
      "text/html": [
       "<div>\n",
       "<style scoped>\n",
       "    .dataframe tbody tr th:only-of-type {\n",
       "        vertical-align: middle;\n",
       "    }\n",
       "\n",
       "    .dataframe tbody tr th {\n",
       "        vertical-align: top;\n",
       "    }\n",
       "\n",
       "    .dataframe thead th {\n",
       "        text-align: right;\n",
       "    }\n",
       "</style>\n",
       "<table border=\"1\" class=\"dataframe\">\n",
       "  <thead>\n",
       "    <tr style=\"text-align: right;\">\n",
       "      <th></th>\n",
       "      <th>hypothesis</th>\n",
       "      <th>reach</th>\n",
       "      <th>impact</th>\n",
       "      <th>confidence</th>\n",
       "      <th>efforts</th>\n",
       "    </tr>\n",
       "  </thead>\n",
       "  <tbody>\n",
       "    <tr>\n",
       "      <th>0</th>\n",
       "      <td>Добавить два новых канала привлечения трафика, что позволит привлекать на 30% больше пользователей</td>\n",
       "      <td>3</td>\n",
       "      <td>10</td>\n",
       "      <td>8</td>\n",
       "      <td>6</td>\n",
       "    </tr>\n",
       "    <tr>\n",
       "      <th>1</th>\n",
       "      <td>Запустить собственную службу доставки, что сократит срок доставки заказов</td>\n",
       "      <td>2</td>\n",
       "      <td>5</td>\n",
       "      <td>4</td>\n",
       "      <td>10</td>\n",
       "    </tr>\n",
       "    <tr>\n",
       "      <th>2</th>\n",
       "      <td>Добавить блоки рекомендаций товаров на сайт интернет магазина, чтобы повысить конверсию и средний чек заказа</td>\n",
       "      <td>8</td>\n",
       "      <td>3</td>\n",
       "      <td>7</td>\n",
       "      <td>3</td>\n",
       "    </tr>\n",
       "    <tr>\n",
       "      <th>3</th>\n",
       "      <td>Изменить структура категорий, что увеличит конверсию, т.к. пользователи быстрее найдут нужный товар</td>\n",
       "      <td>8</td>\n",
       "      <td>3</td>\n",
       "      <td>3</td>\n",
       "      <td>8</td>\n",
       "    </tr>\n",
       "    <tr>\n",
       "      <th>4</th>\n",
       "      <td>Изменить цвет фона главной страницы, чтобы увеличить вовлеченность пользователей</td>\n",
       "      <td>3</td>\n",
       "      <td>1</td>\n",
       "      <td>1</td>\n",
       "      <td>1</td>\n",
       "    </tr>\n",
       "    <tr>\n",
       "      <th>5</th>\n",
       "      <td>Добавить страницу отзывов клиентов о магазине, что позволит увеличить количество заказов</td>\n",
       "      <td>3</td>\n",
       "      <td>2</td>\n",
       "      <td>2</td>\n",
       "      <td>3</td>\n",
       "    </tr>\n",
       "    <tr>\n",
       "      <th>6</th>\n",
       "      <td>Показать на главной странице баннеры с актуальными акциями и распродажами, чтобы увеличить конверсию</td>\n",
       "      <td>5</td>\n",
       "      <td>3</td>\n",
       "      <td>8</td>\n",
       "      <td>3</td>\n",
       "    </tr>\n",
       "    <tr>\n",
       "      <th>7</th>\n",
       "      <td>Добавить форму подписки на все основные страницы, чтобы собрать базу клиентов для email-рассылок</td>\n",
       "      <td>10</td>\n",
       "      <td>7</td>\n",
       "      <td>8</td>\n",
       "      <td>5</td>\n",
       "    </tr>\n",
       "    <tr>\n",
       "      <th>8</th>\n",
       "      <td>Запустить акцию, дающую скидку на товар в день рождения</td>\n",
       "      <td>1</td>\n",
       "      <td>9</td>\n",
       "      <td>9</td>\n",
       "      <td>5</td>\n",
       "    </tr>\n",
       "  </tbody>\n",
       "</table>\n",
       "</div>"
      ],
      "text/plain": [
       "                                                                                                     hypothesis  \\\n",
       "0            Добавить два новых канала привлечения трафика, что позволит привлекать на 30% больше пользователей   \n",
       "1                                     Запустить собственную службу доставки, что сократит срок доставки заказов   \n",
       "2  Добавить блоки рекомендаций товаров на сайт интернет магазина, чтобы повысить конверсию и средний чек заказа   \n",
       "3           Изменить структура категорий, что увеличит конверсию, т.к. пользователи быстрее найдут нужный товар   \n",
       "4                              Изменить цвет фона главной страницы, чтобы увеличить вовлеченность пользователей   \n",
       "5                      Добавить страницу отзывов клиентов о магазине, что позволит увеличить количество заказов   \n",
       "6          Показать на главной странице баннеры с актуальными акциями и распродажами, чтобы увеличить конверсию   \n",
       "7              Добавить форму подписки на все основные страницы, чтобы собрать базу клиентов для email-рассылок   \n",
       "8                                                       Запустить акцию, дающую скидку на товар в день рождения   \n",
       "\n",
       "   reach  impact  confidence  efforts  \n",
       "0      3      10           8        6  \n",
       "1      2       5           4       10  \n",
       "2      8       3           7        3  \n",
       "3      8       3           3        8  \n",
       "4      3       1           1        1  \n",
       "5      3       2           2        3  \n",
       "6      5       3           8        3  \n",
       "7     10       7           8        5  \n",
       "8      1       9           9        5  "
      ]
     },
     "execution_count": 4,
     "metadata": {},
     "output_type": "execute_result"
    }
   ],
   "source": [
    "pd.set_option('display.max_colwidth', None)\n",
    "data"
   ]
  },
  {
   "cell_type": "markdown",
   "metadata": {},
   "source": [
    "ICE и RICE\n",
    "Для расчетов используем один из самых популярных способов приоритизации задач ICE (от англ. impact, confidence, effort / ease «влияние, уверенность, усилия / простота»), рассчитанный по формуле: (impact * confidence) / efforts.\\\n",
    "И модификацию этого метода - RICE (R от англ. reach, «охват»), рассчитанный по формуле: (impact * confidence * reach) / efforts."
   ]
  },
  {
   "cell_type": "code",
   "execution_count": 5,
   "metadata": {},
   "outputs": [
    {
     "name": "stdout",
     "output_type": "stream",
     "text": [
      "                                                                                                     hypothesis  \\\n",
      "8                                                       Запустить акцию, дающую скидку на товар в день рождения   \n",
      "0            Добавить два новых канала привлечения трафика, что позволит привлекать на 30% больше пользователей   \n",
      "7              Добавить форму подписки на все основные страницы, чтобы собрать базу клиентов для email-рассылок   \n",
      "6          Показать на главной странице баннеры с актуальными акциями и распродажами, чтобы увеличить конверсию   \n",
      "2  Добавить блоки рекомендаций товаров на сайт интернет магазина, чтобы повысить конверсию и средний чек заказа   \n",
      "1                                     Запустить собственную службу доставки, что сократит срок доставки заказов   \n",
      "5                      Добавить страницу отзывов клиентов о магазине, что позволит увеличить количество заказов   \n",
      "3           Изменить структура категорий, что увеличит конверсию, т.к. пользователи быстрее найдут нужный товар   \n",
      "4                              Изменить цвет фона главной страницы, чтобы увеличить вовлеченность пользователей   \n",
      "\n",
      "     ice  \n",
      "8  16.20  \n",
      "0  13.33  \n",
      "7  11.20  \n",
      "6   8.00  \n",
      "2   7.00  \n",
      "1   2.00  \n",
      "5   1.33  \n",
      "3   1.12  \n",
      "4   1.00  \n"
     ]
    }
   ],
   "source": [
    "data['ice'] = data['ice'] = (data['impact'] * data['confidence']) / data['efforts']\n",
    "print(round(data[['hypothesis', 'ice']].sort_values(by='ice', ascending=False), 2))\n",
    "#Применяем фреймворк ICE для приоритизации гипотез"
   ]
  },
  {
   "cell_type": "markdown",
   "metadata": {},
   "source": [
    "Наиболее перспективные гипотезы по 'ICE' - 8, 0, 7, 6"
   ]
  },
  {
   "cell_type": "code",
   "execution_count": 6,
   "metadata": {},
   "outputs": [
    {
     "name": "stdout",
     "output_type": "stream",
     "text": [
      "                                                                                                     hypothesis  \\\n",
      "7              Добавить форму подписки на все основные страницы, чтобы собрать базу клиентов для email-рассылок   \n",
      "2  Добавить блоки рекомендаций товаров на сайт интернет магазина, чтобы повысить конверсию и средний чек заказа   \n",
      "0            Добавить два новых канала привлечения трафика, что позволит привлекать на 30% больше пользователей   \n",
      "6          Показать на главной странице баннеры с актуальными акциями и распродажами, чтобы увеличить конверсию   \n",
      "8                                                       Запустить акцию, дающую скидку на товар в день рождения   \n",
      "3           Изменить структура категорий, что увеличит конверсию, т.к. пользователи быстрее найдут нужный товар   \n",
      "1                                     Запустить собственную службу доставки, что сократит срок доставки заказов   \n",
      "5                      Добавить страницу отзывов клиентов о магазине, что позволит увеличить количество заказов   \n",
      "4                              Изменить цвет фона главной страницы, чтобы увеличить вовлеченность пользователей   \n",
      "\n",
      "    rice  \n",
      "7  112.0  \n",
      "2   56.0  \n",
      "0   40.0  \n",
      "6   40.0  \n",
      "8   16.2  \n",
      "3    9.0  \n",
      "1    4.0  \n",
      "5    4.0  \n",
      "4    3.0  \n"
     ]
    }
   ],
   "source": [
    "data['rice'] = (data['reach'] * data['impact'] * data['confidence']) / data['efforts']\n",
    "print(data[['hypothesis', 'rice']].sort_values(by='rice', ascending=False))\n",
    "#Примените фреймворка RICE для приоритизации гипотез"
   ]
  },
  {
   "cell_type": "markdown",
   "metadata": {},
   "source": [
    "Наиболее перспективные гипотезы по 'RICE' - 7, 2, 0, 6\n",
    "\n",
    "При применении RICE вместо ICE приоритизация гипотез изменилась, поскольку фреймворк RICE имеет дополнительный компонент - 'Reach' (скольких пользователей затронет изменение, которое вы хотите внести).\\\n",
    "При применении RICE на первом месте - гипотеза 7, потому что её параметр 'reach' самый большой и равняется 10. В то время, как у другх гипотез этот параметр намного меньше."
   ]
  },
  {
   "cell_type": "markdown",
   "metadata": {},
   "source": [
    "## Часть. Анализ A/B-теста"
   ]
  },
  {
   "cell_type": "code",
   "execution_count": 7,
   "metadata": {},
   "outputs": [],
   "source": [
    "orders = pd.read_csv('/datasets/orders.csv', sep=',')\n",
    "visitors = pd.read_csv('/datasets/visitors.csv', sep=',')\n",
    "#открываем данные для второй части"
   ]
  },
  {
   "cell_type": "code",
   "execution_count": 8,
   "metadata": {
    "scrolled": true
   },
   "outputs": [
    {
     "name": "stdout",
     "output_type": "stream",
     "text": [
      "   transactionId   visitorId        date  revenue group\n",
      "0     3667963787  3312258926  2019-08-15     1650     B\n",
      "1     2804400009  3642806036  2019-08-15      730     B\n",
      "2     2961555356  4069496402  2019-08-15      400     A\n",
      "3     3797467345  1196621759  2019-08-15     9759     B\n",
      "4     2282983706  2322279887  2019-08-15     2308     B\n",
      "         date group  visitors\n",
      "0  2019-08-01     A       719\n",
      "1  2019-08-02     A       619\n",
      "2  2019-08-03     A       507\n",
      "3  2019-08-04     A       717\n",
      "4  2019-08-05     A       756\n"
     ]
    }
   ],
   "source": [
    "print(orders.head(5))\n",
    "print(visitors.head(5))"
   ]
  },
  {
   "cell_type": "code",
   "execution_count": 9,
   "metadata": {},
   "outputs": [
    {
     "name": "stdout",
     "output_type": "stream",
     "text": [
      "<class 'pandas.core.frame.DataFrame'>\n",
      "RangeIndex: 9 entries, 0 to 8\n",
      "Data columns (total 7 columns):\n",
      " #   Column      Non-Null Count  Dtype  \n",
      "---  ------      --------------  -----  \n",
      " 0   hypothesis  9 non-null      object \n",
      " 1   reach       9 non-null      int64  \n",
      " 2   impact      9 non-null      int64  \n",
      " 3   confidence  9 non-null      int64  \n",
      " 4   efforts     9 non-null      int64  \n",
      " 5   ice         9 non-null      float64\n",
      " 6   rice        9 non-null      float64\n",
      "dtypes: float64(2), int64(4), object(1)\n",
      "memory usage: 632.0+ bytes\n"
     ]
    }
   ],
   "source": [
    "data.info()"
   ]
  },
  {
   "cell_type": "code",
   "execution_count": 10,
   "metadata": {},
   "outputs": [
    {
     "name": "stdout",
     "output_type": "stream",
     "text": [
      "<class 'pandas.core.frame.DataFrame'>\n",
      "RangeIndex: 1197 entries, 0 to 1196\n",
      "Data columns (total 5 columns):\n",
      " #   Column         Non-Null Count  Dtype \n",
      "---  ------         --------------  ----- \n",
      " 0   transactionId  1197 non-null   int64 \n",
      " 1   visitorId      1197 non-null   int64 \n",
      " 2   date           1197 non-null   object\n",
      " 3   revenue        1197 non-null   int64 \n",
      " 4   group          1197 non-null   object\n",
      "dtypes: int64(3), object(2)\n",
      "memory usage: 46.9+ KB\n"
     ]
    }
   ],
   "source": [
    "orders.info()"
   ]
  },
  {
   "cell_type": "code",
   "execution_count": 11,
   "metadata": {},
   "outputs": [
    {
     "name": "stdout",
     "output_type": "stream",
     "text": [
      "<class 'pandas.core.frame.DataFrame'>\n",
      "RangeIndex: 62 entries, 0 to 61\n",
      "Data columns (total 3 columns):\n",
      " #   Column    Non-Null Count  Dtype \n",
      "---  ------    --------------  ----- \n",
      " 0   date      62 non-null     object\n",
      " 1   group     62 non-null     object\n",
      " 2   visitors  62 non-null     int64 \n",
      "dtypes: int64(1), object(2)\n",
      "memory usage: 1.6+ KB\n"
     ]
    }
   ],
   "source": [
    "visitors.info()"
   ]
  },
  {
   "cell_type": "code",
   "execution_count": 12,
   "metadata": {},
   "outputs": [
    {
     "name": "stdout",
     "output_type": "stream",
     "text": [
      "Количество пропущенных значений в данных о гипотезах: 0\n",
      "Количество пропущенных значений в данных о заказах: 0\n",
      "Количество пропущенных значений в данных о пользователях: 0\n"
     ]
    }
   ],
   "source": [
    "print('Количество пропущенных значений в данных о гипотезах:', data.duplicated().isna().sum())\n",
    "print('Количество пропущенных значений в данных о заказах:', orders.duplicated().isna().sum())\n",
    "print('Количество пропущенных значений в данных о пользователях:', visitors.duplicated().isna().sum())"
   ]
  },
  {
   "cell_type": "code",
   "execution_count": 13,
   "metadata": {},
   "outputs": [
    {
     "name": "stdout",
     "output_type": "stream",
     "text": [
      "Количество явных дубликатов в данных о гипотезах: 0\n",
      "Количество явных дубликатов в данных о заказах: 0\n",
      "Количество явных дубликатов в данных о пользователях: 0\n"
     ]
    }
   ],
   "source": [
    "print('Количество явных дубликатов в данных о гипотезах:', data.duplicated().sum())\n",
    "print('Количество явных дубликатов в данных о заказах:', orders.duplicated().sum())\n",
    "print('Количество явных дубликатов в данных о пользователях:', visitors.duplicated().sum())"
   ]
  },
  {
   "cell_type": "code",
   "execution_count": 14,
   "metadata": {},
   "outputs": [
    {
     "name": "stdout",
     "output_type": "stream",
     "text": [
      "A    31\n",
      "Name: group, dtype: int64\n",
      "B    31\n",
      "Name: group, dtype: int64\n"
     ]
    }
   ],
   "source": [
    "print(visitors[visitors['group'] == 'A']['group'].value_counts())\n",
    "print(visitors[visitors['group'] == 'B']['group'].value_counts())"
   ]
  },
  {
   "cell_type": "code",
   "execution_count": 15,
   "metadata": {},
   "outputs": [
    {
     "data": {
      "text/html": [
       "<div>\n",
       "<style scoped>\n",
       "    .dataframe tbody tr th:only-of-type {\n",
       "        vertical-align: middle;\n",
       "    }\n",
       "\n",
       "    .dataframe tbody tr th {\n",
       "        vertical-align: top;\n",
       "    }\n",
       "\n",
       "    .dataframe thead th {\n",
       "        text-align: right;\n",
       "    }\n",
       "</style>\n",
       "<table border=\"1\" class=\"dataframe\">\n",
       "  <thead>\n",
       "    <tr style=\"text-align: right;\">\n",
       "      <th></th>\n",
       "      <th>first</th>\n",
       "      <th>last</th>\n",
       "    </tr>\n",
       "    <tr>\n",
       "      <th>group</th>\n",
       "      <th></th>\n",
       "      <th></th>\n",
       "    </tr>\n",
       "  </thead>\n",
       "  <tbody>\n",
       "    <tr>\n",
       "      <th>A</th>\n",
       "      <td>2019-08-01</td>\n",
       "      <td>2019-08-31</td>\n",
       "    </tr>\n",
       "    <tr>\n",
       "      <th>B</th>\n",
       "      <td>2019-08-01</td>\n",
       "      <td>2019-08-31</td>\n",
       "    </tr>\n",
       "  </tbody>\n",
       "</table>\n",
       "</div>"
      ],
      "text/plain": [
       "            first        last\n",
       "group                        \n",
       "A      2019-08-01  2019-08-31\n",
       "B      2019-08-01  2019-08-31"
      ]
     },
     "execution_count": 15,
     "metadata": {},
     "output_type": "execute_result"
    }
   ],
   "source": [
    "visitors.groupby('group')['date'].agg(['min','max']).rename(columns={'min':'first','max':'last'})"
   ]
  },
  {
   "cell_type": "code",
   "execution_count": 16,
   "metadata": {
    "scrolled": true
   },
   "outputs": [
    {
     "data": {
      "text/html": [
       "<div>\n",
       "<style scoped>\n",
       "    .dataframe tbody tr th:only-of-type {\n",
       "        vertical-align: middle;\n",
       "    }\n",
       "\n",
       "    .dataframe tbody tr th {\n",
       "        vertical-align: top;\n",
       "    }\n",
       "\n",
       "    .dataframe thead th {\n",
       "        text-align: right;\n",
       "    }\n",
       "</style>\n",
       "<table border=\"1\" class=\"dataframe\">\n",
       "  <thead>\n",
       "    <tr style=\"text-align: right;\">\n",
       "      <th></th>\n",
       "      <th>date</th>\n",
       "      <th>group</th>\n",
       "      <th>visitors</th>\n",
       "    </tr>\n",
       "  </thead>\n",
       "  <tbody>\n",
       "    <tr>\n",
       "      <th>0</th>\n",
       "      <td>2019-08-01</td>\n",
       "      <td>A</td>\n",
       "      <td>719</td>\n",
       "    </tr>\n",
       "    <tr>\n",
       "      <th>1</th>\n",
       "      <td>2019-08-02</td>\n",
       "      <td>A</td>\n",
       "      <td>619</td>\n",
       "    </tr>\n",
       "    <tr>\n",
       "      <th>2</th>\n",
       "      <td>2019-08-03</td>\n",
       "      <td>A</td>\n",
       "      <td>507</td>\n",
       "    </tr>\n",
       "    <tr>\n",
       "      <th>3</th>\n",
       "      <td>2019-08-04</td>\n",
       "      <td>A</td>\n",
       "      <td>717</td>\n",
       "    </tr>\n",
       "    <tr>\n",
       "      <th>4</th>\n",
       "      <td>2019-08-05</td>\n",
       "      <td>A</td>\n",
       "      <td>756</td>\n",
       "    </tr>\n",
       "    <tr>\n",
       "      <th>5</th>\n",
       "      <td>2019-08-06</td>\n",
       "      <td>A</td>\n",
       "      <td>667</td>\n",
       "    </tr>\n",
       "    <tr>\n",
       "      <th>6</th>\n",
       "      <td>2019-08-07</td>\n",
       "      <td>A</td>\n",
       "      <td>644</td>\n",
       "    </tr>\n",
       "    <tr>\n",
       "      <th>8</th>\n",
       "      <td>2019-08-09</td>\n",
       "      <td>A</td>\n",
       "      <td>617</td>\n",
       "    </tr>\n",
       "    <tr>\n",
       "      <th>9</th>\n",
       "      <td>2019-08-10</td>\n",
       "      <td>A</td>\n",
       "      <td>406</td>\n",
       "    </tr>\n",
       "    <tr>\n",
       "      <th>11</th>\n",
       "      <td>2019-08-12</td>\n",
       "      <td>A</td>\n",
       "      <td>595</td>\n",
       "    </tr>\n",
       "    <tr>\n",
       "      <th>12</th>\n",
       "      <td>2019-08-13</td>\n",
       "      <td>A</td>\n",
       "      <td>748</td>\n",
       "    </tr>\n",
       "    <tr>\n",
       "      <th>13</th>\n",
       "      <td>2019-08-14</td>\n",
       "      <td>A</td>\n",
       "      <td>735</td>\n",
       "    </tr>\n",
       "    <tr>\n",
       "      <th>14</th>\n",
       "      <td>2019-08-15</td>\n",
       "      <td>A</td>\n",
       "      <td>628</td>\n",
       "    </tr>\n",
       "    <tr>\n",
       "      <th>15</th>\n",
       "      <td>2019-08-16</td>\n",
       "      <td>A</td>\n",
       "      <td>361</td>\n",
       "    </tr>\n",
       "    <tr>\n",
       "      <th>16</th>\n",
       "      <td>2019-08-17</td>\n",
       "      <td>A</td>\n",
       "      <td>412</td>\n",
       "    </tr>\n",
       "    <tr>\n",
       "      <th>17</th>\n",
       "      <td>2019-08-18</td>\n",
       "      <td>A</td>\n",
       "      <td>668</td>\n",
       "    </tr>\n",
       "    <tr>\n",
       "      <th>18</th>\n",
       "      <td>2019-08-19</td>\n",
       "      <td>A</td>\n",
       "      <td>502</td>\n",
       "    </tr>\n",
       "    <tr>\n",
       "      <th>19</th>\n",
       "      <td>2019-08-20</td>\n",
       "      <td>A</td>\n",
       "      <td>575</td>\n",
       "    </tr>\n",
       "    <tr>\n",
       "      <th>20</th>\n",
       "      <td>2019-08-21</td>\n",
       "      <td>A</td>\n",
       "      <td>646</td>\n",
       "    </tr>\n",
       "    <tr>\n",
       "      <th>21</th>\n",
       "      <td>2019-08-22</td>\n",
       "      <td>A</td>\n",
       "      <td>609</td>\n",
       "    </tr>\n",
       "    <tr>\n",
       "      <th>22</th>\n",
       "      <td>2019-08-23</td>\n",
       "      <td>A</td>\n",
       "      <td>468</td>\n",
       "    </tr>\n",
       "    <tr>\n",
       "      <th>23</th>\n",
       "      <td>2019-08-24</td>\n",
       "      <td>A</td>\n",
       "      <td>395</td>\n",
       "    </tr>\n",
       "    <tr>\n",
       "      <th>24</th>\n",
       "      <td>2019-08-25</td>\n",
       "      <td>A</td>\n",
       "      <td>621</td>\n",
       "    </tr>\n",
       "    <tr>\n",
       "      <th>25</th>\n",
       "      <td>2019-08-26</td>\n",
       "      <td>A</td>\n",
       "      <td>722</td>\n",
       "    </tr>\n",
       "    <tr>\n",
       "      <th>26</th>\n",
       "      <td>2019-08-27</td>\n",
       "      <td>A</td>\n",
       "      <td>711</td>\n",
       "    </tr>\n",
       "    <tr>\n",
       "      <th>27</th>\n",
       "      <td>2019-08-28</td>\n",
       "      <td>A</td>\n",
       "      <td>594</td>\n",
       "    </tr>\n",
       "    <tr>\n",
       "      <th>28</th>\n",
       "      <td>2019-08-29</td>\n",
       "      <td>A</td>\n",
       "      <td>577</td>\n",
       "    </tr>\n",
       "    <tr>\n",
       "      <th>30</th>\n",
       "      <td>2019-08-31</td>\n",
       "      <td>A</td>\n",
       "      <td>699</td>\n",
       "    </tr>\n",
       "    <tr>\n",
       "      <th>31</th>\n",
       "      <td>2019-08-01</td>\n",
       "      <td>B</td>\n",
       "      <td>713</td>\n",
       "    </tr>\n",
       "    <tr>\n",
       "      <th>32</th>\n",
       "      <td>2019-08-02</td>\n",
       "      <td>B</td>\n",
       "      <td>581</td>\n",
       "    </tr>\n",
       "    <tr>\n",
       "      <th>33</th>\n",
       "      <td>2019-08-03</td>\n",
       "      <td>B</td>\n",
       "      <td>509</td>\n",
       "    </tr>\n",
       "    <tr>\n",
       "      <th>34</th>\n",
       "      <td>2019-08-04</td>\n",
       "      <td>B</td>\n",
       "      <td>770</td>\n",
       "    </tr>\n",
       "    <tr>\n",
       "      <th>35</th>\n",
       "      <td>2019-08-05</td>\n",
       "      <td>B</td>\n",
       "      <td>707</td>\n",
       "    </tr>\n",
       "    <tr>\n",
       "      <th>36</th>\n",
       "      <td>2019-08-06</td>\n",
       "      <td>B</td>\n",
       "      <td>655</td>\n",
       "    </tr>\n",
       "    <tr>\n",
       "      <th>37</th>\n",
       "      <td>2019-08-07</td>\n",
       "      <td>B</td>\n",
       "      <td>709</td>\n",
       "    </tr>\n",
       "    <tr>\n",
       "      <th>38</th>\n",
       "      <td>2019-08-08</td>\n",
       "      <td>B</td>\n",
       "      <td>654</td>\n",
       "    </tr>\n",
       "    <tr>\n",
       "      <th>39</th>\n",
       "      <td>2019-08-09</td>\n",
       "      <td>B</td>\n",
       "      <td>610</td>\n",
       "    </tr>\n",
       "    <tr>\n",
       "      <th>40</th>\n",
       "      <td>2019-08-10</td>\n",
       "      <td>B</td>\n",
       "      <td>369</td>\n",
       "    </tr>\n",
       "    <tr>\n",
       "      <th>41</th>\n",
       "      <td>2019-08-11</td>\n",
       "      <td>B</td>\n",
       "      <td>721</td>\n",
       "    </tr>\n",
       "    <tr>\n",
       "      <th>42</th>\n",
       "      <td>2019-08-12</td>\n",
       "      <td>B</td>\n",
       "      <td>543</td>\n",
       "    </tr>\n",
       "    <tr>\n",
       "      <th>43</th>\n",
       "      <td>2019-08-13</td>\n",
       "      <td>B</td>\n",
       "      <td>769</td>\n",
       "    </tr>\n",
       "    <tr>\n",
       "      <th>44</th>\n",
       "      <td>2019-08-14</td>\n",
       "      <td>B</td>\n",
       "      <td>746</td>\n",
       "    </tr>\n",
       "    <tr>\n",
       "      <th>45</th>\n",
       "      <td>2019-08-15</td>\n",
       "      <td>B</td>\n",
       "      <td>544</td>\n",
       "    </tr>\n",
       "    <tr>\n",
       "      <th>46</th>\n",
       "      <td>2019-08-16</td>\n",
       "      <td>B</td>\n",
       "      <td>413</td>\n",
       "    </tr>\n",
       "    <tr>\n",
       "      <th>47</th>\n",
       "      <td>2019-08-17</td>\n",
       "      <td>B</td>\n",
       "      <td>421</td>\n",
       "    </tr>\n",
       "    <tr>\n",
       "      <th>48</th>\n",
       "      <td>2019-08-18</td>\n",
       "      <td>B</td>\n",
       "      <td>737</td>\n",
       "    </tr>\n",
       "    <tr>\n",
       "      <th>49</th>\n",
       "      <td>2019-08-19</td>\n",
       "      <td>B</td>\n",
       "      <td>487</td>\n",
       "    </tr>\n",
       "    <tr>\n",
       "      <th>50</th>\n",
       "      <td>2019-08-20</td>\n",
       "      <td>B</td>\n",
       "      <td>560</td>\n",
       "    </tr>\n",
       "    <tr>\n",
       "      <th>51</th>\n",
       "      <td>2019-08-21</td>\n",
       "      <td>B</td>\n",
       "      <td>656</td>\n",
       "    </tr>\n",
       "    <tr>\n",
       "      <th>52</th>\n",
       "      <td>2019-08-22</td>\n",
       "      <td>B</td>\n",
       "      <td>650</td>\n",
       "    </tr>\n",
       "    <tr>\n",
       "      <th>53</th>\n",
       "      <td>2019-08-23</td>\n",
       "      <td>B</td>\n",
       "      <td>546</td>\n",
       "    </tr>\n",
       "    <tr>\n",
       "      <th>54</th>\n",
       "      <td>2019-08-24</td>\n",
       "      <td>B</td>\n",
       "      <td>378</td>\n",
       "    </tr>\n",
       "    <tr>\n",
       "      <th>55</th>\n",
       "      <td>2019-08-25</td>\n",
       "      <td>B</td>\n",
       "      <td>679</td>\n",
       "    </tr>\n",
       "    <tr>\n",
       "      <th>56</th>\n",
       "      <td>2019-08-26</td>\n",
       "      <td>B</td>\n",
       "      <td>676</td>\n",
       "    </tr>\n",
       "    <tr>\n",
       "      <th>57</th>\n",
       "      <td>2019-08-27</td>\n",
       "      <td>B</td>\n",
       "      <td>720</td>\n",
       "    </tr>\n",
       "    <tr>\n",
       "      <th>58</th>\n",
       "      <td>2019-08-28</td>\n",
       "      <td>B</td>\n",
       "      <td>654</td>\n",
       "    </tr>\n",
       "    <tr>\n",
       "      <th>59</th>\n",
       "      <td>2019-08-29</td>\n",
       "      <td>B</td>\n",
       "      <td>531</td>\n",
       "    </tr>\n",
       "    <tr>\n",
       "      <th>60</th>\n",
       "      <td>2019-08-30</td>\n",
       "      <td>B</td>\n",
       "      <td>490</td>\n",
       "    </tr>\n",
       "    <tr>\n",
       "      <th>61</th>\n",
       "      <td>2019-08-31</td>\n",
       "      <td>B</td>\n",
       "      <td>718</td>\n",
       "    </tr>\n",
       "  </tbody>\n",
       "</table>\n",
       "</div>"
      ],
      "text/plain": [
       "          date group  visitors\n",
       "0   2019-08-01     A       719\n",
       "1   2019-08-02     A       619\n",
       "2   2019-08-03     A       507\n",
       "3   2019-08-04     A       717\n",
       "4   2019-08-05     A       756\n",
       "5   2019-08-06     A       667\n",
       "6   2019-08-07     A       644\n",
       "8   2019-08-09     A       617\n",
       "9   2019-08-10     A       406\n",
       "11  2019-08-12     A       595\n",
       "12  2019-08-13     A       748\n",
       "13  2019-08-14     A       735\n",
       "14  2019-08-15     A       628\n",
       "15  2019-08-16     A       361\n",
       "16  2019-08-17     A       412\n",
       "17  2019-08-18     A       668\n",
       "18  2019-08-19     A       502\n",
       "19  2019-08-20     A       575\n",
       "20  2019-08-21     A       646\n",
       "21  2019-08-22     A       609\n",
       "22  2019-08-23     A       468\n",
       "23  2019-08-24     A       395\n",
       "24  2019-08-25     A       621\n",
       "25  2019-08-26     A       722\n",
       "26  2019-08-27     A       711\n",
       "27  2019-08-28     A       594\n",
       "28  2019-08-29     A       577\n",
       "30  2019-08-31     A       699\n",
       "31  2019-08-01     B       713\n",
       "32  2019-08-02     B       581\n",
       "33  2019-08-03     B       509\n",
       "34  2019-08-04     B       770\n",
       "35  2019-08-05     B       707\n",
       "36  2019-08-06     B       655\n",
       "37  2019-08-07     B       709\n",
       "38  2019-08-08     B       654\n",
       "39  2019-08-09     B       610\n",
       "40  2019-08-10     B       369\n",
       "41  2019-08-11     B       721\n",
       "42  2019-08-12     B       543\n",
       "43  2019-08-13     B       769\n",
       "44  2019-08-14     B       746\n",
       "45  2019-08-15     B       544\n",
       "46  2019-08-16     B       413\n",
       "47  2019-08-17     B       421\n",
       "48  2019-08-18     B       737\n",
       "49  2019-08-19     B       487\n",
       "50  2019-08-20     B       560\n",
       "51  2019-08-21     B       656\n",
       "52  2019-08-22     B       650\n",
       "53  2019-08-23     B       546\n",
       "54  2019-08-24     B       378\n",
       "55  2019-08-25     B       679\n",
       "56  2019-08-26     B       676\n",
       "57  2019-08-27     B       720\n",
       "58  2019-08-28     B       654\n",
       "59  2019-08-29     B       531\n",
       "60  2019-08-30     B       490\n",
       "61  2019-08-31     B       718"
      ]
     },
     "execution_count": 16,
     "metadata": {},
     "output_type": "execute_result"
    }
   ],
   "source": [
    "groups = visitors.loc[visitors['group'] == 'A', 'visitors'].isin(visitors.loc[visitors['group'] == 'B', 'visitors'])\n",
    "res = visitors.drop(groups[groups].index)\n",
    "res"
   ]
  },
  {
   "cell_type": "markdown",
   "metadata": {},
   "source": [
    "Вывод о качестве исходных данных:\n",
    "\n",
    "Названия колонок приведены к читаемому виду.\\\n",
    "Явных дубликатов и пустых значений не выявлено.\\\n",
    "Количество участников теста одинаково в двух группах.\\\n",
    "Дата начала и окончания теста совпадает.\\"
   ]
  },
  {
   "cell_type": "code",
   "execution_count": 17,
   "metadata": {
    "scrolled": true
   },
   "outputs": [
    {
     "data": {
      "text/plain": [
       "1089"
      ]
     },
     "execution_count": 17,
     "metadata": {},
     "output_type": "execute_result"
    }
   ],
   "source": [
    "orders.groupby('group').agg({'visitorId': 'nunique'}).sum()[0]"
   ]
  },
  {
   "cell_type": "code",
   "execution_count": 18,
   "metadata": {},
   "outputs": [
    {
     "data": {
      "text/plain": [
       "1031"
      ]
     },
     "execution_count": 18,
     "metadata": {},
     "output_type": "execute_result"
    }
   ],
   "source": [
    "orders['visitorId'].nunique()"
   ]
  },
  {
   "cell_type": "code",
   "execution_count": 19,
   "metadata": {},
   "outputs": [],
   "source": [
    "datesGroups = orders[['date', 'group']].drop_duplicates()\n",
    "#Создаем датафрейм datesGroups с уникальными парами значений 'date' и 'group', таблицы orders. Избавляемся от дубликатов методом drop_duplicates()\n",
    "\n",
    "ordersAggregated = datesGroups.apply(lambda x: orders[np.logical_and(orders['date'] <= x['date'], orders['group'] == x['group'])].agg({'date': 'max', 'group': 'max', 'transactionId': 'nunique', 'visitorId': 'nunique', 'revenue': 'sum'}), axis=1).sort_values(by=['date', 'group'])\n",
    "#Объявляем переменную ordersAggregated, содержащую агрегированные значения таблицы orders\n",
    "\n",
    "visitorsAggregated = datesGroups.apply(lambda x: visitors[np.logical_and(visitors['date'] <= x['date'], visitors['group'] == x['group'])].agg({'date' : 'max', 'group' : 'max', 'visitors' : 'sum'}), axis=1).sort_values(by=['date','group'])\n",
    "#Объявляем переменную visitorsAggregated, содержащую агрегированные значения таблицы visitors\n",
    "\n",
    "cumulativeData = ordersAggregated.merge(visitorsAggregated, left_on=['date', 'group'], right_on=['date', 'group'])\n",
    "cumulativeData.columns = ['date', 'group', 'orders', 'buyers', 'revenue', 'visitors']\n",
    "#Определяем переменную cumulativeData, объединив ordersAggregated и visitorsAggregated по колонкам 'date', 'group' методом merge()"
   ]
  },
  {
   "cell_type": "code",
   "execution_count": 20,
   "metadata": {},
   "outputs": [
    {
     "data": {
      "text/plain": [
       "<matplotlib.legend.Legend at 0x7fceb05a1f10>"
      ]
     },
     "execution_count": 20,
     "metadata": {},
     "output_type": "execute_result"
    },
    {
     "data": {
      "image/png": "[encoded data removed]",
      "text/plain": [
       "<Figure size 1080x360 with 1 Axes>"
      ]
     },
     "metadata": {
      "needs_background": "light"
     },
     "output_type": "display_data"
    }
   ],
   "source": [
    "cumulativeRevenueA = cumulativeData[cumulativeData['group'] == 'A'][['date', 'revenue', 'orders']]\n",
    "cumulativeRevenueB = cumulativeData[cumulativeData['group'] == 'B'][['date', 'revenue', 'orders']]\n",
    "#Объявляем переменные cumulativeRevenueA и cumulativeRevenueB, в которых сохраняем данные о датах, выручке и числе заказов в группах A и B.\n",
    "\n",
    "plt.figure(figsize=(15,5))\n",
    "plt.plot(cumulativeRevenueA['date'], cumulativeRevenueA['revenue'], label='A')\n",
    "plt.plot(cumulativeRevenueB['date'], cumulativeRevenueB['revenue'], label='B')\n",
    "plt.xticks(rotation = 45)\n",
    "plt.title('График кумулятивной выручки по дням по группам')\n",
    "plt.xlabel('Дата')\n",
    "plt.ylabel('Выручка')\n",
    "plt.legend()\n",
    "\n",
    "#Строим графики кумулятивной выручки по дням по группам."
   ]
  },
  {
   "cell_type": "markdown",
   "metadata": {},
   "source": [
    "Сегмент B показывал превосходство практически все время теста. В середине теста он показал максимальный рост и продолжил расти.\\\n",
    "Требуется анализ выбросов. Аномалии слишком сильно влияют на результат."
   ]
  },
  {
   "cell_type": "code",
   "execution_count": 21,
   "metadata": {},
   "outputs": [
    {
     "data": {
      "text/plain": [
       "<matplotlib.legend.Legend at 0x7fceb037ddc0>"
      ]
     },
     "execution_count": 21,
     "metadata": {},
     "output_type": "execute_result"
    },
    {
     "data": {
      "image/png": "[encoded data removed]",
      "text/plain": [
       "<Figure size 1080x360 with 1 Axes>"
      ]
     },
     "metadata": {
      "needs_background": "light"
     },
     "output_type": "display_data"
    }
   ],
   "source": [
    "plt.figure(figsize=(15,5))\n",
    "plt.plot(cumulativeRevenueA['date'], cumulativeRevenueA['revenue']/cumulativeRevenueA['orders'], label='A')\n",
    "plt.plot(cumulativeRevenueB['date'], cumulativeRevenueB['revenue']/cumulativeRevenueB['orders'], label='B')\n",
    "plt.xticks(rotation = 45)\n",
    "plt.title('График кумулятивного среднего чека по группам')\n",
    "plt.xlabel('Дата')\n",
    "plt.ylabel('Средний чек')\n",
    "plt.legend()\n",
    "#Строим график кумулятивного среднего чека по группам"
   ]
  },
  {
   "cell_type": "markdown",
   "metadata": {},
   "source": [
    "Кумулятивное значение среднего чека по группам колеблется до середины теста. После, сегмент В показывает резкий скачок и небольшое снижение, а сегмент А стабилен.\\\n",
    "Требуется анализ выбросов. Аномалии слишком сильно влияют на результат."
   ]
  },
  {
   "cell_type": "code",
   "execution_count": 22,
   "metadata": {},
   "outputs": [
    {
     "data": {
      "text/plain": [
       "Text(0, 0.5, 'Средний чек')"
      ]
     },
     "execution_count": 22,
     "metadata": {},
     "output_type": "execute_result"
    },
    {
     "data": {
      "image/png": "[encoded data removed]",
      "text/plain": [
       "<Figure size 1080x360 with 1 Axes>"
      ]
     },
     "metadata": {
      "needs_background": "light"
     },
     "output_type": "display_data"
    }
   ],
   "source": [
    "mergedCumulativeRevenue = cumulativeRevenueA.merge(cumulativeRevenueB, left_on='date', right_on='date', how='left', suffixes=['A', 'B'])\n",
    "# собираем данные cumulativeRevenueA и cumulativeRevenueB в одном датафрейме\n",
    "\n",
    "plt.figure(figsize=(15,5))\n",
    "plt.plot(mergedCumulativeRevenue['date'], (mergedCumulativeRevenue['revenueB']/mergedCumulativeRevenue['ordersB'])/(mergedCumulativeRevenue['revenueA']/mergedCumulativeRevenue['ordersA'])-1)\n",
    "plt.axhline(y=0, color='black', linestyle='--') \n",
    "plt.xticks(rotation = 45)\n",
    "plt.title('График отношения средних чеков')\n",
    "plt.xlabel('Дата')\n",
    "plt.ylabel('Средний чек')\n",
    "# cтроим отношение средних чеков"
   ]
  },
  {
   "cell_type": "markdown",
   "metadata": {},
   "source": [
    "На графике относительного изменения кумулятивного среднего чека группы B к группе A видно, что результаты теста значительно менялись несколько раз. Скорее всего именно в эти даты были оформлены аномальные заказы."
   ]
  },
  {
   "cell_type": "code",
   "execution_count": 23,
   "metadata": {},
   "outputs": [
    {
     "data": {
      "text/html": [
       "<div>\n",
       "<style scoped>\n",
       "    .dataframe tbody tr th:only-of-type {\n",
       "        vertical-align: middle;\n",
       "    }\n",
       "\n",
       "    .dataframe tbody tr th {\n",
       "        vertical-align: top;\n",
       "    }\n",
       "\n",
       "    .dataframe thead th {\n",
       "        text-align: right;\n",
       "    }\n",
       "</style>\n",
       "<table border=\"1\" class=\"dataframe\">\n",
       "  <thead>\n",
       "    <tr style=\"text-align: right;\">\n",
       "      <th></th>\n",
       "      <th>date</th>\n",
       "      <th>group</th>\n",
       "      <th>orders</th>\n",
       "      <th>buyers</th>\n",
       "      <th>revenue</th>\n",
       "      <th>visitors</th>\n",
       "    </tr>\n",
       "  </thead>\n",
       "  <tbody>\n",
       "    <tr>\n",
       "      <th>0</th>\n",
       "      <td>2019-08-01</td>\n",
       "      <td>A</td>\n",
       "      <td>24</td>\n",
       "      <td>20</td>\n",
       "      <td>148579</td>\n",
       "      <td>719</td>\n",
       "    </tr>\n",
       "    <tr>\n",
       "      <th>1</th>\n",
       "      <td>2019-08-01</td>\n",
       "      <td>B</td>\n",
       "      <td>21</td>\n",
       "      <td>20</td>\n",
       "      <td>101217</td>\n",
       "      <td>713</td>\n",
       "    </tr>\n",
       "    <tr>\n",
       "      <th>2</th>\n",
       "      <td>2019-08-02</td>\n",
       "      <td>A</td>\n",
       "      <td>44</td>\n",
       "      <td>38</td>\n",
       "      <td>242401</td>\n",
       "      <td>1338</td>\n",
       "    </tr>\n",
       "    <tr>\n",
       "      <th>3</th>\n",
       "      <td>2019-08-02</td>\n",
       "      <td>B</td>\n",
       "      <td>45</td>\n",
       "      <td>43</td>\n",
       "      <td>266748</td>\n",
       "      <td>1294</td>\n",
       "    </tr>\n",
       "    <tr>\n",
       "      <th>4</th>\n",
       "      <td>2019-08-03</td>\n",
       "      <td>A</td>\n",
       "      <td>68</td>\n",
       "      <td>62</td>\n",
       "      <td>354874</td>\n",
       "      <td>1845</td>\n",
       "    </tr>\n",
       "    <tr>\n",
       "      <th>...</th>\n",
       "      <td>...</td>\n",
       "      <td>...</td>\n",
       "      <td>...</td>\n",
       "      <td>...</td>\n",
       "      <td>...</td>\n",
       "      <td>...</td>\n",
       "    </tr>\n",
       "    <tr>\n",
       "      <th>57</th>\n",
       "      <td>2019-08-29</td>\n",
       "      <td>B</td>\n",
       "      <td>596</td>\n",
       "      <td>544</td>\n",
       "      <td>5559398</td>\n",
       "      <td>17708</td>\n",
       "    </tr>\n",
       "    <tr>\n",
       "      <th>58</th>\n",
       "      <td>2019-08-30</td>\n",
       "      <td>A</td>\n",
       "      <td>545</td>\n",
       "      <td>493</td>\n",
       "      <td>4022970</td>\n",
       "      <td>18037</td>\n",
       "    </tr>\n",
       "    <tr>\n",
       "      <th>59</th>\n",
       "      <td>2019-08-30</td>\n",
       "      <td>B</td>\n",
       "      <td>620</td>\n",
       "      <td>567</td>\n",
       "      <td>5774631</td>\n",
       "      <td>18198</td>\n",
       "    </tr>\n",
       "    <tr>\n",
       "      <th>60</th>\n",
       "      <td>2019-08-31</td>\n",
       "      <td>A</td>\n",
       "      <td>557</td>\n",
       "      <td>503</td>\n",
       "      <td>4084803</td>\n",
       "      <td>18736</td>\n",
       "    </tr>\n",
       "    <tr>\n",
       "      <th>61</th>\n",
       "      <td>2019-08-31</td>\n",
       "      <td>B</td>\n",
       "      <td>640</td>\n",
       "      <td>586</td>\n",
       "      <td>5907760</td>\n",
       "      <td>18916</td>\n",
       "    </tr>\n",
       "  </tbody>\n",
       "</table>\n",
       "<p>62 rows × 6 columns</p>\n",
       "</div>"
      ],
      "text/plain": [
       "          date group  orders  buyers  revenue  visitors\n",
       "0   2019-08-01     A      24      20   148579       719\n",
       "1   2019-08-01     B      21      20   101217       713\n",
       "2   2019-08-02     A      44      38   242401      1338\n",
       "3   2019-08-02     B      45      43   266748      1294\n",
       "4   2019-08-03     A      68      62   354874      1845\n",
       "..         ...   ...     ...     ...      ...       ...\n",
       "57  2019-08-29     B     596     544  5559398     17708\n",
       "58  2019-08-30     A     545     493  4022970     18037\n",
       "59  2019-08-30     B     620     567  5774631     18198\n",
       "60  2019-08-31     A     557     503  4084803     18736\n",
       "61  2019-08-31     B     640     586  5907760     18916\n",
       "\n",
       "[62 rows x 6 columns]"
      ]
     },
     "execution_count": 23,
     "metadata": {},
     "output_type": "execute_result"
    }
   ],
   "source": [
    "cumulativeData"
   ]
  },
  {
   "cell_type": "code",
   "execution_count": 24,
   "metadata": {},
   "outputs": [
    {
     "data": {
      "text/plain": [
       "<matplotlib.legend.Legend at 0x7fceb04758b0>"
      ]
     },
     "execution_count": 24,
     "metadata": {},
     "output_type": "execute_result"
    },
    {
     "data": {
      "image/png": "[encoded data removed]",
      "text/plain": [
       "<Figure size 1080x360 with 1 Axes>"
      ]
     },
     "metadata": {
      "needs_background": "light"
     },
     "output_type": "display_data"
    }
   ],
   "source": [
    "cumulativeData['conversion'] = cumulativeData['orders']/cumulativeData['visitors']\n",
    "#Добавление в датафрейм столбца c отношением числа заказов к количеству пользователей в указанной группе в указанный день.\n",
    "\n",
    "cumulativeDataA = cumulativeData[cumulativeData['group'] == 'A']\n",
    "cumulativeDataB = cumulativeData[cumulativeData['group'] == 'B']\n",
    "\n",
    "plt.figure(figsize=(15,5))\n",
    "plt.plot(cumulativeDataA['date'], cumulativeDataA['conversion'], label='A')\n",
    "plt.plot(cumulativeDataB['date'], cumulativeDataB['conversion'], label='B')\n",
    "plt.xticks(rotation = 45)\n",
    "plt.title('График кумулятивной конверсии по дням по группам')\n",
    "plt.xlabel('Дата')\n",
    "plt.ylabel('Конверсия')\n",
    "plt.legend()\n",
    "#Строим графики кумулятивной конверсии по дням по группам"
   ]
  },
  {
   "cell_type": "markdown",
   "metadata": {},
   "source": [
    "В начале теста сегмент А имел большую конверсию, но постепенно начал снижаться. А сегмент В наоборот, начал постепенно расти."
   ]
  },
  {
   "cell_type": "code",
   "execution_count": 25,
   "metadata": {},
   "outputs": [
    {
     "data": {
      "text/plain": [
       "<matplotlib.lines.Line2D at 0x7fceb026ebb0>"
      ]
     },
     "execution_count": 25,
     "metadata": {},
     "output_type": "execute_result"
    },
    {
     "data": {
      "image/png": "[encoded data removed]",
      "text/plain": [
       "<Figure size 1080x360 with 1 Axes>"
      ]
     },
     "metadata": {
      "needs_background": "light"
     },
     "output_type": "display_data"
    }
   ],
   "source": [
    "mergedCumulativeConversions = cumulativeDataA[['date', 'conversion']].merge(cumulativeDataB[['date', 'conversion']], left_on='date', right_on='date', how='left', suffixes=['A', 'B'])\n",
    "#Объединение таблиц cumulativeDataA и cumulativeDataB\n",
    "\n",
    "plt.figure(figsize=(15,5))\n",
    "plt.plot(mergedCumulativeConversions['date'], mergedCumulativeConversions['conversionB']/mergedCumulativeConversions['conversionA']-1, label=\"Относительный прирост конверсии группы B относительно группы A\")\n",
    "plt.xticks(rotation = 45)\n",
    "plt.title('График относительного различия кумулятивной конверсии группы B к группе A')\n",
    "plt.xlabel('Дата')\n",
    "plt.legend()\n",
    "plt.axhline(y=0, color='black', linestyle='--')\n",
    "plt.axhline(y=0.2, color='grey', linestyle='--')\n",
    "#Строим график относительного различия кумулятивной конверсии группы B к группе A"
   ]
  },
  {
   "cell_type": "markdown",
   "metadata": {},
   "source": [
    "Почти с самого начала группа В лидирует по конверсии. В середине теста она фиксируется около прироста 20% и постепенно снижается, находясь стабильно на отметке в 10%"
   ]
  },
  {
   "cell_type": "code",
   "execution_count": 26,
   "metadata": {},
   "outputs": [
    {
     "name": "stdout",
     "output_type": "stream",
     "text": [
      "       visitorId  orders\n",
      "1023  4256040402      11\n",
      "591   2458001652      11\n",
      "569   2378935119       9\n",
      "487   2038680547       8\n",
      "44     199603092       5\n",
      "744   3062433592       5\n",
      "55     237748145       5\n",
      "917   3803269165       5\n",
      "299   1230306981       5\n",
      "897   3717692402       5\n"
     ]
    },
    {
     "data": {
      "text/plain": [
       "<matplotlib.collections.PathCollection at 0x7fceb01d95e0>"
      ]
     },
     "execution_count": 26,
     "metadata": {},
     "output_type": "execute_result"
    },
    {
     "data": {
      "image/png": "[encoded data removed]",
      "text/plain": [
       "<Figure size 432x288 with 1 Axes>"
      ]
     },
     "metadata": {
      "needs_background": "light"
     },
     "output_type": "display_data"
    }
   ],
   "source": [
    "ordersByUsers = (\n",
    "    orders.groupby('visitorId', as_index=False) #сгруппирует заказы по пользователям\n",
    "          .agg({'transactionId': 'nunique'}) #подсчитает число уникальных заказов по сгруппированным данным\n",
    ")\n",
    "ordersByUsers.columns = ['visitorId', 'orders']\n",
    "\n",
    "print(ordersByUsers.sort_values(by='orders', ascending=False).head(10))\n",
    "\n",
    "# серия из чисел от 0 до количества наблюдений в ordersByUsers\n",
    "x_values = pd.Series(range(0, len(ordersByUsers)))\n",
    "plt.scatter(x = x_values, y = ordersByUsers['orders'])"
   ]
  },
  {
   "cell_type": "markdown",
   "metadata": {},
   "source": [
    "Пользователей с количеством заказов более 2 очень мало, скорее всего это выбросы."
   ]
  },
  {
   "cell_type": "code",
   "execution_count": 27,
   "metadata": {},
   "outputs": [
    {
     "name": "stdout",
     "output_type": "stream",
     "text": [
      "[2. 4.]\n"
     ]
    }
   ],
   "source": [
    "#находит перцентили\n",
    "print(np.percentile(ordersByUsers['orders'], [95, 99])) "
   ]
  },
  {
   "cell_type": "code",
   "execution_count": 28,
   "metadata": {},
   "outputs": [
    {
     "name": "stdout",
     "output_type": "stream",
     "text": [
      "       visitorId  transactionId\n",
      "1023  4256040402             11\n",
      "591   2458001652             11\n",
      "569   2378935119              9\n",
      "487   2038680547              8\n",
      "44     199603092              5\n"
     ]
    }
   ],
   "source": [
    "ordersByUsers = (\n",
    "    orders.groupby('visitorId', as_index=False) #сгруппирует заказы по пользователям\n",
    "    .agg({'transactionId' : 'nunique',}) #подсчитает число уникальных заказов по сгруппированным данным\n",
    "    .sort_values(by='transactionId',ascending=False) #отсортирует датафрейм по значению в столбце\n",
    ")\n",
    "print(ordersByUsers.head(5))"
   ]
  },
  {
   "cell_type": "markdown",
   "metadata": {},
   "source": [
    "Не более 5% пользователей совершили покупку более 2 раз и не более 1% совершили покупку более 4 раз.\\\n",
    "Разумно выбрать 2 заказа на одного пользователя за верхнюю границу числа заказов, и отсеять аномальных пользователей по ней."
   ]
  },
  {
   "cell_type": "code",
   "execution_count": 29,
   "metadata": {},
   "outputs": [
    {
     "name": "stdout",
     "output_type": "stream",
     "text": [
      "      transactionId   visitorId        date  revenue group\n",
      "425       590470918  1920142716  2019-08-19  1294500     B\n",
      "1196     3936777065  2108080724  2019-08-15   202740     B\n",
      "858       192721366  1316129916  2019-08-27    93940     A\n",
      "1136      666610489  1307669133  2019-08-13    92550     A\n",
      "744      3668308183   888512513  2019-08-27    86620     B\n",
      "682      1216533772  4266935830  2019-08-29    78990     B\n",
      "662      1811671147  4266935830  2019-08-29    78990     A\n",
      "743      3603576309  4133034833  2019-08-09    67990     A\n",
      "1103     1348774318  1164614297  2019-08-12    66350     A\n",
      "1099      316924019   148427295  2019-08-12    65710     A\n"
     ]
    },
    {
     "data": {
      "text/plain": [
       "<matplotlib.collections.PathCollection at 0x7fceb0284670>"
      ]
     },
     "execution_count": 29,
     "metadata": {},
     "output_type": "execute_result"
    },
    {
     "data": {
      "image/png": "[encoded data removed]",
      "text/plain": [
       "<Figure size 432x288 with 1 Axes>"
      ]
     },
     "metadata": {
      "needs_background": "light"
     },
     "output_type": "display_data"
    }
   ],
   "source": [
    "print(orders.sort_values(by='revenue', ascending=False).head(10))\n",
    "\n",
    "x_values = pd.Series(range(0, len(orders['revenue'])))\n",
    "plt.scatter(x=x_values, y=orders['revenue'])"
   ]
  },
  {
   "cell_type": "code",
   "execution_count": 30,
   "metadata": {},
   "outputs": [
    {
     "name": "stdout",
     "output_type": "stream",
     "text": [
      "[28000.  58233.2]\n"
     ]
    }
   ],
   "source": [
    "print(np.percentile(orders['revenue'], [95, 99]))"
   ]
  },
  {
   "cell_type": "markdown",
   "metadata": {},
   "source": [
    "Не более чем у 5% заказы на сумму 28000 и не более чем у 1% заказы на сумму 58233.2.\\\n",
    "Заказ на сумму 1,3 млн - определенно аномалия.\\\n",
    "По графику можно выбрать границу аномальных заказов между 20 000 и 40 000 рублей. Однако принято отсеивать от 1% до 5% наблюдений с крайними значениями. "
   ]
  },
  {
   "cell_type": "markdown",
   "metadata": {},
   "source": [
    "Сформулируем гипотезы:\\\n",
    "Нулевая: различий в среднем количестве заказов между группами нет.\\\n",
    "Альтернативная: различия в среднем между группами есть.\n",
    "\n",
    "Посчитаем статистическую значимость различия в среднем количестве заказов между группами.\\\n",
    "Alpha = 0.05"
   ]
  },
  {
   "cell_type": "code",
   "execution_count": 31,
   "metadata": {},
   "outputs": [
    {
     "name": "stdout",
     "output_type": "stream",
     "text": [
      "p-value: 0.017\n",
      "Прирост среднего группы В к конверсии группы А: 0.138\n"
     ]
    }
   ],
   "source": [
    "visitorsADaily = visitors[visitors['group'] == 'A'][['date', 'visitors']]\n",
    "visitorsADaily.columns = ['date', 'visitorsPerDateA']\n",
    "\n",
    "visitorsACummulative = visitorsADaily.apply(\n",
    "    lambda x: visitorsADaily[visitorsADaily['date'] <= x['date']].agg(\n",
    "        {'date': 'max', 'visitorsPerDateA': 'sum'}\n",
    "    ),\n",
    "    axis=1,\n",
    ")\n",
    "visitorsACummulative.columns = ['date', 'visitorsCummulativeA']\n",
    "\n",
    "visitorsBDaily = visitors[visitors['group'] == 'B'][['date', 'visitors']]\n",
    "visitorsBDaily.columns = ['date', 'visitorsPerDateB']\n",
    "\n",
    "visitorsBCummulative = visitorsBDaily.apply(\n",
    "    lambda x: visitorsBDaily[visitorsBDaily['date'] <= x['date']].agg(\n",
    "        {'date': 'max', 'visitorsPerDateB': 'sum'}\n",
    "    ),\n",
    "    axis=1,\n",
    ")\n",
    "visitorsBCummulative.columns = ['date', 'visitorsCummulativeB']\n",
    "\n",
    "ordersADaily = (\n",
    "    orders[orders['group'] == 'A'][['date', 'transactionId', 'visitorId', 'revenue']]\n",
    "    .groupby('date', as_index=False)\n",
    "    .agg({'transactionId': pd.Series.nunique, 'revenue': 'sum'})\n",
    ")\n",
    "ordersADaily.columns = ['date', 'ordersPerDateA', 'revenuePerDateA']\n",
    "\n",
    "ordersACummulative = ordersADaily.apply(\n",
    "    lambda x: ordersADaily[ordersADaily['date'] <= x['date']].agg(\n",
    "        {'date': 'max', 'ordersPerDateA': 'sum', 'revenuePerDateA': 'sum'}\n",
    "    ),\n",
    "    axis=1,\n",
    ").sort_values(by=['date'])\n",
    "ordersACummulative.columns = [\n",
    "    'date',\n",
    "    'ordersCummulativeA',\n",
    "    'revenueCummulativeA',\n",
    "]\n",
    "\n",
    "ordersBDaily = (\n",
    "    orders[orders['group'] == 'B'][['date', 'transactionId', 'visitorId', 'revenue']]\n",
    "    .groupby('date', as_index=False)\n",
    "    .agg({'transactionId': pd.Series.nunique, 'revenue': 'sum'})\n",
    ")\n",
    "ordersBDaily.columns = ['date', 'ordersPerDateB', 'revenuePerDateB']\n",
    "\n",
    "ordersBCummulative = ordersBDaily.apply(\n",
    "    lambda x: ordersBDaily[ordersBDaily['date'] <= x['date']].agg(\n",
    "        {'date': 'max', 'ordersPerDateB': 'sum', 'revenuePerDateB': 'sum'}\n",
    "    ),\n",
    "    axis=1,\n",
    ").sort_values(by=['date'])\n",
    "ordersBCummulative.columns = [\n",
    "    'date',\n",
    "    'ordersCummulativeB',\n",
    "    'revenueCummulativeB',\n",
    "]\n",
    "\n",
    "data = (\n",
    "    ordersADaily.merge(\n",
    "        ordersBDaily, left_on='date', right_on='date', how='left'\n",
    "    )\n",
    "    .merge(ordersACummulative, left_on='date', right_on='date', how='left')\n",
    "    .merge(ordersBCummulative, left_on='date', right_on='date', how='left')\n",
    "    .merge(visitorsADaily, left_on='date', right_on='date', how='left')\n",
    "    .merge(visitorsBDaily, left_on='date', right_on='date', how='left')\n",
    "    .merge(visitorsACummulative, left_on='date', right_on='date', how='left')\n",
    "    .merge(visitorsBCummulative, left_on='date', right_on='date', how='left')\n",
    ")\n",
    "\n",
    "ordersByUsersA = (\n",
    "    orders[orders['group'] == 'A']\n",
    "    .groupby('visitorId', as_index=False)\n",
    "    .agg({'transactionId': pd.Series.nunique})\n",
    ")\n",
    "ordersByUsersA.columns = ['visitorId', 'transactionId']\n",
    "\n",
    "ordersByUsersB = (\n",
    "    orders[orders['group'] == 'B']\n",
    "    .groupby('visitorId', as_index=False)\n",
    "    .agg({'transactionId': pd.Series.nunique})\n",
    ")\n",
    "ordersByUsersB.columns = ['visitorId', 'transactionId']\n",
    "\n",
    "sampleA = pd.concat(\n",
    "    [\n",
    "        ordersByUsersA['transactionId'],\n",
    "        pd.Series(\n",
    "            0,\n",
    "            index=np.arange(\n",
    "                data['visitorsPerDateA'].sum() - len(ordersByUsersA['transactionId'])\n",
    "            ),\n",
    "            name='orders',\n",
    "        ),\n",
    "    ],\n",
    "    axis=0,\n",
    ")\n",
    "\n",
    "sampleB = pd.concat(\n",
    "    [\n",
    "        ordersByUsersB['transactionId'],\n",
    "        pd.Series(\n",
    "            0,\n",
    "            index=np.arange(\n",
    "                data['visitorsPerDateB'].sum() - len(ordersByUsersB['transactionId'])\n",
    "            ),\n",
    "            name='orders',\n",
    "        ),\n",
    "    ],\n",
    "    axis=0,\n",
    ")\n",
    "\n",
    "print('p-value:', \"{0:.3f}\".format(stats.mannwhitneyu(sampleA, sampleB)[1]))\n",
    "print('Прирост среднего группы В к конверсии группы А:', \"{0:.3f}\".format(sampleB.mean() / sampleA.mean() - 1))"
   ]
  },
  {
   "cell_type": "markdown",
   "metadata": {},
   "source": [
    "p-value меньше 0.05, поэтому отвергаем нулевую гипотезу.\\\n",
    "Анализ сырых данных показывает, что в среднем количестве заказов между группами есть статистически значимые различия.\\\n",
    "Относительный прирост среднего группы В к конверсии группы А - 13,8%.\n"
   ]
  },
  {
   "cell_type": "code",
   "execution_count": 32,
   "metadata": {},
   "outputs": [
    {
     "name": "stdout",
     "output_type": "stream",
     "text": [
      "p-value: 0.729\n",
      "Различие среднего чека между сегментами: 0.259\n"
     ]
    }
   ],
   "source": [
    "print('p-value:', '{0:.3f}'.format(stats.mannwhitneyu(orders[orders['group']=='A']['revenue'], orders[orders['group']=='B']['revenue'])[1]))\n",
    "print('Различие среднего чека между сегментами:', '{0:.3f}'.format(orders[orders['group']=='B']['revenue'].mean()/orders[orders['group']=='A']['revenue'].mean()-1))"
   ]
  },
  {
   "cell_type": "markdown",
   "metadata": {},
   "source": [
    "p-value больше 0.05. Статистически значимые различий в среднем чеке между группами нет.\\\n",
    "Относительное различие среднего чека между сегментами - 25.9%.\n"
   ]
  },
  {
   "cell_type": "code",
   "execution_count": 33,
   "metadata": {
    "scrolled": true
   },
   "outputs": [
    {
     "name": "stdout",
     "output_type": "stream",
     "text": [
      "1099    148427295\n",
      "18      199603092\n",
      "928     204675465\n",
      "23      237748145\n",
      "37      249864742\n",
      "Name: visitorId, dtype: int64\n"
     ]
    }
   ],
   "source": [
    "usersWithManyOrders = pd.concat(\n",
    "    [\n",
    "        ordersByUsersA[ordersByUsersA['transactionId'] > 2]['visitorId'],\n",
    "        ordersByUsersB[ordersByUsersB['transactionId'] > 2]['visitorId'],\n",
    "    ],\n",
    "    axis=0,\n",
    ")\n",
    "usersWithExpensiveOrders = orders[orders['revenue'] > 28000]['visitorId']\n",
    "abnormalUsers = (\n",
    "    pd.concat([usersWithManyOrders, usersWithExpensiveOrders], axis=0)\n",
    "    .drop_duplicates()\n",
    "    .sort_values()\n",
    ")\n",
    "print(abnormalUsers.head(5))\n",
    "#Выявляем аномальных пользователей.\n",
    "#Примем за аномальных тех, кто совершил более 2 заказов, или совершил заказ на сумму свыше 28 000 рублей."
   ]
  },
  {
   "cell_type": "markdown",
   "metadata": {},
   "source": [
    "Найденные 95-й и 99-й перцентили средних чеков равны 28 000 и 58 233.2 рублям.\\\n",
    "А 95-й и 99-й перцентили количества заказов на одного пользователя равны 2 и 4 заказа на пользователя.\\\n",
    "Примем за аномальных пользователей тех, кто совершил больше 2 заказов или совершил заказ дороже 28 000 рублей.\\\n",
    "Так мы уберём 5% пользователей с наибольшим числом заказов и от 1% до 5% пользователей с дорогими заказами."
   ]
  },
  {
   "cell_type": "code",
   "execution_count": 34,
   "metadata": {},
   "outputs": [
    {
     "name": "stdout",
     "output_type": "stream",
     "text": [
      "0.013\n",
      "0.173\n"
     ]
    }
   ],
   "source": [
    "#Считаем статистическую значимость различия среднего количества заказов после удаления аномальных пользователей.\n",
    "sampleAFiltered = pd.concat(\n",
    "    [\n",
    "        ordersByUsersA[\n",
    "            np.logical_not(ordersByUsersA['visitorId'].isin(abnormalUsers))\n",
    "        ]['transactionId'],\n",
    "        pd.Series(\n",
    "            0,\n",
    "            index=np.arange(\n",
    "                data['visitorsPerDateA'].sum() - len(ordersByUsersA['transactionId'])\n",
    "            ),\n",
    "            name='orders',\n",
    "        ),\n",
    "    ],\n",
    "    axis=0,\n",
    ")\n",
    "\n",
    "sampleBFiltered = pd.concat(\n",
    "    [\n",
    "        ordersByUsersB[\n",
    "            np.logical_not(ordersByUsersB['visitorId'].isin(abnormalUsers))\n",
    "        ]['transactionId'],\n",
    "        pd.Series(\n",
    "            0,\n",
    "            index=np.arange(\n",
    "                data['visitorsPerDateB'].sum() - len(ordersByUsersB['transactionId'])\n",
    "            ),\n",
    "            name='orders',\n",
    "        ),\n",
    "    ],\n",
    "    axis=0,\n",
    ")\n",
    "\n",
    "print('{0:.3f}'.format(stats.mannwhitneyu(sampleAFiltered, sampleBFiltered)[1]))\n",
    "print('{0:.3f}'.format(sampleBFiltered.mean()/sampleAFiltered.mean()-1))"
   ]
  },
  {
   "cell_type": "markdown",
   "metadata": {},
   "source": [
    "Сегмент В лучше сегмента А, как и в случае с сырыми данными."
   ]
  },
  {
   "cell_type": "code",
   "execution_count": 35,
   "metadata": {},
   "outputs": [
    {
     "name": "stdout",
     "output_type": "stream",
     "text": [
      "0.738\n",
      "-0.020\n"
     ]
    }
   ],
   "source": [
    "#Cчитаем статистическую значимость различия средних чеков после удаления аномальных пользователей\n",
    "\n",
    "print(\n",
    "    '{0:.3f}'.format(\n",
    "        stats.mannwhitneyu(\n",
    "            orders[\n",
    "                np.logical_and(\n",
    "                    orders['group'] == 'A',\n",
    "                    np.logical_not(orders['visitorId'].isin(abnormalUsers)),\n",
    "                )\n",
    "            ]['revenue'],\n",
    "            orders[\n",
    "                np.logical_and(\n",
    "                    orders['group'] == 'B',\n",
    "                    np.logical_not(orders['visitorId'].isin(abnormalUsers)),\n",
    "                )\n",
    "            ]['revenue'],\n",
    "        )[1]\n",
    "    )\n",
    ")\n",
    "\n",
    "print(\n",
    "    \"{0:.3f}\".format(\n",
    "        orders[\n",
    "            np.logical_and(\n",
    "                orders['group'] == 'B',\n",
    "                np.logical_not(orders['visitorId'].isin(abnormalUsers)),\n",
    "            )\n",
    "        ]['revenue'].mean()\n",
    "        / orders[\n",
    "            np.logical_and(\n",
    "                orders['group'] == 'A',\n",
    "                np.logical_not(orders['visitorId'].isin(abnormalUsers)),\n",
    "            )\n",
    "        ]['revenue'].mean()\n",
    "        - 1\n",
    "    )\n",
    ")"
   ]
  },
  {
   "cell_type": "markdown",
   "metadata": {},
   "source": [
    "Появилась статистическая значимость различия среднего чека между группами.\\\n",
    "После удаления выбросов в данных меньше шума. Различие по выручке 0.2%."
   ]
  },
  {
   "cell_type": "markdown",
   "metadata": {},
   "source": [
    "### Выводы по результатам A/B-тестов"
   ]
  },
  {
   "cell_type": "markdown",
   "metadata": {},
   "source": [
    "- Есть статистически значимое различие по конверсии между группами как по сырым данным, так и после фильтрации аномалий.\n",
    "- По сырым данным нет статистически значимого различия по среднему чеку между группами. Однако после удаления аномалий статистически значимое различие есть.\n",
    "- График различия конверсии между группами сообщает, что результаты группы B лучше группы A: имеют тенденцию к росту, либо зафиксировались около среднего значения.\n",
    "- График различия среднего чека колеблется: он-то и позволил вам найти аномалии. Сделать из этого графика определённые выводы нельзя.\n",
    "\n",
    "На основании вышеуказанных фактов необходимо остановить тест и признать его успешным."
   ]
  }
 ],
 "metadata": {
  "ExecuteTimeLog": [
   {
    "duration": 1234,
    "start_time": "2023-01-06T17:59:17.731Z"
   },
   {
    "duration": 3,
    "start_time": "2023-01-06T17:59:26.408Z"
   },
   {
    "duration": 91,
    "start_time": "2023-01-06T18:00:14.626Z"
   },
   {
    "duration": 63,
    "start_time": "2023-01-06T18:00:25.465Z"
   },
   {
    "duration": 10,
    "start_time": "2023-01-06T18:00:30.076Z"
   },
   {
    "duration": 1430,
    "start_time": "2023-01-07T10:56:58.764Z"
   },
   {
    "duration": 77,
    "start_time": "2023-01-07T10:57:00.196Z"
   },
   {
    "duration": 12,
    "start_time": "2023-01-07T10:57:00.275Z"
   },
   {
    "duration": 10,
    "start_time": "2023-01-07T11:12:02.900Z"
   },
   {
    "duration": 10,
    "start_time": "2023-01-07T11:12:40.871Z"
   },
   {
    "duration": 13,
    "start_time": "2023-01-07T11:13:00.861Z"
   },
   {
    "duration": 26,
    "start_time": "2023-01-07T11:13:06.268Z"
   },
   {
    "duration": 1189,
    "start_time": "2023-01-07T11:13:06.876Z"
   },
   {
    "duration": 4,
    "start_time": "2023-01-07T11:15:18.012Z"
   },
   {
    "duration": 11,
    "start_time": "2023-01-07T11:15:20.483Z"
   },
   {
    "duration": 17,
    "start_time": "2023-01-07T11:16:03.366Z"
   },
   {
    "duration": 18,
    "start_time": "2023-01-07T11:16:20.151Z"
   },
   {
    "duration": 8,
    "start_time": "2023-01-07T11:18:38.783Z"
   },
   {
    "duration": 13,
    "start_time": "2023-01-07T11:21:17.811Z"
   },
   {
    "duration": 1172,
    "start_time": "2023-01-07T11:23:32.666Z"
   },
   {
    "duration": 50,
    "start_time": "2023-01-07T11:23:33.844Z"
   },
   {
    "duration": 3,
    "start_time": "2023-01-07T11:23:33.896Z"
   },
   {
    "duration": 90,
    "start_time": "2023-01-07T11:23:34.001Z"
   },
   {
    "duration": 0,
    "start_time": "2023-01-07T11:23:34.093Z"
   },
   {
    "duration": 10,
    "start_time": "2023-01-07T11:23:39.891Z"
   },
   {
    "duration": 12,
    "start_time": "2023-01-07T11:23:39.903Z"
   },
   {
    "duration": 12,
    "start_time": "2023-01-07T11:23:39.917Z"
   },
   {
    "duration": 131,
    "start_time": "2023-01-07T11:53:18.261Z"
   },
   {
    "duration": 151,
    "start_time": "2023-01-07T11:58:34.261Z"
   },
   {
    "duration": 15,
    "start_time": "2023-01-07T11:58:35.422Z"
   },
   {
    "duration": 12,
    "start_time": "2023-01-07T11:58:51.168Z"
   },
   {
    "duration": 5,
    "start_time": "2023-01-07T12:01:00.674Z"
   },
   {
    "duration": 29,
    "start_time": "2023-01-07T12:10:49.766Z"
   },
   {
    "duration": 3,
    "start_time": "2023-01-07T12:10:50.699Z"
   },
   {
    "duration": 8,
    "start_time": "2023-01-07T12:10:51.669Z"
   },
   {
    "duration": 9,
    "start_time": "2023-01-07T12:10:55.763Z"
   },
   {
    "duration": 10,
    "start_time": "2023-01-07T12:10:57.259Z"
   },
   {
    "duration": 267,
    "start_time": "2023-01-07T12:11:58.034Z"
   },
   {
    "duration": 15,
    "start_time": "2023-01-07T12:12:11.231Z"
   },
   {
    "duration": 40,
    "start_time": "2023-01-07T12:13:10.002Z"
   },
   {
    "duration": 311,
    "start_time": "2023-01-07T12:15:39.856Z"
   },
   {
    "duration": 333,
    "start_time": "2023-01-07T12:19:53.615Z"
   },
   {
    "duration": 291,
    "start_time": "2023-01-07T12:20:51.695Z"
   },
   {
    "duration": 321,
    "start_time": "2023-01-07T12:24:50.533Z"
   },
   {
    "duration": 330,
    "start_time": "2023-01-07T12:25:33.264Z"
   },
   {
    "duration": 354,
    "start_time": "2023-01-07T12:32:07.057Z"
   },
   {
    "duration": 354,
    "start_time": "2023-01-07T12:39:01.461Z"
   },
   {
    "duration": 318,
    "start_time": "2023-01-07T12:39:48.774Z"
   },
   {
    "duration": 22,
    "start_time": "2023-01-07T12:40:56.772Z"
   },
   {
    "duration": 262,
    "start_time": "2023-01-07T12:44:23.657Z"
   },
   {
    "duration": 502,
    "start_time": "2023-01-07T12:44:51.168Z"
   },
   {
    "duration": 13,
    "start_time": "2023-01-07T12:50:39.063Z"
   },
   {
    "duration": 13,
    "start_time": "2023-01-07T12:51:19.861Z"
   },
   {
    "duration": 15,
    "start_time": "2023-01-07T12:55:40.657Z"
   },
   {
    "duration": 13,
    "start_time": "2023-01-07T12:55:46.299Z"
   },
   {
    "duration": 20,
    "start_time": "2023-01-07T12:56:57.955Z"
   },
   {
    "duration": 168,
    "start_time": "2023-01-07T12:57:32.281Z"
   },
   {
    "duration": 5,
    "start_time": "2023-01-07T13:00:35.377Z"
   },
   {
    "duration": 4,
    "start_time": "2023-01-07T13:04:24.189Z"
   },
   {
    "duration": 924,
    "start_time": "2023-01-07T13:05:24.279Z"
   },
   {
    "duration": 154,
    "start_time": "2023-01-07T13:06:35.809Z"
   },
   {
    "duration": 18,
    "start_time": "2023-01-07T13:07:24.780Z"
   },
   {
    "duration": 179,
    "start_time": "2023-01-07T13:07:35.894Z"
   },
   {
    "duration": 1171,
    "start_time": "2023-01-07T13:16:09.004Z"
   },
   {
    "duration": 157,
    "start_time": "2023-01-07T13:16:25.861Z"
   },
   {
    "duration": 5,
    "start_time": "2023-01-07T13:16:44.024Z"
   },
   {
    "duration": 6,
    "start_time": "2023-01-07T13:16:49.957Z"
   },
   {
    "duration": 148,
    "start_time": "2023-01-07T13:18:40.007Z"
   },
   {
    "duration": 18,
    "start_time": "2023-01-07T13:21:00.275Z"
   },
   {
    "duration": 1345,
    "start_time": "2023-01-07T13:22:06.464Z"
   },
   {
    "duration": 151,
    "start_time": "2023-01-07T13:23:32.402Z"
   },
   {
    "duration": 156,
    "start_time": "2023-01-07T13:29:24.307Z"
   },
   {
    "duration": 167,
    "start_time": "2023-01-07T13:30:06.852Z"
   },
   {
    "duration": 1343,
    "start_time": "2023-01-07T13:30:51.333Z"
   },
   {
    "duration": 1650,
    "start_time": "2023-01-07T13:32:20.707Z"
   },
   {
    "duration": 348,
    "start_time": "2023-01-07T13:32:44.282Z"
   },
   {
    "duration": 7,
    "start_time": "2023-01-07T13:33:14.239Z"
   },
   {
    "duration": 387,
    "start_time": "2023-01-07T13:33:20.286Z"
   },
   {
    "duration": 435,
    "start_time": "2023-01-07T13:33:52.769Z"
   },
   {
    "duration": 362,
    "start_time": "2023-01-07T13:34:00.230Z"
   },
   {
    "duration": 12,
    "start_time": "2023-01-07T13:40:38.084Z"
   },
   {
    "duration": 15,
    "start_time": "2023-01-07T13:47:20.624Z"
   },
   {
    "duration": 12,
    "start_time": "2023-01-07T14:09:25.915Z"
   },
   {
    "duration": 10,
    "start_time": "2023-01-07T14:10:04.002Z"
   },
   {
    "duration": 865,
    "start_time": "2023-01-07T14:10:55.556Z"
   },
   {
    "duration": 757,
    "start_time": "2023-01-07T14:11:23.415Z"
   },
   {
    "duration": 789,
    "start_time": "2023-01-07T14:11:45.125Z"
   },
   {
    "duration": 30,
    "start_time": "2023-01-07T14:12:13.705Z"
   },
   {
    "duration": 45,
    "start_time": "2023-01-07T14:12:36.729Z"
   },
   {
    "duration": 38,
    "start_time": "2023-01-07T14:14:28.214Z"
   },
   {
    "duration": 806,
    "start_time": "2023-01-07T14:17:51.209Z"
   },
   {
    "duration": 15,
    "start_time": "2023-01-07T14:18:20.168Z"
   },
   {
    "duration": 28,
    "start_time": "2023-01-07T14:19:52.732Z"
   },
   {
    "duration": 17,
    "start_time": "2023-01-07T14:19:58.209Z"
   },
   {
    "duration": 8,
    "start_time": "2023-01-07T14:22:55.600Z"
   },
   {
    "duration": 39,
    "start_time": "2023-01-07T14:22:56.825Z"
   },
   {
    "duration": 17,
    "start_time": "2023-01-07T14:23:00.341Z"
   },
   {
    "duration": 1330,
    "start_time": "2023-01-08T11:15:00.306Z"
   },
   {
    "duration": 76,
    "start_time": "2023-01-08T11:15:01.638Z"
   },
   {
    "duration": 3,
    "start_time": "2023-01-08T11:15:01.716Z"
   },
   {
    "duration": 38,
    "start_time": "2023-01-08T11:15:01.720Z"
   },
   {
    "duration": 15,
    "start_time": "2023-01-08T11:15:01.761Z"
   },
   {
    "duration": 15,
    "start_time": "2023-01-08T11:15:01.778Z"
   },
   {
    "duration": 156,
    "start_time": "2023-01-08T11:15:01.795Z"
   },
   {
    "duration": 6,
    "start_time": "2023-01-08T11:15:01.953Z"
   },
   {
    "duration": 261,
    "start_time": "2023-01-08T11:15:01.961Z"
   },
   {
    "duration": 257,
    "start_time": "2023-01-08T11:15:02.224Z"
   },
   {
    "duration": 251,
    "start_time": "2023-01-08T11:15:02.483Z"
   },
   {
    "duration": 360,
    "start_time": "2023-01-08T11:15:02.735Z"
   },
   {
    "duration": 343,
    "start_time": "2023-01-08T11:15:03.097Z"
   },
   {
    "duration": 0,
    "start_time": "2023-01-08T11:15:03.443Z"
   },
   {
    "duration": 0,
    "start_time": "2023-01-08T11:15:03.444Z"
   },
   {
    "duration": 0,
    "start_time": "2023-01-08T11:15:03.445Z"
   },
   {
    "duration": 0,
    "start_time": "2023-01-08T11:15:03.446Z"
   },
   {
    "duration": 0,
    "start_time": "2023-01-08T11:15:03.447Z"
   },
   {
    "duration": 0,
    "start_time": "2023-01-08T11:15:03.448Z"
   },
   {
    "duration": 0,
    "start_time": "2023-01-08T11:15:03.449Z"
   },
   {
    "duration": 0,
    "start_time": "2023-01-08T11:15:03.450Z"
   },
   {
    "duration": 0,
    "start_time": "2023-01-08T11:15:03.452Z"
   },
   {
    "duration": 0,
    "start_time": "2023-01-08T11:15:03.452Z"
   },
   {
    "duration": 372,
    "start_time": "2023-01-08T11:54:27.732Z"
   },
   {
    "duration": 386,
    "start_time": "2023-01-08T11:56:34.199Z"
   },
   {
    "duration": 117,
    "start_time": "2023-01-08T11:56:34.587Z"
   },
   {
    "duration": 21,
    "start_time": "2023-01-08T11:56:34.706Z"
   },
   {
    "duration": 208,
    "start_time": "2023-01-08T11:56:34.729Z"
   },
   {
    "duration": 3,
    "start_time": "2023-01-08T11:56:34.940Z"
   },
   {
    "duration": 349,
    "start_time": "2023-01-08T11:56:34.944Z"
   },
   {
    "duration": 8,
    "start_time": "2023-01-08T11:56:35.294Z"
   },
   {
    "duration": 23,
    "start_time": "2023-01-08T11:56:35.304Z"
   },
   {
    "duration": 26,
    "start_time": "2023-01-08T11:56:35.331Z"
   },
   {
    "duration": 12,
    "start_time": "2023-01-08T11:56:35.358Z"
   },
   {
    "duration": 79,
    "start_time": "2023-01-09T12:57:38.474Z"
   },
   {
    "duration": 1487,
    "start_time": "2023-01-09T12:57:45.965Z"
   },
   {
    "duration": 38,
    "start_time": "2023-01-09T12:57:47.454Z"
   },
   {
    "duration": 4,
    "start_time": "2023-01-09T12:57:47.494Z"
   },
   {
    "duration": 8,
    "start_time": "2023-01-09T12:57:47.500Z"
   },
   {
    "duration": 106,
    "start_time": "2023-01-09T12:59:04.054Z"
   },
   {
    "duration": 12,
    "start_time": "2023-01-09T12:59:12.058Z"
   },
   {
    "duration": 16,
    "start_time": "2023-01-09T12:59:36.906Z"
   },
   {
    "duration": 12,
    "start_time": "2023-01-09T12:59:45.022Z"
   },
   {
    "duration": 13,
    "start_time": "2023-01-09T13:00:45.189Z"
   },
   {
    "duration": 72,
    "start_time": "2023-01-09T13:02:31.473Z"
   },
   {
    "duration": 3,
    "start_time": "2023-01-09T13:02:43.550Z"
   },
   {
    "duration": 20,
    "start_time": "2023-01-09T13:02:43.701Z"
   },
   {
    "duration": 4,
    "start_time": "2023-01-09T13:02:43.873Z"
   },
   {
    "duration": 9,
    "start_time": "2023-01-09T13:02:44.029Z"
   },
   {
    "duration": 90,
    "start_time": "2023-01-09T13:02:44.928Z"
   },
   {
    "duration": 24,
    "start_time": "2023-01-09T13:02:57.504Z"
   },
   {
    "duration": 10,
    "start_time": "2023-01-09T13:03:17.666Z"
   },
   {
    "duration": 22,
    "start_time": "2023-01-09T13:03:24.504Z"
   },
   {
    "duration": 10,
    "start_time": "2023-01-09T13:04:15.490Z"
   },
   {
    "duration": 49,
    "start_time": "2023-01-09T13:04:26.254Z"
   },
   {
    "duration": 10,
    "start_time": "2023-01-09T13:04:29.853Z"
   },
   {
    "duration": 82,
    "start_time": "2023-01-09T13:05:44.358Z"
   },
   {
    "duration": 9,
    "start_time": "2023-01-09T13:19:15.337Z"
   },
   {
    "duration": 83,
    "start_time": "2023-01-09T13:19:18.303Z"
   },
   {
    "duration": 9,
    "start_time": "2023-01-09T13:19:18.686Z"
   },
   {
    "duration": 13,
    "start_time": "2023-01-09T13:19:19.716Z"
   },
   {
    "duration": 20,
    "start_time": "2023-01-09T13:19:32.455Z"
   },
   {
    "duration": 18,
    "start_time": "2023-01-09T13:20:43.447Z"
   },
   {
    "duration": 14,
    "start_time": "2023-01-09T13:21:06.744Z"
   },
   {
    "duration": 10,
    "start_time": "2023-01-09T13:21:12.944Z"
   },
   {
    "duration": 12,
    "start_time": "2023-01-09T13:22:22.368Z"
   },
   {
    "duration": 10,
    "start_time": "2023-01-09T13:24:22.531Z"
   },
   {
    "duration": 10,
    "start_time": "2023-01-09T13:24:24.543Z"
   },
   {
    "duration": 11,
    "start_time": "2023-01-09T13:27:25.265Z"
   },
   {
    "duration": 11,
    "start_time": "2023-01-09T13:28:21.740Z"
   },
   {
    "duration": 11,
    "start_time": "2023-01-09T13:28:23.827Z"
   },
   {
    "duration": 11,
    "start_time": "2023-01-09T13:28:30.972Z"
   },
   {
    "duration": 10,
    "start_time": "2023-01-09T13:28:48.468Z"
   },
   {
    "duration": 13,
    "start_time": "2023-01-09T13:28:51.033Z"
   },
   {
    "duration": 5,
    "start_time": "2023-01-09T13:29:13.948Z"
   },
   {
    "duration": 8,
    "start_time": "2023-01-09T13:29:56.061Z"
   },
   {
    "duration": 7,
    "start_time": "2023-01-09T13:30:05.349Z"
   },
   {
    "duration": 6,
    "start_time": "2023-01-09T13:30:20.693Z"
   },
   {
    "duration": 54,
    "start_time": "2023-01-09T13:30:51.767Z"
   },
   {
    "duration": 5,
    "start_time": "2023-01-09T13:31:04.741Z"
   },
   {
    "duration": 12,
    "start_time": "2023-01-09T13:31:26.317Z"
   },
   {
    "duration": 93,
    "start_time": "2023-01-09T13:32:18.926Z"
   },
   {
    "duration": 5,
    "start_time": "2023-01-09T13:32:28.534Z"
   },
   {
    "duration": 5,
    "start_time": "2023-01-09T13:32:41.167Z"
   },
   {
    "duration": 9,
    "start_time": "2023-01-09T13:32:48.022Z"
   },
   {
    "duration": 7,
    "start_time": "2023-01-09T13:33:05.361Z"
   },
   {
    "duration": 10,
    "start_time": "2023-01-09T13:35:29.604Z"
   },
   {
    "duration": 10,
    "start_time": "2023-01-09T13:36:01.975Z"
   },
   {
    "duration": 844,
    "start_time": "2023-01-09T13:36:51.834Z"
   },
   {
    "duration": 4,
    "start_time": "2023-01-09T13:37:07.536Z"
   },
   {
    "duration": 4,
    "start_time": "2023-01-09T13:37:19.707Z"
   },
   {
    "duration": 5,
    "start_time": "2023-01-09T13:37:21.512Z"
   },
   {
    "duration": 6,
    "start_time": "2023-01-09T13:37:57.456Z"
   },
   {
    "duration": 5,
    "start_time": "2023-01-09T13:38:12.269Z"
   },
   {
    "duration": 6,
    "start_time": "2023-01-09T13:38:15.246Z"
   },
   {
    "duration": 5,
    "start_time": "2023-01-09T13:38:37.679Z"
   },
   {
    "duration": 6,
    "start_time": "2023-01-09T13:38:45.185Z"
   },
   {
    "duration": 6,
    "start_time": "2023-01-09T13:38:58.223Z"
   },
   {
    "duration": 6,
    "start_time": "2023-01-09T13:39:06.018Z"
   },
   {
    "duration": 8,
    "start_time": "2023-01-09T13:39:59.579Z"
   },
   {
    "duration": 11,
    "start_time": "2023-01-09T13:40:04.345Z"
   },
   {
    "duration": 12,
    "start_time": "2023-01-09T13:40:26.218Z"
   },
   {
    "duration": 12,
    "start_time": "2023-01-09T13:42:35.968Z"
   },
   {
    "duration": 10,
    "start_time": "2023-01-09T13:44:01.401Z"
   },
   {
    "duration": 14,
    "start_time": "2023-01-09T13:45:01.026Z"
   },
   {
    "duration": 13,
    "start_time": "2023-01-09T13:47:16.502Z"
   },
   {
    "duration": 261,
    "start_time": "2023-01-09T13:47:23.293Z"
   },
   {
    "duration": 268,
    "start_time": "2023-01-09T13:47:25.255Z"
   },
   {
    "duration": 270,
    "start_time": "2023-01-09T13:48:19.374Z"
   },
   {
    "duration": 238,
    "start_time": "2023-01-09T13:49:13.856Z"
   },
   {
    "duration": 350,
    "start_time": "2023-01-09T13:49:39.046Z"
   },
   {
    "duration": 265,
    "start_time": "2023-01-09T13:49:45.892Z"
   },
   {
    "duration": 275,
    "start_time": "2023-01-09T13:50:25.915Z"
   },
   {
    "duration": 403,
    "start_time": "2023-01-09T13:50:59.730Z"
   },
   {
    "duration": 334,
    "start_time": "2023-01-09T13:51:10.546Z"
   },
   {
    "duration": 381,
    "start_time": "2023-01-09T13:51:13.805Z"
   },
   {
    "duration": 288,
    "start_time": "2023-01-09T13:51:18.747Z"
   },
   {
    "duration": 278,
    "start_time": "2023-01-09T13:51:50.696Z"
   },
   {
    "duration": 273,
    "start_time": "2023-01-09T13:51:55.940Z"
   },
   {
    "duration": 157,
    "start_time": "2023-01-09T13:52:42.077Z"
   },
   {
    "duration": 272,
    "start_time": "2023-01-09T13:53:07.043Z"
   },
   {
    "duration": 297,
    "start_time": "2023-01-09T13:53:18.436Z"
   },
   {
    "duration": 411,
    "start_time": "2023-01-09T13:54:32.510Z"
   },
   {
    "duration": 458,
    "start_time": "2023-01-09T13:54:38.180Z"
   },
   {
    "duration": 395,
    "start_time": "2023-01-09T13:54:44.786Z"
   },
   {
    "duration": 299,
    "start_time": "2023-01-09T13:54:49.074Z"
   },
   {
    "duration": 317,
    "start_time": "2023-01-09T13:55:43.698Z"
   },
   {
    "duration": 324,
    "start_time": "2023-01-09T13:55:55.522Z"
   },
   {
    "duration": 301,
    "start_time": "2023-01-09T13:56:03.757Z"
   },
   {
    "duration": 389,
    "start_time": "2023-01-09T13:56:11.679Z"
   },
   {
    "duration": 317,
    "start_time": "2023-01-09T13:56:20.895Z"
   },
   {
    "duration": 407,
    "start_time": "2023-01-09T13:56:36.897Z"
   },
   {
    "duration": 385,
    "start_time": "2023-01-09T13:56:46.234Z"
   },
   {
    "duration": 278,
    "start_time": "2023-01-09T13:56:49.644Z"
   },
   {
    "duration": 301,
    "start_time": "2023-01-09T13:56:53.892Z"
   },
   {
    "duration": 314,
    "start_time": "2023-01-09T13:57:59.978Z"
   },
   {
    "duration": 336,
    "start_time": "2023-01-09T13:58:38.014Z"
   },
   {
    "duration": 289,
    "start_time": "2023-01-09T13:58:44.331Z"
   },
   {
    "duration": 389,
    "start_time": "2023-01-09T13:59:16.301Z"
   },
   {
    "duration": 282,
    "start_time": "2023-01-09T13:59:50.781Z"
   },
   {
    "duration": 266,
    "start_time": "2023-01-09T13:59:55.077Z"
   },
   {
    "duration": 314,
    "start_time": "2023-01-09T14:00:07.377Z"
   },
   {
    "duration": 439,
    "start_time": "2023-01-09T14:00:33.151Z"
   },
   {
    "duration": 354,
    "start_time": "2023-01-09T14:00:47.302Z"
   },
   {
    "duration": 438,
    "start_time": "2023-01-09T14:01:30.127Z"
   },
   {
    "duration": 318,
    "start_time": "2023-01-09T14:01:40.116Z"
   },
   {
    "duration": 4,
    "start_time": "2023-01-09T14:01:51.319Z"
   },
   {
    "duration": 16,
    "start_time": "2023-01-09T14:01:51.471Z"
   },
   {
    "duration": 3,
    "start_time": "2023-01-09T14:01:51.646Z"
   },
   {
    "duration": 9,
    "start_time": "2023-01-09T14:01:51.812Z"
   },
   {
    "duration": 11,
    "start_time": "2023-01-09T14:01:52.518Z"
   },
   {
    "duration": 10,
    "start_time": "2023-01-09T14:01:53.214Z"
   },
   {
    "duration": 33,
    "start_time": "2023-01-09T14:01:54.192Z"
   },
   {
    "duration": 9,
    "start_time": "2023-01-09T14:01:54.368Z"
   },
   {
    "duration": 13,
    "start_time": "2023-01-09T14:01:54.913Z"
   },
   {
    "duration": 12,
    "start_time": "2023-01-09T14:01:55.721Z"
   },
   {
    "duration": 11,
    "start_time": "2023-01-09T14:01:55.872Z"
   },
   {
    "duration": 10,
    "start_time": "2023-01-09T14:01:56.055Z"
   },
   {
    "duration": 10,
    "start_time": "2023-01-09T14:01:56.256Z"
   },
   {
    "duration": 8,
    "start_time": "2023-01-09T14:01:56.412Z"
   },
   {
    "duration": 16,
    "start_time": "2023-01-09T14:01:56.746Z"
   },
   {
    "duration": 15,
    "start_time": "2023-01-09T14:01:56.897Z"
   },
   {
    "duration": 279,
    "start_time": "2023-01-09T14:01:58.219Z"
   },
   {
    "duration": 334,
    "start_time": "2023-01-09T14:01:59.001Z"
   },
   {
    "duration": 319,
    "start_time": "2023-01-09T14:02:03.141Z"
   },
   {
    "duration": 313,
    "start_time": "2023-01-09T14:02:03.962Z"
   },
   {
    "duration": 475,
    "start_time": "2023-01-09T14:02:06.167Z"
   },
   {
    "duration": 297,
    "start_time": "2023-01-09T14:02:07.942Z"
   },
   {
    "duration": 368,
    "start_time": "2023-01-09T14:02:26.637Z"
   },
   {
    "duration": 347,
    "start_time": "2023-01-09T14:02:45.000Z"
   },
   {
    "duration": 105,
    "start_time": "2023-01-09T14:03:02.823Z"
   },
   {
    "duration": 341,
    "start_time": "2023-01-09T14:03:08.629Z"
   },
   {
    "duration": 4,
    "start_time": "2023-01-09T14:04:07.900Z"
   },
   {
    "duration": 338,
    "start_time": "2023-01-09T14:04:13.481Z"
   },
   {
    "duration": 3,
    "start_time": "2023-01-09T14:04:21.710Z"
   },
   {
    "duration": 478,
    "start_time": "2023-01-09T14:04:59.673Z"
   },
   {
    "duration": 320,
    "start_time": "2023-01-09T14:06:29.338Z"
   },
   {
    "duration": 6,
    "start_time": "2023-01-09T14:06:38.273Z"
   },
   {
    "duration": 328,
    "start_time": "2023-01-09T14:06:49.931Z"
   },
   {
    "duration": 6,
    "start_time": "2023-01-09T14:07:20.820Z"
   },
   {
    "duration": 361,
    "start_time": "2023-01-09T14:07:55.419Z"
   },
   {
    "duration": 328,
    "start_time": "2023-01-09T14:09:01.876Z"
   },
   {
    "duration": 356,
    "start_time": "2023-01-09T14:09:10.991Z"
   },
   {
    "duration": 358,
    "start_time": "2023-01-09T14:09:17.014Z"
   },
   {
    "duration": 355,
    "start_time": "2023-01-09T14:09:28.607Z"
   },
   {
    "duration": 375,
    "start_time": "2023-01-09T14:14:05.461Z"
   },
   {
    "duration": 6,
    "start_time": "2023-01-09T14:15:57.758Z"
   },
   {
    "duration": 13,
    "start_time": "2023-01-09T14:16:07.181Z"
   },
   {
    "duration": 17,
    "start_time": "2023-01-09T14:16:54.833Z"
   },
   {
    "duration": 288,
    "start_time": "2023-01-09T14:17:02.832Z"
   },
   {
    "duration": 216,
    "start_time": "2023-01-09T14:17:09.313Z"
   },
   {
    "duration": 194,
    "start_time": "2023-01-09T14:17:27.039Z"
   },
   {
    "duration": 14,
    "start_time": "2023-01-09T14:17:31.347Z"
   },
   {
    "duration": 200,
    "start_time": "2023-01-09T14:17:31.971Z"
   },
   {
    "duration": 191,
    "start_time": "2023-01-09T14:17:51.027Z"
   },
   {
    "duration": 1212,
    "start_time": "2023-01-09T14:17:57.121Z"
   },
   {
    "duration": 16,
    "start_time": "2023-01-09T14:17:58.335Z"
   },
   {
    "duration": 3,
    "start_time": "2023-01-09T14:17:58.352Z"
   },
   {
    "duration": 16,
    "start_time": "2023-01-09T14:17:58.358Z"
   },
   {
    "duration": 13,
    "start_time": "2023-01-09T14:17:58.376Z"
   },
   {
    "duration": 23,
    "start_time": "2023-01-09T14:17:58.391Z"
   },
   {
    "duration": 31,
    "start_time": "2023-01-09T14:17:58.416Z"
   },
   {
    "duration": 7,
    "start_time": "2023-01-09T14:17:58.449Z"
   },
   {
    "duration": 27,
    "start_time": "2023-01-09T14:17:58.458Z"
   },
   {
    "duration": 17,
    "start_time": "2023-01-09T14:17:58.488Z"
   },
   {
    "duration": 16,
    "start_time": "2023-01-09T14:17:58.507Z"
   },
   {
    "duration": 14,
    "start_time": "2023-01-09T14:17:58.525Z"
   },
   {
    "duration": 11,
    "start_time": "2023-01-09T14:17:58.540Z"
   },
   {
    "duration": 16,
    "start_time": "2023-01-09T14:17:58.553Z"
   },
   {
    "duration": 13,
    "start_time": "2023-01-09T14:17:58.571Z"
   },
   {
    "duration": 29,
    "start_time": "2023-01-09T14:17:58.586Z"
   },
   {
    "duration": 289,
    "start_time": "2023-01-09T14:17:58.617Z"
   },
   {
    "duration": 334,
    "start_time": "2023-01-09T14:17:58.908Z"
   },
   {
    "duration": 368,
    "start_time": "2023-01-09T14:17:59.244Z"
   },
   {
    "duration": 431,
    "start_time": "2023-01-09T14:17:59.613Z"
   },
   {
    "duration": 12,
    "start_time": "2023-01-09T14:18:00.046Z"
   },
   {
    "duration": 455,
    "start_time": "2023-01-09T14:18:00.060Z"
   },
   {
    "duration": 0,
    "start_time": "2023-01-09T14:18:00.518Z"
   },
   {
    "duration": 0,
    "start_time": "2023-01-09T14:18:00.519Z"
   },
   {
    "duration": 0,
    "start_time": "2023-01-09T14:18:00.520Z"
   },
   {
    "duration": 0,
    "start_time": "2023-01-09T14:18:00.521Z"
   },
   {
    "duration": 0,
    "start_time": "2023-01-09T14:18:00.522Z"
   },
   {
    "duration": 0,
    "start_time": "2023-01-09T14:18:00.523Z"
   },
   {
    "duration": 0,
    "start_time": "2023-01-09T14:18:00.524Z"
   },
   {
    "duration": 0,
    "start_time": "2023-01-09T14:18:00.525Z"
   },
   {
    "duration": 0,
    "start_time": "2023-01-09T14:18:00.526Z"
   },
   {
    "duration": 0,
    "start_time": "2023-01-09T14:18:00.527Z"
   },
   {
    "duration": 359,
    "start_time": "2023-01-09T14:18:04.755Z"
   },
   {
    "duration": 378,
    "start_time": "2023-01-09T14:18:17.559Z"
   },
   {
    "duration": 386,
    "start_time": "2023-01-09T14:18:27.132Z"
   },
   {
    "duration": 416,
    "start_time": "2023-01-09T14:18:34.011Z"
   },
   {
    "duration": 47,
    "start_time": "2023-01-09T14:19:01.478Z"
   },
   {
    "duration": 124,
    "start_time": "2023-01-09T14:19:11.727Z"
   },
   {
    "duration": 395,
    "start_time": "2023-01-09T14:19:17.223Z"
   },
   {
    "duration": 485,
    "start_time": "2023-01-09T14:19:49.341Z"
   },
   {
    "duration": 454,
    "start_time": "2023-01-09T14:20:06.796Z"
   },
   {
    "duration": 5,
    "start_time": "2023-01-09T14:20:20.335Z"
   },
   {
    "duration": 140,
    "start_time": "2023-01-09T14:20:29.177Z"
   },
   {
    "duration": 147,
    "start_time": "2023-01-09T14:20:38.932Z"
   },
   {
    "duration": 16,
    "start_time": "2023-01-09T14:24:56.988Z"
   },
   {
    "duration": 12,
    "start_time": "2023-01-09T14:25:15.737Z"
   },
   {
    "duration": 6,
    "start_time": "2023-01-09T14:28:12.208Z"
   },
   {
    "duration": 53,
    "start_time": "2023-01-09T14:30:26.375Z"
   },
   {
    "duration": 365,
    "start_time": "2023-01-09T14:45:12.804Z"
   },
   {
    "duration": 16,
    "start_time": "2023-01-09T14:50:20.166Z"
   },
   {
    "duration": 9,
    "start_time": "2023-01-09T14:51:22.782Z"
   },
   {
    "duration": 9,
    "start_time": "2023-01-09T14:52:41.260Z"
   },
   {
    "duration": 9,
    "start_time": "2023-01-09T14:52:48.665Z"
   },
   {
    "duration": 9,
    "start_time": "2023-01-09T14:52:54.538Z"
   },
   {
    "duration": 9,
    "start_time": "2023-01-09T14:57:29.571Z"
   },
   {
    "duration": 19,
    "start_time": "2023-01-09T14:58:43.030Z"
   },
   {
    "duration": 9,
    "start_time": "2023-01-09T14:58:55.425Z"
   },
   {
    "duration": 56,
    "start_time": "2023-01-09T14:59:16.152Z"
   },
   {
    "duration": 27,
    "start_time": "2023-01-09T14:59:24.408Z"
   },
   {
    "duration": 14,
    "start_time": "2023-01-09T14:59:28.152Z"
   },
   {
    "duration": 51,
    "start_time": "2023-01-09T15:00:58.557Z"
   },
   {
    "duration": 10,
    "start_time": "2023-01-09T15:02:33.610Z"
   },
   {
    "duration": 16,
    "start_time": "2023-01-09T15:02:44.644Z"
   },
   {
    "duration": 280,
    "start_time": "2023-01-09T15:09:26.332Z"
   },
   {
    "duration": 1301,
    "start_time": "2023-01-10T09:05:36.769Z"
   },
   {
    "duration": 70,
    "start_time": "2023-01-10T09:05:38.072Z"
   },
   {
    "duration": 3,
    "start_time": "2023-01-10T09:05:38.144Z"
   },
   {
    "duration": 20,
    "start_time": "2023-01-10T09:05:38.149Z"
   },
   {
    "duration": 11,
    "start_time": "2023-01-10T09:05:38.172Z"
   },
   {
    "duration": 8,
    "start_time": "2023-01-10T09:05:38.185Z"
   },
   {
    "duration": 150,
    "start_time": "2023-01-10T09:05:38.195Z"
   },
   {
    "duration": 7,
    "start_time": "2023-01-10T09:05:38.347Z"
   },
   {
    "duration": 20,
    "start_time": "2023-01-10T09:05:38.356Z"
   },
   {
    "duration": 16,
    "start_time": "2023-01-10T09:05:38.378Z"
   },
   {
    "duration": 11,
    "start_time": "2023-01-10T09:05:38.396Z"
   },
   {
    "duration": 10,
    "start_time": "2023-01-10T09:05:38.408Z"
   },
   {
    "duration": 15,
    "start_time": "2023-01-10T09:05:38.421Z"
   },
   {
    "duration": 7,
    "start_time": "2023-01-10T09:05:38.439Z"
   },
   {
    "duration": 23,
    "start_time": "2023-01-10T09:05:38.447Z"
   },
   {
    "duration": 18,
    "start_time": "2023-01-10T09:05:38.472Z"
   },
   {
    "duration": 280,
    "start_time": "2023-01-10T09:05:38.492Z"
   },
   {
    "duration": 336,
    "start_time": "2023-01-10T09:05:38.774Z"
   },
   {
    "duration": 325,
    "start_time": "2023-01-10T09:05:39.112Z"
   },
   {
    "duration": 445,
    "start_time": "2023-01-10T09:05:39.439Z"
   },
   {
    "duration": 10,
    "start_time": "2023-01-10T09:05:39.885Z"
   },
   {
    "duration": 348,
    "start_time": "2023-01-10T09:05:39.897Z"
   },
   {
    "duration": 402,
    "start_time": "2023-01-10T09:05:40.247Z"
   },
   {
    "duration": 145,
    "start_time": "2023-01-10T09:05:40.651Z"
   },
   {
    "duration": 5,
    "start_time": "2023-01-10T09:05:40.798Z"
   },
   {
    "duration": 12,
    "start_time": "2023-01-10T09:05:40.805Z"
   },
   {
    "duration": 162,
    "start_time": "2023-01-10T09:05:40.818Z"
   },
   {
    "duration": 5,
    "start_time": "2023-01-10T09:05:40.982Z"
   },
   {
    "duration": 455,
    "start_time": "2023-01-10T09:05:40.988Z"
   },
   {
    "duration": 11,
    "start_time": "2023-01-10T09:05:41.445Z"
   },
   {
    "duration": 11,
    "start_time": "2023-01-10T09:05:41.458Z"
   },
   {
    "duration": 35,
    "start_time": "2023-01-10T09:05:41.471Z"
   },
   {
    "duration": 38,
    "start_time": "2023-01-10T09:05:41.508Z"
   },
   {
    "duration": 101,
    "start_time": "2023-01-10T10:12:02.034Z"
   },
   {
    "duration": 47,
    "start_time": "2023-01-10T10:12:36.598Z"
   },
   {
    "duration": 1231,
    "start_time": "2023-01-10T10:12:43.475Z"
   },
   {
    "duration": 81,
    "start_time": "2023-01-10T10:12:44.709Z"
   },
   {
    "duration": 4,
    "start_time": "2023-01-10T10:12:44.792Z"
   },
   {
    "duration": 47,
    "start_time": "2023-01-10T10:12:44.798Z"
   },
   {
    "duration": 10,
    "start_time": "2023-01-10T10:12:45.507Z"
   },
   {
    "duration": 9,
    "start_time": "2023-01-10T10:12:46.355Z"
   },
   {
    "duration": 191,
    "start_time": "2023-01-10T10:12:47.065Z"
   },
   {
    "duration": 9,
    "start_time": "2023-01-10T10:12:47.258Z"
   },
   {
    "duration": 11,
    "start_time": "2023-01-10T10:12:47.916Z"
   },
   {
    "duration": 10,
    "start_time": "2023-01-10T10:12:48.098Z"
   },
   {
    "duration": 9,
    "start_time": "2023-01-10T10:12:48.280Z"
   },
   {
    "duration": 8,
    "start_time": "2023-01-10T10:12:48.458Z"
   },
   {
    "duration": 8,
    "start_time": "2023-01-10T10:12:48.638Z"
   },
   {
    "duration": 7,
    "start_time": "2023-01-10T10:12:48.823Z"
   },
   {
    "duration": 11,
    "start_time": "2023-01-10T10:12:49.022Z"
   },
   {
    "duration": 12,
    "start_time": "2023-01-10T10:12:49.184Z"
   },
   {
    "duration": 276,
    "start_time": "2023-01-10T10:12:50.126Z"
   },
   {
    "duration": 307,
    "start_time": "2023-01-10T10:12:50.404Z"
   },
   {
    "duration": 264,
    "start_time": "2023-01-10T10:12:51.489Z"
   },
   {
    "duration": 399,
    "start_time": "2023-01-10T10:12:52.066Z"
   },
   {
    "duration": 11,
    "start_time": "2023-01-10T10:12:52.619Z"
   },
   {
    "duration": 278,
    "start_time": "2023-01-10T10:12:52.923Z"
   },
   {
    "duration": 416,
    "start_time": "2023-01-10T10:12:54.469Z"
   },
   {
    "duration": 106,
    "start_time": "2023-01-10T10:12:54.965Z"
   },
   {
    "duration": 4,
    "start_time": "2023-01-10T10:12:55.327Z"
   },
   {
    "duration": 9,
    "start_time": "2023-01-10T10:12:55.503Z"
   },
   {
    "duration": 202,
    "start_time": "2023-01-10T10:12:56.861Z"
   },
   {
    "duration": 3,
    "start_time": "2023-01-10T10:12:57.065Z"
   },
   {
    "duration": 310,
    "start_time": "2023-01-10T10:12:59.568Z"
   },
   {
    "duration": 316,
    "start_time": "2023-01-10T10:13:25.745Z"
   },
   {
    "duration": 10,
    "start_time": "2023-01-10T10:14:20.094Z"
   },
   {
    "duration": 1214,
    "start_time": "2023-01-10T10:15:41.933Z"
   },
   {
    "duration": 1139,
    "start_time": "2023-01-10T11:23:32.536Z"
   },
   {
    "duration": 1173,
    "start_time": "2023-01-10T11:25:00.527Z"
   },
   {
    "duration": 29,
    "start_time": "2023-01-10T11:25:01.701Z"
   },
   {
    "duration": 15,
    "start_time": "2023-01-10T11:25:01.732Z"
   },
   {
    "duration": 68,
    "start_time": "2023-01-10T11:25:01.749Z"
   },
   {
    "duration": 44,
    "start_time": "2023-01-10T11:25:01.818Z"
   },
   {
    "duration": 27,
    "start_time": "2023-01-10T11:25:01.863Z"
   },
   {
    "duration": 89,
    "start_time": "2023-01-10T11:25:01.891Z"
   },
   {
    "duration": 6,
    "start_time": "2023-01-10T11:25:01.982Z"
   },
   {
    "duration": 39,
    "start_time": "2023-01-10T11:25:01.989Z"
   },
   {
    "duration": 31,
    "start_time": "2023-01-10T11:25:02.030Z"
   },
   {
    "duration": 45,
    "start_time": "2023-01-10T11:25:02.063Z"
   },
   {
    "duration": 39,
    "start_time": "2023-01-10T11:25:02.110Z"
   },
   {
    "duration": 24,
    "start_time": "2023-01-10T11:25:02.150Z"
   },
   {
    "duration": 63,
    "start_time": "2023-01-10T11:25:02.176Z"
   },
   {
    "duration": 31,
    "start_time": "2023-01-10T11:25:02.241Z"
   },
   {
    "duration": 44,
    "start_time": "2023-01-10T11:25:02.274Z"
   },
   {
    "duration": 304,
    "start_time": "2023-01-10T11:25:02.321Z"
   },
   {
    "duration": 343,
    "start_time": "2023-01-10T11:25:02.627Z"
   },
   {
    "duration": 340,
    "start_time": "2023-01-10T11:25:02.973Z"
   },
   {
    "duration": 414,
    "start_time": "2023-01-10T11:25:03.314Z"
   },
   {
    "duration": 11,
    "start_time": "2023-01-10T11:25:03.730Z"
   },
   {
    "duration": 339,
    "start_time": "2023-01-10T11:25:03.742Z"
   },
   {
    "duration": 397,
    "start_time": "2023-01-10T11:25:04.083Z"
   },
   {
    "duration": 113,
    "start_time": "2023-01-10T11:25:04.482Z"
   },
   {
    "duration": 4,
    "start_time": "2023-01-10T11:25:04.597Z"
   },
   {
    "duration": 30,
    "start_time": "2023-01-10T11:25:04.613Z"
   },
   {
    "duration": 179,
    "start_time": "2023-01-10T11:25:04.645Z"
   },
   {
    "duration": 4,
    "start_time": "2023-01-10T11:25:04.827Z"
   },
   {
    "duration": 401,
    "start_time": "2023-01-10T11:25:04.832Z"
   },
   {
    "duration": 12,
    "start_time": "2023-01-10T11:25:05.234Z"
   },
   {
    "duration": 1227,
    "start_time": "2023-01-10T11:25:05.247Z"
   },
   {
    "duration": 0,
    "start_time": "2023-01-10T11:25:06.476Z"
   },
   {
    "duration": 0,
    "start_time": "2023-01-10T11:25:06.477Z"
   },
   {
    "duration": 1096,
    "start_time": "2023-01-10T11:25:13.674Z"
   },
   {
    "duration": 1222,
    "start_time": "2023-01-10T11:26:00.345Z"
   },
   {
    "duration": 66,
    "start_time": "2023-01-10T11:26:42.142Z"
   },
   {
    "duration": 9,
    "start_time": "2023-01-10T11:26:57.987Z"
   },
   {
    "duration": 1343,
    "start_time": "2023-01-10T11:28:31.463Z"
   },
   {
    "duration": 1233,
    "start_time": "2023-01-10T11:29:37.865Z"
   },
   {
    "duration": 1252,
    "start_time": "2023-01-10T11:29:54.414Z"
   },
   {
    "duration": 1283,
    "start_time": "2023-01-10T11:31:13.036Z"
   },
   {
    "duration": 1224,
    "start_time": "2023-01-10T11:31:22.091Z"
   },
   {
    "duration": 0,
    "start_time": "2023-01-10T11:31:23.317Z"
   },
   {
    "duration": 3,
    "start_time": "2023-01-10T11:31:37.117Z"
   },
   {
    "duration": 27,
    "start_time": "2023-01-10T11:31:37.278Z"
   },
   {
    "duration": 4,
    "start_time": "2023-01-10T11:31:37.646Z"
   },
   {
    "duration": 7,
    "start_time": "2023-01-10T11:31:37.879Z"
   },
   {
    "duration": 10,
    "start_time": "2023-01-10T11:31:39.570Z"
   },
   {
    "duration": 8,
    "start_time": "2023-01-10T11:31:40.664Z"
   },
   {
    "duration": 61,
    "start_time": "2023-01-10T11:31:42.394Z"
   },
   {
    "duration": 7,
    "start_time": "2023-01-10T11:31:42.924Z"
   },
   {
    "duration": 13,
    "start_time": "2023-01-10T11:31:44.642Z"
   },
   {
    "duration": 11,
    "start_time": "2023-01-10T11:31:44.825Z"
   },
   {
    "duration": 10,
    "start_time": "2023-01-10T11:31:44.997Z"
   },
   {
    "duration": 8,
    "start_time": "2023-01-10T11:31:45.169Z"
   },
   {
    "duration": 7,
    "start_time": "2023-01-10T11:31:45.318Z"
   },
   {
    "duration": 7,
    "start_time": "2023-01-10T11:31:45.497Z"
   },
   {
    "duration": 11,
    "start_time": "2023-01-10T11:31:45.676Z"
   },
   {
    "duration": 13,
    "start_time": "2023-01-10T11:31:45.849Z"
   },
   {
    "duration": 237,
    "start_time": "2023-01-10T11:31:46.701Z"
   },
   {
    "duration": 280,
    "start_time": "2023-01-10T11:31:46.940Z"
   },
   {
    "duration": 248,
    "start_time": "2023-01-10T11:31:47.780Z"
   },
   {
    "duration": 377,
    "start_time": "2023-01-10T11:31:48.285Z"
   },
   {
    "duration": 11,
    "start_time": "2023-01-10T11:31:48.814Z"
   },
   {
    "duration": 326,
    "start_time": "2023-01-10T11:31:49.008Z"
   },
   {
    "duration": 363,
    "start_time": "2023-01-10T11:31:49.934Z"
   },
   {
    "duration": 105,
    "start_time": "2023-01-10T11:31:50.476Z"
   },
   {
    "duration": 4,
    "start_time": "2023-01-10T11:31:50.853Z"
   },
   {
    "duration": 8,
    "start_time": "2023-01-10T11:31:51.049Z"
   },
   {
    "duration": 114,
    "start_time": "2023-01-10T11:31:52.728Z"
   },
   {
    "duration": 4,
    "start_time": "2023-01-10T11:31:52.915Z"
   },
   {
    "duration": 310,
    "start_time": "2023-01-10T11:31:54.825Z"
   },
   {
    "duration": 10,
    "start_time": "2023-01-10T11:31:57.472Z"
   },
   {
    "duration": 13,
    "start_time": "2023-01-10T11:31:58.073Z"
   },
   {
    "duration": 1424,
    "start_time": "2023-01-10T11:31:58.268Z"
   },
   {
    "duration": 1199,
    "start_time": "2023-01-10T11:32:17.217Z"
   },
   {
    "duration": 1323,
    "start_time": "2023-01-11T08:20:04.439Z"
   },
   {
    "duration": 72,
    "start_time": "2023-01-11T08:20:05.764Z"
   },
   {
    "duration": 3,
    "start_time": "2023-01-11T08:20:05.838Z"
   },
   {
    "duration": 36,
    "start_time": "2023-01-11T08:20:05.843Z"
   },
   {
    "duration": 28,
    "start_time": "2023-01-11T08:20:05.880Z"
   },
   {
    "duration": 16,
    "start_time": "2023-01-11T08:20:05.910Z"
   },
   {
    "duration": 157,
    "start_time": "2023-01-11T08:20:05.928Z"
   },
   {
    "duration": 7,
    "start_time": "2023-01-11T08:20:06.087Z"
   },
   {
    "duration": 30,
    "start_time": "2023-01-11T08:20:06.096Z"
   },
   {
    "duration": 20,
    "start_time": "2023-01-11T08:20:06.128Z"
   },
   {
    "duration": 31,
    "start_time": "2023-01-11T08:20:06.149Z"
   },
   {
    "duration": 27,
    "start_time": "2023-01-11T08:20:06.182Z"
   },
   {
    "duration": 23,
    "start_time": "2023-01-11T08:20:06.211Z"
   },
   {
    "duration": 31,
    "start_time": "2023-01-11T08:20:06.235Z"
   },
   {
    "duration": 32,
    "start_time": "2023-01-11T08:20:06.268Z"
   },
   {
    "duration": 28,
    "start_time": "2023-01-11T08:20:06.301Z"
   },
   {
    "duration": 280,
    "start_time": "2023-01-11T08:20:06.331Z"
   },
   {
    "duration": 373,
    "start_time": "2023-01-11T08:20:06.613Z"
   },
   {
    "duration": 328,
    "start_time": "2023-01-11T08:20:06.988Z"
   },
   {
    "duration": 478,
    "start_time": "2023-01-11T08:20:07.317Z"
   },
   {
    "duration": 11,
    "start_time": "2023-01-11T08:20:07.797Z"
   },
   {
    "duration": 361,
    "start_time": "2023-01-11T08:20:07.810Z"
   },
   {
    "duration": 457,
    "start_time": "2023-01-11T08:20:08.173Z"
   },
   {
    "duration": 139,
    "start_time": "2023-01-11T08:20:08.634Z"
   },
   {
    "duration": 4,
    "start_time": "2023-01-11T08:20:08.775Z"
   },
   {
    "duration": 13,
    "start_time": "2023-01-11T08:20:08.780Z"
   },
   {
    "duration": 148,
    "start_time": "2023-01-11T08:20:08.794Z"
   },
   {
    "duration": 4,
    "start_time": "2023-01-11T08:20:08.944Z"
   },
   {
    "duration": 415,
    "start_time": "2023-01-11T08:20:08.950Z"
   },
   {
    "duration": 11,
    "start_time": "2023-01-11T08:20:09.367Z"
   },
   {
    "duration": 18,
    "start_time": "2023-01-11T08:20:09.380Z"
   },
   {
    "duration": 39,
    "start_time": "2023-01-11T08:20:09.400Z"
   },
   {
    "duration": 15,
    "start_time": "2023-01-11T08:20:09.442Z"
   },
   {
    "duration": 8,
    "start_time": "2023-01-11T08:27:09.900Z"
   },
   {
    "duration": 5,
    "start_time": "2023-01-11T08:27:31.633Z"
   },
   {
    "duration": 62,
    "start_time": "2023-01-11T09:11:58.306Z"
   },
   {
    "duration": 46,
    "start_time": "2023-01-31T15:28:56.371Z"
   },
   {
    "duration": 1150,
    "start_time": "2023-01-31T15:29:49.616Z"
   },
   {
    "duration": 62,
    "start_time": "2023-01-31T15:29:50.768Z"
   },
   {
    "duration": 3,
    "start_time": "2023-01-31T15:29:50.832Z"
   },
   {
    "duration": 18,
    "start_time": "2023-01-31T15:29:50.838Z"
   },
   {
    "duration": 24,
    "start_time": "2023-01-31T15:29:50.857Z"
   },
   {
    "duration": 10,
    "start_time": "2023-01-31T15:29:50.883Z"
   },
   {
    "duration": 145,
    "start_time": "2023-01-31T15:29:50.894Z"
   },
   {
    "duration": 8,
    "start_time": "2023-01-31T15:29:51.041Z"
   },
   {
    "duration": 23,
    "start_time": "2023-01-31T15:29:51.052Z"
   },
   {
    "duration": 16,
    "start_time": "2023-01-31T15:29:51.079Z"
   },
   {
    "duration": 23,
    "start_time": "2023-01-31T15:29:51.097Z"
   },
   {
    "duration": 13,
    "start_time": "2023-01-31T15:29:51.122Z"
   },
   {
    "duration": 11,
    "start_time": "2023-01-31T15:29:51.152Z"
   },
   {
    "duration": 17,
    "start_time": "2023-01-31T15:29:51.165Z"
   },
   {
    "duration": 22,
    "start_time": "2023-01-31T15:29:51.183Z"
   },
   {
    "duration": 20,
    "start_time": "2023-01-31T15:29:51.207Z"
   },
   {
    "duration": 26,
    "start_time": "2023-01-31T15:29:51.229Z"
   },
   {
    "duration": 11,
    "start_time": "2023-01-31T15:29:51.257Z"
   },
   {
    "duration": 274,
    "start_time": "2023-01-31T15:29:51.270Z"
   },
   {
    "duration": 360,
    "start_time": "2023-01-31T15:29:51.546Z"
   },
   {
    "duration": 330,
    "start_time": "2023-01-31T15:29:51.908Z"
   },
   {
    "duration": 421,
    "start_time": "2023-01-31T15:29:52.240Z"
   },
   {
    "duration": 11,
    "start_time": "2023-01-31T15:29:52.663Z"
   },
   {
    "duration": 343,
    "start_time": "2023-01-31T15:29:52.676Z"
   },
   {
    "duration": 441,
    "start_time": "2023-01-31T15:29:53.021Z"
   },
   {
    "duration": 147,
    "start_time": "2023-01-31T15:29:53.464Z"
   },
   {
    "duration": 4,
    "start_time": "2023-01-31T15:29:53.613Z"
   },
   {
    "duration": 20,
    "start_time": "2023-01-31T15:29:53.620Z"
   },
   {
    "duration": 160,
    "start_time": "2023-01-31T15:29:53.641Z"
   },
   {
    "duration": 5,
    "start_time": "2023-01-31T15:29:53.802Z"
   },
   {
    "duration": 430,
    "start_time": "2023-01-31T15:29:53.808Z"
   },
   {
    "duration": 14,
    "start_time": "2023-01-31T15:29:54.240Z"
   },
   {
    "duration": 39,
    "start_time": "2023-01-31T15:29:54.255Z"
   },
   {
    "duration": 39,
    "start_time": "2023-01-31T15:29:54.295Z"
   },
   {
    "duration": 41,
    "start_time": "2023-01-31T15:29:54.336Z"
   }
  ],
  "kernelspec": {
   "display_name": "Python 3 (ipykernel)",
   "language": "python",
   "name": "python3"
  },
  "language_info": {
   "codemirror_mode": {
    "name": "ipython",
    "version": 3
   },
   "file_extension": ".py",
   "mimetype": "text/x-python",
   "name": "python",
   "nbconvert_exporter": "python",
   "pygments_lexer": "ipython3",
   "version": "3.9.5"
  },
  "toc": {
   "base_numbering": 1,
   "nav_menu": {},
   "number_sections": true,
   "sideBar": true,
   "skip_h1_title": true,
   "title_cell": "Table of Contents",
   "title_sidebar": "Contents",
   "toc_cell": false,
   "toc_position": {},
   "toc_section_display": true,
   "toc_window_display": true
  }
 },
 "nbformat": 4,
 "nbformat_minor": 2
}
