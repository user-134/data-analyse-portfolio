{
 "cells": [
  {
   "cell_type": "markdown",
   "metadata": {},
   "source": [
    "# Исследование объявлений о продаже квартир\n",
    "\n",
    "В вашем распоряжении данные сервиса Яндекс.Недвижимость — архив объявлений о продаже квартир в Санкт-Петербурге и соседних населённых пунктов за несколько лет. Нужно научиться определять рыночную стоимость объектов недвижимости. Ваша задача — установить параметры. Это позволит построить автоматизированную систему: она отследит аномалии и мошенническую деятельность. \n",
    "\n",
    "По каждой квартире на продажу доступны два вида данных. Первые вписаны пользователем, вторые — получены автоматически на основе картографических данных. Например, расстояние до центра, аэропорта, ближайшего парка и водоёма. "
   ]
  },
  {
   "cell_type": "markdown",
   "metadata": {},
   "source": [
    "### Откройте файл с данными и изучите общую информацию. "
   ]
  },
  {
   "cell_type": "code",
   "execution_count": 1,
   "metadata": {
    "scrolled": true
   },
   "outputs": [
    {
     "data": {
      "text/html": [
       "<div>\n",
       "<style scoped>\n",
       "    .dataframe tbody tr th:only-of-type {\n",
       "        vertical-align: middle;\n",
       "    }\n",
       "\n",
       "    .dataframe tbody tr th {\n",
       "        vertical-align: top;\n",
       "    }\n",
       "\n",
       "    .dataframe thead th {\n",
       "        text-align: right;\n",
       "    }\n",
       "</style>\n",
       "<table border=\"1\" class=\"dataframe\">\n",
       "  <thead>\n",
       "    <tr style=\"text-align: right;\">\n",
       "      <th></th>\n",
       "      <th>total_images</th>\n",
       "      <th>last_price</th>\n",
       "      <th>total_area</th>\n",
       "      <th>first_day_exposition</th>\n",
       "      <th>rooms</th>\n",
       "      <th>ceiling_height</th>\n",
       "      <th>floors_total</th>\n",
       "      <th>living_area</th>\n",
       "      <th>floor</th>\n",
       "      <th>is_apartment</th>\n",
       "      <th>studio</th>\n",
       "      <th>open_plan</th>\n",
       "      <th>kitchen_area</th>\n",
       "      <th>balcony</th>\n",
       "      <th>locality_name</th>\n",
       "      <th>airports_nearest</th>\n",
       "      <th>cityCenters_nearest</th>\n",
       "      <th>parks_around3000</th>\n",
       "      <th>parks_nearest</th>\n",
       "      <th>ponds_around3000</th>\n",
       "      <th>ponds_nearest</th>\n",
       "      <th>days_exposition</th>\n",
       "    </tr>\n",
       "  </thead>\n",
       "  <tbody>\n",
       "    <tr>\n",
       "      <th>0</th>\n",
       "      <td>20</td>\n",
       "      <td>13000000.0</td>\n",
       "      <td>108.0</td>\n",
       "      <td>2019-03-07T00:00:00</td>\n",
       "      <td>3</td>\n",
       "      <td>2.70</td>\n",
       "      <td>16.0</td>\n",
       "      <td>51.0</td>\n",
       "      <td>8</td>\n",
       "      <td>NaN</td>\n",
       "      <td>False</td>\n",
       "      <td>False</td>\n",
       "      <td>25.0</td>\n",
       "      <td>NaN</td>\n",
       "      <td>Санкт-Петербург</td>\n",
       "      <td>18863.0</td>\n",
       "      <td>16028.0</td>\n",
       "      <td>1.0</td>\n",
       "      <td>482.0</td>\n",
       "      <td>2.0</td>\n",
       "      <td>755.0</td>\n",
       "      <td>NaN</td>\n",
       "    </tr>\n",
       "    <tr>\n",
       "      <th>1</th>\n",
       "      <td>7</td>\n",
       "      <td>3350000.0</td>\n",
       "      <td>40.4</td>\n",
       "      <td>2018-12-04T00:00:00</td>\n",
       "      <td>1</td>\n",
       "      <td>NaN</td>\n",
       "      <td>11.0</td>\n",
       "      <td>18.6</td>\n",
       "      <td>1</td>\n",
       "      <td>NaN</td>\n",
       "      <td>False</td>\n",
       "      <td>False</td>\n",
       "      <td>11.0</td>\n",
       "      <td>2.0</td>\n",
       "      <td>посёлок Шушары</td>\n",
       "      <td>12817.0</td>\n",
       "      <td>18603.0</td>\n",
       "      <td>0.0</td>\n",
       "      <td>NaN</td>\n",
       "      <td>0.0</td>\n",
       "      <td>NaN</td>\n",
       "      <td>81.0</td>\n",
       "    </tr>\n",
       "    <tr>\n",
       "      <th>2</th>\n",
       "      <td>10</td>\n",
       "      <td>5196000.0</td>\n",
       "      <td>56.0</td>\n",
       "      <td>2015-08-20T00:00:00</td>\n",
       "      <td>2</td>\n",
       "      <td>NaN</td>\n",
       "      <td>5.0</td>\n",
       "      <td>34.3</td>\n",
       "      <td>4</td>\n",
       "      <td>NaN</td>\n",
       "      <td>False</td>\n",
       "      <td>False</td>\n",
       "      <td>8.3</td>\n",
       "      <td>0.0</td>\n",
       "      <td>Санкт-Петербург</td>\n",
       "      <td>21741.0</td>\n",
       "      <td>13933.0</td>\n",
       "      <td>1.0</td>\n",
       "      <td>90.0</td>\n",
       "      <td>2.0</td>\n",
       "      <td>574.0</td>\n",
       "      <td>558.0</td>\n",
       "    </tr>\n",
       "    <tr>\n",
       "      <th>3</th>\n",
       "      <td>0</td>\n",
       "      <td>64900000.0</td>\n",
       "      <td>159.0</td>\n",
       "      <td>2015-07-24T00:00:00</td>\n",
       "      <td>3</td>\n",
       "      <td>NaN</td>\n",
       "      <td>14.0</td>\n",
       "      <td>NaN</td>\n",
       "      <td>9</td>\n",
       "      <td>NaN</td>\n",
       "      <td>False</td>\n",
       "      <td>False</td>\n",
       "      <td>NaN</td>\n",
       "      <td>0.0</td>\n",
       "      <td>Санкт-Петербург</td>\n",
       "      <td>28098.0</td>\n",
       "      <td>6800.0</td>\n",
       "      <td>2.0</td>\n",
       "      <td>84.0</td>\n",
       "      <td>3.0</td>\n",
       "      <td>234.0</td>\n",
       "      <td>424.0</td>\n",
       "    </tr>\n",
       "    <tr>\n",
       "      <th>4</th>\n",
       "      <td>2</td>\n",
       "      <td>10000000.0</td>\n",
       "      <td>100.0</td>\n",
       "      <td>2018-06-19T00:00:00</td>\n",
       "      <td>2</td>\n",
       "      <td>3.03</td>\n",
       "      <td>14.0</td>\n",
       "      <td>32.0</td>\n",
       "      <td>13</td>\n",
       "      <td>NaN</td>\n",
       "      <td>False</td>\n",
       "      <td>False</td>\n",
       "      <td>41.0</td>\n",
       "      <td>NaN</td>\n",
       "      <td>Санкт-Петербург</td>\n",
       "      <td>31856.0</td>\n",
       "      <td>8098.0</td>\n",
       "      <td>2.0</td>\n",
       "      <td>112.0</td>\n",
       "      <td>1.0</td>\n",
       "      <td>48.0</td>\n",
       "      <td>121.0</td>\n",
       "    </tr>\n",
       "  </tbody>\n",
       "</table>\n",
       "</div>"
      ],
      "text/plain": [
       "   total_images  last_price  total_area first_day_exposition  rooms  \\\n",
       "0            20  13000000.0       108.0  2019-03-07T00:00:00      3   \n",
       "1             7   3350000.0        40.4  2018-12-04T00:00:00      1   \n",
       "2            10   5196000.0        56.0  2015-08-20T00:00:00      2   \n",
       "3             0  64900000.0       159.0  2015-07-24T00:00:00      3   \n",
       "4             2  10000000.0       100.0  2018-06-19T00:00:00      2   \n",
       "\n",
       "   ceiling_height  floors_total  living_area  floor is_apartment  studio  \\\n",
       "0            2.70          16.0         51.0      8          NaN   False   \n",
       "1             NaN          11.0         18.6      1          NaN   False   \n",
       "2             NaN           5.0         34.3      4          NaN   False   \n",
       "3             NaN          14.0          NaN      9          NaN   False   \n",
       "4            3.03          14.0         32.0     13          NaN   False   \n",
       "\n",
       "   open_plan  kitchen_area  balcony    locality_name  airports_nearest  \\\n",
       "0      False          25.0      NaN  Санкт-Петербург           18863.0   \n",
       "1      False          11.0      2.0   посёлок Шушары           12817.0   \n",
       "2      False           8.3      0.0  Санкт-Петербург           21741.0   \n",
       "3      False           NaN      0.0  Санкт-Петербург           28098.0   \n",
       "4      False          41.0      NaN  Санкт-Петербург           31856.0   \n",
       "\n",
       "   cityCenters_nearest  parks_around3000  parks_nearest  ponds_around3000  \\\n",
       "0              16028.0               1.0          482.0               2.0   \n",
       "1              18603.0               0.0            NaN               0.0   \n",
       "2              13933.0               1.0           90.0               2.0   \n",
       "3               6800.0               2.0           84.0               3.0   \n",
       "4               8098.0               2.0          112.0               1.0   \n",
       "\n",
       "   ponds_nearest  days_exposition  \n",
       "0          755.0              NaN  \n",
       "1            NaN             81.0  \n",
       "2          574.0            558.0  \n",
       "3          234.0            424.0  \n",
       "4           48.0            121.0  "
      ]
     },
     "metadata": {},
     "output_type": "display_data"
    },
    {
     "name": "stdout",
     "output_type": "stream",
     "text": [
      "   total_images  last_price  total_area first_day_exposition  rooms  \\\n",
      "0            20  13000000.0       108.0  2019-03-07T00:00:00      3   \n",
      "1             7   3350000.0        40.4  2018-12-04T00:00:00      1   \n",
      "2            10   5196000.0        56.0  2015-08-20T00:00:00      2   \n",
      "3             0  64900000.0       159.0  2015-07-24T00:00:00      3   \n",
      "4             2  10000000.0       100.0  2018-06-19T00:00:00      2   \n",
      "\n",
      "   ceiling_height  floors_total  living_area  floor is_apartment  studio  \\\n",
      "0            2.70          16.0         51.0      8          NaN   False   \n",
      "1             NaN          11.0         18.6      1          NaN   False   \n",
      "2             NaN           5.0         34.3      4          NaN   False   \n",
      "3             NaN          14.0          NaN      9          NaN   False   \n",
      "4            3.03          14.0         32.0     13          NaN   False   \n",
      "\n",
      "   open_plan  kitchen_area  balcony    locality_name  airports_nearest  \\\n",
      "0      False          25.0      NaN  Санкт-Петербург           18863.0   \n",
      "1      False          11.0      2.0   посёлок Шушары           12817.0   \n",
      "2      False           8.3      0.0  Санкт-Петербург           21741.0   \n",
      "3      False           NaN      0.0  Санкт-Петербург           28098.0   \n",
      "4      False          41.0      NaN  Санкт-Петербург           31856.0   \n",
      "\n",
      "   cityCenters_nearest  parks_around3000  parks_nearest  ponds_around3000  \\\n",
      "0              16028.0               1.0          482.0               2.0   \n",
      "1              18603.0               0.0            NaN               0.0   \n",
      "2              13933.0               1.0           90.0               2.0   \n",
      "3               6800.0               2.0           84.0               3.0   \n",
      "4               8098.0               2.0          112.0               1.0   \n",
      "\n",
      "   ponds_nearest  days_exposition  \n",
      "0          755.0              NaN  \n",
      "1            NaN             81.0  \n",
      "2          574.0            558.0  \n",
      "3          234.0            424.0  \n",
      "4           48.0            121.0  \n"
     ]
    }
   ],
   "source": [
    "import pandas as pd\n",
    "import matplotlib.pyplot as plt\n",
    "import numpy as np\n",
    "\n",
    "data = pd.read_csv('/datasets/real_estate_data.csv', sep='\\t')\n",
    "\n",
    "pd.set_option('display.max_columns', None)\n",
    "display(data.head())\n",
    "print(data.head())"
   ]
  },
  {
   "cell_type": "code",
   "execution_count": 2,
   "metadata": {
    "scrolled": true
   },
   "outputs": [
    {
     "name": "stdout",
     "output_type": "stream",
     "text": [
      "<class 'pandas.core.frame.DataFrame'>\n",
      "RangeIndex: 23699 entries, 0 to 23698\n",
      "Data columns (total 22 columns):\n",
      " #   Column                Non-Null Count  Dtype  \n",
      "---  ------                --------------  -----  \n",
      " 0   total_images          23699 non-null  int64  \n",
      " 1   last_price            23699 non-null  float64\n",
      " 2   total_area            23699 non-null  float64\n",
      " 3   first_day_exposition  23699 non-null  object \n",
      " 4   rooms                 23699 non-null  int64  \n",
      " 5   ceiling_height        14504 non-null  float64\n",
      " 6   floors_total          23613 non-null  float64\n",
      " 7   living_area           21796 non-null  float64\n",
      " 8   floor                 23699 non-null  int64  \n",
      " 9   is_apartment          2775 non-null   object \n",
      " 10  studio                23699 non-null  bool   \n",
      " 11  open_plan             23699 non-null  bool   \n",
      " 12  kitchen_area          21421 non-null  float64\n",
      " 13  balcony               12180 non-null  float64\n",
      " 14  locality_name         23650 non-null  object \n",
      " 15  airports_nearest      18157 non-null  float64\n",
      " 16  cityCenters_nearest   18180 non-null  float64\n",
      " 17  parks_around3000      18181 non-null  float64\n",
      " 18  parks_nearest         8079 non-null   float64\n",
      " 19  ponds_around3000      18181 non-null  float64\n",
      " 20  ponds_nearest         9110 non-null   float64\n",
      " 21  days_exposition       20518 non-null  float64\n",
      "dtypes: bool(2), float64(14), int64(3), object(3)\n",
      "memory usage: 3.7+ MB\n"
     ]
    }
   ],
   "source": [
    "data.info()"
   ]
  },
  {
   "cell_type": "markdown",
   "metadata": {},
   "source": [
    "В исследуемых данных 23699 записей, 22 столбца.\\\n",
    "Во многих колонках есть пропуски. Попробую разобраться что это за пропуски и как их можно заполнить. А также проверю типы данных в этих колонках и по какой причине их нужно заменить.\n",
    "\n",
    "Пропущенные значения в столбцах:\n",
    "\n",
    "ceiling_height — высота потолков (м). Множество выбросов по причине опечаток, возможно из-за ошибки пользователя, так как количество их небольшое.\n",
    "\n",
    "floors_total — всего этажей в доме. Пропуски по причине - владельцы не заполнили эти данные. Необходимо перевести тип данных к целочисленному, так как количество этажей не может относится к вещественным.\n",
    "\n",
    "\n",
    "is_apartment — апартаменты (булев тип). Пропуски по причине - владельцы не заполнили эти данные, уверены, что их недвижимость не относится к данному типу. Необходимо перевести к типу данных bool, потому что имеет значения True/False.\n",
    "\n",
    "kitchen_area — площадь кухни в квадратных метрах (м²). Множество выбросов по причине опечаток, возможно из-за ошибки пользователя, так как количество их небольшое.\n",
    "\n",
    "balcony — число балконов. Пропуски по причине - владельцы не заполнили эти данные, по приине отсутствия балконов. Необходимо перевести к типу данных bool, потому что имеет значения True/False.\n",
    "\n",
    "locality_name — название населённого пункта. Пропуски заменить не представляется возможным.\n",
    "\n",
    "airports_nearest — расстояние до ближайшего аэропорта в метрах (м). Пользователь не смог заполнить данные, так как не уверен в корректности собственных расчетов. Можно пропустить заполнение пропусков, так как не повлияет на исследование.\n",
    "\n",
    "cityCenters_nearest — расстояние до центра города (м). Пользователь не смог заполнить данные, так как не уверен в корректности собственных расчетов.\n",
    "\n",
    "parks_around3000 — число парков в радиусе 3 км. Необходимо перевести тип данных к целочисленному, так как число парков не может относится к вещественным.\n",
    "\n",
    "parks_nearest — расстояние до ближайшего парка (м). Расстояния лучше заменить медианами по всему набору данных.\n",
    "\n",
    "ponds_around3000 — число водоёмов в радиусе 3 км. Необходимо перевести тип данных к целочисленному, так как число водоёмов не может относится к вещественным.\n",
    "\n",
    "ponds_nearest — расстояние до ближайшего водоёма (м). Расстояния лучше заменить медианами по всему набору данных.\n",
    "\n",
    "days_exposition — сколько дней было размещено объявление (от публикации до снятия). Пропуски в 'days_exposition' возможны по причине, что на момент выгрузки обьявления были активны. Необходимо перевести тип данных к целочисленному, так как количество дней не может относится к вещественным.\n",
    "\n",
    "Кроме того, необходимо изменить тип данных в колонке 'first_day_exposition' c object на datetime64, так как содержит в себе дату."
   ]
  },
  {
   "cell_type": "code",
   "execution_count": 3,
   "metadata": {
    "scrolled": true
   },
   "outputs": [
    {
     "data": {
      "image/png": "[encoded data removed]",
      "text/plain": [
       "<Figure size 1080x1440 with 20 Axes>"
      ]
     },
     "metadata": {
      "needs_background": "light"
     },
     "output_type": "display_data"
    }
   ],
   "source": [
    "data.isna.sum()"
   ]
  },
  {
   "cell_type": "markdown",
   "metadata": {},
   "source": [
    "### Предобработка данных"
   ]
  },
  {
   "cell_type": "code",
   "execution_count": 4,
   "metadata": {},
   "outputs": [],
   "source": [
    "data['ceiling_height'] = np.where((data.ceiling_height > 10), data.ceiling_height/10, data.ceiling_height) \n",
    "#Исправление опечаток\n",
    "data['ceiling_height'] = data['ceiling_height'].fillna(data['ceiling_height'].median())\n",
    "#Замена пропусков на медианные значения"
   ]
  },
  {
   "cell_type": "code",
   "execution_count": 5,
   "metadata": {},
   "outputs": [
    {
     "data": {
      "text/plain": [
       "78"
      ]
     },
     "execution_count": 5,
     "metadata": {},
     "output_type": "execute_result"
    }
   ],
   "source": [
    "data[data['ceiling_height'] < 2.5]['ceiling_height'].count() #Кол-во помещений с потолками меньше 2,5 м."
   ]
  },
  {
   "cell_type": "code",
   "execution_count": 6,
   "metadata": {},
   "outputs": [
    {
     "data": {
      "text/plain": [
       "5"
      ]
     },
     "execution_count": 6,
     "metadata": {},
     "output_type": "execute_result"
    }
   ],
   "source": [
    "data[data['ceiling_height'] > 6]['ceiling_height'].count() #Кол-во помещений с потолками выше 6 м."
   ]
  },
  {
   "cell_type": "code",
   "execution_count": 7,
   "metadata": {},
   "outputs": [
    {
     "data": {
      "text/plain": [
       "0"
      ]
     },
     "execution_count": 7,
     "metadata": {},
     "output_type": "execute_result"
    }
   ],
   "source": [
    "data[data['ceiling_height'].isnull()]['ceiling_height'].count() #проверка на наличие 0\n",
    "data[data['ceiling_height'].isna()]['ceiling_height'].count() #проверка на наличие NaN"
   ]
  },
  {
   "cell_type": "markdown",
   "metadata": {},
   "source": [
    "Исправили опечатки в записях с аномально выскоими значениями потолков. \n",
    "Заполнили пропуски медианными значениями.\n",
    "\n",
    "\n",
    "Выбросы: \\\n",
    "В соответствии с СП 54.13330.2016 «СНиП 31-01-2003 Здания жилые многоквартирные» установлено, что в многоквартирных домах в центральной части России потолок должен быть не ниже 2,5 м. Таких квартир - 78. \\\n",
    "Жилых помещений с потолками больше 6м - 5. \\\n",
    "Стандартное отклонение - 0.2. \\\n",
    "Считаю разумным заменить пропуски медианными значениями."
   ]
  },
  {
   "cell_type": "code",
   "execution_count": 8,
   "metadata": {},
   "outputs": [],
   "source": [
    "data[data['floors_total'].isnull()]['floor'].max() #24 этаж - максимальное значение\n",
    "data['floors_total'] = data['floors_total'].fillna(24)"
   ]
  },
  {
   "cell_type": "markdown",
   "metadata": {},
   "source": [
    "Заменим пропуски в колонке 'всего этажей в доме' максимальным значением, найденным среди квартир, у которых пропущено значение этажности в доме. Это сделано для того, чтобы указанная квартира не могла находиться выше, чем этажей в доме."
   ]
  },
  {
   "cell_type": "code",
   "execution_count": 9,
   "metadata": {},
   "outputs": [],
   "source": [
    "data.loc[(data['rooms'] == 0) & (data['studio'] == False), 'rooms'] = 1\n",
    "data.loc[(data['rooms'] == 0) & (data['studio'] == True), 'rooms'] = 0"
   ]
  },
  {
   "cell_type": "markdown",
   "metadata": {},
   "source": [
    "Изменяем значение с 0 на 1 у квартир, которые не являются студями."
   ]
  },
  {
   "cell_type": "code",
   "execution_count": 10,
   "metadata": {},
   "outputs": [],
   "source": [
    "for i in data['rooms'].unique():\n",
    "    data.loc[(data['rooms'] == i) & (data['living_area'].isna()), 'living_area'] = \\\n",
    "    data.loc[(data['rooms'] == i), 'living_area'].median()"
   ]
  },
  {
   "cell_type": "markdown",
   "metadata": {},
   "source": [
    "Заполнение пустых ячеек столбца 'living_area' медианными значениями столбца 'rooms'."
   ]
  },
  {
   "cell_type": "code",
   "execution_count": 11,
   "metadata": {},
   "outputs": [],
   "source": [
    "data.loc[(data['kitchen_area'].isna()) & (data['studio'] == True), 'kitchen_area'] = 0\n",
    "#Заполнение пропусков для квартир-студий\n",
    "\n",
    "for i in data['rooms'].unique():\n",
    "    data.loc[(data['rooms'] == i) & (data['kitchen_area'].isna()), 'kitchen_area'] = \\\n",
    "    data.loc[(data['rooms'] == i), 'kitchen_area'].median()"
   ]
  },
  {
   "cell_type": "markdown",
   "metadata": {},
   "source": [
    "Заполнение пустых ячеек столбца 'kitchen_area' медианными значениями столбца 'rooms'."
   ]
  },
  {
   "cell_type": "code",
   "execution_count": 12,
   "metadata": {},
   "outputs": [],
   "source": [
    "data['balcony'] = data['balcony'].fillna(0)"
   ]
  },
  {
   "cell_type": "markdown",
   "metadata": {},
   "source": [
    "Продавцы в некоторых обьявлениях не указали число балконов, скорее всего, в квартирах их нет. \\\n",
    "Такие пропуски правильно заменить на 0"
   ]
  },
  {
   "cell_type": "code",
   "execution_count": 13,
   "metadata": {},
   "outputs": [],
   "source": [
    "data['days_exposition'] = data['days_exposition'].fillna(data['days_exposition'].fillna(0))\n",
    "#Замена пустых ячеек на 0\n",
    "#Пропуски в 'days_exposition' возможны по причине, что на момент выгрузки обьявления были активны."
   ]
  },
  {
   "cell_type": "code",
   "execution_count": 14,
   "metadata": {},
   "outputs": [],
   "source": [
    "data['parks_around3000'] = data['parks_around3000'].fillna(data['parks_around3000'].median())\n",
    "data['ponds_around3000'] = data['ponds_around3000'].fillna(data['ponds_around3000'].median())\n",
    "data['cityCenters_nearest'] = data['cityCenters_nearest'].fillna(data['cityCenters_nearest'].median()) "
   ]
  },
  {
   "cell_type": "markdown",
   "metadata": {},
   "source": [
    "В данном случае, замена пустых значений на ноль не корректна. \\\n",
    "На ноль не стоит заменять никогда за исключением случаев, когда мы точно знаем, что пропуск - это ноль (как в случае с балконами). Расстояния лучше заменить медианами по всему набору данных."
   ]
  },
  {
   "cell_type": "code",
   "execution_count": 15,
   "metadata": {},
   "outputs": [],
   "source": [
    "for s in ['поселок ', 'посёлок ', 'деревня ', 'село ', 'городского типа ', 'садовое товарищество ', 'станции ', 'при железнодорожной ', 'городской ', 'коттеджный ', 'городской ', 'имени ', 'садоводческое некоммерческое товарищество ']:\n",
    "     data['locality_name'] = data['locality_name'].str.replace(s, '')"
   ]
  },
  {
   "cell_type": "markdown",
   "metadata": {},
   "source": [
    "Убираем неявные дубликаты местоположения. \\\n",
    "Заполнить пропуски в названии населенных пунктов не представляется возможным."
   ]
  },
  {
   "cell_type": "code",
   "execution_count": 16,
   "metadata": {},
   "outputs": [],
   "source": [
    "data['is_apartment'] = data['is_apartment'].astype('bool')"
   ]
  },
  {
   "cell_type": "markdown",
   "metadata": {},
   "source": [
    "Апартаменты (булев тип): True - 50 строк, False - 2725 строк \\\n",
    "Нет четких критериев, что можно отнести к апартаментам. \\\n",
    "Обычно владельцы апартаментов точно знают, что у них особая форма недвижимости и указывают ее. Если не указали, значит не апартаменты. \\ \n",
    "Переводим тип данных в bool."
   ]
  },
  {
   "cell_type": "code",
   "execution_count": 17,
   "metadata": {},
   "outputs": [],
   "source": [
    "data['first_day_exposition'] = pd.to_datetime(data['first_day_exposition'], format='%Y-%m-%dT%H:%M:%S')"
   ]
  },
  {
   "cell_type": "code",
   "execution_count": 18,
   "metadata": {},
   "outputs": [],
   "source": [
    "data['floors_total'] = data['floors_total'].round(0).astype('int')"
   ]
  },
  {
   "cell_type": "code",
   "execution_count": 19,
   "metadata": {},
   "outputs": [],
   "source": [
    "data['parks_around3000'] = data['parks_around3000'].round(0).astype('int')"
   ]
  },
  {
   "cell_type": "code",
   "execution_count": 20,
   "metadata": {},
   "outputs": [],
   "source": [
    "data['ponds_around3000'] = data['ponds_around3000'].round(0).astype('int')"
   ]
  },
  {
   "cell_type": "code",
   "execution_count": 21,
   "metadata": {},
   "outputs": [],
   "source": [
    "data['days_exposition'] = data['days_exposition'].round(0).astype('int')"
   ]
  },
  {
   "cell_type": "code",
   "execution_count": 22,
   "metadata": {},
   "outputs": [],
   "source": [
    "data['balcony'] = data['balcony'].round(0).astype('int')"
   ]
  },
  {
   "cell_type": "code",
   "execution_count": 23,
   "metadata": {},
   "outputs": [],
   "source": [
    "data['balcony'] = data['balcony'].round(0).astype('int')"
   ]
  },
  {
   "cell_type": "markdown",
   "metadata": {},
   "source": [
    "Изменяем типы данных: \n",
    "- 'is_apartment' - содержит значения True/False, что соответствует логическому типу данных. \n",
    "- 'first_day_exposition' - столбец с датой и временем, соответсвует типу данных datetime64. \n",
    "- Столбцы 'floors_total', 'parks_around3000', 'ponds_around3000', 'days_exposition', 'balcony' в исходных данных имели вещественный тип, перевод их в целочисленный тип данных считаю более разумным. "
   ]
  },
  {
   "cell_type": "code",
   "execution_count": 24,
   "metadata": {
    "scrolled": true
   },
   "outputs": [
    {
     "name": "stdout",
     "output_type": "stream",
     "text": [
      "<class 'pandas.core.frame.DataFrame'>\n",
      "RangeIndex: 23699 entries, 0 to 23698\n",
      "Data columns (total 22 columns):\n",
      " #   Column                Non-Null Count  Dtype         \n",
      "---  ------                --------------  -----         \n",
      " 0   total_images          23699 non-null  int64         \n",
      " 1   last_price            23699 non-null  float64       \n",
      " 2   total_area            23699 non-null  float64       \n",
      " 3   first_day_exposition  23699 non-null  datetime64[ns]\n",
      " 4   rooms                 23699 non-null  int64         \n",
      " 5   ceiling_height        23699 non-null  float64       \n",
      " 6   floors_total          23699 non-null  int64         \n",
      " 7   living_area           23699 non-null  float64       \n",
      " 8   floor                 23699 non-null  int64         \n",
      " 9   is_apartment          23699 non-null  bool          \n",
      " 10  studio                23699 non-null  bool          \n",
      " 11  open_plan             23699 non-null  bool          \n",
      " 12  kitchen_area          23699 non-null  float64       \n",
      " 13  balcony               23699 non-null  int64         \n",
      " 14  locality_name         23650 non-null  object        \n",
      " 15  airports_nearest      18157 non-null  float64       \n",
      " 16  cityCenters_nearest   23699 non-null  float64       \n",
      " 17  parks_around3000      23699 non-null  int64         \n",
      " 18  parks_nearest         8079 non-null   float64       \n",
      " 19  ponds_around3000      23699 non-null  int64         \n",
      " 20  ponds_nearest         9110 non-null   float64       \n",
      " 21  days_exposition       23699 non-null  int64         \n",
      "dtypes: bool(3), datetime64[ns](1), float64(9), int64(8), object(1)\n",
      "memory usage: 3.5+ MB\n"
     ]
    }
   ],
   "source": [
    "data.info()"
   ]
  },
  {
   "cell_type": "markdown",
   "metadata": {},
   "source": [
    "Проверка внесенных изменений. \\\n",
    "Предобработка данных была выполнена в полном обьеме в соответствии с чек-листом."
   ]
  },
  {
   "cell_type": "markdown",
   "metadata": {},
   "source": [
    "### Посчитайте и добавьте в таблицу новые столбцы"
   ]
  },
  {
   "cell_type": "code",
   "execution_count": 25,
   "metadata": {},
   "outputs": [],
   "source": [
    "data['price_m'] = round(data['last_price'] / data['total_area'], 1)\n",
    "#Цена одного квадратного метра"
   ]
  },
  {
   "cell_type": "code",
   "execution_count": 26,
   "metadata": {},
   "outputs": [],
   "source": [
    "data['weekday'] = data['first_day_exposition'].dt.weekday\n",
    "#День публикации объявления (0 - понедельник, 1 - вторник и т.д.)"
   ]
  },
  {
   "cell_type": "code",
   "execution_count": 27,
   "metadata": {},
   "outputs": [],
   "source": [
    "data['month'] = data['first_day_exposition'].dt.month\n",
    "#Месяц публикации объявления"
   ]
  },
  {
   "cell_type": "code",
   "execution_count": 28,
   "metadata": {},
   "outputs": [],
   "source": [
    "data['year'] = data['first_day_exposition'].dt.year\n",
    "#Год публикации объявления"
   ]
  },
  {
   "cell_type": "code",
   "execution_count": 29,
   "metadata": {},
   "outputs": [],
   "source": [
    "def floors_flat(row):\n",
    "    floors_total = row['floors_total']\n",
    "    floor = row['floor']\n",
    "    if floor == 1:\n",
    "        return 'первый'\n",
    "    elif floor == floors_total:\n",
    "        return 'последний'\n",
    "    elif 1 < floor < floors_total:\n",
    "        return 'другой'\n",
    "\n",
    "data['floors_flat'] = data.apply(floors_flat, axis=1) \n",
    "#Тип этажа квартиры (значения — «первый», «последний», «другой»)"
   ]
  },
  {
   "cell_type": "code",
   "execution_count": 30,
   "metadata": {},
   "outputs": [],
   "source": [
    "data['cityCenters_nearest_km'] = round((data['cityCenters_nearest'] / 1000), 1)\n",
    "#Создание столбца с расстоянием в км до центра города\n",
    "data['cityCenters_nearest_km'] = data['cityCenters_nearest_km'].astype('int')\n",
    "#Изменение типов данных"
   ]
  },
  {
   "cell_type": "code",
   "execution_count": 31,
   "metadata": {},
   "outputs": [
    {
     "data": {
      "text/html": [
       "<div>\n",
       "<style scoped>\n",
       "    .dataframe tbody tr th:only-of-type {\n",
       "        vertical-align: middle;\n",
       "    }\n",
       "\n",
       "    .dataframe tbody tr th {\n",
       "        vertical-align: top;\n",
       "    }\n",
       "\n",
       "    .dataframe thead th {\n",
       "        text-align: right;\n",
       "    }\n",
       "</style>\n",
       "<table border=\"1\" class=\"dataframe\">\n",
       "  <thead>\n",
       "    <tr style=\"text-align: right;\">\n",
       "      <th></th>\n",
       "      <th>total_images</th>\n",
       "      <th>last_price</th>\n",
       "      <th>total_area</th>\n",
       "      <th>first_day_exposition</th>\n",
       "      <th>rooms</th>\n",
       "      <th>ceiling_height</th>\n",
       "      <th>floors_total</th>\n",
       "      <th>living_area</th>\n",
       "      <th>floor</th>\n",
       "      <th>is_apartment</th>\n",
       "      <th>studio</th>\n",
       "      <th>open_plan</th>\n",
       "      <th>kitchen_area</th>\n",
       "      <th>balcony</th>\n",
       "      <th>locality_name</th>\n",
       "      <th>airports_nearest</th>\n",
       "      <th>cityCenters_nearest</th>\n",
       "      <th>parks_around3000</th>\n",
       "      <th>parks_nearest</th>\n",
       "      <th>ponds_around3000</th>\n",
       "      <th>ponds_nearest</th>\n",
       "      <th>days_exposition</th>\n",
       "      <th>price_m</th>\n",
       "      <th>weekday</th>\n",
       "      <th>month</th>\n",
       "      <th>year</th>\n",
       "      <th>floors_flat</th>\n",
       "      <th>cityCenters_nearest_km</th>\n",
       "    </tr>\n",
       "  </thead>\n",
       "  <tbody>\n",
       "    <tr>\n",
       "      <th>0</th>\n",
       "      <td>20</td>\n",
       "      <td>13000000.0</td>\n",
       "      <td>108.0</td>\n",
       "      <td>2019-03-07</td>\n",
       "      <td>3</td>\n",
       "      <td>2.70</td>\n",
       "      <td>16</td>\n",
       "      <td>51.0</td>\n",
       "      <td>8</td>\n",
       "      <td>True</td>\n",
       "      <td>False</td>\n",
       "      <td>False</td>\n",
       "      <td>25.0</td>\n",
       "      <td>0</td>\n",
       "      <td>Санкт-Петербург</td>\n",
       "      <td>18863.0</td>\n",
       "      <td>16028.0</td>\n",
       "      <td>1</td>\n",
       "      <td>482.0</td>\n",
       "      <td>2</td>\n",
       "      <td>755.0</td>\n",
       "      <td>0</td>\n",
       "      <td>120370.4</td>\n",
       "      <td>3</td>\n",
       "      <td>3</td>\n",
       "      <td>2019</td>\n",
       "      <td>другой</td>\n",
       "      <td>16</td>\n",
       "    </tr>\n",
       "    <tr>\n",
       "      <th>1</th>\n",
       "      <td>7</td>\n",
       "      <td>3350000.0</td>\n",
       "      <td>40.4</td>\n",
       "      <td>2018-12-04</td>\n",
       "      <td>1</td>\n",
       "      <td>2.65</td>\n",
       "      <td>11</td>\n",
       "      <td>18.6</td>\n",
       "      <td>1</td>\n",
       "      <td>True</td>\n",
       "      <td>False</td>\n",
       "      <td>False</td>\n",
       "      <td>11.0</td>\n",
       "      <td>2</td>\n",
       "      <td>Шушары</td>\n",
       "      <td>12817.0</td>\n",
       "      <td>18603.0</td>\n",
       "      <td>0</td>\n",
       "      <td>NaN</td>\n",
       "      <td>0</td>\n",
       "      <td>NaN</td>\n",
       "      <td>81</td>\n",
       "      <td>82920.8</td>\n",
       "      <td>1</td>\n",
       "      <td>12</td>\n",
       "      <td>2018</td>\n",
       "      <td>первый</td>\n",
       "      <td>18</td>\n",
       "    </tr>\n",
       "    <tr>\n",
       "      <th>2</th>\n",
       "      <td>10</td>\n",
       "      <td>5196000.0</td>\n",
       "      <td>56.0</td>\n",
       "      <td>2015-08-20</td>\n",
       "      <td>2</td>\n",
       "      <td>2.65</td>\n",
       "      <td>5</td>\n",
       "      <td>34.3</td>\n",
       "      <td>4</td>\n",
       "      <td>True</td>\n",
       "      <td>False</td>\n",
       "      <td>False</td>\n",
       "      <td>8.3</td>\n",
       "      <td>0</td>\n",
       "      <td>Санкт-Петербург</td>\n",
       "      <td>21741.0</td>\n",
       "      <td>13933.0</td>\n",
       "      <td>1</td>\n",
       "      <td>90.0</td>\n",
       "      <td>2</td>\n",
       "      <td>574.0</td>\n",
       "      <td>558</td>\n",
       "      <td>92785.7</td>\n",
       "      <td>3</td>\n",
       "      <td>8</td>\n",
       "      <td>2015</td>\n",
       "      <td>другой</td>\n",
       "      <td>13</td>\n",
       "    </tr>\n",
       "    <tr>\n",
       "      <th>3</th>\n",
       "      <td>0</td>\n",
       "      <td>64900000.0</td>\n",
       "      <td>159.0</td>\n",
       "      <td>2015-07-24</td>\n",
       "      <td>3</td>\n",
       "      <td>2.65</td>\n",
       "      <td>14</td>\n",
       "      <td>45.0</td>\n",
       "      <td>9</td>\n",
       "      <td>True</td>\n",
       "      <td>False</td>\n",
       "      <td>False</td>\n",
       "      <td>9.5</td>\n",
       "      <td>0</td>\n",
       "      <td>Санкт-Петербург</td>\n",
       "      <td>28098.0</td>\n",
       "      <td>6800.0</td>\n",
       "      <td>2</td>\n",
       "      <td>84.0</td>\n",
       "      <td>3</td>\n",
       "      <td>234.0</td>\n",
       "      <td>424</td>\n",
       "      <td>408176.1</td>\n",
       "      <td>4</td>\n",
       "      <td>7</td>\n",
       "      <td>2015</td>\n",
       "      <td>другой</td>\n",
       "      <td>6</td>\n",
       "    </tr>\n",
       "    <tr>\n",
       "      <th>4</th>\n",
       "      <td>2</td>\n",
       "      <td>10000000.0</td>\n",
       "      <td>100.0</td>\n",
       "      <td>2018-06-19</td>\n",
       "      <td>2</td>\n",
       "      <td>3.03</td>\n",
       "      <td>14</td>\n",
       "      <td>32.0</td>\n",
       "      <td>13</td>\n",
       "      <td>True</td>\n",
       "      <td>False</td>\n",
       "      <td>False</td>\n",
       "      <td>41.0</td>\n",
       "      <td>0</td>\n",
       "      <td>Санкт-Петербург</td>\n",
       "      <td>31856.0</td>\n",
       "      <td>8098.0</td>\n",
       "      <td>2</td>\n",
       "      <td>112.0</td>\n",
       "      <td>1</td>\n",
       "      <td>48.0</td>\n",
       "      <td>121</td>\n",
       "      <td>100000.0</td>\n",
       "      <td>1</td>\n",
       "      <td>6</td>\n",
       "      <td>2018</td>\n",
       "      <td>другой</td>\n",
       "      <td>8</td>\n",
       "    </tr>\n",
       "  </tbody>\n",
       "</table>\n",
       "</div>"
      ],
      "text/plain": [
       "   total_images  last_price  total_area first_day_exposition  rooms  \\\n",
       "0            20  13000000.0       108.0           2019-03-07      3   \n",
       "1             7   3350000.0        40.4           2018-12-04      1   \n",
       "2            10   5196000.0        56.0           2015-08-20      2   \n",
       "3             0  64900000.0       159.0           2015-07-24      3   \n",
       "4             2  10000000.0       100.0           2018-06-19      2   \n",
       "\n",
       "   ceiling_height  floors_total  living_area  floor  is_apartment  studio  \\\n",
       "0            2.70            16         51.0      8          True   False   \n",
       "1            2.65            11         18.6      1          True   False   \n",
       "2            2.65             5         34.3      4          True   False   \n",
       "3            2.65            14         45.0      9          True   False   \n",
       "4            3.03            14         32.0     13          True   False   \n",
       "\n",
       "   open_plan  kitchen_area  balcony    locality_name  airports_nearest  \\\n",
       "0      False          25.0        0  Санкт-Петербург           18863.0   \n",
       "1      False          11.0        2           Шушары           12817.0   \n",
       "2      False           8.3        0  Санкт-Петербург           21741.0   \n",
       "3      False           9.5        0  Санкт-Петербург           28098.0   \n",
       "4      False          41.0        0  Санкт-Петербург           31856.0   \n",
       "\n",
       "   cityCenters_nearest  parks_around3000  parks_nearest  ponds_around3000  \\\n",
       "0              16028.0                 1          482.0                 2   \n",
       "1              18603.0                 0            NaN                 0   \n",
       "2              13933.0                 1           90.0                 2   \n",
       "3               6800.0                 2           84.0                 3   \n",
       "4               8098.0                 2          112.0                 1   \n",
       "\n",
       "   ponds_nearest  days_exposition   price_m  weekday  month  year floors_flat  \\\n",
       "0          755.0                0  120370.4        3      3  2019      другой   \n",
       "1            NaN               81   82920.8        1     12  2018      первый   \n",
       "2          574.0              558   92785.7        3      8  2015      другой   \n",
       "3          234.0              424  408176.1        4      7  2015      другой   \n",
       "4           48.0              121  100000.0        1      6  2018      другой   \n",
       "\n",
       "   cityCenters_nearest_km  \n",
       "0                      16  \n",
       "1                      18  \n",
       "2                      13  \n",
       "3                       6  \n",
       "4                       8  "
      ]
     },
     "execution_count": 31,
     "metadata": {},
     "output_type": "execute_result"
    }
   ],
   "source": [
    "data.head() #Значения посчитаны, новые столбцы добавлены"
   ]
  },
  {
   "cell_type": "markdown",
   "metadata": {},
   "source": [
    "### Проведите исследовательский анализ данных"
   ]
  },
  {
   "cell_type": "code",
   "execution_count": 32,
   "metadata": {},
   "outputs": [
    {
     "data": {
      "text/plain": [
       "count    23699.000000\n",
       "mean        60.348651\n",
       "std         35.654083\n",
       "min         12.000000\n",
       "25%         40.000000\n",
       "50%         52.000000\n",
       "75%         69.900000\n",
       "max        900.000000\n",
       "Name: total_area, dtype: float64"
      ]
     },
     "execution_count": 32,
     "metadata": {},
     "output_type": "execute_result"
    },
    {
     "data": {
      "image/png": "[encoded data removed]",
      "text/plain": [
       "<Figure size 360x216 with 1 Axes>"
      ]
     },
     "metadata": {
      "needs_background": "light"
     },
     "output_type": "display_data"
    }
   ],
   "source": [
    "data.plot(y='total_area', kind='hist', bins=100, grid=True, figsize=(5,3), range=(0,500))\n",
    "data['total_area'].describe()\n",
    "\n",
    "#Строим гистограммы по основным показателям "
   ]
  },
  {
   "cell_type": "code",
   "execution_count": 33,
   "metadata": {},
   "outputs": [
    {
     "data": {
      "text/plain": [
       "count    23699.000000\n",
       "mean        34.321914\n",
       "std         21.700678\n",
       "min          2.000000\n",
       "25%         18.400000\n",
       "50%         30.300000\n",
       "75%         42.700000\n",
       "max        409.700000\n",
       "Name: living_area, dtype: float64"
      ]
     },
     "execution_count": 33,
     "metadata": {},
     "output_type": "execute_result"
    },
    {
     "data": {
      "image/png": "[encoded data removed]",
      "text/plain": [
       "<Figure size 360x216 with 1 Axes>"
      ]
     },
     "metadata": {
      "needs_background": "light"
     },
     "output_type": "display_data"
    }
   ],
   "source": [
    "data.plot(y='living_area', kind='hist', bins=100, grid=True, figsize=(5,3))\n",
    "data['living_area'].describe()"
   ]
  },
  {
   "cell_type": "code",
   "execution_count": 34,
   "metadata": {},
   "outputs": [
    {
     "data": {
      "text/plain": [
       "count    23699.000000\n",
       "mean        10.394335\n",
       "std          5.701706\n",
       "min          0.000000\n",
       "25%          7.200000\n",
       "50%          9.000000\n",
       "75%         11.500000\n",
       "max        112.000000\n",
       "Name: kitchen_area, dtype: float64"
      ]
     },
     "execution_count": 34,
     "metadata": {},
     "output_type": "execute_result"
    },
    {
     "data": {
      "image/png": "[encoded data removed]",
      "text/plain": [
       "<Figure size 360x216 with 1 Axes>"
      ]
     },
     "metadata": {
      "needs_background": "light"
     },
     "output_type": "display_data"
    }
   ],
   "source": [
    "data.plot(y='kitchen_area', kind='hist', bins=50, grid=True, figsize=(5,3))\n",
    "data['kitchen_area'].describe()\n",
    "#data['kitchen_area'].unique()"
   ]
  },
  {
   "cell_type": "code",
   "execution_count": 35,
   "metadata": {},
   "outputs": [
    {
     "data": {
      "text/plain": [
       "count    23699.000000\n",
       "mean         2.073125\n",
       "std          1.074770\n",
       "min          0.000000\n",
       "25%          1.000000\n",
       "50%          2.000000\n",
       "75%          3.000000\n",
       "max         19.000000\n",
       "Name: rooms, dtype: float64"
      ]
     },
     "execution_count": 35,
     "metadata": {},
     "output_type": "execute_result"
    },
    {
     "data": {
      "image/png": "[encoded data removed]",
      "text/plain": [
       "<Figure size 360x216 with 1 Axes>"
      ]
     },
     "metadata": {
      "needs_background": "light"
     },
     "output_type": "display_data"
    }
   ],
   "source": [
    "data.plot(y='rooms', kind='hist', grid=True, bins=20, figsize=(5,3))\n",
    "data['rooms'].describe()"
   ]
  },
  {
   "cell_type": "code",
   "execution_count": 36,
   "metadata": {},
   "outputs": [
    {
     "data": {
      "text/plain": [
       "count    23699.000000\n",
       "mean         2.697798\n",
       "std          0.237643\n",
       "min          1.000000\n",
       "25%          2.600000\n",
       "50%          2.650000\n",
       "75%          2.700000\n",
       "max         10.000000\n",
       "Name: ceiling_height, dtype: float64"
      ]
     },
     "execution_count": 36,
     "metadata": {},
     "output_type": "execute_result"
    },
    {
     "data": {
      "image/png": "[encoded data removed]",
      "text/plain": [
       "<Figure size 360x216 with 1 Axes>"
      ]
     },
     "metadata": {
      "needs_background": "light"
     },
     "output_type": "display_data"
    }
   ],
   "source": [
    "data.plot(y='ceiling_height', kind='hist', grid=True, bins=20, range=(2,5), figsize=(5,3))\n",
    "data['ceiling_height'].describe()"
   ]
  },
  {
   "cell_type": "code",
   "execution_count": 37,
   "metadata": {},
   "outputs": [
    {
     "data": {
      "text/plain": [
       "count    23699.000000\n",
       "mean         5.892358\n",
       "std          4.885249\n",
       "min          1.000000\n",
       "25%          2.000000\n",
       "50%          4.000000\n",
       "75%          8.000000\n",
       "max         33.000000\n",
       "Name: floor, dtype: float64"
      ]
     },
     "execution_count": 37,
     "metadata": {},
     "output_type": "execute_result"
    },
    {
     "data": {
      "image/png": "[encoded data removed]",
      "text/plain": [
       "<Figure size 360x216 with 1 Axes>"
      ]
     },
     "metadata": {
      "needs_background": "light"
     },
     "output_type": "display_data"
    }
   ],
   "source": [
    "data.plot(y='floor', kind='hist', grid=True, bins=30, range=(0,30), figsize=(5,3))\n",
    "data['floor'].describe()"
   ]
  },
  {
   "cell_type": "code",
   "execution_count": 38,
   "metadata": {},
   "outputs": [
    {
     "data": {
      "text/plain": [
       "count    23699.000000\n",
       "mean        10.722182\n",
       "std          6.633768\n",
       "min          1.000000\n",
       "25%          5.000000\n",
       "50%          9.000000\n",
       "75%         16.000000\n",
       "max         60.000000\n",
       "Name: floors_total, dtype: float64"
      ]
     },
     "execution_count": 38,
     "metadata": {},
     "output_type": "execute_result"
    },
    {
     "data": {
      "image/png": "[encoded data removed]",
      "text/plain": [
       "<Figure size 360x216 with 1 Axes>"
      ]
     },
     "metadata": {
      "needs_background": "light"
     },
     "output_type": "display_data"
    }
   ],
   "source": [
    "data.plot(y='floors_total', kind='hist', grid=True, bins=30, range=(0, 40), figsize=(5,3))\n",
    "data['floors_total'].describe()"
   ]
  },
  {
   "cell_type": "markdown",
   "metadata": {},
   "source": [
    "После изучения гистограмм, можно сделать вывод, что присутствует нормальное распределение данных. \\\n",
    "Стандартное отклонение по изученным данным от 0,2 до 35,6 в показателе 'общая площадь квартиры (м²)', что показывает, на сколько значения в выборке отличаются от среднего арифметического. То есть, в этом наборе данных присутствуют выбросы. \\\n",
    "Из архива объявлений о продаже квартир в Санкт-Петербурге и соседних населённых пунктах можем сделать вывод, что площадь квартир находится в диапазоне от 12 до 900 м², большинство из них - это квартиры с площадью 60 м². \\\n",
    "В популярных квартирах, площадь жилой зоны составляет - 30-40 м² (средняя - 34,2). \\\n",
    "Большинство квартир, не обладает большими обьемами, средний размер кухни - 10,4 м². \\\n",
    "Комнат в среднем 2, самые популярные варианты 1-3 комнаты. Но есть вариант с 19 комнатами. \\\n",
    "Потолки на стандартном уровне - 2,7 м. \\\n",
    "Меньше всего люди предпочитают высокие этажи. Наиболее предпочтительный вариант - 1-4 этаж. \\\n",
    "Большинство квартир продается в стандартных панельках 5-и и 9-и этажей."
   ]
  },
  {
   "cell_type": "code",
   "execution_count": 39,
   "metadata": {},
   "outputs": [
    {
     "data": {
      "image/png": "[encoded data removed]",
      "text/plain": [
       "<Figure size 1080x1440 with 25 Axes>"
      ]
     },
     "metadata": {
      "needs_background": "light"
     },
     "output_type": "display_data"
    }
   ],
   "source": [
    "data.hist(figsize=(15, 20))\n",
    "plt.show()"
   ]
  },
  {
   "cell_type": "markdown",
   "metadata": {},
   "source": [
    "Как быстро продавались квартиры (столбец days_exposition)"
   ]
  },
  {
   "cell_type": "code",
   "execution_count": 40,
   "metadata": {},
   "outputs": [
    {
     "data": {
      "text/plain": [
       "(1.0, 1000.0)"
      ]
     },
     "execution_count": 40,
     "metadata": {},
     "output_type": "execute_result"
    },
    {
     "data": {
      "image/png": "[encoded data removed]",
      "text/plain": [
       "<Figure size 432x288 with 1 Axes>"
      ]
     },
     "metadata": {
      "needs_background": "light"
     },
     "output_type": "display_data"
    }
   ],
   "source": [
    "plt.boxplot(data[data['days_exposition']!=0]['days_exposition'])\n",
    "plt.ylim(1,1000)\n",
    "#Строим диаграмму размаха"
   ]
  },
  {
   "cell_type": "code",
   "execution_count": 41,
   "metadata": {},
   "outputs": [
    {
     "data": {
      "text/plain": [
       "<AxesSubplot:ylabel='Frequency'>"
      ]
     },
     "execution_count": 41,
     "metadata": {},
     "output_type": "execute_result"
    },
    {
     "data": {
      "image/png": "[encoded data removed]",
      "text/plain": [
       "<Figure size 432x288 with 1 Axes>"
      ]
     },
     "metadata": {
      "needs_background": "light"
     },
     "output_type": "display_data"
    }
   ],
   "source": [
    "data.plot(y='days_exposition', kind='hist', bins=50, grid=True, range=(1,1500))\n",
    "#строим гистограмму с значенями 1-1500, корзины-50"
   ]
  },
  {
   "cell_type": "code",
   "execution_count": 42,
   "metadata": {},
   "outputs": [
    {
     "data": {
      "text/plain": [
       "<AxesSubplot:ylabel='Frequency'>"
      ]
     },
     "execution_count": 42,
     "metadata": {},
     "output_type": "execute_result"
    },
    {
     "data": {
      "image/png": "[encoded data removed]",
      "text/plain": [
       "<Figure size 432x288 with 1 Axes>"
      ]
     },
     "metadata": {
      "needs_background": "light"
     },
     "output_type": "display_data"
    }
   ],
   "source": [
    "data.plot(y='days_exposition', kind='hist', bins=100, grid=True, range=(0,300))\n",
    "#строим гистограмму с значенями 0-300, корзины-100"
   ]
  },
  {
   "cell_type": "code",
   "execution_count": 43,
   "metadata": {},
   "outputs": [
    {
     "data": {
      "text/plain": [
       "count    20518.000000\n",
       "mean       180.888634\n",
       "std        219.727988\n",
       "min          1.000000\n",
       "25%         45.000000\n",
       "50%         95.000000\n",
       "75%        232.000000\n",
       "max       1580.000000\n",
       "Name: days_exposition, dtype: float64"
      ]
     },
     "execution_count": 43,
     "metadata": {},
     "output_type": "execute_result"
    }
   ],
   "source": [
    "data[data['days_exposition']!=0]['days_exposition'].describe()\n",
    "#среднее значение = 180,9. Медиана = 95 "
   ]
  },
  {
   "cell_type": "code",
   "execution_count": 44,
   "metadata": {},
   "outputs": [
    {
     "data": {
      "text/plain": [
       "45      880\n",
       "60      538\n",
       "7       234\n",
       "30      208\n",
       "90      204\n",
       "       ... \n",
       "1112      1\n",
       "1080      1\n",
       "1064      1\n",
       "1032      1\n",
       "1391      1\n",
       "Name: days_exposition, Length: 1141, dtype: int64"
      ]
     },
     "execution_count": 44,
     "metadata": {},
     "output_type": "execute_result"
    }
   ],
   "source": [
    "data[data['days_exposition']!=0]['days_exposition'].value_counts()\n",
    "#Выделяются 5 групп аномалий - 45, 60, 7, 30, 90"
   ]
  },
  {
   "cell_type": "markdown",
   "metadata": {},
   "source": [
    "Выделены аномалии - Дни, когда больше всего снимается обьявлений. \\\n",
    "Правилами Я.Недвижость установлены сроки публикации обьявлений: \\\n",
    "Для Москвы, Санкт-Петербурга и их областей: Продажа\t- 120 дней, Аренда длительная - 90 дней, Аренда посуточная - 120 дней. Платное объявление - 30 дней. \\\n",
    "Для регионов: Продажа - 45 дней, 90 дней, 60 дней. А для аренды - 7 дней, 30 дней, 60 дней.\n",
    "\n",
    "Так же есть правило, что на 31-й день платного размещения включится автопродление. Отключить автопродление нельзя, просто снимите объявление с публикации, если оно больше неактуально. \\\n",
    "Можно сделать вывод, что большинство обьявлений размещены бесплатно и снимаются автоматически. \\\n",
    "Необходимо отделить автоматически снятые обьявления от тех, которые совпали с реальными продажами."
   ]
  },
  {
   "cell_type": "code",
   "execution_count": 45,
   "metadata": {},
   "outputs": [],
   "source": [
    "sale_days_exposition = data.query('days_exposition != 45 and days_exposition != 30 and days_exposition != 60 and days_exposition != 90 and days_exposition != 7 and days_exposition != 0')"
   ]
  },
  {
   "cell_type": "code",
   "execution_count": 46,
   "metadata": {},
   "outputs": [
    {
     "data": {
      "text/plain": [
       "(1.0, 1000.0)"
      ]
     },
     "execution_count": 46,
     "metadata": {},
     "output_type": "execute_result"
    },
    {
     "data": {
      "image/png": "[encoded data removed]",
      "text/plain": [
       "<Figure size 432x288 with 1 Axes>"
      ]
     },
     "metadata": {
      "needs_background": "light"
     },
     "output_type": "display_data"
    }
   ],
   "source": [
    "#строим диаграмму размаха\n",
    "plt.boxplot(sale_days_exposition['days_exposition'])\n",
    "plt.ylim(1,1000)"
   ]
  },
  {
   "cell_type": "code",
   "execution_count": 47,
   "metadata": {},
   "outputs": [
    {
     "data": {
      "text/plain": [
       "<AxesSubplot:ylabel='Frequency'>"
      ]
     },
     "execution_count": 47,
     "metadata": {},
     "output_type": "execute_result"
    },
    {
     "data": {
      "image/png": "[encoded data removed]",
      "text/plain": [
       "<Figure size 432x288 with 1 Axes>"
      ]
     },
     "metadata": {
      "needs_background": "light"
     },
     "output_type": "display_data"
    }
   ],
   "source": [
    "#строим гистограмму с значенями 1-1400, корзины-50\n",
    "sale_days_exposition.plot(y = 'days_exposition', kind = 'hist', bins = 50, grid = True, range = (1,1500))"
   ]
  },
  {
   "cell_type": "code",
   "execution_count": 48,
   "metadata": {},
   "outputs": [
    {
     "data": {
      "text/plain": [
       "<AxesSubplot:ylabel='Frequency'>"
      ]
     },
     "execution_count": 48,
     "metadata": {},
     "output_type": "execute_result"
    },
    {
     "data": {
      "image/png": "[encoded data removed]",
      "text/plain": [
       "<Figure size 432x288 with 1 Axes>"
      ]
     },
     "metadata": {
      "needs_background": "light"
     },
     "output_type": "display_data"
    }
   ],
   "source": [
    "#строим гистограмму с значенями 1-300, корзины-100\n",
    "sale_days_exposition.plot(y = 'days_exposition', kind = 'hist', bins = 100, grid = True, range = (1,300))"
   ]
  },
  {
   "cell_type": "code",
   "execution_count": 49,
   "metadata": {},
   "outputs": [
    {
     "data": {
      "text/plain": [
       "4       176\n",
       "3       158\n",
       "5       152\n",
       "14      148\n",
       "9       143\n",
       "       ... \n",
       "1112      1\n",
       "1080      1\n",
       "1064      1\n",
       "1032      1\n",
       "1391      1\n",
       "Name: days_exposition, Length: 1136, dtype: int64"
      ]
     },
     "execution_count": 49,
     "metadata": {},
     "output_type": "execute_result"
    }
   ],
   "source": [
    "sale_days_exposition['days_exposition'].value_counts()"
   ]
  },
  {
   "cell_type": "code",
   "execution_count": 50,
   "metadata": {},
   "outputs": [
    {
     "data": {
      "text/plain": [
       "count    18454.000000\n",
       "mean       195.803349\n",
       "std        226.760010\n",
       "min          1.000000\n",
       "25%         44.000000\n",
       "50%        114.000000\n",
       "75%        259.000000\n",
       "max       1580.000000\n",
       "Name: days_exposition, dtype: float64"
      ]
     },
     "execution_count": 50,
     "metadata": {},
     "output_type": "execute_result"
    }
   ],
   "source": [
    "sale_days_exposition['days_exposition'].describe()\n",
    "#среднее значение - 114\n",
    "#медиана - 195,8 "
   ]
  },
  {
   "cell_type": "markdown",
   "metadata": {},
   "source": [
    "Сложно найти четкие критерии для определения быстрых и медленных продаж.\\\n",
    "На основании исследуемых данных, можно сделать вывод, что в среднем продажа занимает 2,5 месяца.\\\n",
    "Быстрыми продажи можно считать в течении 1-1.5 месяцев, а необычно долгими - больше года(около 15 месяцев). \\\n",
    "После удаления аномалий среднее значение уменьшилось почти на 60%, а медианное значение увеличилось больше чем в 2 раза.\n"
   ]
  },
  {
   "cell_type": "markdown",
   "metadata": {},
   "source": [
    " \"Какие факторы больше всего влияют на общую (полную) стоимость объекта\""
   ]
  },
  {
   "cell_type": "code",
   "execution_count": 51,
   "metadata": {},
   "outputs": [
    {
     "data": {
      "text/plain": [
       "<AxesSubplot:xlabel='total_area'>"
      ]
     },
     "execution_count": 51,
     "metadata": {},
     "output_type": "execute_result"
    },
    {
     "data": {
      "image/png": "[encoded data removed]",
      "text/plain": [
       "<Figure size 1224x360 with 1 Axes>"
      ]
     },
     "metadata": {
      "needs_background": "light"
     },
     "output_type": "display_data"
    }
   ],
   "source": [
    "data.query('55 < total_area < 65')\\\n",
    "    .pivot_table(index='total_area', values='last_price', aggfunc='median')\\\n",
    "    .plot(style = 'o-', figsize=(17,5)) \n",
    "\n",
    "#Создаем фильтр в пределах медианного значения\n",
    "#Создаем сводную таблицу по столбцу 'total_area', значения - 'last_price'.\n",
    "#Строим график 17x5 для большей наглядности"
   ]
  },
  {
   "cell_type": "code",
   "execution_count": 64,
   "metadata": {},
   "outputs": [
    {
     "data": {
      "text/plain": [
       "0.6536750579657242"
      ]
     },
     "execution_count": 64,
     "metadata": {},
     "output_type": "execute_result"
    }
   ],
   "source": [
    "data['total_area'].corr(data['last_price'])\n",
    "#Зависимость цены от общей площади очень слабая(0.6). Большая площадь не сильно увеличивает цену."
   ]
  },
  {
   "cell_type": "code",
   "execution_count": 65,
   "metadata": {},
   "outputs": [
    {
     "data": {
      "text/plain": [
       "<AxesSubplot:xlabel='living_area'>"
      ]
     },
     "execution_count": 65,
     "metadata": {},
     "output_type": "execute_result"
    },
    {
     "data": {
      "image/png": "[encoded data removed]",
      "text/plain": [
       "<Figure size 1224x360 with 1 Axes>"
      ]
     },
     "metadata": {
      "needs_background": "light"
     },
     "output_type": "display_data"
    }
   ],
   "source": [
    "data.query('30 < living_area < 40')\\\n",
    "    .pivot_table(index='living_area', values='last_price', aggfunc='median')\\\n",
    "    .plot(style='o-', figsize=(17,5))"
   ]
  },
  {
   "cell_type": "code",
   "execution_count": 66,
   "metadata": {},
   "outputs": [
    {
     "data": {
      "text/plain": [
       "0.556061189383346"
      ]
     },
     "execution_count": 66,
     "metadata": {},
     "output_type": "execute_result"
    }
   ],
   "source": [
    "data['living_area'].corr(data['last_price'])\n",
    "#Зависимость цены от общей площади очень слабая(0.6). Большая площадь не сильно увеличивает цену."
   ]
  },
  {
   "cell_type": "code",
   "execution_count": 67,
   "metadata": {},
   "outputs": [
    {
     "data": {
      "text/plain": [
       "<AxesSubplot:xlabel='kitchen_area'>"
      ]
     },
     "execution_count": 67,
     "metadata": {},
     "output_type": "execute_result"
    },
    {
     "data": {
      "image/png": "[encoded data removed]",
      "text/plain": [
       "<Figure size 1224x360 with 1 Axes>"
      ]
     },
     "metadata": {
      "needs_background": "light"
     },
     "output_type": "display_data"
    }
   ],
   "source": [
    "data.query('5 < kitchen_area < 15')\\\n",
    "    .pivot_table(index='kitchen_area', values='last_price', aggfunc='median')\\\n",
    "    .plot(style='o-', figsize=(17,5))"
   ]
  },
  {
   "cell_type": "code",
   "execution_count": 68,
   "metadata": {},
   "outputs": [
    {
     "data": {
      "text/plain": [
       "0.4522376758096617"
      ]
     },
     "execution_count": 68,
     "metadata": {},
     "output_type": "execute_result"
    }
   ],
   "source": [
    "data['kitchen_area'].corr(data['last_price'])\n",
    "#Зависимость цены от общей площади очень слабая(0.4). Большая площадь не сильно увеличивает цену."
   ]
  },
  {
   "cell_type": "code",
   "execution_count": 69,
   "metadata": {},
   "outputs": [
    {
     "data": {
      "text/plain": [
       "<AxesSubplot:xlabel='rooms'>"
      ]
     },
     "execution_count": 69,
     "metadata": {},
     "output_type": "execute_result"
    },
    {
     "data": {
      "image/png": "[encoded data removed]",
      "text/plain": [
       "<Figure size 432x288 with 1 Axes>"
      ]
     },
     "metadata": {
      "needs_background": "light"
     },
     "output_type": "display_data"
    }
   ],
   "source": [
    "data.query('0 < rooms < 7')\\\n",
    "    .pivot_table(index='rooms', values='last_price', aggfunc='median')\\\n",
    "    .plot(style='o-')"
   ]
  },
  {
   "cell_type": "code",
   "execution_count": 70,
   "metadata": {},
   "outputs": [
    {
     "data": {
      "text/plain": [
       "0.36401203449989256"
      ]
     },
     "execution_count": 70,
     "metadata": {},
     "output_type": "execute_result"
    }
   ],
   "source": [
    "data['rooms'].corr(data['last_price'])\n",
    "#Чем больше комнат, тем больше цена. Прямая зависимость цены от кол-ва комнат."
   ]
  },
  {
   "cell_type": "code",
   "execution_count": 71,
   "metadata": {},
   "outputs": [
    {
     "data": {
      "text/plain": [
       "<AxesSubplot:xlabel='floors_flat'>"
      ]
     },
     "execution_count": 71,
     "metadata": {},
     "output_type": "execute_result"
    },
    {
     "data": {
      "image/png": "[encoded data removed]",
      "text/plain": [
       "<Figure size 432x288 with 1 Axes>"
      ]
     },
     "metadata": {
      "needs_background": "light"
     },
     "output_type": "display_data"
    }
   ],
   "source": [
    "data.pivot_table(index='floors_flat', values='last_price', aggfunc='median')\\\n",
    "    .plot(style='o-')\n",
    "#Меньше всего на рынке готовы платить за квартиру на первом этаже. Если это последний этаж, то немного больше.\n",
    "#Квартиры с высокой стоимостью за кв. м. находятся приблизительно на средних этажах."
   ]
  },
  {
   "cell_type": "code",
   "execution_count": 72,
   "metadata": {},
   "outputs": [
    {
     "data": {
      "text/plain": [
       "<AxesSubplot:xlabel='weekday'>"
      ]
     },
     "execution_count": 72,
     "metadata": {},
     "output_type": "execute_result"
    },
    {
     "data": {
      "image/png": "[encoded data removed]",
      "text/plain": [
       "<Figure size 432x288 with 1 Axes>"
      ]
     },
     "metadata": {
      "needs_background": "light"
     },
     "output_type": "display_data"
    }
   ],
   "source": [
    "month_exp = data.pivot_table(index='weekday', values='last_price', aggfunc=['median', 'count'])\n",
    "month_exp.columns = ['median', 'count']\n",
    "month_exp.plot(y='median')"
   ]
  },
  {
   "cell_type": "markdown",
   "metadata": {},
   "source": [
    "Самая высокая стоимость обьявлений приходится на вторник, самая низкая на воскресенье.\\\n",
    "Для такого распределения возможна причина в том, что люди вступают в начало недели с новыми силами и готовы менять жизнь.\\\n",
    "Однако чем ближе выходные, тем потребность в продаже квартиры уменьшается. Так как в пятницу вечером люди планируют отдых и их фокус смещается. Им больше это не интересно или некогда, а в понедельник, после отдыха снова задумываются об этом."
   ]
  },
  {
   "cell_type": "code",
   "execution_count": 73,
   "metadata": {},
   "outputs": [
    {
     "data": {
      "text/plain": [
       "<AxesSubplot:xlabel='month'>"
      ]
     },
     "execution_count": 73,
     "metadata": {},
     "output_type": "execute_result"
    },
    {
     "data": {
      "image/png": "[encoded data removed]",
      "text/plain": [
       "<Figure size 432x288 with 1 Axes>"
      ]
     },
     "metadata": {
      "needs_background": "light"
     },
     "output_type": "display_data"
    }
   ],
   "source": [
    "month_exp = data.pivot_table(index='month', values='last_price', aggfunc=['median', 'count'])\n",
    "month_exp.columns = ['median', 'count']\n",
    "month_exp.plot(y='median')"
   ]
  },
  {
   "cell_type": "markdown",
   "metadata": {},
   "source": [
    "Самая высокая стоимость обьявлений приходится на апрель, сентябрь, ноябрь и декабрь. Самая низкая на май и июнь.\\\n",
    "Скорее всего это может быть связано с несколькими причинами:\n",
    "1. Ежегодное повышение цен с нового года и удержание цены до марта.\n",
    "2. В мае - июне происходит снижение спроса ввиду смещения приоритетов(в том числе отпусков и выпускных). \n",
    "3. Август приносит оживление рынка недвижимости и рост цен на квартиры. Cпрос начинает расти, в связи с тем, что начинается учебный период и многие студенты приезжают/переезжают в Санкт-Петербург.\\\n",
    "Можно сделать вывод, что май-июнь - самое лучшее время для покупки."
   ]
  },
  {
   "cell_type": "code",
   "execution_count": 74,
   "metadata": {},
   "outputs": [
    {
     "data": {
      "text/plain": [
       "<AxesSubplot:xlabel='year'>"
      ]
     },
     "execution_count": 74,
     "metadata": {},
     "output_type": "execute_result"
    },
    {
     "data": {
      "image/png": "[encoded data removed]",
      "text/plain": [
       "<Figure size 432x288 with 1 Axes>"
      ]
     },
     "metadata": {
      "needs_background": "light"
     },
     "output_type": "display_data"
    }
   ],
   "source": [
    "month_exp = data.pivot_table(index='year', values='last_price', aggfunc=['median', 'count'])\n",
    "month_exp.columns = ['median', 'count']\n",
    "month_exp.plot(y='median')"
   ]
  },
  {
   "cell_type": "markdown",
   "metadata": {},
   "source": [
    "На основании графика видим, что снижение цен на нидвижимость начало происходить в 2014.\\\n",
    "Возможные причины: мировой кризис, рост валют, падение цен на нефть, экономические санкции.\\\n",
    "Рынок недвижимости отреагировал сокращением спроса, уменьшением рублевых цен, которые с учетом падения уровня жизни фактически выросли для большинства покупателей.\\\n",
    "Оживление рынка приходится на 2018 год, медленная стабилизация ситуации, увеличение средней цены 1 кв., покупка недвижимости для сохранения накопленных средств."
   ]
  },
  {
   "cell_type": "code",
   "execution_count": null,
   "metadata": {},
   "outputs": [],
   "source": [
    "#Группируем обьявления по населённым пунктам с наибольшим числом объявлений.\n",
    "data.groupby('locality_name').agg({'total_images': 'count', 'price_m': 'mean'})\\\n",
    "    .rename(columns = {'total_images': 'Число обьявлений', 'price_m': 'Цена за 1 кв.м.'})\\\n",
    "    .sort_values(by = 'Число обьявлений', ascending = False).head(10)"
   ]
  },
  {
   "cell_type": "markdown",
   "metadata": {},
   "source": [
    "Из 10 населённых пунктов с наибольшим числом объявлений:\\\n",
    "Самая высокая цена за кв. м. в Санкт-Петербурге - 114,8 \\\n",
    "Самая низкая цена за кв. м. в Выборге - 58,1"
   ]
  },
  {
   "cell_type": "markdown",
   "metadata": {},
   "source": [
    "Выделите квартиры в Санкт-Петербурге с помощью столбца `locality_name` и вычислите среднюю цену каждого километра. Опишите, как стоимость объектов зависит от расстояния до центра города.\""
   ]
  },
  {
   "cell_type": "code",
   "execution_count": null,
   "metadata": {},
   "outputs": [],
   "source": [
    "data['cityCenters_nearest_km'].describe()"
   ]
  },
  {
   "cell_type": "code",
   "execution_count": null,
   "metadata": {
    "scrolled": true
   },
   "outputs": [],
   "source": [
    "#Отфильтруем обьявления по Петербургу и создадим сводную таблицу с средним значением цены за кв. м.\n",
    "spb_km =\\\n",
    "    data.query('locality_name == \"Санкт-Петербург\"')\\\n",
    "        .pivot_table(index='cityCenters_nearest_km', values='price_m', aggfunc='mean')\n",
    "spb_km.columns = ['Цена за 1 кв.м.']\n",
    "spb_km.sort_values(by='cityCenters_nearest_km')"
   ]
  },
  {
   "cell_type": "code",
   "execution_count": null,
   "metadata": {},
   "outputs": [],
   "source": [
    "spb_km.plot()"
   ]
  },
  {
   "cell_type": "markdown",
   "metadata": {},
   "source": [
    "Особенно важным фактором, оказывающим влияние на стоимость объекта недвижимости, является его расположение.\\\n",
    "На графике наглядно видно, чем ближе местонахождение обьекта к центру города, тем цена за квадратный метр больше. Цена за 1 кв.м. больше 100 т.р. в пределах 10 км центра города.\\\n",
    "Местоположение, как правило, наиболее существенный и динамичный фактор, который влияет на стоимость объекта и который трудно поддается объективному описанию. Для многих людей местоположение является самым наиболее важным условием при выборе объекта недвижимости.\\\n",
    "Существуют множество параметров, по которым можно охарактеризовать местоположение.\\\n",
    "Влияние местоположения можно разделить на: \n",
    "- Близость объекта недвижимости к центру города.\n",
    "- Его непосредственное окружение.\n",
    "\n",
    "В долгосрочном плане стоимость недвижимости зависит не только от влияния местоположения, по и оттого, насколько они меняются со временем."
   ]
  },
  {
   "cell_type": "markdown",
   "metadata": {},
   "source": [
    "### Общий вывод"
   ]
  },
  {
   "cell_type": "markdown",
   "metadata": {},
   "source": [
    "При проведении исследования и работы с данными, была изучена информация, предоставленная сервисом Яндекс Недвижимость — архив объявлений за несколько лет о продаже квартир в Санкт-Петербурге и соседних населённых пунктах.\n",
    "- Выполнена предобработка данных. В том числе удаление пропусков, заполненение пропущенных и аномальных значений, изменение типов данных, обработка дубликатов, исправление опечаток, посчитаны и добавлены новые значения в таблицу.\n",
    "- Проведен исследовательский анализ данных. Найдены интересные особенности и зависимости, которые существуют на рынке недвижимости.\n",
    "При проведении исследования данных, я использовал различные методы, в том чиле сводные таблицы, группировку данных, а так же визуализировал данные. На основании проанализированной информации, мной были изучены основные параметры обьектов недвижимости.\n",
    "\n",
    "Так же я выявил: \n",
    "1. Как быстро продавались квартиры.\n",
    "2. Какие факторы больше всего влияют на общую стоимость объекта.\n",
    "4. Как стоимость объектов зависит от расстояния до центра города.\n",
    "3. Среднюю цену одного квадратного метра в населённых пунктах с наибольшим числом объявлений.\n",
    "\n",
    "Кроме того, было выявлено, что много бесплатных объявлений было автоматически удалено с сервиса Я.Недвижимость и дату их удаления нельзя считать датой продажи квартиры, поэтому, изучая средние сроки продажи квартир - данные значения не учитывались.\n",
    "\n",
    "Стоимость объекта недвижимости моделируется в зависимости от влияния большого количества разнообразных факторов.\\\n",
    "Важными факторами, оказывающими влияние на стоимость объекта недвижимости, является его расположение (близость к центру), количество комнат, этажность.\n",
    "\n",
    "Было выявлено, что в большинстве своем продаются квартиры среднего размера около 60 м² с 1-2 комнатами, наиболее встречающийся этаж - 2-4.\\\n",
    "Самая высокая стоимость обьявлений приходится на вторник, самая низкая на воскресенье.\\\n",
    "Дороже всего недвижимость продается в апреле, сентябре, ноябре и декабре. Наиболее выгодную покупку можно совершить в мае и июне.\\\n",
    "В среднем продажа занимает 2,5 месяца, самые интересные варианты приобретают в течении 1-1.5 месяцев.\n",
    "\n",
    "Наибольшее число обьявлений размещают владельцы недвижимости в Санкт-Петербурге, где самая большая стоимость квадратного метра по всей области.\n",
    "Кроме того, было выявлено, что с 2014г., в связи с началом мирового кризиса, начался упадок на рынке недвижимости, который более менее начал стабилизироваться в 2018г.\n",
    "\n",
    "По времени стоимость объекта недвижимости может изменяться не равномерно, а скачкообразно из-за неблагоприятного влияния множества факторов. В этом случае важно уметь спрогнозировать изменение стоимости недвижимости при оценке."
   ]
  }
 ],
 "metadata": {
  "ExecuteTimeLog": [
   {
    "duration": 496,
    "start_time": "2022-10-10T11:34:00.635Z"
   },
   {
    "duration": 96,
    "start_time": "2022-10-10T11:34:32.887Z"
   },
   {
    "duration": 98,
    "start_time": "2022-10-10T11:34:42.398Z"
   },
   {
    "duration": 89,
    "start_time": "2022-10-10T11:35:46.772Z"
   },
   {
    "duration": 95,
    "start_time": "2022-10-10T11:36:16.454Z"
   },
   {
    "duration": 116,
    "start_time": "2022-10-10T11:37:34.134Z"
   },
   {
    "duration": 115,
    "start_time": "2022-10-10T11:37:53.804Z"
   },
   {
    "duration": 96,
    "start_time": "2022-10-10T11:38:12.247Z"
   },
   {
    "duration": 12,
    "start_time": "2022-10-10T11:38:25.318Z"
   },
   {
    "duration": 2118,
    "start_time": "2022-10-10T11:47:53.817Z"
   },
   {
    "duration": 1740,
    "start_time": "2022-10-10T11:48:08.100Z"
   },
   {
    "duration": 1689,
    "start_time": "2022-10-10T11:49:53.011Z"
   },
   {
    "duration": 40,
    "start_time": "2022-10-10T13:11:08.998Z"
   },
   {
    "duration": 201,
    "start_time": "2022-10-10T13:13:53.155Z"
   },
   {
    "duration": 36,
    "start_time": "2022-10-10T13:16:43.523Z"
   },
   {
    "duration": 44,
    "start_time": "2022-10-10T13:17:13.194Z"
   },
   {
    "duration": 46,
    "start_time": "2022-10-10T13:17:30.981Z"
   },
   {
    "duration": 39,
    "start_time": "2022-10-10T13:18:04.433Z"
   },
   {
    "duration": 40,
    "start_time": "2022-10-10T13:18:25.155Z"
   },
   {
    "duration": 17,
    "start_time": "2022-10-10T13:18:56.343Z"
   },
   {
    "duration": 8,
    "start_time": "2022-10-10T13:19:00.978Z"
   },
   {
    "duration": 6,
    "start_time": "2022-10-10T13:20:51.317Z"
   },
   {
    "duration": 9,
    "start_time": "2022-10-10T13:21:22.416Z"
   },
   {
    "duration": 12,
    "start_time": "2022-10-10T13:21:35.213Z"
   },
   {
    "duration": 5,
    "start_time": "2022-10-10T13:21:44.323Z"
   },
   {
    "duration": 13,
    "start_time": "2022-10-10T13:21:58.232Z"
   },
   {
    "duration": 10,
    "start_time": "2022-10-10T13:22:08.599Z"
   },
   {
    "duration": 57,
    "start_time": "2022-10-10T13:22:54.890Z"
   },
   {
    "duration": 11,
    "start_time": "2022-10-10T13:23:12.284Z"
   },
   {
    "duration": 11,
    "start_time": "2022-10-10T13:23:31.186Z"
   },
   {
    "duration": 6,
    "start_time": "2022-10-10T13:27:36.654Z"
   },
   {
    "duration": 21,
    "start_time": "2022-10-10T13:28:30.719Z"
   },
   {
    "duration": 25,
    "start_time": "2022-10-10T13:28:47.762Z"
   },
   {
    "duration": 14,
    "start_time": "2022-10-10T13:29:04.769Z"
   },
   {
    "duration": 5,
    "start_time": "2022-10-10T13:29:29.914Z"
   },
   {
    "duration": 6,
    "start_time": "2022-10-10T13:29:40.289Z"
   },
   {
    "duration": 5,
    "start_time": "2022-10-10T13:29:47.832Z"
   },
   {
    "duration": 6,
    "start_time": "2022-10-10T13:30:38.061Z"
   },
   {
    "duration": 6,
    "start_time": "2022-10-10T13:30:54.775Z"
   },
   {
    "duration": 7,
    "start_time": "2022-10-10T13:31:51.000Z"
   },
   {
    "duration": 8,
    "start_time": "2022-10-10T13:33:15.368Z"
   },
   {
    "duration": 7,
    "start_time": "2022-10-10T13:33:19.258Z"
   },
   {
    "duration": 23,
    "start_time": "2022-10-10T13:36:39.656Z"
   },
   {
    "duration": 10,
    "start_time": "2022-10-10T13:37:43.913Z"
   },
   {
    "duration": 30,
    "start_time": "2022-10-10T13:37:57.387Z"
   },
   {
    "duration": 8,
    "start_time": "2022-10-10T13:38:37.293Z"
   },
   {
    "duration": 105,
    "start_time": "2022-10-10T13:41:53.888Z"
   },
   {
    "duration": 126,
    "start_time": "2022-10-10T13:51:58.819Z"
   },
   {
    "duration": 139,
    "start_time": "2022-10-10T13:52:21.061Z"
   },
   {
    "duration": 127,
    "start_time": "2022-10-10T13:52:40.199Z"
   },
   {
    "duration": 108,
    "start_time": "2022-10-10T13:52:58.648Z"
   },
   {
    "duration": 107,
    "start_time": "2022-10-10T13:53:17.721Z"
   },
   {
    "duration": 102,
    "start_time": "2022-10-10T13:54:22.259Z"
   },
   {
    "duration": 5,
    "start_time": "2022-10-10T13:59:59.691Z"
   },
   {
    "duration": 3,
    "start_time": "2022-10-10T14:02:44.322Z"
   },
   {
    "duration": 5,
    "start_time": "2022-10-10T14:02:46.580Z"
   },
   {
    "duration": 8,
    "start_time": "2022-10-10T14:03:37.491Z"
   },
   {
    "duration": 5,
    "start_time": "2022-10-10T14:14:22.414Z"
   },
   {
    "duration": 6,
    "start_time": "2022-10-10T14:14:39.673Z"
   },
   {
    "duration": 6,
    "start_time": "2022-10-10T14:28:23.302Z"
   },
   {
    "duration": 5,
    "start_time": "2022-10-10T14:43:37.846Z"
   },
   {
    "duration": 6,
    "start_time": "2022-10-10T14:44:47.482Z"
   },
   {
    "duration": 6,
    "start_time": "2022-10-10T14:51:20.069Z"
   },
   {
    "duration": 7,
    "start_time": "2022-10-10T14:51:24.318Z"
   },
   {
    "duration": 11,
    "start_time": "2022-10-10T14:51:39.704Z"
   },
   {
    "duration": 104,
    "start_time": "2022-10-10T14:52:59.869Z"
   },
   {
    "duration": 111,
    "start_time": "2022-10-10T14:53:17.638Z"
   },
   {
    "duration": 79,
    "start_time": "2022-10-10T14:53:23.599Z"
   },
   {
    "duration": 95,
    "start_time": "2022-10-10T15:14:46.871Z"
   },
   {
    "duration": 7,
    "start_time": "2022-10-10T15:14:53.481Z"
   },
   {
    "duration": 6,
    "start_time": "2022-10-10T15:15:15.319Z"
   },
   {
    "duration": 6,
    "start_time": "2022-10-10T15:15:22.410Z"
   },
   {
    "duration": 94,
    "start_time": "2022-10-10T15:15:36.600Z"
   },
   {
    "duration": 101,
    "start_time": "2022-10-10T15:16:07.641Z"
   },
   {
    "duration": 9,
    "start_time": "2022-10-10T15:16:17.576Z"
   },
   {
    "duration": 7,
    "start_time": "2022-10-10T15:16:30.498Z"
   },
   {
    "duration": 7,
    "start_time": "2022-10-10T15:16:36.631Z"
   },
   {
    "duration": 80,
    "start_time": "2022-10-10T15:16:45.840Z"
   },
   {
    "duration": 6,
    "start_time": "2022-10-10T15:16:51.432Z"
   },
   {
    "duration": 6,
    "start_time": "2022-10-10T15:17:24.179Z"
   },
   {
    "duration": 3,
    "start_time": "2022-10-10T15:17:25.471Z"
   },
   {
    "duration": 6,
    "start_time": "2022-10-10T15:17:32.870Z"
   },
   {
    "duration": 7,
    "start_time": "2022-10-10T15:17:45.321Z"
   },
   {
    "duration": 4,
    "start_time": "2022-10-10T15:17:46.465Z"
   },
   {
    "duration": 6,
    "start_time": "2022-10-10T15:18:12.860Z"
   },
   {
    "duration": 4,
    "start_time": "2022-10-10T15:18:14.462Z"
   },
   {
    "duration": 6,
    "start_time": "2022-10-10T15:18:31.850Z"
   },
   {
    "duration": 6,
    "start_time": "2022-10-10T15:18:39.156Z"
   },
   {
    "duration": 6,
    "start_time": "2022-10-10T15:31:21.639Z"
   },
   {
    "duration": 5,
    "start_time": "2022-10-10T15:36:23.005Z"
   },
   {
    "duration": 3,
    "start_time": "2022-10-10T15:36:24.436Z"
   },
   {
    "duration": 7,
    "start_time": "2022-10-10T15:36:36.480Z"
   },
   {
    "duration": 2,
    "start_time": "2022-10-10T15:36:51.817Z"
   },
   {
    "duration": 6,
    "start_time": "2022-10-10T15:36:54.749Z"
   },
   {
    "duration": 162,
    "start_time": "2022-10-10T15:38:24.961Z"
   },
   {
    "duration": 3,
    "start_time": "2022-10-10T15:38:36.512Z"
   },
   {
    "duration": 3,
    "start_time": "2022-10-10T15:38:46.609Z"
   },
   {
    "duration": 6,
    "start_time": "2022-10-10T15:38:48.390Z"
   },
   {
    "duration": 8,
    "start_time": "2022-10-10T15:43:33.571Z"
   },
   {
    "duration": 133,
    "start_time": "2022-10-10T15:44:09.749Z"
   },
   {
    "duration": 5,
    "start_time": "2022-10-10T15:44:17.595Z"
   },
   {
    "duration": 6,
    "start_time": "2022-10-10T15:50:41.849Z"
   },
   {
    "duration": 6,
    "start_time": "2022-10-10T15:50:43.328Z"
   },
   {
    "duration": 45,
    "start_time": "2022-10-11T13:23:42.954Z"
   },
   {
    "duration": 1175,
    "start_time": "2022-10-11T13:23:55.725Z"
   },
   {
    "duration": 14,
    "start_time": "2022-10-11T13:23:56.902Z"
   },
   {
    "duration": 1868,
    "start_time": "2022-10-11T13:23:56.917Z"
   },
   {
    "duration": 71,
    "start_time": "2022-10-11T13:23:58.787Z"
   },
   {
    "duration": 0,
    "start_time": "2022-10-11T13:23:58.859Z"
   },
   {
    "duration": 0,
    "start_time": "2022-10-11T13:23:58.860Z"
   },
   {
    "duration": 0,
    "start_time": "2022-10-11T13:23:58.861Z"
   },
   {
    "duration": 0,
    "start_time": "2022-10-11T13:23:58.862Z"
   },
   {
    "duration": 0,
    "start_time": "2022-10-11T13:23:58.863Z"
   },
   {
    "duration": 0,
    "start_time": "2022-10-11T13:23:58.864Z"
   },
   {
    "duration": 0,
    "start_time": "2022-10-11T13:23:58.865Z"
   },
   {
    "duration": 5,
    "start_time": "2022-10-11T13:24:28.327Z"
   },
   {
    "duration": 6,
    "start_time": "2022-10-11T13:24:31.206Z"
   },
   {
    "duration": 5,
    "start_time": "2022-10-11T13:26:09.170Z"
   },
   {
    "duration": 6,
    "start_time": "2022-10-11T13:26:10.918Z"
   },
   {
    "duration": 5,
    "start_time": "2022-10-11T13:28:40.246Z"
   },
   {
    "duration": 6,
    "start_time": "2022-10-11T13:28:48.080Z"
   },
   {
    "duration": 5,
    "start_time": "2022-10-11T13:32:21.958Z"
   },
   {
    "duration": 7,
    "start_time": "2022-10-11T13:32:30.037Z"
   },
   {
    "duration": 5,
    "start_time": "2022-10-11T13:32:51.514Z"
   },
   {
    "duration": 6,
    "start_time": "2022-10-11T13:33:00.335Z"
   },
   {
    "duration": 6,
    "start_time": "2022-10-11T13:33:08.251Z"
   },
   {
    "duration": 9,
    "start_time": "2022-10-11T13:37:03.806Z"
   },
   {
    "duration": 6,
    "start_time": "2022-10-11T13:39:58.449Z"
   },
   {
    "duration": 6,
    "start_time": "2022-10-11T13:40:00.261Z"
   },
   {
    "duration": 5,
    "start_time": "2022-10-11T13:41:41.228Z"
   },
   {
    "duration": 5,
    "start_time": "2022-10-11T13:41:43.196Z"
   },
   {
    "duration": 5,
    "start_time": "2022-10-11T13:42:34.520Z"
   },
   {
    "duration": 5,
    "start_time": "2022-10-11T13:42:36.660Z"
   },
   {
    "duration": 5,
    "start_time": "2022-10-11T13:43:57.562Z"
   },
   {
    "duration": 6,
    "start_time": "2022-10-11T13:43:59.234Z"
   },
   {
    "duration": 9,
    "start_time": "2022-10-11T13:44:46.174Z"
   },
   {
    "duration": 7,
    "start_time": "2022-10-11T13:44:46.819Z"
   },
   {
    "duration": 7,
    "start_time": "2022-10-11T13:45:02.774Z"
   },
   {
    "duration": 8,
    "start_time": "2022-10-11T13:45:16.829Z"
   },
   {
    "duration": 8,
    "start_time": "2022-10-11T13:45:25.600Z"
   },
   {
    "duration": 8,
    "start_time": "2022-10-11T13:45:45.703Z"
   },
   {
    "duration": 8,
    "start_time": "2022-10-11T13:45:57.753Z"
   },
   {
    "duration": 9,
    "start_time": "2022-10-11T13:46:23.317Z"
   },
   {
    "duration": 8,
    "start_time": "2022-10-11T13:46:29.621Z"
   },
   {
    "duration": 8,
    "start_time": "2022-10-11T13:46:42.864Z"
   },
   {
    "duration": 7,
    "start_time": "2022-10-11T13:46:49.532Z"
   },
   {
    "duration": 7,
    "start_time": "2022-10-11T13:47:13.741Z"
   },
   {
    "duration": 8,
    "start_time": "2022-10-11T13:47:14.541Z"
   },
   {
    "duration": 10,
    "start_time": "2022-10-11T13:47:29.736Z"
   },
   {
    "duration": 7,
    "start_time": "2022-10-11T13:47:35.880Z"
   },
   {
    "duration": 8,
    "start_time": "2022-10-11T13:47:52.802Z"
   },
   {
    "duration": 8,
    "start_time": "2022-10-11T13:48:01.528Z"
   },
   {
    "duration": 7,
    "start_time": "2022-10-11T13:48:11.879Z"
   },
   {
    "duration": 684,
    "start_time": "2022-10-11T13:48:19.778Z"
   },
   {
    "duration": 14,
    "start_time": "2022-10-11T13:48:20.464Z"
   },
   {
    "duration": 1866,
    "start_time": "2022-10-11T13:48:20.479Z"
   },
   {
    "duration": 6,
    "start_time": "2022-10-11T13:48:22.347Z"
   },
   {
    "duration": 17,
    "start_time": "2022-10-11T13:48:22.355Z"
   },
   {
    "duration": 11,
    "start_time": "2022-10-11T13:48:22.374Z"
   },
   {
    "duration": 11,
    "start_time": "2022-10-11T13:48:22.386Z"
   },
   {
    "duration": 12,
    "start_time": "2022-10-11T13:48:22.398Z"
   },
   {
    "duration": 7,
    "start_time": "2022-10-11T13:48:22.411Z"
   },
   {
    "duration": 9,
    "start_time": "2022-10-11T13:48:22.420Z"
   },
   {
    "duration": 11,
    "start_time": "2022-10-11T13:48:22.430Z"
   },
   {
    "duration": 5,
    "start_time": "2022-10-11T13:48:26.778Z"
   },
   {
    "duration": 6,
    "start_time": "2022-10-11T13:48:29.459Z"
   },
   {
    "duration": 5,
    "start_time": "2022-10-11T13:49:15.605Z"
   },
   {
    "duration": 6,
    "start_time": "2022-10-11T13:49:16.942Z"
   },
   {
    "duration": 8,
    "start_time": "2022-10-11T13:49:33.345Z"
   },
   {
    "duration": 8,
    "start_time": "2022-10-11T13:49:52.281Z"
   },
   {
    "duration": 10,
    "start_time": "2022-10-11T13:51:23.228Z"
   },
   {
    "duration": 11,
    "start_time": "2022-10-11T13:59:07.095Z"
   },
   {
    "duration": 79,
    "start_time": "2022-10-11T14:02:02.065Z"
   },
   {
    "duration": 12,
    "start_time": "2022-10-11T14:02:55.856Z"
   },
   {
    "duration": 44,
    "start_time": "2022-10-11T14:03:07.265Z"
   },
   {
    "duration": 42,
    "start_time": "2022-10-11T14:03:24.087Z"
   },
   {
    "duration": 42,
    "start_time": "2022-10-11T14:03:33.952Z"
   },
   {
    "duration": 43,
    "start_time": "2022-10-11T14:03:42.322Z"
   },
   {
    "duration": 12,
    "start_time": "2022-10-11T14:04:08.422Z"
   },
   {
    "duration": 11,
    "start_time": "2022-10-11T14:09:23.692Z"
   },
   {
    "duration": 12,
    "start_time": "2022-10-11T14:22:11.946Z"
   },
   {
    "duration": 12,
    "start_time": "2022-10-11T14:22:20.196Z"
   },
   {
    "duration": 12,
    "start_time": "2022-10-11T14:22:45.473Z"
   },
   {
    "duration": 9,
    "start_time": "2022-10-11T14:24:28.642Z"
   },
   {
    "duration": 9,
    "start_time": "2022-10-11T14:24:43.742Z"
   },
   {
    "duration": 10,
    "start_time": "2022-10-11T14:25:00.308Z"
   },
   {
    "duration": 10,
    "start_time": "2022-10-11T14:25:08.300Z"
   },
   {
    "duration": 42,
    "start_time": "2022-10-11T14:25:30.230Z"
   },
   {
    "duration": 9,
    "start_time": "2022-10-11T14:25:47.902Z"
   },
   {
    "duration": 10,
    "start_time": "2022-10-11T14:26:56.299Z"
   },
   {
    "duration": 9,
    "start_time": "2022-10-11T14:27:52.620Z"
   },
   {
    "duration": 13,
    "start_time": "2022-10-11T14:28:41.584Z"
   },
   {
    "duration": 12,
    "start_time": "2022-10-11T14:28:59.159Z"
   },
   {
    "duration": 4,
    "start_time": "2022-10-11T14:29:00.375Z"
   },
   {
    "duration": 14,
    "start_time": "2022-10-11T14:29:13.035Z"
   },
   {
    "duration": 8,
    "start_time": "2022-10-11T14:29:20.979Z"
   },
   {
    "duration": 783,
    "start_time": "2022-10-11T14:29:31.018Z"
   },
   {
    "duration": 17,
    "start_time": "2022-10-11T14:29:31.803Z"
   },
   {
    "duration": 1911,
    "start_time": "2022-10-11T14:29:31.822Z"
   },
   {
    "duration": 13,
    "start_time": "2022-10-11T14:29:33.735Z"
   },
   {
    "duration": 8,
    "start_time": "2022-10-11T14:29:33.750Z"
   },
   {
    "duration": 92,
    "start_time": "2022-10-11T14:29:33.760Z"
   },
   {
    "duration": 0,
    "start_time": "2022-10-11T14:29:33.854Z"
   },
   {
    "duration": 0,
    "start_time": "2022-10-11T14:29:33.856Z"
   },
   {
    "duration": 0,
    "start_time": "2022-10-11T14:29:33.857Z"
   },
   {
    "duration": 0,
    "start_time": "2022-10-11T14:29:33.859Z"
   },
   {
    "duration": 0,
    "start_time": "2022-10-11T14:29:33.860Z"
   },
   {
    "duration": 8,
    "start_time": "2022-10-11T14:29:39.151Z"
   },
   {
    "duration": 4,
    "start_time": "2022-10-11T14:29:58.302Z"
   },
   {
    "duration": 4,
    "start_time": "2022-10-11T14:30:06.539Z"
   },
   {
    "duration": 9,
    "start_time": "2022-10-11T14:30:24.638Z"
   },
   {
    "duration": 9,
    "start_time": "2022-10-11T14:32:26.009Z"
   },
   {
    "duration": 9,
    "start_time": "2022-10-11T14:32:38.861Z"
   },
   {
    "duration": 6,
    "start_time": "2022-10-11T14:38:42.157Z"
   },
   {
    "duration": 9,
    "start_time": "2022-10-11T14:39:03.147Z"
   },
   {
    "duration": 12,
    "start_time": "2022-10-11T14:39:10.389Z"
   },
   {
    "duration": 10,
    "start_time": "2022-10-11T14:39:31.273Z"
   },
   {
    "duration": 9,
    "start_time": "2022-10-11T14:40:47.100Z"
   },
   {
    "duration": 8,
    "start_time": "2022-10-11T14:42:59.279Z"
   },
   {
    "duration": 8,
    "start_time": "2022-10-11T14:44:18.402Z"
   },
   {
    "duration": 11,
    "start_time": "2022-10-11T14:44:29.710Z"
   },
   {
    "duration": 7,
    "start_time": "2022-10-11T14:44:39.910Z"
   },
   {
    "duration": 5,
    "start_time": "2022-10-11T14:44:47.993Z"
   },
   {
    "duration": 11,
    "start_time": "2022-10-11T14:47:42.791Z"
   },
   {
    "duration": 10,
    "start_time": "2022-10-11T14:48:00.279Z"
   },
   {
    "duration": 10,
    "start_time": "2022-10-11T14:48:27.742Z"
   },
   {
    "duration": 11,
    "start_time": "2022-10-11T14:48:43.358Z"
   },
   {
    "duration": 7,
    "start_time": "2022-10-11T14:49:11.738Z"
   },
   {
    "duration": 11,
    "start_time": "2022-10-11T14:49:18.646Z"
   },
   {
    "duration": 10,
    "start_time": "2022-10-11T14:49:22.354Z"
   },
   {
    "duration": 9,
    "start_time": "2022-10-11T14:49:52.661Z"
   },
   {
    "duration": 9,
    "start_time": "2022-10-11T14:56:53.065Z"
   },
   {
    "duration": 872,
    "start_time": "2022-10-11T14:57:15.113Z"
   },
   {
    "duration": 779,
    "start_time": "2022-10-11T14:57:26.243Z"
   },
   {
    "duration": 6,
    "start_time": "2022-10-11T14:57:48.694Z"
   },
   {
    "duration": 5,
    "start_time": "2022-10-11T14:58:11.048Z"
   },
   {
    "duration": 6,
    "start_time": "2022-10-11T14:58:53.727Z"
   },
   {
    "duration": 10,
    "start_time": "2022-10-11T14:58:56.563Z"
   },
   {
    "duration": 6,
    "start_time": "2022-10-11T14:59:10.425Z"
   },
   {
    "duration": 6,
    "start_time": "2022-10-11T14:59:19.422Z"
   },
   {
    "duration": 6,
    "start_time": "2022-10-11T14:59:35.147Z"
   },
   {
    "duration": 6,
    "start_time": "2022-10-11T15:02:05.321Z"
   },
   {
    "duration": 6,
    "start_time": "2022-10-11T15:02:10.442Z"
   },
   {
    "duration": 102,
    "start_time": "2022-10-11T15:03:05.487Z"
   },
   {
    "duration": 6,
    "start_time": "2022-10-11T15:03:27.960Z"
   },
   {
    "duration": 5,
    "start_time": "2022-10-11T15:03:35.781Z"
   },
   {
    "duration": 5,
    "start_time": "2022-10-11T15:04:35.984Z"
   },
   {
    "duration": 86,
    "start_time": "2022-10-11T15:08:32.569Z"
   },
   {
    "duration": 8,
    "start_time": "2022-10-11T15:10:33.620Z"
   },
   {
    "duration": 17,
    "start_time": "2022-10-11T15:11:11.424Z"
   },
   {
    "duration": 19,
    "start_time": "2022-10-11T15:11:23.820Z"
   },
   {
    "duration": 10,
    "start_time": "2022-10-11T15:11:58.803Z"
   },
   {
    "duration": 8,
    "start_time": "2022-10-11T15:14:04.671Z"
   },
   {
    "duration": 45,
    "start_time": "2022-10-11T15:18:50.173Z"
   },
   {
    "duration": 9,
    "start_time": "2022-10-11T15:18:58.942Z"
   },
   {
    "duration": 10,
    "start_time": "2022-10-11T15:19:09.021Z"
   },
   {
    "duration": 8,
    "start_time": "2022-10-11T15:20:04.885Z"
   },
   {
    "duration": 6,
    "start_time": "2022-10-11T15:20:07.229Z"
   },
   {
    "duration": 10,
    "start_time": "2022-10-11T15:20:11.553Z"
   },
   {
    "duration": 8,
    "start_time": "2022-10-11T15:20:23.777Z"
   },
   {
    "duration": 6,
    "start_time": "2022-10-11T15:20:36.609Z"
   },
   {
    "duration": 10,
    "start_time": "2022-10-11T15:20:56.692Z"
   },
   {
    "duration": 10,
    "start_time": "2022-10-11T15:23:43.353Z"
   },
   {
    "duration": 857,
    "start_time": "2022-10-11T15:24:20.147Z"
   },
   {
    "duration": 13,
    "start_time": "2022-10-11T15:24:21.006Z"
   },
   {
    "duration": 1885,
    "start_time": "2022-10-11T15:24:21.020Z"
   },
   {
    "duration": 7,
    "start_time": "2022-10-11T15:24:22.907Z"
   },
   {
    "duration": 9,
    "start_time": "2022-10-11T15:24:22.916Z"
   },
   {
    "duration": 6,
    "start_time": "2022-10-11T15:24:22.927Z"
   },
   {
    "duration": 6,
    "start_time": "2022-10-11T15:24:22.935Z"
   },
   {
    "duration": 8,
    "start_time": "2022-10-11T15:24:22.943Z"
   },
   {
    "duration": 10,
    "start_time": "2022-10-11T15:24:22.953Z"
   },
   {
    "duration": 13,
    "start_time": "2022-10-11T15:24:22.965Z"
   },
   {
    "duration": 8,
    "start_time": "2022-10-11T15:24:22.980Z"
   },
   {
    "duration": 4,
    "start_time": "2022-10-11T15:24:22.989Z"
   },
   {
    "duration": 5,
    "start_time": "2022-10-11T15:24:22.994Z"
   },
   {
    "duration": 36,
    "start_time": "2022-10-11T15:24:23.001Z"
   },
   {
    "duration": 8,
    "start_time": "2022-10-11T15:24:23.039Z"
   },
   {
    "duration": 10,
    "start_time": "2022-10-11T15:24:23.048Z"
   },
   {
    "duration": 5,
    "start_time": "2022-10-11T15:24:38.032Z"
   },
   {
    "duration": 8,
    "start_time": "2022-10-11T15:24:52.233Z"
   },
   {
    "duration": 6,
    "start_time": "2022-10-11T15:24:58.508Z"
   },
   {
    "duration": 7,
    "start_time": "2022-10-11T15:25:10.688Z"
   },
   {
    "duration": 8,
    "start_time": "2022-10-11T15:25:13.910Z"
   },
   {
    "duration": 5,
    "start_time": "2022-10-11T15:25:21.380Z"
   },
   {
    "duration": 8,
    "start_time": "2022-10-11T15:25:55.079Z"
   },
   {
    "duration": 5,
    "start_time": "2022-10-11T15:25:56.691Z"
   },
   {
    "duration": 7,
    "start_time": "2022-10-11T15:26:02.479Z"
   },
   {
    "duration": 8,
    "start_time": "2022-10-11T15:26:11.703Z"
   },
   {
    "duration": 6,
    "start_time": "2022-10-11T15:26:12.947Z"
   },
   {
    "duration": 6,
    "start_time": "2022-10-11T15:26:16.669Z"
   },
   {
    "duration": 6,
    "start_time": "2022-10-11T15:26:17.943Z"
   },
   {
    "duration": 5,
    "start_time": "2022-10-11T15:26:23.940Z"
   },
   {
    "duration": 5,
    "start_time": "2022-10-11T15:26:24.864Z"
   },
   {
    "duration": 6,
    "start_time": "2022-10-11T15:26:41.999Z"
   },
   {
    "duration": 9,
    "start_time": "2022-10-11T15:26:46.570Z"
   },
   {
    "duration": 5,
    "start_time": "2022-10-11T15:26:48.263Z"
   },
   {
    "duration": 6,
    "start_time": "2022-10-11T15:26:49.174Z"
   },
   {
    "duration": 8,
    "start_time": "2022-10-11T15:26:52.095Z"
   },
   {
    "duration": 9,
    "start_time": "2022-10-11T15:26:58.231Z"
   },
   {
    "duration": 6,
    "start_time": "2022-10-11T15:26:59.182Z"
   },
   {
    "duration": 822,
    "start_time": "2022-10-11T15:27:06.857Z"
   },
   {
    "duration": 14,
    "start_time": "2022-10-11T15:27:07.681Z"
   },
   {
    "duration": 1840,
    "start_time": "2022-10-11T15:27:07.697Z"
   },
   {
    "duration": 6,
    "start_time": "2022-10-11T15:27:09.539Z"
   },
   {
    "duration": 11,
    "start_time": "2022-10-11T15:27:09.547Z"
   },
   {
    "duration": 5,
    "start_time": "2022-10-11T15:27:09.559Z"
   },
   {
    "duration": 6,
    "start_time": "2022-10-11T15:27:09.566Z"
   },
   {
    "duration": 7,
    "start_time": "2022-10-11T15:27:09.573Z"
   },
   {
    "duration": 6,
    "start_time": "2022-10-11T15:27:09.581Z"
   },
   {
    "duration": 14,
    "start_time": "2022-10-11T15:27:09.590Z"
   },
   {
    "duration": 36,
    "start_time": "2022-10-11T15:27:09.605Z"
   },
   {
    "duration": 3,
    "start_time": "2022-10-11T15:27:09.643Z"
   },
   {
    "duration": 9,
    "start_time": "2022-10-11T15:27:09.648Z"
   },
   {
    "duration": 18,
    "start_time": "2022-10-11T15:27:09.659Z"
   },
   {
    "duration": 9,
    "start_time": "2022-10-11T15:27:09.679Z"
   },
   {
    "duration": 8,
    "start_time": "2022-10-11T15:27:09.690Z"
   },
   {
    "duration": 8,
    "start_time": "2022-10-11T15:27:18.428Z"
   },
   {
    "duration": 7,
    "start_time": "2022-10-11T15:27:33.577Z"
   },
   {
    "duration": 8,
    "start_time": "2022-10-11T15:27:44.445Z"
   },
   {
    "duration": 6,
    "start_time": "2022-10-11T15:27:46.177Z"
   },
   {
    "duration": 8,
    "start_time": "2022-10-11T15:27:54.398Z"
   },
   {
    "duration": 5,
    "start_time": "2022-10-11T15:27:55.845Z"
   },
   {
    "duration": 6,
    "start_time": "2022-10-11T15:27:56.752Z"
   },
   {
    "duration": 6,
    "start_time": "2022-10-11T15:27:57.672Z"
   },
   {
    "duration": 9,
    "start_time": "2022-10-11T15:28:00.280Z"
   },
   {
    "duration": 5,
    "start_time": "2022-10-11T15:28:01.501Z"
   },
   {
    "duration": 5,
    "start_time": "2022-10-11T15:28:02.293Z"
   },
   {
    "duration": 8,
    "start_time": "2022-10-11T15:28:04.693Z"
   },
   {
    "duration": 5,
    "start_time": "2022-10-11T15:28:05.620Z"
   },
   {
    "duration": 8,
    "start_time": "2022-10-11T15:28:08.936Z"
   },
   {
    "duration": 9,
    "start_time": "2022-10-11T15:28:35.040Z"
   },
   {
    "duration": 6,
    "start_time": "2022-10-11T15:28:36.036Z"
   },
   {
    "duration": 5,
    "start_time": "2022-10-11T15:29:10.724Z"
   },
   {
    "duration": 6,
    "start_time": "2022-10-11T15:29:11.606Z"
   },
   {
    "duration": 9,
    "start_time": "2022-10-11T15:29:43.104Z"
   },
   {
    "duration": 11,
    "start_time": "2022-10-11T15:29:51.908Z"
   },
   {
    "duration": 11,
    "start_time": "2022-10-11T15:30:09.026Z"
   },
   {
    "duration": 6,
    "start_time": "2022-10-11T15:35:52.703Z"
   },
   {
    "duration": 6,
    "start_time": "2022-10-11T15:36:08.544Z"
   },
   {
    "duration": 11,
    "start_time": "2022-10-11T15:37:23.932Z"
   },
   {
    "duration": 8,
    "start_time": "2022-10-11T15:37:47.286Z"
   },
   {
    "duration": 9,
    "start_time": "2022-10-11T15:37:53.602Z"
   },
   {
    "duration": 5,
    "start_time": "2022-10-11T15:38:02.458Z"
   },
   {
    "duration": 6,
    "start_time": "2022-10-11T15:38:18.702Z"
   },
   {
    "duration": 2,
    "start_time": "2022-10-11T15:38:27.146Z"
   },
   {
    "duration": 4,
    "start_time": "2022-10-11T15:38:29.500Z"
   },
   {
    "duration": 5,
    "start_time": "2022-10-11T15:38:46.178Z"
   },
   {
    "duration": 4,
    "start_time": "2022-10-11T15:39:10.953Z"
   },
   {
    "duration": 10,
    "start_time": "2022-10-11T15:39:21.214Z"
   },
   {
    "duration": 8,
    "start_time": "2022-10-11T15:40:04.525Z"
   },
   {
    "duration": 8,
    "start_time": "2022-10-11T15:41:06.672Z"
   },
   {
    "duration": 5,
    "start_time": "2022-10-11T15:41:43.299Z"
   },
   {
    "duration": 9,
    "start_time": "2022-10-11T15:42:54.502Z"
   },
   {
    "duration": 11,
    "start_time": "2022-10-11T15:43:38.122Z"
   },
   {
    "duration": 9,
    "start_time": "2022-10-11T15:43:52.902Z"
   },
   {
    "duration": 73,
    "start_time": "2022-10-11T15:44:10.478Z"
   },
   {
    "duration": 11,
    "start_time": "2022-10-11T15:44:44.654Z"
   },
   {
    "duration": 11,
    "start_time": "2022-10-11T15:44:53.163Z"
   },
   {
    "duration": 11,
    "start_time": "2022-10-11T15:46:04.632Z"
   },
   {
    "duration": 10,
    "start_time": "2022-10-11T15:46:28.616Z"
   },
   {
    "duration": 13,
    "start_time": "2022-10-11T15:46:39.280Z"
   },
   {
    "duration": 15,
    "start_time": "2022-10-11T15:47:02.048Z"
   },
   {
    "duration": 11,
    "start_time": "2022-10-11T15:47:58.940Z"
   },
   {
    "duration": 9,
    "start_time": "2022-10-11T15:48:12.033Z"
   },
   {
    "duration": 11,
    "start_time": "2022-10-11T15:48:24.600Z"
   },
   {
    "duration": 10,
    "start_time": "2022-10-11T15:52:05.025Z"
   },
   {
    "duration": 10,
    "start_time": "2022-10-11T15:57:19.331Z"
   },
   {
    "duration": 12,
    "start_time": "2022-10-11T15:59:03.872Z"
   },
   {
    "duration": 9,
    "start_time": "2022-10-11T15:59:38.952Z"
   },
   {
    "duration": 10,
    "start_time": "2022-10-11T16:00:13.719Z"
   },
   {
    "duration": 9,
    "start_time": "2022-10-11T16:00:18.903Z"
   },
   {
    "duration": 5,
    "start_time": "2022-10-11T16:02:20.982Z"
   },
   {
    "duration": 9,
    "start_time": "2022-10-11T16:05:08.991Z"
   },
   {
    "duration": 9,
    "start_time": "2022-10-11T16:05:17.244Z"
   },
   {
    "duration": 8,
    "start_time": "2022-10-11T16:06:13.903Z"
   },
   {
    "duration": 6,
    "start_time": "2022-10-11T16:06:24.399Z"
   },
   {
    "duration": 47,
    "start_time": "2022-10-12T11:39:32.400Z"
   },
   {
    "duration": 7,
    "start_time": "2022-10-12T11:39:40.037Z"
   },
   {
    "duration": 1148,
    "start_time": "2022-10-12T11:39:48.963Z"
   },
   {
    "duration": 16,
    "start_time": "2022-10-12T11:39:50.113Z"
   },
   {
    "duration": 2140,
    "start_time": "2022-10-12T11:39:50.131Z"
   },
   {
    "duration": 7,
    "start_time": "2022-10-12T11:39:52.274Z"
   },
   {
    "duration": 7,
    "start_time": "2022-10-12T11:39:52.282Z"
   },
   {
    "duration": 13,
    "start_time": "2022-10-12T11:39:52.290Z"
   },
   {
    "duration": 42,
    "start_time": "2022-10-12T11:39:52.304Z"
   },
   {
    "duration": 15,
    "start_time": "2022-10-12T11:39:52.348Z"
   },
   {
    "duration": 9,
    "start_time": "2022-10-12T11:39:52.365Z"
   },
   {
    "duration": 13,
    "start_time": "2022-10-12T11:39:52.376Z"
   },
   {
    "duration": 9,
    "start_time": "2022-10-12T11:39:52.391Z"
   },
   {
    "duration": 37,
    "start_time": "2022-10-12T11:39:52.402Z"
   },
   {
    "duration": 0,
    "start_time": "2022-10-12T11:39:52.441Z"
   },
   {
    "duration": 0,
    "start_time": "2022-10-12T11:39:52.442Z"
   },
   {
    "duration": 0,
    "start_time": "2022-10-12T11:39:52.443Z"
   },
   {
    "duration": 0,
    "start_time": "2022-10-12T11:39:52.444Z"
   },
   {
    "duration": 0,
    "start_time": "2022-10-12T11:39:52.446Z"
   },
   {
    "duration": 0,
    "start_time": "2022-10-12T11:39:52.447Z"
   },
   {
    "duration": 16,
    "start_time": "2022-10-12T11:40:03.008Z"
   },
   {
    "duration": 26,
    "start_time": "2022-10-12T11:47:17.789Z"
   },
   {
    "duration": 7,
    "start_time": "2022-10-12T11:48:02.932Z"
   },
   {
    "duration": 14,
    "start_time": "2022-10-12T11:50:30.048Z"
   },
   {
    "duration": 14,
    "start_time": "2022-10-12T11:50:57.925Z"
   },
   {
    "duration": 13,
    "start_time": "2022-10-12T11:52:57.519Z"
   },
   {
    "duration": 9,
    "start_time": "2022-10-12T11:55:40.315Z"
   },
   {
    "duration": 8,
    "start_time": "2022-10-12T11:55:52.036Z"
   },
   {
    "duration": 8,
    "start_time": "2022-10-12T11:55:57.354Z"
   },
   {
    "duration": 7,
    "start_time": "2022-10-12T12:05:54.906Z"
   },
   {
    "duration": 18,
    "start_time": "2022-10-12T12:06:32.374Z"
   },
   {
    "duration": 21,
    "start_time": "2022-10-12T12:12:01.371Z"
   },
   {
    "duration": 21,
    "start_time": "2022-10-12T12:12:03.666Z"
   },
   {
    "duration": 6,
    "start_time": "2022-10-12T12:13:03.237Z"
   },
   {
    "duration": 69,
    "start_time": "2022-10-12T12:14:05.903Z"
   },
   {
    "duration": 43,
    "start_time": "2022-10-12T12:14:16.079Z"
   },
   {
    "duration": 691,
    "start_time": "2022-10-12T12:14:23.171Z"
   },
   {
    "duration": 21,
    "start_time": "2022-10-12T12:15:17.070Z"
   },
   {
    "duration": 19,
    "start_time": "2022-10-12T12:15:42.455Z"
   },
   {
    "duration": 35,
    "start_time": "2022-10-12T12:19:11.927Z"
   },
   {
    "duration": 16,
    "start_time": "2022-10-12T12:21:14.176Z"
   },
   {
    "duration": 24,
    "start_time": "2022-10-12T12:22:04.695Z"
   },
   {
    "duration": 10,
    "start_time": "2022-10-12T12:23:29.849Z"
   },
   {
    "duration": 14,
    "start_time": "2022-10-12T12:27:46.727Z"
   },
   {
    "duration": 12,
    "start_time": "2022-10-12T12:31:14.913Z"
   },
   {
    "duration": 10,
    "start_time": "2022-10-12T12:31:22.827Z"
   },
   {
    "duration": 14,
    "start_time": "2022-10-12T12:32:28.514Z"
   },
   {
    "duration": 16,
    "start_time": "2022-10-12T12:33:06.135Z"
   },
   {
    "duration": 16,
    "start_time": "2022-10-12T12:33:16.757Z"
   },
   {
    "duration": 12,
    "start_time": "2022-10-12T12:33:28.523Z"
   },
   {
    "duration": 14,
    "start_time": "2022-10-12T12:38:44.697Z"
   },
   {
    "duration": 55,
    "start_time": "2022-10-12T12:39:26.771Z"
   },
   {
    "duration": 87,
    "start_time": "2022-10-12T12:39:32.991Z"
   },
   {
    "duration": 16,
    "start_time": "2022-10-12T12:39:45.439Z"
   },
   {
    "duration": 17,
    "start_time": "2022-10-12T12:44:55.578Z"
   },
   {
    "duration": 127,
    "start_time": "2022-10-12T12:47:57.837Z"
   },
   {
    "duration": 9,
    "start_time": "2022-10-12T12:54:24.930Z"
   },
   {
    "duration": 9,
    "start_time": "2022-10-12T12:56:41.310Z"
   },
   {
    "duration": 7,
    "start_time": "2022-10-12T12:57:00.968Z"
   },
   {
    "duration": 20,
    "start_time": "2022-10-12T13:04:11.370Z"
   },
   {
    "duration": 16,
    "start_time": "2022-10-12T13:04:23.933Z"
   },
   {
    "duration": 13,
    "start_time": "2022-10-12T13:04:42.070Z"
   },
   {
    "duration": 23,
    "start_time": "2022-10-12T13:08:10.582Z"
   },
   {
    "duration": 9,
    "start_time": "2022-10-12T13:09:40.126Z"
   },
   {
    "duration": 10,
    "start_time": "2022-10-12T13:10:24.792Z"
   },
   {
    "duration": 8,
    "start_time": "2022-10-12T13:10:37.849Z"
   },
   {
    "duration": 10,
    "start_time": "2022-10-12T13:10:41.083Z"
   },
   {
    "duration": 7,
    "start_time": "2022-10-12T13:11:05.347Z"
   },
   {
    "duration": 9,
    "start_time": "2022-10-12T13:11:26.832Z"
   },
   {
    "duration": 7,
    "start_time": "2022-10-12T13:11:34.334Z"
   },
   {
    "duration": 10,
    "start_time": "2022-10-12T13:18:00.003Z"
   },
   {
    "duration": 8,
    "start_time": "2022-10-12T13:18:13.138Z"
   },
   {
    "duration": 7,
    "start_time": "2022-10-12T13:18:13.887Z"
   },
   {
    "duration": 6,
    "start_time": "2022-10-12T13:18:14.784Z"
   },
   {
    "duration": 9,
    "start_time": "2022-10-12T13:18:15.849Z"
   },
   {
    "duration": 804,
    "start_time": "2022-10-12T13:18:25.406Z"
   },
   {
    "duration": 20,
    "start_time": "2022-10-12T13:18:26.212Z"
   },
   {
    "duration": 2030,
    "start_time": "2022-10-12T13:18:26.234Z"
   },
   {
    "duration": 26,
    "start_time": "2022-10-12T13:18:28.296Z"
   },
   {
    "duration": 8,
    "start_time": "2022-10-12T13:18:28.324Z"
   },
   {
    "duration": 28,
    "start_time": "2022-10-12T13:18:28.334Z"
   },
   {
    "duration": 20,
    "start_time": "2022-10-12T13:18:28.364Z"
   },
   {
    "duration": 30,
    "start_time": "2022-10-12T13:18:28.386Z"
   },
   {
    "duration": 24,
    "start_time": "2022-10-12T13:18:28.419Z"
   },
   {
    "duration": 29,
    "start_time": "2022-10-12T13:18:28.447Z"
   },
   {
    "duration": 44,
    "start_time": "2022-10-12T13:18:28.478Z"
   },
   {
    "duration": 30,
    "start_time": "2022-10-12T13:18:28.524Z"
   },
   {
    "duration": 6,
    "start_time": "2022-10-12T13:18:28.556Z"
   },
   {
    "duration": 39,
    "start_time": "2022-10-12T13:18:28.563Z"
   },
   {
    "duration": 40,
    "start_time": "2022-10-12T13:18:28.603Z"
   },
   {
    "duration": 76,
    "start_time": "2022-10-12T13:18:28.645Z"
   },
   {
    "duration": 72,
    "start_time": "2022-10-12T13:18:28.723Z"
   },
   {
    "duration": 54,
    "start_time": "2022-10-12T13:18:28.796Z"
   },
   {
    "duration": 0,
    "start_time": "2022-10-12T13:18:28.852Z"
   },
   {
    "duration": 8,
    "start_time": "2022-10-12T13:18:49.977Z"
   },
   {
    "duration": 7,
    "start_time": "2022-10-12T13:19:04.656Z"
   },
   {
    "duration": 5,
    "start_time": "2022-10-12T13:19:07.168Z"
   },
   {
    "duration": 6,
    "start_time": "2022-10-12T13:19:08.343Z"
   },
   {
    "duration": 11,
    "start_time": "2022-10-12T13:19:08.572Z"
   },
   {
    "duration": 10,
    "start_time": "2022-10-12T13:19:10.025Z"
   },
   {
    "duration": 9,
    "start_time": "2022-10-12T13:19:16.519Z"
   },
   {
    "duration": 11,
    "start_time": "2022-10-12T13:19:35.024Z"
   },
   {
    "duration": 9,
    "start_time": "2022-10-12T13:20:12.614Z"
   },
   {
    "duration": 11,
    "start_time": "2022-10-12T13:23:28.409Z"
   },
   {
    "duration": 9,
    "start_time": "2022-10-12T13:23:33.371Z"
   },
   {
    "duration": 12,
    "start_time": "2022-10-12T13:23:43.392Z"
   },
   {
    "duration": 11,
    "start_time": "2022-10-12T13:23:54.306Z"
   },
   {
    "duration": 8,
    "start_time": "2022-10-12T13:23:57.567Z"
   },
   {
    "duration": 12,
    "start_time": "2022-10-12T13:24:36.102Z"
   },
   {
    "duration": 10,
    "start_time": "2022-10-12T13:24:43.290Z"
   },
   {
    "duration": 7,
    "start_time": "2022-10-12T13:32:11.938Z"
   },
   {
    "duration": 12,
    "start_time": "2022-10-12T13:40:34.178Z"
   },
   {
    "duration": 48,
    "start_time": "2022-10-12T13:49:52.698Z"
   },
   {
    "duration": 41,
    "start_time": "2022-10-12T13:50:48.943Z"
   },
   {
    "duration": 10,
    "start_time": "2022-10-12T13:54:38.210Z"
   },
   {
    "duration": 15,
    "start_time": "2022-10-12T13:56:43.299Z"
   },
   {
    "duration": 12,
    "start_time": "2022-10-12T13:56:56.639Z"
   },
   {
    "duration": 34,
    "start_time": "2022-10-12T13:57:01.653Z"
   },
   {
    "duration": 802,
    "start_time": "2022-10-12T13:57:08.516Z"
   },
   {
    "duration": 0,
    "start_time": "2022-10-12T13:57:09.321Z"
   },
   {
    "duration": 0,
    "start_time": "2022-10-12T13:57:09.322Z"
   },
   {
    "duration": 0,
    "start_time": "2022-10-12T13:57:09.323Z"
   },
   {
    "duration": 0,
    "start_time": "2022-10-12T13:57:09.325Z"
   },
   {
    "duration": 0,
    "start_time": "2022-10-12T13:57:09.326Z"
   },
   {
    "duration": 0,
    "start_time": "2022-10-12T13:57:09.328Z"
   },
   {
    "duration": 0,
    "start_time": "2022-10-12T13:57:09.329Z"
   },
   {
    "duration": 0,
    "start_time": "2022-10-12T13:57:09.331Z"
   },
   {
    "duration": 0,
    "start_time": "2022-10-12T13:57:09.333Z"
   },
   {
    "duration": 0,
    "start_time": "2022-10-12T13:57:09.334Z"
   },
   {
    "duration": 0,
    "start_time": "2022-10-12T13:57:09.336Z"
   },
   {
    "duration": 0,
    "start_time": "2022-10-12T13:57:09.337Z"
   },
   {
    "duration": 0,
    "start_time": "2022-10-12T13:57:09.339Z"
   },
   {
    "duration": 0,
    "start_time": "2022-10-12T13:57:09.340Z"
   },
   {
    "duration": 0,
    "start_time": "2022-10-12T13:57:09.342Z"
   },
   {
    "duration": 0,
    "start_time": "2022-10-12T13:57:09.343Z"
   },
   {
    "duration": 0,
    "start_time": "2022-10-12T13:57:09.345Z"
   },
   {
    "duration": 0,
    "start_time": "2022-10-12T13:57:09.346Z"
   },
   {
    "duration": 0,
    "start_time": "2022-10-12T13:57:09.348Z"
   },
   {
    "duration": 8,
    "start_time": "2022-10-12T13:57:17.965Z"
   },
   {
    "duration": 8,
    "start_time": "2022-10-12T13:57:21.879Z"
   },
   {
    "duration": 771,
    "start_time": "2022-10-12T13:57:28.685Z"
   },
   {
    "duration": 0,
    "start_time": "2022-10-12T13:57:29.458Z"
   },
   {
    "duration": 0,
    "start_time": "2022-10-12T13:57:29.459Z"
   },
   {
    "duration": 0,
    "start_time": "2022-10-12T13:57:29.460Z"
   },
   {
    "duration": 0,
    "start_time": "2022-10-12T13:57:29.462Z"
   },
   {
    "duration": 0,
    "start_time": "2022-10-12T13:57:29.463Z"
   },
   {
    "duration": 0,
    "start_time": "2022-10-12T13:57:29.464Z"
   },
   {
    "duration": 0,
    "start_time": "2022-10-12T13:57:29.465Z"
   },
   {
    "duration": 0,
    "start_time": "2022-10-12T13:57:29.466Z"
   },
   {
    "duration": 0,
    "start_time": "2022-10-12T13:57:29.467Z"
   },
   {
    "duration": 0,
    "start_time": "2022-10-12T13:57:29.468Z"
   },
   {
    "duration": 0,
    "start_time": "2022-10-12T13:57:29.469Z"
   },
   {
    "duration": 0,
    "start_time": "2022-10-12T13:57:29.470Z"
   },
   {
    "duration": 0,
    "start_time": "2022-10-12T13:57:29.471Z"
   },
   {
    "duration": 0,
    "start_time": "2022-10-12T13:57:29.473Z"
   },
   {
    "duration": 0,
    "start_time": "2022-10-12T13:57:29.474Z"
   },
   {
    "duration": 0,
    "start_time": "2022-10-12T13:57:29.475Z"
   },
   {
    "duration": 0,
    "start_time": "2022-10-12T13:57:29.476Z"
   },
   {
    "duration": 0,
    "start_time": "2022-10-12T13:57:29.477Z"
   },
   {
    "duration": 0,
    "start_time": "2022-10-12T13:57:29.478Z"
   },
   {
    "duration": 9,
    "start_time": "2022-10-12T13:58:20.504Z"
   },
   {
    "duration": 9,
    "start_time": "2022-10-12T13:58:30.163Z"
   },
   {
    "duration": 18,
    "start_time": "2022-10-12T13:58:36.214Z"
   },
   {
    "duration": 9,
    "start_time": "2022-10-12T13:58:37.558Z"
   },
   {
    "duration": 684,
    "start_time": "2022-10-12T13:58:46.370Z"
   },
   {
    "duration": 0,
    "start_time": "2022-10-12T13:58:47.056Z"
   },
   {
    "duration": 0,
    "start_time": "2022-10-12T13:58:47.057Z"
   },
   {
    "duration": 0,
    "start_time": "2022-10-12T13:58:47.059Z"
   },
   {
    "duration": 0,
    "start_time": "2022-10-12T13:58:47.060Z"
   },
   {
    "duration": 0,
    "start_time": "2022-10-12T13:58:47.061Z"
   },
   {
    "duration": 0,
    "start_time": "2022-10-12T13:58:47.062Z"
   },
   {
    "duration": 0,
    "start_time": "2022-10-12T13:58:47.064Z"
   },
   {
    "duration": 0,
    "start_time": "2022-10-12T13:58:47.064Z"
   },
   {
    "duration": 0,
    "start_time": "2022-10-12T13:58:47.066Z"
   },
   {
    "duration": 0,
    "start_time": "2022-10-12T13:58:47.066Z"
   },
   {
    "duration": 0,
    "start_time": "2022-10-12T13:58:47.067Z"
   },
   {
    "duration": 0,
    "start_time": "2022-10-12T13:58:47.069Z"
   },
   {
    "duration": 0,
    "start_time": "2022-10-12T13:58:47.069Z"
   },
   {
    "duration": 0,
    "start_time": "2022-10-12T13:58:47.071Z"
   },
   {
    "duration": 0,
    "start_time": "2022-10-12T13:58:47.072Z"
   },
   {
    "duration": 0,
    "start_time": "2022-10-12T13:58:47.073Z"
   },
   {
    "duration": 0,
    "start_time": "2022-10-12T13:58:47.074Z"
   },
   {
    "duration": 0,
    "start_time": "2022-10-12T13:58:47.075Z"
   },
   {
    "duration": 0,
    "start_time": "2022-10-12T13:58:47.076Z"
   },
   {
    "duration": 7,
    "start_time": "2022-10-12T13:58:58.224Z"
   },
   {
    "duration": 830,
    "start_time": "2022-10-12T13:59:24.792Z"
   },
   {
    "duration": 0,
    "start_time": "2022-10-12T13:59:25.624Z"
   },
   {
    "duration": 0,
    "start_time": "2022-10-12T13:59:25.626Z"
   },
   {
    "duration": 0,
    "start_time": "2022-10-12T13:59:25.627Z"
   },
   {
    "duration": 0,
    "start_time": "2022-10-12T13:59:25.628Z"
   },
   {
    "duration": 0,
    "start_time": "2022-10-12T13:59:25.629Z"
   },
   {
    "duration": 0,
    "start_time": "2022-10-12T13:59:25.631Z"
   },
   {
    "duration": 0,
    "start_time": "2022-10-12T13:59:25.632Z"
   },
   {
    "duration": 0,
    "start_time": "2022-10-12T13:59:25.633Z"
   },
   {
    "duration": 0,
    "start_time": "2022-10-12T13:59:25.636Z"
   },
   {
    "duration": 0,
    "start_time": "2022-10-12T13:59:25.637Z"
   },
   {
    "duration": 0,
    "start_time": "2022-10-12T13:59:25.639Z"
   },
   {
    "duration": 0,
    "start_time": "2022-10-12T13:59:25.640Z"
   },
   {
    "duration": 0,
    "start_time": "2022-10-12T13:59:25.641Z"
   },
   {
    "duration": 0,
    "start_time": "2022-10-12T13:59:25.643Z"
   },
   {
    "duration": 0,
    "start_time": "2022-10-12T13:59:25.644Z"
   },
   {
    "duration": 0,
    "start_time": "2022-10-12T13:59:25.645Z"
   },
   {
    "duration": 0,
    "start_time": "2022-10-12T13:59:25.646Z"
   },
   {
    "duration": 0,
    "start_time": "2022-10-12T13:59:25.648Z"
   },
   {
    "duration": 0,
    "start_time": "2022-10-12T13:59:25.649Z"
   },
   {
    "duration": 886,
    "start_time": "2022-10-12T14:05:23.014Z"
   },
   {
    "duration": 14,
    "start_time": "2022-10-12T14:05:23.945Z"
   },
   {
    "duration": 13,
    "start_time": "2022-10-12T14:05:33.064Z"
   },
   {
    "duration": 7,
    "start_time": "2022-10-12T14:24:41.360Z"
   },
   {
    "duration": 10,
    "start_time": "2022-10-12T14:24:48.028Z"
   },
   {
    "duration": 10,
    "start_time": "2022-10-12T14:25:15.140Z"
   },
   {
    "duration": 5,
    "start_time": "2022-10-12T14:25:43.421Z"
   },
   {
    "duration": 8,
    "start_time": "2022-10-12T14:26:01.798Z"
   },
   {
    "duration": 5,
    "start_time": "2022-10-12T14:26:03.083Z"
   },
   {
    "duration": 60,
    "start_time": "2022-10-12T14:27:12.727Z"
   },
   {
    "duration": 661,
    "start_time": "2022-10-12T14:28:54.557Z"
   },
   {
    "duration": 19,
    "start_time": "2022-10-12T14:28:55.220Z"
   },
   {
    "duration": 1801,
    "start_time": "2022-10-12T14:28:55.240Z"
   },
   {
    "duration": 26,
    "start_time": "2022-10-12T14:28:57.044Z"
   },
   {
    "duration": 8,
    "start_time": "2022-10-12T14:28:57.071Z"
   },
   {
    "duration": 19,
    "start_time": "2022-10-12T14:28:57.080Z"
   },
   {
    "duration": 9,
    "start_time": "2022-10-12T14:28:57.101Z"
   },
   {
    "duration": 8,
    "start_time": "2022-10-12T14:28:57.111Z"
   },
   {
    "duration": 6,
    "start_time": "2022-10-12T14:28:57.122Z"
   },
   {
    "duration": 17,
    "start_time": "2022-10-12T14:28:57.131Z"
   },
   {
    "duration": 74,
    "start_time": "2022-10-12T14:28:57.150Z"
   },
   {
    "duration": 6,
    "start_time": "2022-10-12T14:28:57.226Z"
   },
   {
    "duration": 28,
    "start_time": "2022-10-12T14:28:57.233Z"
   },
   {
    "duration": 3,
    "start_time": "2022-10-12T14:28:57.262Z"
   },
   {
    "duration": 10,
    "start_time": "2022-10-12T14:28:57.266Z"
   },
   {
    "duration": 8,
    "start_time": "2022-10-12T14:28:57.277Z"
   },
   {
    "duration": 40,
    "start_time": "2022-10-12T14:28:57.286Z"
   },
   {
    "duration": 18,
    "start_time": "2022-10-12T14:28:57.327Z"
   },
   {
    "duration": 12,
    "start_time": "2022-10-12T14:28:57.347Z"
   },
   {
    "duration": 7,
    "start_time": "2022-10-12T14:28:57.361Z"
   },
   {
    "duration": 15,
    "start_time": "2022-10-12T14:28:57.370Z"
   },
   {
    "duration": 10,
    "start_time": "2022-10-12T14:29:25.209Z"
   },
   {
    "duration": 13,
    "start_time": "2022-10-12T14:29:39.493Z"
   },
   {
    "duration": 10,
    "start_time": "2022-10-12T14:30:16.083Z"
   },
   {
    "duration": 9,
    "start_time": "2022-10-12T14:30:45.278Z"
   },
   {
    "duration": 61,
    "start_time": "2022-10-12T14:30:46.417Z"
   },
   {
    "duration": 6,
    "start_time": "2022-10-12T14:30:47.396Z"
   },
   {
    "duration": 28,
    "start_time": "2022-10-12T14:30:49.562Z"
   },
   {
    "duration": 3,
    "start_time": "2022-10-12T14:30:52.021Z"
   },
   {
    "duration": 7,
    "start_time": "2022-10-12T14:30:53.679Z"
   },
   {
    "duration": 10,
    "start_time": "2022-10-12T14:30:56.139Z"
   },
   {
    "duration": 9,
    "start_time": "2022-10-12T14:31:03.269Z"
   },
   {
    "duration": 43,
    "start_time": "2022-10-12T14:33:10.564Z"
   },
   {
    "duration": 10,
    "start_time": "2022-10-12T14:35:31.422Z"
   },
   {
    "duration": 10,
    "start_time": "2022-10-12T14:35:41.363Z"
   },
   {
    "duration": 68,
    "start_time": "2022-10-12T14:35:42.369Z"
   },
   {
    "duration": 6,
    "start_time": "2022-10-12T14:36:15.393Z"
   },
   {
    "duration": 72,
    "start_time": "2022-10-12T14:36:35.329Z"
   },
   {
    "duration": 9,
    "start_time": "2022-10-12T14:36:45.249Z"
   },
   {
    "duration": 60,
    "start_time": "2022-10-12T14:41:30.753Z"
   },
   {
    "duration": 8,
    "start_time": "2022-10-12T14:42:55.963Z"
   },
   {
    "duration": 8,
    "start_time": "2022-10-12T14:43:04.036Z"
   },
   {
    "duration": 58,
    "start_time": "2022-10-12T14:43:05.539Z"
   },
   {
    "duration": 8,
    "start_time": "2022-10-12T14:43:12.309Z"
   },
   {
    "duration": 8,
    "start_time": "2022-10-12T14:43:31.950Z"
   },
   {
    "duration": 12,
    "start_time": "2022-10-12T14:43:34.077Z"
   },
   {
    "duration": 10,
    "start_time": "2022-10-12T14:43:39.072Z"
   },
   {
    "duration": 16,
    "start_time": "2022-10-12T14:43:40.316Z"
   },
   {
    "duration": 46,
    "start_time": "2022-10-12T14:43:49.144Z"
   },
   {
    "duration": 32,
    "start_time": "2022-10-12T14:44:00.233Z"
   },
   {
    "duration": 33,
    "start_time": "2022-10-12T14:44:06.338Z"
   },
   {
    "duration": 7,
    "start_time": "2022-10-12T14:46:05.373Z"
   },
   {
    "duration": 7,
    "start_time": "2022-10-12T14:46:27.270Z"
   },
   {
    "duration": 8,
    "start_time": "2022-10-12T14:47:02.149Z"
   },
   {
    "duration": 10,
    "start_time": "2022-10-12T14:47:15.661Z"
   },
   {
    "duration": 9,
    "start_time": "2022-10-12T14:47:25.620Z"
   },
   {
    "duration": 6,
    "start_time": "2022-10-12T14:49:31.047Z"
   },
   {
    "duration": 29,
    "start_time": "2022-10-12T14:49:32.857Z"
   },
   {
    "duration": 10,
    "start_time": "2022-10-12T15:00:35.229Z"
   },
   {
    "duration": 8,
    "start_time": "2022-10-12T15:00:38.746Z"
   },
   {
    "duration": 29,
    "start_time": "2022-10-12T15:00:40.440Z"
   },
   {
    "duration": 34,
    "start_time": "2022-10-12T15:05:25.729Z"
   },
   {
    "duration": 35,
    "start_time": "2022-10-12T15:07:13.892Z"
   },
   {
    "duration": 36,
    "start_time": "2022-10-12T15:08:17.038Z"
   },
   {
    "duration": 42,
    "start_time": "2022-10-12T15:08:40.330Z"
   },
   {
    "duration": 9,
    "start_time": "2022-10-12T15:08:53.085Z"
   },
   {
    "duration": 7,
    "start_time": "2022-10-12T15:10:46.516Z"
   },
   {
    "duration": 32,
    "start_time": "2022-10-12T15:11:16.464Z"
   },
   {
    "duration": 33,
    "start_time": "2022-10-12T15:11:36.498Z"
   },
   {
    "duration": 31,
    "start_time": "2022-10-12T15:11:50.117Z"
   },
   {
    "duration": 31,
    "start_time": "2022-10-12T15:12:00.710Z"
   },
   {
    "duration": 10,
    "start_time": "2022-10-12T15:12:29.276Z"
   },
   {
    "duration": 6,
    "start_time": "2022-10-12T15:12:35.237Z"
   },
   {
    "duration": 28,
    "start_time": "2022-10-12T15:12:44.158Z"
   },
   {
    "duration": 30,
    "start_time": "2022-10-12T15:13:30.662Z"
   },
   {
    "duration": 5,
    "start_time": "2022-10-12T15:14:04.183Z"
   },
   {
    "duration": 9,
    "start_time": "2022-10-12T15:15:02.109Z"
   },
   {
    "duration": 9,
    "start_time": "2022-10-12T15:16:09.480Z"
   },
   {
    "duration": 8,
    "start_time": "2022-10-12T15:24:33.037Z"
   },
   {
    "duration": 7,
    "start_time": "2022-10-12T15:24:36.814Z"
   },
   {
    "duration": 9,
    "start_time": "2022-10-12T15:24:45.862Z"
   },
   {
    "duration": 8,
    "start_time": "2022-10-12T15:24:53.364Z"
   },
   {
    "duration": 10,
    "start_time": "2022-10-12T15:26:57.219Z"
   },
   {
    "duration": 10,
    "start_time": "2022-10-12T15:27:13.261Z"
   },
   {
    "duration": 10,
    "start_time": "2022-10-12T15:27:33.730Z"
   },
   {
    "duration": 10,
    "start_time": "2022-10-12T15:28:03.559Z"
   },
   {
    "duration": 9,
    "start_time": "2022-10-12T15:28:09.395Z"
   },
   {
    "duration": 11,
    "start_time": "2022-10-12T15:30:27.385Z"
   },
   {
    "duration": 1198,
    "start_time": "2022-10-12T15:30:50.677Z"
   },
   {
    "duration": 844,
    "start_time": "2022-10-12T15:32:09.945Z"
   },
   {
    "duration": 51,
    "start_time": "2022-10-12T15:32:39.394Z"
   },
   {
    "duration": 1223,
    "start_time": "2022-10-12T15:32:45.792Z"
   },
   {
    "duration": 806,
    "start_time": "2022-10-12T15:33:26.675Z"
   },
   {
    "duration": 904,
    "start_time": "2022-10-12T15:34:27.912Z"
   },
   {
    "duration": 750,
    "start_time": "2022-10-12T15:34:47.359Z"
   },
   {
    "duration": 1102,
    "start_time": "2022-10-12T15:34:53.203Z"
   },
   {
    "duration": 37,
    "start_time": "2022-10-12T15:41:00.085Z"
   },
   {
    "duration": 39,
    "start_time": "2022-10-12T15:41:22.558Z"
   },
   {
    "duration": 50,
    "start_time": "2022-10-12T15:42:03.884Z"
   },
   {
    "duration": 41,
    "start_time": "2022-10-12T15:42:41.845Z"
   },
   {
    "duration": 37,
    "start_time": "2022-10-12T15:42:47.583Z"
   },
   {
    "duration": 719,
    "start_time": "2022-10-12T15:42:57.209Z"
   },
   {
    "duration": 13,
    "start_time": "2022-10-12T15:42:57.930Z"
   },
   {
    "duration": 1844,
    "start_time": "2022-10-12T15:42:57.945Z"
   },
   {
    "duration": 6,
    "start_time": "2022-10-12T15:42:59.791Z"
   },
   {
    "duration": 14,
    "start_time": "2022-10-12T15:42:59.798Z"
   },
   {
    "duration": 7,
    "start_time": "2022-10-12T15:42:59.814Z"
   },
   {
    "duration": 8,
    "start_time": "2022-10-12T15:42:59.822Z"
   },
   {
    "duration": 6,
    "start_time": "2022-10-12T15:42:59.832Z"
   },
   {
    "duration": 8,
    "start_time": "2022-10-12T15:42:59.839Z"
   },
   {
    "duration": 27,
    "start_time": "2022-10-12T15:42:59.850Z"
   },
   {
    "duration": 48,
    "start_time": "2022-10-12T15:42:59.878Z"
   },
   {
    "duration": 4,
    "start_time": "2022-10-12T15:42:59.927Z"
   },
   {
    "duration": 10,
    "start_time": "2022-10-12T15:42:59.932Z"
   },
   {
    "duration": 9,
    "start_time": "2022-10-12T15:42:59.943Z"
   },
   {
    "duration": 40,
    "start_time": "2022-10-12T15:42:59.954Z"
   },
   {
    "duration": 40,
    "start_time": "2022-10-12T15:42:59.995Z"
   },
   {
    "duration": 1974,
    "start_time": "2022-10-12T15:43:00.036Z"
   },
   {
    "duration": 0,
    "start_time": "2022-10-12T15:43:02.011Z"
   },
   {
    "duration": 39,
    "start_time": "2022-10-12T15:43:14.953Z"
   },
   {
    "duration": 37,
    "start_time": "2022-10-12T15:44:14.045Z"
   },
   {
    "duration": 54,
    "start_time": "2022-10-12T15:44:43.968Z"
   },
   {
    "duration": 38,
    "start_time": "2022-10-12T15:44:54.671Z"
   },
   {
    "duration": 14,
    "start_time": "2022-10-12T15:45:01.833Z"
   },
   {
    "duration": 39,
    "start_time": "2022-10-12T15:45:10.458Z"
   },
   {
    "duration": 43,
    "start_time": "2022-10-12T15:45:22.523Z"
   },
   {
    "duration": 708,
    "start_time": "2022-10-12T15:45:31.841Z"
   },
   {
    "duration": 13,
    "start_time": "2022-10-12T15:45:32.551Z"
   },
   {
    "duration": 1788,
    "start_time": "2022-10-12T15:45:32.565Z"
   },
   {
    "duration": 7,
    "start_time": "2022-10-12T15:45:34.355Z"
   },
   {
    "duration": 8,
    "start_time": "2022-10-12T15:45:34.364Z"
   },
   {
    "duration": 9,
    "start_time": "2022-10-12T15:45:34.374Z"
   },
   {
    "duration": 17,
    "start_time": "2022-10-12T15:45:34.384Z"
   },
   {
    "duration": 8,
    "start_time": "2022-10-12T15:45:34.403Z"
   },
   {
    "duration": 7,
    "start_time": "2022-10-12T15:45:34.412Z"
   },
   {
    "duration": 27,
    "start_time": "2022-10-12T15:45:34.420Z"
   },
   {
    "duration": 27,
    "start_time": "2022-10-12T15:45:34.449Z"
   },
   {
    "duration": 3,
    "start_time": "2022-10-12T15:45:34.478Z"
   },
   {
    "duration": 8,
    "start_time": "2022-10-12T15:45:34.483Z"
   },
   {
    "duration": 29,
    "start_time": "2022-10-12T15:45:34.493Z"
   },
   {
    "duration": 38,
    "start_time": "2022-10-12T15:45:34.523Z"
   },
   {
    "duration": 12,
    "start_time": "2022-10-12T15:45:34.563Z"
   },
   {
    "duration": 935,
    "start_time": "2022-10-12T15:45:34.577Z"
   },
   {
    "duration": 0,
    "start_time": "2022-10-12T15:45:35.514Z"
   },
   {
    "duration": 47,
    "start_time": "2022-10-12T15:45:58.036Z"
   },
   {
    "duration": 59,
    "start_time": "2022-10-12T15:46:13.724Z"
   },
   {
    "duration": 56,
    "start_time": "2022-10-12T15:46:24.321Z"
   },
   {
    "duration": 683,
    "start_time": "2022-10-12T15:46:32.251Z"
   },
   {
    "duration": 14,
    "start_time": "2022-10-12T15:46:32.936Z"
   },
   {
    "duration": 1781,
    "start_time": "2022-10-12T15:46:32.952Z"
   },
   {
    "duration": 7,
    "start_time": "2022-10-12T15:46:34.774Z"
   },
   {
    "duration": 8,
    "start_time": "2022-10-12T15:46:34.783Z"
   },
   {
    "duration": 8,
    "start_time": "2022-10-12T15:46:34.792Z"
   },
   {
    "duration": 10,
    "start_time": "2022-10-12T15:46:34.802Z"
   },
   {
    "duration": 7,
    "start_time": "2022-10-12T15:46:34.813Z"
   },
   {
    "duration": 10,
    "start_time": "2022-10-12T15:46:34.822Z"
   },
   {
    "duration": 27,
    "start_time": "2022-10-12T15:46:34.834Z"
   },
   {
    "duration": 30,
    "start_time": "2022-10-12T15:46:34.863Z"
   },
   {
    "duration": 3,
    "start_time": "2022-10-12T15:46:34.894Z"
   },
   {
    "duration": 25,
    "start_time": "2022-10-12T15:46:34.898Z"
   },
   {
    "duration": 9,
    "start_time": "2022-10-12T15:46:34.924Z"
   },
   {
    "duration": 60,
    "start_time": "2022-10-12T15:46:34.935Z"
   },
   {
    "duration": 29,
    "start_time": "2022-10-12T15:46:34.996Z"
   },
   {
    "duration": 1092,
    "start_time": "2022-10-12T15:46:35.026Z"
   },
   {
    "duration": 0,
    "start_time": "2022-10-12T15:46:36.120Z"
   },
   {
    "duration": 107,
    "start_time": "2022-10-12T15:47:39.993Z"
   },
   {
    "duration": 90,
    "start_time": "2022-10-12T15:48:12.985Z"
   },
   {
    "duration": 142,
    "start_time": "2022-10-12T15:50:02.112Z"
   },
   {
    "duration": 139,
    "start_time": "2022-10-12T15:50:25.873Z"
   },
   {
    "duration": 148,
    "start_time": "2022-10-12T15:51:08.809Z"
   },
   {
    "duration": 144,
    "start_time": "2022-10-12T15:51:45.695Z"
   },
   {
    "duration": 826,
    "start_time": "2022-10-12T15:58:13.784Z"
   },
   {
    "duration": 14,
    "start_time": "2022-10-12T16:04:06.548Z"
   },
   {
    "duration": 9,
    "start_time": "2022-10-12T16:08:50.986Z"
   },
   {
    "duration": 3,
    "start_time": "2022-10-12T16:09:28.342Z"
   },
   {
    "duration": 8,
    "start_time": "2022-10-12T16:10:32.996Z"
   },
   {
    "duration": 1583,
    "start_time": "2022-10-12T16:10:34.219Z"
   },
   {
    "duration": 1132,
    "start_time": "2022-10-12T16:10:47.140Z"
   },
   {
    "duration": 4,
    "start_time": "2022-10-12T16:14:57.745Z"
   },
   {
    "duration": 12,
    "start_time": "2022-10-12T16:15:03.084Z"
   },
   {
    "duration": 6,
    "start_time": "2022-10-12T16:18:26.223Z"
   },
   {
    "duration": 6,
    "start_time": "2022-10-12T16:18:27.089Z"
   },
   {
    "duration": 4,
    "start_time": "2022-10-12T16:18:27.595Z"
   },
   {
    "duration": 4,
    "start_time": "2022-10-12T16:18:28.278Z"
   },
   {
    "duration": 5,
    "start_time": "2022-10-12T16:18:28.917Z"
   },
   {
    "duration": 47,
    "start_time": "2022-10-12T16:19:19.509Z"
   },
   {
    "duration": 7,
    "start_time": "2022-10-12T16:21:44.170Z"
   },
   {
    "duration": 21,
    "start_time": "2022-10-12T16:21:51.236Z"
   },
   {
    "duration": 19,
    "start_time": "2022-10-12T16:22:19.563Z"
   },
   {
    "duration": 12,
    "start_time": "2022-10-12T16:34:50.384Z"
   },
   {
    "duration": 3,
    "start_time": "2022-10-12T16:34:58.818Z"
   },
   {
    "duration": 12,
    "start_time": "2022-10-12T16:35:03.623Z"
   },
   {
    "duration": 9,
    "start_time": "2022-10-12T16:37:44.200Z"
   },
   {
    "duration": 7,
    "start_time": "2022-10-12T16:43:18.534Z"
   },
   {
    "duration": 6,
    "start_time": "2022-10-12T16:43:28.752Z"
   },
   {
    "duration": 14,
    "start_time": "2022-10-12T16:45:03.886Z"
   },
   {
    "duration": 20,
    "start_time": "2022-10-12T16:45:14.391Z"
   },
   {
    "duration": 5,
    "start_time": "2022-10-12T16:45:32.233Z"
   },
   {
    "duration": 6,
    "start_time": "2022-10-12T16:45:32.945Z"
   },
   {
    "duration": 19,
    "start_time": "2022-10-12T16:45:36.222Z"
   },
   {
    "duration": 71,
    "start_time": "2022-10-12T16:46:40.422Z"
   },
   {
    "duration": 63,
    "start_time": "2022-10-12T16:47:13.373Z"
   },
   {
    "duration": 4,
    "start_time": "2022-10-12T16:47:33.001Z"
   },
   {
    "duration": 6,
    "start_time": "2022-10-12T16:47:36.281Z"
   },
   {
    "duration": 6,
    "start_time": "2022-10-12T16:47:36.498Z"
   },
   {
    "duration": 6,
    "start_time": "2022-10-12T16:47:36.713Z"
   },
   {
    "duration": 2,
    "start_time": "2022-10-12T16:47:36.940Z"
   },
   {
    "duration": 2,
    "start_time": "2022-10-12T16:47:37.145Z"
   },
   {
    "duration": 21,
    "start_time": "2022-10-12T16:47:37.683Z"
   },
   {
    "duration": 4,
    "start_time": "2022-10-12T16:47:58.175Z"
   },
   {
    "duration": 5,
    "start_time": "2022-10-12T16:47:59.887Z"
   },
   {
    "duration": 6,
    "start_time": "2022-10-12T16:48:00.109Z"
   },
   {
    "duration": 5,
    "start_time": "2022-10-12T16:48:00.331Z"
   },
   {
    "duration": 2,
    "start_time": "2022-10-12T16:48:00.539Z"
   },
   {
    "duration": 2,
    "start_time": "2022-10-12T16:48:01.132Z"
   },
   {
    "duration": 20,
    "start_time": "2022-10-12T16:48:03.255Z"
   },
   {
    "duration": 55,
    "start_time": "2022-10-13T13:27:25.302Z"
   },
   {
    "duration": 3,
    "start_time": "2022-10-13T13:34:40.799Z"
   },
   {
    "duration": 9,
    "start_time": "2022-10-13T13:38:38.686Z"
   },
   {
    "duration": 9,
    "start_time": "2022-10-13T13:39:28.412Z"
   },
   {
    "duration": 7,
    "start_time": "2022-10-13T13:40:37.460Z"
   },
   {
    "duration": 985,
    "start_time": "2022-10-13T13:40:52.800Z"
   },
   {
    "duration": 14,
    "start_time": "2022-10-13T13:40:53.787Z"
   },
   {
    "duration": 1881,
    "start_time": "2022-10-13T13:40:53.803Z"
   },
   {
    "duration": 8,
    "start_time": "2022-10-13T13:40:55.685Z"
   },
   {
    "duration": 6,
    "start_time": "2022-10-13T13:40:55.695Z"
   },
   {
    "duration": 5,
    "start_time": "2022-10-13T13:40:55.703Z"
   },
   {
    "duration": 6,
    "start_time": "2022-10-13T13:40:55.709Z"
   },
   {
    "duration": 5,
    "start_time": "2022-10-13T13:40:55.716Z"
   },
   {
    "duration": 7,
    "start_time": "2022-10-13T13:40:55.722Z"
   },
   {
    "duration": 27,
    "start_time": "2022-10-13T13:40:55.730Z"
   },
   {
    "duration": 55,
    "start_time": "2022-10-13T13:40:55.759Z"
   },
   {
    "duration": 3,
    "start_time": "2022-10-13T13:40:55.816Z"
   },
   {
    "duration": 10,
    "start_time": "2022-10-13T13:40:55.820Z"
   },
   {
    "duration": 171,
    "start_time": "2022-10-13T13:40:55.833Z"
   },
   {
    "duration": 6,
    "start_time": "2022-10-13T13:40:56.006Z"
   },
   {
    "duration": 13,
    "start_time": "2022-10-13T13:40:56.013Z"
   },
   {
    "duration": 8,
    "start_time": "2022-10-13T13:40:56.027Z"
   },
   {
    "duration": 5,
    "start_time": "2022-10-13T13:40:56.036Z"
   },
   {
    "duration": 3,
    "start_time": "2022-10-13T13:40:56.043Z"
   },
   {
    "duration": 6,
    "start_time": "2022-10-13T13:40:56.048Z"
   },
   {
    "duration": 5,
    "start_time": "2022-10-13T13:40:56.056Z"
   },
   {
    "duration": 13,
    "start_time": "2022-10-13T13:40:56.063Z"
   },
   {
    "duration": 33,
    "start_time": "2022-10-13T13:40:56.078Z"
   },
   {
    "duration": 6,
    "start_time": "2022-10-13T13:40:56.112Z"
   },
   {
    "duration": 8,
    "start_time": "2022-10-13T13:40:56.119Z"
   },
   {
    "duration": 5,
    "start_time": "2022-10-13T13:40:56.129Z"
   },
   {
    "duration": 309,
    "start_time": "2022-10-13T13:40:56.135Z"
   },
   {
    "duration": 2,
    "start_time": "2022-10-13T13:40:56.445Z"
   },
   {
    "duration": 27,
    "start_time": "2022-10-13T13:40:56.449Z"
   },
   {
    "duration": 285,
    "start_time": "2022-10-13T13:40:56.692Z"
   },
   {
    "duration": 324,
    "start_time": "2022-10-13T13:40:59.203Z"
   },
   {
    "duration": 4,
    "start_time": "2022-10-13T13:44:54.925Z"
   },
   {
    "duration": 21,
    "start_time": "2022-10-13T13:44:58.294Z"
   },
   {
    "duration": 3,
    "start_time": "2022-10-13T13:45:26.368Z"
   },
   {
    "duration": 4,
    "start_time": "2022-10-13T13:45:40.208Z"
   },
   {
    "duration": 20,
    "start_time": "2022-10-13T13:45:40.904Z"
   },
   {
    "duration": 13,
    "start_time": "2022-10-13T13:46:15.757Z"
   },
   {
    "duration": 2356,
    "start_time": "2022-10-13T13:48:27.404Z"
   },
   {
    "duration": 241,
    "start_time": "2022-10-13T13:51:50.555Z"
   },
   {
    "duration": 6,
    "start_time": "2022-10-13T14:10:50.561Z"
   },
   {
    "duration": 6,
    "start_time": "2022-10-13T14:11:13.368Z"
   },
   {
    "duration": 10,
    "start_time": "2022-10-13T14:11:30.756Z"
   },
   {
    "duration": 11,
    "start_time": "2022-10-13T14:11:43.949Z"
   },
   {
    "duration": 10,
    "start_time": "2022-10-13T14:11:58.189Z"
   },
   {
    "duration": 9,
    "start_time": "2022-10-13T14:12:05.899Z"
   },
   {
    "duration": 731,
    "start_time": "2022-10-13T14:12:47.141Z"
   },
   {
    "duration": 83,
    "start_time": "2022-10-13T14:12:57.272Z"
   },
   {
    "duration": 121,
    "start_time": "2022-10-13T14:13:09.472Z"
   },
   {
    "duration": 262,
    "start_time": "2022-10-13T14:16:49.640Z"
   },
   {
    "duration": 44,
    "start_time": "2022-10-13T14:21:05.605Z"
   },
   {
    "duration": 51,
    "start_time": "2022-10-13T14:21:19.777Z"
   },
   {
    "duration": 345,
    "start_time": "2022-10-13T14:21:58.922Z"
   },
   {
    "duration": 262,
    "start_time": "2022-10-13T14:22:27.476Z"
   },
   {
    "duration": 269,
    "start_time": "2022-10-13T14:23:06.267Z"
   },
   {
    "duration": 247,
    "start_time": "2022-10-13T14:23:22.042Z"
   },
   {
    "duration": 266,
    "start_time": "2022-10-13T14:23:26.739Z"
   },
   {
    "duration": 292,
    "start_time": "2022-10-13T14:23:47.807Z"
   },
   {
    "duration": 268,
    "start_time": "2022-10-13T14:23:54.999Z"
   },
   {
    "duration": 271,
    "start_time": "2022-10-13T14:24:00.246Z"
   },
   {
    "duration": 279,
    "start_time": "2022-10-13T14:24:04.593Z"
   },
   {
    "duration": 288,
    "start_time": "2022-10-13T14:24:27.107Z"
   },
   {
    "duration": 839,
    "start_time": "2022-10-13T14:30:11.265Z"
   },
   {
    "duration": 60,
    "start_time": "2022-10-13T14:31:05.313Z"
   },
   {
    "duration": 1895,
    "start_time": "2022-10-13T14:31:13.859Z"
   },
   {
    "duration": 709,
    "start_time": "2022-10-13T14:31:36.249Z"
   },
   {
    "duration": 700,
    "start_time": "2022-10-13T14:31:46.749Z"
   },
   {
    "duration": 702,
    "start_time": "2022-10-13T14:31:52.177Z"
   },
   {
    "duration": 6,
    "start_time": "2022-10-13T16:01:36.648Z"
   },
   {
    "duration": 6,
    "start_time": "2022-10-13T16:01:53.132Z"
   },
   {
    "duration": 5,
    "start_time": "2022-10-13T16:03:12.397Z"
   },
   {
    "duration": 8,
    "start_time": "2022-10-13T16:03:24.447Z"
   },
   {
    "duration": 359,
    "start_time": "2022-10-13T16:07:00.714Z"
   },
   {
    "duration": 262,
    "start_time": "2022-10-13T16:07:08.977Z"
   },
   {
    "duration": 202,
    "start_time": "2022-10-13T16:08:45.808Z"
   },
   {
    "duration": 189,
    "start_time": "2022-10-13T16:09:11.779Z"
   },
   {
    "duration": 196,
    "start_time": "2022-10-13T16:09:28.892Z"
   },
   {
    "duration": 195,
    "start_time": "2022-10-13T16:10:04.634Z"
   },
   {
    "duration": 277,
    "start_time": "2022-10-13T16:12:45.890Z"
   },
   {
    "duration": 187,
    "start_time": "2022-10-13T16:12:59.901Z"
   },
   {
    "duration": 183,
    "start_time": "2022-10-13T16:13:20.163Z"
   },
   {
    "duration": 157,
    "start_time": "2022-10-13T16:13:32.074Z"
   },
   {
    "duration": 139,
    "start_time": "2022-10-13T16:13:37.337Z"
   },
   {
    "duration": 171,
    "start_time": "2022-10-13T16:13:42.768Z"
   },
   {
    "duration": 165,
    "start_time": "2022-10-13T16:13:45.999Z"
   },
   {
    "duration": 153,
    "start_time": "2022-10-13T16:13:52.804Z"
   },
   {
    "duration": 166,
    "start_time": "2022-10-13T16:13:56.974Z"
   },
   {
    "duration": 186,
    "start_time": "2022-10-13T16:14:01.920Z"
   },
   {
    "duration": 283,
    "start_time": "2022-10-13T16:15:41.479Z"
   },
   {
    "duration": 143,
    "start_time": "2022-10-13T16:15:57.972Z"
   },
   {
    "duration": 143,
    "start_time": "2022-10-13T16:16:01.187Z"
   },
   {
    "duration": 208,
    "start_time": "2022-10-13T16:16:04.981Z"
   },
   {
    "duration": 190,
    "start_time": "2022-10-13T16:16:09.983Z"
   },
   {
    "duration": 172,
    "start_time": "2022-10-13T16:16:14.726Z"
   },
   {
    "duration": 146,
    "start_time": "2022-10-13T16:16:18.073Z"
   },
   {
    "duration": 130,
    "start_time": "2022-10-13T16:16:21.903Z"
   },
   {
    "duration": 138,
    "start_time": "2022-10-13T16:16:32.177Z"
   },
   {
    "duration": 154,
    "start_time": "2022-10-13T16:16:35.789Z"
   },
   {
    "duration": 240,
    "start_time": "2022-10-13T16:16:41.768Z"
   },
   {
    "duration": 138,
    "start_time": "2022-10-13T16:16:49.860Z"
   },
   {
    "duration": 165,
    "start_time": "2022-10-13T16:17:51.704Z"
   },
   {
    "duration": 154,
    "start_time": "2022-10-13T16:17:59.620Z"
   },
   {
    "duration": 175,
    "start_time": "2022-10-13T16:18:06.050Z"
   },
   {
    "duration": 199,
    "start_time": "2022-10-13T16:18:11.488Z"
   },
   {
    "duration": 166,
    "start_time": "2022-10-13T16:18:15.432Z"
   },
   {
    "duration": 191,
    "start_time": "2022-10-13T16:19:24.305Z"
   },
   {
    "duration": 138,
    "start_time": "2022-10-13T16:19:35.671Z"
   },
   {
    "duration": 159,
    "start_time": "2022-10-13T16:19:39.113Z"
   },
   {
    "duration": 717,
    "start_time": "2022-10-13T16:21:06.308Z"
   },
   {
    "duration": 22,
    "start_time": "2022-10-13T16:21:24.491Z"
   },
   {
    "duration": 14,
    "start_time": "2022-10-13T16:22:15.913Z"
   },
   {
    "duration": 14,
    "start_time": "2022-10-13T16:22:42.042Z"
   },
   {
    "duration": 131,
    "start_time": "2022-10-13T16:24:14.564Z"
   },
   {
    "duration": 256,
    "start_time": "2022-10-13T16:24:29.748Z"
   },
   {
    "duration": 180,
    "start_time": "2022-10-13T16:24:34.364Z"
   },
   {
    "duration": 157,
    "start_time": "2022-10-13T16:24:37.730Z"
   },
   {
    "duration": 159,
    "start_time": "2022-10-13T16:24:52.619Z"
   },
   {
    "duration": 170,
    "start_time": "2022-10-13T16:24:57.313Z"
   },
   {
    "duration": 189,
    "start_time": "2022-10-13T16:25:01.274Z"
   },
   {
    "duration": 167,
    "start_time": "2022-10-13T16:25:04.909Z"
   },
   {
    "duration": 161,
    "start_time": "2022-10-13T16:25:09.923Z"
   },
   {
    "duration": 186,
    "start_time": "2022-10-13T16:25:13.475Z"
   },
   {
    "duration": 204,
    "start_time": "2022-10-13T16:25:17.442Z"
   },
   {
    "duration": 263,
    "start_time": "2022-10-13T16:25:22.286Z"
   },
   {
    "duration": 172,
    "start_time": "2022-10-13T16:25:48.374Z"
   },
   {
    "duration": 164,
    "start_time": "2022-10-13T16:27:11.105Z"
   },
   {
    "duration": 152,
    "start_time": "2022-10-13T16:28:08.176Z"
   },
   {
    "duration": 239,
    "start_time": "2022-10-13T16:28:16.701Z"
   },
   {
    "duration": 233,
    "start_time": "2022-10-13T16:28:41.243Z"
   },
   {
    "duration": 147,
    "start_time": "2022-10-13T17:02:08.080Z"
   },
   {
    "duration": 174,
    "start_time": "2022-10-13T17:02:24.744Z"
   },
   {
    "duration": 633,
    "start_time": "2022-10-13T17:09:41.231Z"
   },
   {
    "duration": 106,
    "start_time": "2022-10-13T17:11:04.072Z"
   },
   {
    "duration": 747,
    "start_time": "2022-10-13T17:11:15.511Z"
   },
   {
    "duration": 16,
    "start_time": "2022-10-13T17:11:16.261Z"
   },
   {
    "duration": 1753,
    "start_time": "2022-10-13T17:11:16.279Z"
   },
   {
    "duration": 8,
    "start_time": "2022-10-13T17:11:18.034Z"
   },
   {
    "duration": 15,
    "start_time": "2022-10-13T17:11:18.043Z"
   },
   {
    "duration": 36,
    "start_time": "2022-10-13T17:11:18.059Z"
   },
   {
    "duration": 22,
    "start_time": "2022-10-13T17:11:18.096Z"
   },
   {
    "duration": 21,
    "start_time": "2022-10-13T17:11:18.120Z"
   },
   {
    "duration": 24,
    "start_time": "2022-10-13T17:11:18.142Z"
   },
   {
    "duration": 28,
    "start_time": "2022-10-13T17:11:18.168Z"
   },
   {
    "duration": 53,
    "start_time": "2022-10-13T17:11:18.198Z"
   },
   {
    "duration": 26,
    "start_time": "2022-10-13T17:11:18.252Z"
   },
   {
    "duration": 4,
    "start_time": "2022-10-13T17:11:18.280Z"
   },
   {
    "duration": 15,
    "start_time": "2022-10-13T17:11:18.285Z"
   },
   {
    "duration": 147,
    "start_time": "2022-10-13T17:11:18.301Z"
   },
   {
    "duration": 515,
    "start_time": "2022-10-13T17:11:18.449Z"
   },
   {
    "duration": 93,
    "start_time": "2022-10-13T17:11:18.966Z"
   },
   {
    "duration": 4,
    "start_time": "2022-10-13T17:11:19.060Z"
   },
   {
    "duration": 16,
    "start_time": "2022-10-13T17:11:19.066Z"
   },
   {
    "duration": 6,
    "start_time": "2022-10-13T17:11:19.084Z"
   },
   {
    "duration": 11,
    "start_time": "2022-10-13T17:11:19.092Z"
   },
   {
    "duration": 7,
    "start_time": "2022-10-13T17:11:19.104Z"
   },
   {
    "duration": 81,
    "start_time": "2022-10-13T17:11:19.112Z"
   },
   {
    "duration": 0,
    "start_time": "2022-10-13T17:11:19.209Z"
   },
   {
    "duration": 0,
    "start_time": "2022-10-13T17:11:19.210Z"
   },
   {
    "duration": 0,
    "start_time": "2022-10-13T17:11:19.212Z"
   },
   {
    "duration": 0,
    "start_time": "2022-10-13T17:11:19.213Z"
   },
   {
    "duration": 0,
    "start_time": "2022-10-13T17:11:19.215Z"
   },
   {
    "duration": 0,
    "start_time": "2022-10-13T17:11:19.216Z"
   },
   {
    "duration": 0,
    "start_time": "2022-10-13T17:11:19.217Z"
   },
   {
    "duration": 0,
    "start_time": "2022-10-13T17:11:19.219Z"
   },
   {
    "duration": 0,
    "start_time": "2022-10-13T17:11:19.220Z"
   },
   {
    "duration": 0,
    "start_time": "2022-10-13T17:11:19.221Z"
   },
   {
    "duration": 0,
    "start_time": "2022-10-13T17:11:19.223Z"
   },
   {
    "duration": 0,
    "start_time": "2022-10-13T17:11:19.224Z"
   },
   {
    "duration": 0,
    "start_time": "2022-10-13T17:11:19.225Z"
   },
   {
    "duration": 0,
    "start_time": "2022-10-13T17:11:19.227Z"
   },
   {
    "duration": 0,
    "start_time": "2022-10-13T17:11:19.228Z"
   },
   {
    "duration": 0,
    "start_time": "2022-10-13T17:11:19.229Z"
   },
   {
    "duration": 0,
    "start_time": "2022-10-13T17:11:19.230Z"
   },
   {
    "duration": 0,
    "start_time": "2022-10-13T17:11:19.231Z"
   },
   {
    "duration": 689,
    "start_time": "2022-10-13T17:11:40.132Z"
   },
   {
    "duration": 12,
    "start_time": "2022-10-13T17:11:40.823Z"
   },
   {
    "duration": 1703,
    "start_time": "2022-10-13T17:11:40.837Z"
   },
   {
    "duration": 7,
    "start_time": "2022-10-13T17:11:42.542Z"
   },
   {
    "duration": 18,
    "start_time": "2022-10-13T17:11:42.550Z"
   },
   {
    "duration": 31,
    "start_time": "2022-10-13T17:11:42.570Z"
   },
   {
    "duration": 14,
    "start_time": "2022-10-13T17:11:42.603Z"
   },
   {
    "duration": 18,
    "start_time": "2022-10-13T17:11:42.619Z"
   },
   {
    "duration": 17,
    "start_time": "2022-10-13T17:11:42.638Z"
   },
   {
    "duration": 22,
    "start_time": "2022-10-13T17:11:42.658Z"
   },
   {
    "duration": 26,
    "start_time": "2022-10-13T17:11:42.682Z"
   },
   {
    "duration": 26,
    "start_time": "2022-10-13T17:11:42.710Z"
   },
   {
    "duration": 3,
    "start_time": "2022-10-13T17:11:42.738Z"
   },
   {
    "duration": 17,
    "start_time": "2022-10-13T17:11:42.742Z"
   },
   {
    "duration": 153,
    "start_time": "2022-10-13T17:11:42.760Z"
   },
   {
    "duration": 522,
    "start_time": "2022-10-13T17:11:42.915Z"
   },
   {
    "duration": 4,
    "start_time": "2022-10-13T17:11:43.439Z"
   },
   {
    "duration": 23,
    "start_time": "2022-10-13T17:11:43.444Z"
   },
   {
    "duration": 21,
    "start_time": "2022-10-13T17:11:43.468Z"
   },
   {
    "duration": 25,
    "start_time": "2022-10-13T17:11:43.490Z"
   },
   {
    "duration": 19,
    "start_time": "2022-10-13T17:11:43.516Z"
   },
   {
    "duration": 23,
    "start_time": "2022-10-13T17:11:43.536Z"
   },
   {
    "duration": 7,
    "start_time": "2022-10-13T17:11:43.560Z"
   },
   {
    "duration": 25,
    "start_time": "2022-10-13T17:11:43.569Z"
   },
   {
    "duration": 4,
    "start_time": "2022-10-13T17:11:43.595Z"
   },
   {
    "duration": 13,
    "start_time": "2022-10-13T17:11:43.601Z"
   },
   {
    "duration": 16,
    "start_time": "2022-10-13T17:11:43.615Z"
   },
   {
    "duration": 6,
    "start_time": "2022-10-13T17:11:43.634Z"
   },
   {
    "duration": 365,
    "start_time": "2022-10-13T17:11:43.641Z"
   },
   {
    "duration": 4,
    "start_time": "2022-10-13T17:11:44.007Z"
   },
   {
    "duration": 50,
    "start_time": "2022-10-13T17:11:44.012Z"
   },
   {
    "duration": 250,
    "start_time": "2022-10-13T17:11:44.064Z"
   },
   {
    "duration": 299,
    "start_time": "2022-10-13T17:11:44.315Z"
   },
   {
    "duration": 195,
    "start_time": "2022-10-13T17:11:44.615Z"
   },
   {
    "duration": 158,
    "start_time": "2022-10-13T17:11:44.811Z"
   },
   {
    "duration": 174,
    "start_time": "2022-10-13T17:11:44.971Z"
   },
   {
    "duration": 189,
    "start_time": "2022-10-13T17:11:45.147Z"
   },
   {
    "duration": 192,
    "start_time": "2022-10-13T17:11:45.338Z"
   },
   {
    "duration": 2451,
    "start_time": "2022-10-13T17:11:45.531Z"
   },
   {
    "duration": 233,
    "start_time": "2022-10-13T17:11:47.984Z"
   },
   {
    "duration": 106,
    "start_time": "2022-10-13T17:11:54.171Z"
   },
   {
    "duration": 776,
    "start_time": "2022-10-13T17:12:01.203Z"
   },
   {
    "duration": 13,
    "start_time": "2022-10-13T17:12:01.981Z"
   },
   {
    "duration": 1756,
    "start_time": "2022-10-13T17:12:01.996Z"
   },
   {
    "duration": 8,
    "start_time": "2022-10-13T17:12:03.755Z"
   },
   {
    "duration": 9,
    "start_time": "2022-10-13T17:12:03.764Z"
   },
   {
    "duration": 10,
    "start_time": "2022-10-13T17:12:03.775Z"
   },
   {
    "duration": 25,
    "start_time": "2022-10-13T17:12:03.787Z"
   },
   {
    "duration": 6,
    "start_time": "2022-10-13T17:12:03.813Z"
   },
   {
    "duration": 9,
    "start_time": "2022-10-13T17:12:03.820Z"
   },
   {
    "duration": 6,
    "start_time": "2022-10-13T17:12:03.832Z"
   },
   {
    "duration": 35,
    "start_time": "2022-10-13T17:12:03.839Z"
   },
   {
    "duration": 44,
    "start_time": "2022-10-13T17:12:03.875Z"
   },
   {
    "duration": 3,
    "start_time": "2022-10-13T17:12:03.921Z"
   },
   {
    "duration": 7,
    "start_time": "2022-10-13T17:12:03.926Z"
   },
   {
    "duration": 182,
    "start_time": "2022-10-13T17:12:03.934Z"
   },
   {
    "duration": 562,
    "start_time": "2022-10-13T17:12:04.117Z"
   },
   {
    "duration": 4,
    "start_time": "2022-10-13T17:12:04.681Z"
   },
   {
    "duration": 19,
    "start_time": "2022-10-13T17:12:04.686Z"
   },
   {
    "duration": 11,
    "start_time": "2022-10-13T17:12:04.706Z"
   },
   {
    "duration": 11,
    "start_time": "2022-10-13T17:12:04.718Z"
   },
   {
    "duration": 6,
    "start_time": "2022-10-13T17:12:04.730Z"
   },
   {
    "duration": 9,
    "start_time": "2022-10-13T17:12:04.738Z"
   },
   {
    "duration": 7,
    "start_time": "2022-10-13T17:12:04.748Z"
   },
   {
    "duration": 26,
    "start_time": "2022-10-13T17:12:04.756Z"
   },
   {
    "duration": 17,
    "start_time": "2022-10-13T17:12:04.783Z"
   },
   {
    "duration": 27,
    "start_time": "2022-10-13T17:12:04.801Z"
   },
   {
    "duration": 13,
    "start_time": "2022-10-13T17:12:04.830Z"
   },
   {
    "duration": 18,
    "start_time": "2022-10-13T17:12:04.847Z"
   },
   {
    "duration": 363,
    "start_time": "2022-10-13T17:12:04.867Z"
   },
   {
    "duration": 4,
    "start_time": "2022-10-13T17:12:05.231Z"
   },
   {
    "duration": 24,
    "start_time": "2022-10-13T17:12:05.237Z"
   },
   {
    "duration": 120,
    "start_time": "2022-10-13T17:12:05.262Z"
   },
   {
    "duration": 257,
    "start_time": "2022-10-13T17:12:05.383Z"
   },
   {
    "duration": 261,
    "start_time": "2022-10-13T17:12:05.642Z"
   },
   {
    "duration": 196,
    "start_time": "2022-10-13T17:12:05.905Z"
   },
   {
    "duration": 158,
    "start_time": "2022-10-13T17:12:06.103Z"
   },
   {
    "duration": 175,
    "start_time": "2022-10-13T17:12:06.263Z"
   },
   {
    "duration": 200,
    "start_time": "2022-10-13T17:12:06.440Z"
   },
   {
    "duration": 182,
    "start_time": "2022-10-13T17:12:06.642Z"
   },
   {
    "duration": 2279,
    "start_time": "2022-10-13T17:12:06.826Z"
   },
   {
    "duration": 280,
    "start_time": "2022-10-13T17:12:09.107Z"
   },
   {
    "duration": 248,
    "start_time": "2022-10-13T17:12:18.413Z"
   },
   {
    "duration": 257,
    "start_time": "2022-10-13T17:12:22.952Z"
   },
   {
    "duration": 241,
    "start_time": "2022-10-13T17:12:27.119Z"
   },
   {
    "duration": 249,
    "start_time": "2022-10-13T17:12:30.861Z"
   },
   {
    "duration": 10,
    "start_time": "2022-10-13T17:23:25.214Z"
   },
   {
    "duration": 26,
    "start_time": "2022-10-13T17:27:03.433Z"
   },
   {
    "duration": 8,
    "start_time": "2022-10-13T17:27:13.934Z"
   },
   {
    "duration": 76,
    "start_time": "2022-10-13T17:29:25.875Z"
   },
   {
    "duration": 9,
    "start_time": "2022-10-13T17:29:30.197Z"
   },
   {
    "duration": 73,
    "start_time": "2022-10-13T17:29:30.763Z"
   },
   {
    "duration": 463,
    "start_time": "2022-10-13T17:29:34.118Z"
   },
   {
    "duration": 683,
    "start_time": "2022-10-13T17:29:42.740Z"
   },
   {
    "duration": 13,
    "start_time": "2022-10-13T17:29:43.425Z"
   },
   {
    "duration": 1796,
    "start_time": "2022-10-13T17:29:43.440Z"
   },
   {
    "duration": 7,
    "start_time": "2022-10-13T17:29:45.238Z"
   },
   {
    "duration": 25,
    "start_time": "2022-10-13T17:29:45.247Z"
   },
   {
    "duration": 11,
    "start_time": "2022-10-13T17:29:45.274Z"
   },
   {
    "duration": 14,
    "start_time": "2022-10-13T17:29:45.286Z"
   },
   {
    "duration": 20,
    "start_time": "2022-10-13T17:29:45.301Z"
   },
   {
    "duration": 8,
    "start_time": "2022-10-13T17:29:45.322Z"
   },
   {
    "duration": 30,
    "start_time": "2022-10-13T17:29:45.332Z"
   },
   {
    "duration": 27,
    "start_time": "2022-10-13T17:29:45.363Z"
   },
   {
    "duration": 3,
    "start_time": "2022-10-13T17:29:45.392Z"
   },
   {
    "duration": 24,
    "start_time": "2022-10-13T17:29:45.397Z"
   },
   {
    "duration": 161,
    "start_time": "2022-10-13T17:29:45.422Z"
   },
   {
    "duration": 11,
    "start_time": "2022-10-13T17:29:45.584Z"
   },
   {
    "duration": 97,
    "start_time": "2022-10-13T17:29:45.597Z"
   },
   {
    "duration": 77,
    "start_time": "2022-10-13T17:29:45.696Z"
   },
   {
    "duration": 0,
    "start_time": "2022-10-13T17:29:45.775Z"
   },
   {
    "duration": 0,
    "start_time": "2022-10-13T17:29:45.777Z"
   },
   {
    "duration": 0,
    "start_time": "2022-10-13T17:29:45.778Z"
   },
   {
    "duration": 0,
    "start_time": "2022-10-13T17:29:45.779Z"
   },
   {
    "duration": 0,
    "start_time": "2022-10-13T17:29:45.780Z"
   },
   {
    "duration": 0,
    "start_time": "2022-10-13T17:29:45.782Z"
   },
   {
    "duration": 0,
    "start_time": "2022-10-13T17:29:45.783Z"
   },
   {
    "duration": 0,
    "start_time": "2022-10-13T17:29:45.784Z"
   },
   {
    "duration": 0,
    "start_time": "2022-10-13T17:29:45.786Z"
   },
   {
    "duration": 0,
    "start_time": "2022-10-13T17:29:45.786Z"
   },
   {
    "duration": 0,
    "start_time": "2022-10-13T17:29:45.787Z"
   },
   {
    "duration": 0,
    "start_time": "2022-10-13T17:29:45.809Z"
   },
   {
    "duration": 0,
    "start_time": "2022-10-13T17:29:45.810Z"
   },
   {
    "duration": 0,
    "start_time": "2022-10-13T17:29:45.812Z"
   },
   {
    "duration": 0,
    "start_time": "2022-10-13T17:29:45.813Z"
   },
   {
    "duration": 0,
    "start_time": "2022-10-13T17:29:45.814Z"
   },
   {
    "duration": 0,
    "start_time": "2022-10-13T17:29:45.815Z"
   },
   {
    "duration": 0,
    "start_time": "2022-10-13T17:29:45.816Z"
   },
   {
    "duration": 0,
    "start_time": "2022-10-13T17:29:45.817Z"
   },
   {
    "duration": 0,
    "start_time": "2022-10-13T17:29:45.818Z"
   },
   {
    "duration": 0,
    "start_time": "2022-10-13T17:29:45.819Z"
   },
   {
    "duration": 0,
    "start_time": "2022-10-13T17:29:45.820Z"
   },
   {
    "duration": 0,
    "start_time": "2022-10-13T17:29:45.821Z"
   },
   {
    "duration": 0,
    "start_time": "2022-10-13T17:29:45.822Z"
   },
   {
    "duration": 0,
    "start_time": "2022-10-13T17:29:45.823Z"
   },
   {
    "duration": 433,
    "start_time": "2022-10-13T17:30:02.113Z"
   },
   {
    "duration": 9,
    "start_time": "2022-10-13T17:30:27.849Z"
   },
   {
    "duration": 9,
    "start_time": "2022-10-13T17:39:58.088Z"
   },
   {
    "duration": 9,
    "start_time": "2022-10-13T17:46:23.439Z"
   },
   {
    "duration": 8,
    "start_time": "2022-10-13T17:46:33.531Z"
   },
   {
    "duration": 247,
    "start_time": "2022-10-13T17:50:08.959Z"
   },
   {
    "duration": 323,
    "start_time": "2022-10-13T17:50:13.058Z"
   },
   {
    "duration": 184,
    "start_time": "2022-10-13T17:50:13.717Z"
   },
   {
    "duration": 141,
    "start_time": "2022-10-13T17:50:50.540Z"
   },
   {
    "duration": 9,
    "start_time": "2022-10-13T17:51:29.417Z"
   },
   {
    "duration": 497,
    "start_time": "2022-10-13T17:51:40.671Z"
   },
   {
    "duration": 515,
    "start_time": "2022-10-13T17:53:58.213Z"
   },
   {
    "duration": 563,
    "start_time": "2022-10-13T17:55:30.830Z"
   },
   {
    "duration": 538,
    "start_time": "2022-10-13T17:57:25.091Z"
   },
   {
    "duration": 520,
    "start_time": "2022-10-13T17:57:32.196Z"
   },
   {
    "duration": 561,
    "start_time": "2022-10-13T18:01:14.593Z"
   },
   {
    "duration": 617,
    "start_time": "2022-10-13T18:01:38.028Z"
   },
   {
    "duration": 534,
    "start_time": "2022-10-13T18:01:48.828Z"
   },
   {
    "duration": 530,
    "start_time": "2022-10-13T18:02:12.099Z"
   },
   {
    "duration": 607,
    "start_time": "2022-10-13T18:02:20.238Z"
   },
   {
    "duration": 547,
    "start_time": "2022-10-13T18:02:38.484Z"
   },
   {
    "duration": 536,
    "start_time": "2022-10-13T18:02:48.240Z"
   },
   {
    "duration": 528,
    "start_time": "2022-10-13T18:02:58.945Z"
   },
   {
    "duration": 611,
    "start_time": "2022-10-13T18:03:08.600Z"
   },
   {
    "duration": 14,
    "start_time": "2022-10-13T18:04:08.852Z"
   },
   {
    "duration": 524,
    "start_time": "2022-10-13T18:04:09.654Z"
   },
   {
    "duration": 5,
    "start_time": "2022-10-13T18:04:34.061Z"
   },
   {
    "duration": 9,
    "start_time": "2022-10-13T18:04:45.560Z"
   },
   {
    "duration": 8,
    "start_time": "2022-10-13T18:05:45.157Z"
   },
   {
    "duration": 10,
    "start_time": "2022-10-13T18:06:03.769Z"
   },
   {
    "duration": 4,
    "start_time": "2022-10-13T18:58:42.981Z"
   },
   {
    "duration": 7,
    "start_time": "2022-10-13T18:58:44.080Z"
   },
   {
    "duration": 148,
    "start_time": "2022-10-13T18:58:44.968Z"
   },
   {
    "duration": 4,
    "start_time": "2022-10-13T18:58:46.040Z"
   },
   {
    "duration": 8,
    "start_time": "2022-10-13T18:58:46.698Z"
   },
   {
    "duration": 4,
    "start_time": "2022-10-13T18:58:46.854Z"
   },
   {
    "duration": 4,
    "start_time": "2022-10-13T18:58:47.041Z"
   },
   {
    "duration": 5,
    "start_time": "2022-10-13T18:58:47.232Z"
   },
   {
    "duration": 4,
    "start_time": "2022-10-13T18:58:47.400Z"
   },
   {
    "duration": 4,
    "start_time": "2022-10-13T18:58:47.570Z"
   },
   {
    "duration": 17,
    "start_time": "2022-10-13T18:58:47.918Z"
   },
   {
    "duration": 10,
    "start_time": "2022-10-13T18:59:01.005Z"
   },
   {
    "duration": 508,
    "start_time": "2022-10-13T18:59:10.049Z"
   },
   {
    "duration": 656,
    "start_time": "2022-10-13T18:59:18.157Z"
   },
   {
    "duration": 13,
    "start_time": "2022-10-13T18:59:18.815Z"
   },
   {
    "duration": 1767,
    "start_time": "2022-10-13T18:59:18.829Z"
   },
   {
    "duration": 7,
    "start_time": "2022-10-13T18:59:20.598Z"
   },
   {
    "duration": 14,
    "start_time": "2022-10-13T18:59:20.606Z"
   },
   {
    "duration": 15,
    "start_time": "2022-10-13T18:59:20.622Z"
   },
   {
    "duration": 16,
    "start_time": "2022-10-13T18:59:20.638Z"
   },
   {
    "duration": 10,
    "start_time": "2022-10-13T18:59:20.656Z"
   },
   {
    "duration": 5,
    "start_time": "2022-10-13T18:59:20.667Z"
   },
   {
    "duration": 28,
    "start_time": "2022-10-13T18:59:20.675Z"
   },
   {
    "duration": 26,
    "start_time": "2022-10-13T18:59:20.705Z"
   },
   {
    "duration": 3,
    "start_time": "2022-10-13T18:59:20.732Z"
   },
   {
    "duration": 6,
    "start_time": "2022-10-13T18:59:20.736Z"
   },
   {
    "duration": 10,
    "start_time": "2022-10-13T18:59:20.743Z"
   },
   {
    "duration": 170,
    "start_time": "2022-10-13T18:59:20.755Z"
   },
   {
    "duration": 3,
    "start_time": "2022-10-13T18:59:20.927Z"
   },
   {
    "duration": 9,
    "start_time": "2022-10-13T18:59:20.932Z"
   },
   {
    "duration": 7,
    "start_time": "2022-10-13T18:59:20.943Z"
   },
   {
    "duration": 5,
    "start_time": "2022-10-13T18:59:20.952Z"
   },
   {
    "duration": 7,
    "start_time": "2022-10-13T18:59:20.958Z"
   },
   {
    "duration": 14,
    "start_time": "2022-10-13T18:59:20.966Z"
   },
   {
    "duration": 11,
    "start_time": "2022-10-13T18:59:20.981Z"
   },
   {
    "duration": 25,
    "start_time": "2022-10-13T18:59:20.994Z"
   },
   {
    "duration": 524,
    "start_time": "2022-10-13T18:59:21.021Z"
   },
   {
    "duration": 611,
    "start_time": "2022-10-13T18:59:21.546Z"
   },
   {
    "duration": 4,
    "start_time": "2022-10-13T18:59:22.158Z"
   },
   {
    "duration": 23,
    "start_time": "2022-10-13T18:59:22.164Z"
   },
   {
    "duration": 21,
    "start_time": "2022-10-13T18:59:22.190Z"
   },
   {
    "duration": 19,
    "start_time": "2022-10-13T18:59:22.213Z"
   },
   {
    "duration": 315,
    "start_time": "2022-10-13T18:59:22.234Z"
   },
   {
    "duration": 4,
    "start_time": "2022-10-13T18:59:22.551Z"
   },
   {
    "duration": 25,
    "start_time": "2022-10-13T18:59:22.557Z"
   },
   {
    "duration": 257,
    "start_time": "2022-10-13T18:59:22.583Z"
   },
   {
    "duration": 269,
    "start_time": "2022-10-13T18:59:22.842Z"
   },
   {
    "duration": 204,
    "start_time": "2022-10-13T18:59:23.112Z"
   },
   {
    "duration": 155,
    "start_time": "2022-10-13T18:59:23.318Z"
   },
   {
    "duration": 221,
    "start_time": "2022-10-13T18:59:23.475Z"
   },
   {
    "duration": 180,
    "start_time": "2022-10-13T18:59:23.698Z"
   },
   {
    "duration": 190,
    "start_time": "2022-10-13T18:59:23.880Z"
   },
   {
    "duration": 2410,
    "start_time": "2022-10-13T18:59:24.072Z"
   },
   {
    "duration": 239,
    "start_time": "2022-10-13T18:59:26.483Z"
   },
   {
    "duration": 525,
    "start_time": "2022-10-13T18:59:50.867Z"
   },
   {
    "duration": 521,
    "start_time": "2022-10-13T19:01:23.298Z"
   },
   {
    "duration": 619,
    "start_time": "2022-10-13T19:03:49.428Z"
   },
   {
    "duration": 527,
    "start_time": "2022-10-13T19:05:29.674Z"
   },
   {
    "duration": 521,
    "start_time": "2022-10-13T19:07:12.451Z"
   },
   {
    "duration": 262,
    "start_time": "2022-10-13T19:08:31.783Z"
   },
   {
    "duration": 149,
    "start_time": "2022-10-13T19:08:50.532Z"
   },
   {
    "duration": 207,
    "start_time": "2022-10-13T19:09:01.629Z"
   },
   {
    "duration": 268,
    "start_time": "2022-10-13T19:09:03.464Z"
   },
   {
    "duration": 190,
    "start_time": "2022-10-13T19:09:16.510Z"
   },
   {
    "duration": 255,
    "start_time": "2022-10-13T19:09:21.516Z"
   },
   {
    "duration": 244,
    "start_time": "2022-10-13T19:09:28.167Z"
   },
   {
    "duration": 246,
    "start_time": "2022-10-13T19:09:32.908Z"
   },
   {
    "duration": 13,
    "start_time": "2022-10-13T19:10:25.685Z"
   },
   {
    "duration": 9,
    "start_time": "2022-10-13T19:10:40.528Z"
   },
   {
    "duration": 134,
    "start_time": "2022-10-13T19:12:25.703Z"
   },
   {
    "duration": 85,
    "start_time": "2022-10-13T19:12:29.474Z"
   },
   {
    "duration": 87,
    "start_time": "2022-10-13T19:12:33.504Z"
   },
   {
    "duration": 81,
    "start_time": "2022-10-13T19:12:38.108Z"
   },
   {
    "duration": 86,
    "start_time": "2022-10-13T19:12:44.710Z"
   },
   {
    "duration": 85,
    "start_time": "2022-10-13T19:12:57.286Z"
   },
   {
    "duration": 81,
    "start_time": "2022-10-13T19:13:01.352Z"
   },
   {
    "duration": 84,
    "start_time": "2022-10-13T19:13:06.944Z"
   },
   {
    "duration": 77,
    "start_time": "2022-10-13T19:13:10.867Z"
   },
   {
    "duration": 168,
    "start_time": "2022-10-13T19:13:53.094Z"
   },
   {
    "duration": 166,
    "start_time": "2022-10-13T19:13:59.331Z"
   },
   {
    "duration": 204,
    "start_time": "2022-10-13T19:14:17.167Z"
   },
   {
    "duration": 311,
    "start_time": "2022-10-13T19:14:33.495Z"
   },
   {
    "duration": 252,
    "start_time": "2022-10-13T19:14:38.628Z"
   },
   {
    "duration": 256,
    "start_time": "2022-10-13T19:14:46.596Z"
   },
   {
    "duration": 189,
    "start_time": "2022-10-13T19:15:08.775Z"
   },
   {
    "duration": 195,
    "start_time": "2022-10-13T19:15:29.570Z"
   },
   {
    "duration": 388,
    "start_time": "2022-10-13T19:15:40.515Z"
   },
   {
    "duration": 233,
    "start_time": "2022-10-13T19:15:45.728Z"
   },
   {
    "duration": 145,
    "start_time": "2022-10-13T19:15:52.353Z"
   },
   {
    "duration": 157,
    "start_time": "2022-10-13T19:15:55.328Z"
   },
   {
    "duration": 252,
    "start_time": "2022-10-13T19:16:04.992Z"
   },
   {
    "duration": 233,
    "start_time": "2022-10-13T19:16:13.289Z"
   },
   {
    "duration": 363,
    "start_time": "2022-10-13T19:16:25.963Z"
   },
   {
    "duration": 264,
    "start_time": "2022-10-13T19:16:45.352Z"
   },
   {
    "duration": 12,
    "start_time": "2022-10-13T19:16:53.634Z"
   },
   {
    "duration": 8,
    "start_time": "2022-10-13T19:16:59.012Z"
   },
   {
    "duration": 202,
    "start_time": "2022-10-13T19:17:24.082Z"
   },
   {
    "duration": 195,
    "start_time": "2022-10-13T19:17:31.631Z"
   },
   {
    "duration": 218,
    "start_time": "2022-10-13T19:17:36.162Z"
   },
   {
    "duration": 199,
    "start_time": "2022-10-13T19:17:40.243Z"
   },
   {
    "duration": 9,
    "start_time": "2022-10-13T19:37:33.153Z"
   },
   {
    "duration": 73,
    "start_time": "2022-10-13T19:37:51.106Z"
   },
   {
    "duration": 80,
    "start_time": "2022-10-13T19:38:00.688Z"
   },
   {
    "duration": 168,
    "start_time": "2022-10-13T19:38:27.770Z"
   },
   {
    "duration": 374,
    "start_time": "2022-10-13T19:38:30.143Z"
   },
   {
    "duration": 267,
    "start_time": "2022-10-13T19:38:46.459Z"
   },
   {
    "duration": 186,
    "start_time": "2022-10-13T19:39:03.360Z"
   },
   {
    "duration": 255,
    "start_time": "2022-10-13T19:39:59.677Z"
   },
   {
    "duration": 6,
    "start_time": "2022-10-13T19:42:14.672Z"
   },
   {
    "duration": 7,
    "start_time": "2022-10-13T19:42:22.935Z"
   },
   {
    "duration": 4,
    "start_time": "2022-10-13T19:48:38.504Z"
   },
   {
    "duration": 20,
    "start_time": "2022-10-13T19:55:50.770Z"
   },
   {
    "duration": 247,
    "start_time": "2022-10-13T19:57:40.755Z"
   },
   {
    "duration": 103,
    "start_time": "2022-10-13T19:58:05.680Z"
   },
   {
    "duration": 77,
    "start_time": "2022-10-13T19:58:14.276Z"
   },
   {
    "duration": 74,
    "start_time": "2022-10-14T09:25:50.957Z"
   },
   {
    "duration": 41,
    "start_time": "2022-10-14T09:26:09.423Z"
   },
   {
    "duration": 75,
    "start_time": "2022-10-14T09:27:02.168Z"
   },
   {
    "duration": 8,
    "start_time": "2022-10-14T09:27:07.955Z"
   },
   {
    "duration": 7,
    "start_time": "2022-10-14T09:27:21.851Z"
   },
   {
    "duration": 1096,
    "start_time": "2022-10-14T09:27:30.873Z"
   },
   {
    "duration": 14,
    "start_time": "2022-10-14T09:27:31.972Z"
   },
   {
    "duration": 1783,
    "start_time": "2022-10-14T09:27:31.988Z"
   },
   {
    "duration": 9,
    "start_time": "2022-10-14T09:27:33.773Z"
   },
   {
    "duration": 6,
    "start_time": "2022-10-14T09:27:33.783Z"
   },
   {
    "duration": 5,
    "start_time": "2022-10-14T09:27:33.791Z"
   },
   {
    "duration": 7,
    "start_time": "2022-10-14T09:27:33.798Z"
   },
   {
    "duration": 8,
    "start_time": "2022-10-14T09:27:33.807Z"
   },
   {
    "duration": 24,
    "start_time": "2022-10-14T09:27:33.816Z"
   },
   {
    "duration": 30,
    "start_time": "2022-10-14T09:27:33.843Z"
   },
   {
    "duration": 35,
    "start_time": "2022-10-14T09:27:33.874Z"
   },
   {
    "duration": 3,
    "start_time": "2022-10-14T09:27:33.911Z"
   },
   {
    "duration": 6,
    "start_time": "2022-10-14T09:27:33.915Z"
   },
   {
    "duration": 9,
    "start_time": "2022-10-14T09:27:33.922Z"
   },
   {
    "duration": 155,
    "start_time": "2022-10-14T09:27:33.932Z"
   },
   {
    "duration": 4,
    "start_time": "2022-10-14T09:27:34.089Z"
   },
   {
    "duration": 11,
    "start_time": "2022-10-14T09:27:34.095Z"
   },
   {
    "duration": 7,
    "start_time": "2022-10-14T09:27:34.108Z"
   },
   {
    "duration": 8,
    "start_time": "2022-10-14T09:27:34.117Z"
   },
   {
    "duration": 7,
    "start_time": "2022-10-14T09:27:34.127Z"
   },
   {
    "duration": 10,
    "start_time": "2022-10-14T09:27:34.136Z"
   },
   {
    "duration": 7,
    "start_time": "2022-10-14T09:27:34.147Z"
   },
   {
    "duration": 30,
    "start_time": "2022-10-14T09:27:34.155Z"
   },
   {
    "duration": 4,
    "start_time": "2022-10-14T09:27:34.186Z"
   },
   {
    "duration": 11,
    "start_time": "2022-10-14T09:27:34.192Z"
   },
   {
    "duration": 5,
    "start_time": "2022-10-14T09:27:34.204Z"
   },
   {
    "duration": 5,
    "start_time": "2022-10-14T09:27:34.211Z"
   },
   {
    "duration": 285,
    "start_time": "2022-10-14T09:27:34.219Z"
   },
   {
    "duration": 5,
    "start_time": "2022-10-14T09:27:34.506Z"
   },
   {
    "duration": 22,
    "start_time": "2022-10-14T09:27:34.512Z"
   },
   {
    "duration": 273,
    "start_time": "2022-10-14T09:27:34.535Z"
   },
   {
    "duration": 344,
    "start_time": "2022-10-14T09:27:34.810Z"
   },
   {
    "duration": 205,
    "start_time": "2022-10-14T09:27:35.155Z"
   },
   {
    "duration": 156,
    "start_time": "2022-10-14T09:27:35.361Z"
   },
   {
    "duration": 171,
    "start_time": "2022-10-14T09:27:35.518Z"
   },
   {
    "duration": 191,
    "start_time": "2022-10-14T09:27:35.690Z"
   },
   {
    "duration": 182,
    "start_time": "2022-10-14T09:27:35.885Z"
   },
   {
    "duration": 2592,
    "start_time": "2022-10-14T09:27:36.068Z"
   },
   {
    "duration": 96,
    "start_time": "2022-10-14T09:27:38.662Z"
   },
   {
    "duration": 245,
    "start_time": "2022-10-14T09:27:38.760Z"
   },
   {
    "duration": 372,
    "start_time": "2022-10-14T09:27:39.007Z"
   },
   {
    "duration": 13,
    "start_time": "2022-10-14T09:27:39.382Z"
   },
   {
    "duration": 8,
    "start_time": "2022-10-14T09:27:39.396Z"
   },
   {
    "duration": 9,
    "start_time": "2022-10-14T09:27:39.405Z"
   },
   {
    "duration": 103,
    "start_time": "2022-10-14T09:27:39.415Z"
   },
   {
    "duration": 208,
    "start_time": "2022-10-14T09:27:39.519Z"
   },
   {
    "duration": 281,
    "start_time": "2022-10-14T09:27:39.728Z"
   },
   {
    "duration": 6,
    "start_time": "2022-10-14T09:27:40.011Z"
   },
   {
    "duration": 14,
    "start_time": "2022-10-14T09:27:40.019Z"
   },
   {
    "duration": 188,
    "start_time": "2022-10-14T09:27:40.242Z"
   },
   {
    "duration": 123,
    "start_time": "2022-10-14T09:29:04.857Z"
   },
   {
    "duration": 68,
    "start_time": "2022-10-14T09:29:10.292Z"
   },
   {
    "duration": 94,
    "start_time": "2022-10-14T09:29:15.175Z"
   },
   {
    "duration": 63,
    "start_time": "2022-10-14T09:29:36.598Z"
   },
   {
    "duration": 85,
    "start_time": "2022-10-14T09:29:41.863Z"
   },
   {
    "duration": 107,
    "start_time": "2022-10-14T09:30:45.421Z"
   },
   {
    "duration": 82,
    "start_time": "2022-10-14T09:30:56.957Z"
   },
   {
    "duration": 87,
    "start_time": "2022-10-14T09:31:10.194Z"
   },
   {
    "duration": 116,
    "start_time": "2022-10-14T09:31:14.990Z"
   },
   {
    "duration": 73,
    "start_time": "2022-10-14T09:31:40.379Z"
   },
   {
    "duration": 79,
    "start_time": "2022-10-14T09:32:30.960Z"
   },
   {
    "duration": 75,
    "start_time": "2022-10-14T09:32:36.804Z"
   },
   {
    "duration": 68,
    "start_time": "2022-10-14T09:32:53.076Z"
   },
   {
    "duration": 76,
    "start_time": "2022-10-14T09:33:04.800Z"
   },
   {
    "duration": 106,
    "start_time": "2022-10-14T09:33:16.680Z"
   },
   {
    "duration": 76,
    "start_time": "2022-10-14T09:33:23.040Z"
   },
   {
    "duration": 73,
    "start_time": "2022-10-14T09:33:26.862Z"
   },
   {
    "duration": 71,
    "start_time": "2022-10-14T09:33:31.266Z"
   },
   {
    "duration": 81,
    "start_time": "2022-10-14T09:33:35.350Z"
   },
   {
    "duration": 674,
    "start_time": "2022-10-14T09:33:40.720Z"
   },
   {
    "duration": 12,
    "start_time": "2022-10-14T09:33:41.396Z"
   },
   {
    "duration": 1802,
    "start_time": "2022-10-14T09:33:41.409Z"
   },
   {
    "duration": 8,
    "start_time": "2022-10-14T09:33:43.212Z"
   },
   {
    "duration": 5,
    "start_time": "2022-10-14T09:33:43.222Z"
   },
   {
    "duration": 6,
    "start_time": "2022-10-14T09:33:43.229Z"
   },
   {
    "duration": 9,
    "start_time": "2022-10-14T09:33:43.237Z"
   },
   {
    "duration": 5,
    "start_time": "2022-10-14T09:33:43.247Z"
   },
   {
    "duration": 8,
    "start_time": "2022-10-14T09:33:43.253Z"
   },
   {
    "duration": 43,
    "start_time": "2022-10-14T09:33:43.262Z"
   },
   {
    "duration": 27,
    "start_time": "2022-10-14T09:33:43.306Z"
   },
   {
    "duration": 2,
    "start_time": "2022-10-14T09:33:43.335Z"
   },
   {
    "duration": 5,
    "start_time": "2022-10-14T09:33:43.338Z"
   },
   {
    "duration": 5,
    "start_time": "2022-10-14T09:33:43.346Z"
   },
   {
    "duration": 163,
    "start_time": "2022-10-14T09:33:43.352Z"
   },
   {
    "duration": 4,
    "start_time": "2022-10-14T09:33:43.517Z"
   },
   {
    "duration": 13,
    "start_time": "2022-10-14T09:33:43.523Z"
   },
   {
    "duration": 6,
    "start_time": "2022-10-14T09:33:43.537Z"
   },
   {
    "duration": 5,
    "start_time": "2022-10-14T09:33:43.546Z"
   },
   {
    "duration": 5,
    "start_time": "2022-10-14T09:33:43.552Z"
   },
   {
    "duration": 5,
    "start_time": "2022-10-14T09:33:43.559Z"
   },
   {
    "duration": 22,
    "start_time": "2022-10-14T09:33:43.565Z"
   },
   {
    "duration": 16,
    "start_time": "2022-10-14T09:33:43.589Z"
   },
   {
    "duration": 4,
    "start_time": "2022-10-14T09:33:43.607Z"
   },
   {
    "duration": 23,
    "start_time": "2022-10-14T09:33:43.612Z"
   },
   {
    "duration": 6,
    "start_time": "2022-10-14T09:33:43.637Z"
   },
   {
    "duration": 6,
    "start_time": "2022-10-14T09:33:43.645Z"
   },
   {
    "duration": 295,
    "start_time": "2022-10-14T09:33:43.652Z"
   },
   {
    "duration": 5,
    "start_time": "2022-10-14T09:33:43.948Z"
   },
   {
    "duration": 32,
    "start_time": "2022-10-14T09:33:43.955Z"
   },
   {
    "duration": 273,
    "start_time": "2022-10-14T09:33:43.989Z"
   },
   {
    "duration": 346,
    "start_time": "2022-10-14T09:33:44.263Z"
   },
   {
    "duration": 202,
    "start_time": "2022-10-14T09:33:44.611Z"
   },
   {
    "duration": 156,
    "start_time": "2022-10-14T09:33:44.814Z"
   },
   {
    "duration": 168,
    "start_time": "2022-10-14T09:33:44.971Z"
   },
   {
    "duration": 179,
    "start_time": "2022-10-14T09:33:45.141Z"
   },
   {
    "duration": 189,
    "start_time": "2022-10-14T09:33:45.322Z"
   },
   {
    "duration": 2452,
    "start_time": "2022-10-14T09:33:45.512Z"
   },
   {
    "duration": 89,
    "start_time": "2022-10-14T09:33:47.966Z"
   },
   {
    "duration": 217,
    "start_time": "2022-10-14T09:33:48.056Z"
   },
   {
    "duration": 373,
    "start_time": "2022-10-14T09:33:48.277Z"
   },
   {
    "duration": 12,
    "start_time": "2022-10-14T09:33:48.651Z"
   },
   {
    "duration": 21,
    "start_time": "2022-10-14T09:33:48.664Z"
   },
   {
    "duration": 9,
    "start_time": "2022-10-14T09:33:48.687Z"
   },
   {
    "duration": 88,
    "start_time": "2022-10-14T09:33:48.697Z"
   },
   {
    "duration": 215,
    "start_time": "2022-10-14T09:33:48.787Z"
   },
   {
    "duration": 280,
    "start_time": "2022-10-14T09:33:49.003Z"
   },
   {
    "duration": 6,
    "start_time": "2022-10-14T09:33:49.285Z"
   },
   {
    "duration": 21,
    "start_time": "2022-10-14T09:33:49.292Z"
   },
   {
    "duration": 73,
    "start_time": "2022-10-14T09:33:49.315Z"
   },
   {
    "duration": 81,
    "start_time": "2022-10-14T09:34:52.259Z"
   },
   {
    "duration": 37,
    "start_time": "2022-10-14T09:34:56.960Z"
   },
   {
    "duration": 20,
    "start_time": "2022-10-14T09:39:55.546Z"
   },
   {
    "duration": 21,
    "start_time": "2022-10-14T09:40:05.196Z"
   },
   {
    "duration": 85,
    "start_time": "2022-10-14T09:40:59.959Z"
   },
   {
    "duration": 87,
    "start_time": "2022-10-14T09:41:20.246Z"
   },
   {
    "duration": 133,
    "start_time": "2022-10-14T09:41:33.506Z"
   },
   {
    "duration": 137,
    "start_time": "2022-10-14T09:41:48.598Z"
   },
   {
    "duration": 142,
    "start_time": "2022-10-14T09:41:53.757Z"
   },
   {
    "duration": 140,
    "start_time": "2022-10-14T09:44:17.911Z"
   },
   {
    "duration": 207,
    "start_time": "2022-10-14T09:45:14.729Z"
   },
   {
    "duration": 152,
    "start_time": "2022-10-14T09:47:09.814Z"
   },
   {
    "duration": 138,
    "start_time": "2022-10-14T09:47:16.575Z"
   },
   {
    "duration": 158,
    "start_time": "2022-10-14T09:52:43.308Z"
   },
   {
    "duration": 177,
    "start_time": "2022-10-14T09:52:49.765Z"
   },
   {
    "duration": 133,
    "start_time": "2022-10-14T09:52:56.615Z"
   },
   {
    "duration": 131,
    "start_time": "2022-10-14T09:53:04.833Z"
   },
   {
    "duration": 5,
    "start_time": "2022-10-14T09:53:40.342Z"
   },
   {
    "duration": 7,
    "start_time": "2022-10-14T09:53:51.583Z"
   },
   {
    "duration": 143,
    "start_time": "2022-10-14T09:54:35.243Z"
   },
   {
    "duration": 10,
    "start_time": "2022-10-14T09:57:20.400Z"
   },
   {
    "duration": 67,
    "start_time": "2022-10-14T09:57:47.272Z"
   },
   {
    "duration": 65,
    "start_time": "2022-10-14T09:57:58.312Z"
   },
   {
    "duration": 11,
    "start_time": "2022-10-14T09:58:23.427Z"
   },
   {
    "duration": 8,
    "start_time": "2022-10-14T09:58:39.254Z"
   },
   {
    "duration": 156,
    "start_time": "2022-10-14T09:59:21.484Z"
   },
   {
    "duration": 166,
    "start_time": "2022-10-14T09:59:29.039Z"
   },
   {
    "duration": 149,
    "start_time": "2022-10-14T09:59:52.327Z"
   },
   {
    "duration": 8,
    "start_time": "2022-10-14T10:01:26.908Z"
   },
   {
    "duration": 11,
    "start_time": "2022-10-14T10:01:35.270Z"
   },
   {
    "duration": 1404,
    "start_time": "2022-10-14T10:02:32.912Z"
   },
   {
    "duration": 1371,
    "start_time": "2022-10-14T10:02:52.144Z"
   },
   {
    "duration": 237,
    "start_time": "2022-10-14T10:03:06.904Z"
   },
   {
    "duration": 159,
    "start_time": "2022-10-14T10:04:13.713Z"
   },
   {
    "duration": 170,
    "start_time": "2022-10-14T10:04:18.628Z"
   },
   {
    "duration": 175,
    "start_time": "2022-10-14T10:04:44.980Z"
   },
   {
    "duration": 223,
    "start_time": "2022-10-14T10:04:49.627Z"
   },
   {
    "duration": 187,
    "start_time": "2022-10-14T10:05:00.048Z"
   },
   {
    "duration": 171,
    "start_time": "2022-10-14T10:05:20.745Z"
   },
   {
    "duration": 172,
    "start_time": "2022-10-14T10:05:52.050Z"
   },
   {
    "duration": 164,
    "start_time": "2022-10-14T10:05:57.366Z"
   },
   {
    "duration": 180,
    "start_time": "2022-10-14T10:06:03.698Z"
   },
   {
    "duration": 6,
    "start_time": "2022-10-14T10:07:02.840Z"
   },
   {
    "duration": 10,
    "start_time": "2022-10-14T10:07:14.031Z"
   },
   {
    "duration": 5,
    "start_time": "2022-10-14T10:08:01.216Z"
   },
   {
    "duration": 175,
    "start_time": "2022-10-14T10:08:15.721Z"
   },
   {
    "duration": 84,
    "start_time": "2022-10-14T10:08:20.624Z"
   },
   {
    "duration": 102,
    "start_time": "2022-10-14T10:08:30.469Z"
   },
   {
    "duration": 247,
    "start_time": "2022-10-14T10:08:37.106Z"
   },
   {
    "duration": 101,
    "start_time": "2022-10-14T10:09:01.918Z"
   },
   {
    "duration": 215,
    "start_time": "2022-10-14T10:10:54.013Z"
   },
   {
    "duration": 7,
    "start_time": "2022-10-14T10:11:11.503Z"
   },
   {
    "duration": 10,
    "start_time": "2022-10-14T10:14:01.801Z"
   },
   {
    "duration": 151,
    "start_time": "2022-10-14T10:16:15.628Z"
   },
   {
    "duration": 178,
    "start_time": "2022-10-14T10:16:28.958Z"
   },
   {
    "duration": 256,
    "start_time": "2022-10-14T10:16:42.650Z"
   },
   {
    "duration": 185,
    "start_time": "2022-10-14T10:16:50.404Z"
   },
   {
    "duration": 6,
    "start_time": "2022-10-14T10:17:45.373Z"
   },
   {
    "duration": 196,
    "start_time": "2022-10-14T10:18:25.145Z"
   },
   {
    "duration": 194,
    "start_time": "2022-10-14T10:21:03.286Z"
   },
   {
    "duration": 191,
    "start_time": "2022-10-14T10:21:14.241Z"
   },
   {
    "duration": 6,
    "start_time": "2022-10-14T10:21:23.859Z"
   },
   {
    "duration": 188,
    "start_time": "2022-10-14T10:21:24.485Z"
   },
   {
    "duration": 13,
    "start_time": "2022-10-14T10:24:24.541Z"
   },
   {
    "duration": 183,
    "start_time": "2022-10-14T10:24:44.089Z"
   },
   {
    "duration": 155,
    "start_time": "2022-10-14T10:24:54.178Z"
   },
   {
    "duration": 184,
    "start_time": "2022-10-14T10:25:05.869Z"
   },
   {
    "duration": 187,
    "start_time": "2022-10-14T10:25:16.392Z"
   },
   {
    "duration": 188,
    "start_time": "2022-10-14T10:25:34.563Z"
   },
   {
    "duration": 5,
    "start_time": "2022-10-14T10:25:47.727Z"
   },
   {
    "duration": 4,
    "start_time": "2022-10-14T10:26:52.828Z"
   },
   {
    "duration": 202,
    "start_time": "2022-10-14T10:27:01.250Z"
   },
   {
    "duration": 32,
    "start_time": "2022-10-14T10:27:46.559Z"
   },
   {
    "duration": 24,
    "start_time": "2022-10-14T10:28:26.522Z"
   },
   {
    "duration": 190,
    "start_time": "2022-10-14T10:29:03.858Z"
   },
   {
    "duration": 154,
    "start_time": "2022-10-14T10:29:21.962Z"
   },
   {
    "duration": 182,
    "start_time": "2022-10-14T10:29:27.981Z"
   },
   {
    "duration": 79,
    "start_time": "2022-10-14T10:29:40.910Z"
   },
   {
    "duration": 73,
    "start_time": "2022-10-14T10:29:49.935Z"
   },
   {
    "duration": 232,
    "start_time": "2022-10-14T10:29:54.683Z"
   },
   {
    "duration": 284,
    "start_time": "2022-10-14T10:29:58.536Z"
   },
   {
    "duration": 156,
    "start_time": "2022-10-14T10:30:05.021Z"
   },
   {
    "duration": 190,
    "start_time": "2022-10-14T10:30:13.371Z"
   },
   {
    "duration": 186,
    "start_time": "2022-10-14T10:30:24.815Z"
   },
   {
    "duration": 199,
    "start_time": "2022-10-14T10:30:46.829Z"
   },
   {
    "duration": 185,
    "start_time": "2022-10-14T10:31:09.227Z"
   },
   {
    "duration": 179,
    "start_time": "2022-10-14T10:31:16.483Z"
   },
   {
    "duration": 142,
    "start_time": "2022-10-14T10:31:50.823Z"
   },
   {
    "duration": 202,
    "start_time": "2022-10-14T10:31:55.439Z"
   },
   {
    "duration": 190,
    "start_time": "2022-10-14T10:32:01.171Z"
   },
   {
    "duration": 185,
    "start_time": "2022-10-14T10:32:10.696Z"
   },
   {
    "duration": 179,
    "start_time": "2022-10-14T10:32:34.364Z"
   },
   {
    "duration": 152,
    "start_time": "2022-10-14T10:32:41.833Z"
   },
   {
    "duration": 206,
    "start_time": "2022-10-14T10:32:48.929Z"
   },
   {
    "duration": 147,
    "start_time": "2022-10-14T10:32:53.506Z"
   },
   {
    "duration": 178,
    "start_time": "2022-10-14T10:33:00.747Z"
   },
   {
    "duration": 153,
    "start_time": "2022-10-14T10:33:09.103Z"
   },
   {
    "duration": 188,
    "start_time": "2022-10-14T10:33:13.972Z"
   },
   {
    "duration": 163,
    "start_time": "2022-10-14T10:33:18.916Z"
   },
   {
    "duration": 262,
    "start_time": "2022-10-14T10:36:42.775Z"
   },
   {
    "duration": 173,
    "start_time": "2022-10-14T10:37:20.547Z"
   },
   {
    "duration": 127,
    "start_time": "2022-10-14T10:37:30.855Z"
   },
   {
    "duration": 10,
    "start_time": "2022-10-14T10:37:37.383Z"
   },
   {
    "duration": 9,
    "start_time": "2022-10-14T10:37:56.440Z"
   },
   {
    "duration": 526,
    "start_time": "2022-10-14T10:38:37.844Z"
   },
   {
    "duration": 126,
    "start_time": "2022-10-14T10:40:15.857Z"
   },
   {
    "duration": 126,
    "start_time": "2022-10-14T10:41:20.789Z"
   },
   {
    "duration": 14,
    "start_time": "2022-10-14T10:42:06.749Z"
   },
   {
    "duration": 15,
    "start_time": "2022-10-14T10:42:20.479Z"
   },
   {
    "duration": 18,
    "start_time": "2022-10-14T11:27:27.410Z"
   },
   {
    "duration": 18,
    "start_time": "2022-10-14T11:32:12.742Z"
   },
   {
    "duration": 71,
    "start_time": "2022-10-14T11:34:15.463Z"
   },
   {
    "duration": 137,
    "start_time": "2022-10-14T11:34:26.191Z"
   },
   {
    "duration": 128,
    "start_time": "2022-10-14T11:34:42.038Z"
   },
   {
    "duration": 139,
    "start_time": "2022-10-14T11:34:49.061Z"
   },
   {
    "duration": 1670,
    "start_time": "2022-10-14T11:35:04.988Z"
   },
   {
    "duration": 1489,
    "start_time": "2022-10-14T11:35:13.375Z"
   },
   {
    "duration": 128,
    "start_time": "2022-10-14T11:35:18.323Z"
   },
   {
    "duration": 143,
    "start_time": "2022-10-14T11:35:55.238Z"
   },
   {
    "duration": 148,
    "start_time": "2022-10-14T12:01:50.648Z"
   },
   {
    "duration": 10,
    "start_time": "2022-10-14T12:12:43.285Z"
   },
   {
    "duration": 164,
    "start_time": "2022-10-14T12:12:59.632Z"
   },
   {
    "duration": 5,
    "start_time": "2022-10-14T12:13:27.553Z"
   },
   {
    "duration": 4,
    "start_time": "2022-10-14T12:13:40.692Z"
   },
   {
    "duration": 130,
    "start_time": "2022-10-14T12:14:48.890Z"
   },
   {
    "duration": 15,
    "start_time": "2022-10-14T12:23:00.134Z"
   },
   {
    "duration": 13,
    "start_time": "2022-10-14T12:23:13.579Z"
   },
   {
    "duration": 14,
    "start_time": "2022-10-14T12:23:38.665Z"
   },
   {
    "duration": 75,
    "start_time": "2022-10-14T12:24:23.178Z"
   },
   {
    "duration": 13,
    "start_time": "2022-10-14T12:24:31.425Z"
   },
   {
    "duration": 77,
    "start_time": "2022-10-14T12:24:43.601Z"
   },
   {
    "duration": 12,
    "start_time": "2022-10-14T12:24:53.676Z"
   },
   {
    "duration": 12,
    "start_time": "2022-10-14T12:25:58.829Z"
   },
   {
    "duration": 8,
    "start_time": "2022-10-14T12:26:54.845Z"
   },
   {
    "duration": 8,
    "start_time": "2022-10-14T12:26:59.609Z"
   },
   {
    "duration": 7,
    "start_time": "2022-10-14T12:27:04.384Z"
   },
   {
    "duration": 8,
    "start_time": "2022-10-14T12:27:21.105Z"
   },
   {
    "duration": 9,
    "start_time": "2022-10-14T12:27:26.323Z"
   },
   {
    "duration": 9,
    "start_time": "2022-10-14T12:27:28.774Z"
   },
   {
    "duration": 14,
    "start_time": "2022-10-14T12:27:34.369Z"
   },
   {
    "duration": 13,
    "start_time": "2022-10-14T12:27:59.929Z"
   },
   {
    "duration": 133,
    "start_time": "2022-10-14T12:28:04.323Z"
   },
   {
    "duration": 67,
    "start_time": "2022-10-14T12:28:11.700Z"
   },
   {
    "duration": 14,
    "start_time": "2022-10-14T12:28:14.861Z"
   },
   {
    "duration": 73,
    "start_time": "2022-10-14T12:28:32.076Z"
   },
   {
    "duration": 15,
    "start_time": "2022-10-14T12:28:39.252Z"
   },
   {
    "duration": 9,
    "start_time": "2022-10-14T12:28:42.830Z"
   },
   {
    "duration": 43,
    "start_time": "2022-10-14T12:28:43.548Z"
   },
   {
    "duration": 12,
    "start_time": "2022-10-14T12:28:46.310Z"
   },
   {
    "duration": 12,
    "start_time": "2022-10-14T12:28:51.331Z"
   },
   {
    "duration": 1146,
    "start_time": "2022-10-14T12:29:18.302Z"
   },
   {
    "duration": 1121,
    "start_time": "2022-10-14T12:29:33.957Z"
   },
   {
    "duration": 1283,
    "start_time": "2022-10-14T12:29:55.551Z"
   },
   {
    "duration": 14,
    "start_time": "2022-10-14T12:38:17.267Z"
   },
   {
    "duration": 100,
    "start_time": "2022-10-14T12:44:20.175Z"
   },
   {
    "duration": 103,
    "start_time": "2022-10-14T12:44:26.775Z"
   },
   {
    "duration": 9,
    "start_time": "2022-10-14T12:44:40.780Z"
   },
   {
    "duration": 8,
    "start_time": "2022-10-14T12:46:58.528Z"
   },
   {
    "duration": 8,
    "start_time": "2022-10-14T12:47:30.124Z"
   },
   {
    "duration": 10,
    "start_time": "2022-10-14T12:47:36.628Z"
   },
   {
    "duration": 151,
    "start_time": "2022-10-14T12:47:49.671Z"
   },
   {
    "duration": 65,
    "start_time": "2022-10-14T12:48:31.939Z"
   },
   {
    "duration": 69,
    "start_time": "2022-10-14T12:48:58.491Z"
   },
   {
    "duration": 72,
    "start_time": "2022-10-14T12:49:11.370Z"
   },
   {
    "duration": 12,
    "start_time": "2022-10-14T12:49:19.211Z"
   },
   {
    "duration": 12,
    "start_time": "2022-10-14T12:49:22.327Z"
   },
   {
    "duration": 18,
    "start_time": "2022-10-14T12:49:28.066Z"
   },
   {
    "duration": 538,
    "start_time": "2022-10-14T12:50:46.668Z"
   },
   {
    "duration": 314,
    "start_time": "2022-10-14T12:50:59.974Z"
   },
   {
    "duration": 20,
    "start_time": "2022-10-14T12:51:33.779Z"
   },
   {
    "duration": 19,
    "start_time": "2022-10-14T12:51:42.856Z"
   },
   {
    "duration": 130,
    "start_time": "2022-10-14T13:51:13.338Z"
   },
   {
    "duration": 8,
    "start_time": "2022-10-14T13:56:28.239Z"
   },
   {
    "duration": 11,
    "start_time": "2022-10-14T13:56:34.807Z"
   },
   {
    "duration": 26,
    "start_time": "2022-10-14T13:58:40.256Z"
   },
   {
    "duration": 22,
    "start_time": "2022-10-14T13:58:48.083Z"
   },
   {
    "duration": 24,
    "start_time": "2022-10-14T13:59:01.383Z"
   },
   {
    "duration": 19,
    "start_time": "2022-10-14T13:59:35.257Z"
   },
   {
    "duration": 24,
    "start_time": "2022-10-14T13:59:41.564Z"
   },
   {
    "duration": 24,
    "start_time": "2022-10-14T14:00:16.838Z"
   },
   {
    "duration": 7,
    "start_time": "2022-10-14T14:09:23.262Z"
   },
   {
    "duration": 678,
    "start_time": "2022-10-14T14:09:29.118Z"
   },
   {
    "duration": 16,
    "start_time": "2022-10-14T14:09:29.798Z"
   },
   {
    "duration": 1888,
    "start_time": "2022-10-14T14:09:29.815Z"
   },
   {
    "duration": 8,
    "start_time": "2022-10-14T14:09:31.706Z"
   },
   {
    "duration": 20,
    "start_time": "2022-10-14T14:09:31.715Z"
   },
   {
    "duration": 20,
    "start_time": "2022-10-14T14:09:31.737Z"
   },
   {
    "duration": 30,
    "start_time": "2022-10-14T14:09:31.759Z"
   },
   {
    "duration": 25,
    "start_time": "2022-10-14T14:09:31.791Z"
   },
   {
    "duration": 21,
    "start_time": "2022-10-14T14:09:31.817Z"
   },
   {
    "duration": 38,
    "start_time": "2022-10-14T14:09:31.841Z"
   },
   {
    "duration": 32,
    "start_time": "2022-10-14T14:09:31.881Z"
   },
   {
    "duration": 3,
    "start_time": "2022-10-14T14:09:31.915Z"
   },
   {
    "duration": 12,
    "start_time": "2022-10-14T14:09:31.920Z"
   },
   {
    "duration": 32,
    "start_time": "2022-10-14T14:09:31.933Z"
   },
   {
    "duration": 156,
    "start_time": "2022-10-14T14:09:31.967Z"
   },
   {
    "duration": 4,
    "start_time": "2022-10-14T14:09:32.125Z"
   },
   {
    "duration": 13,
    "start_time": "2022-10-14T14:09:32.130Z"
   },
   {
    "duration": 8,
    "start_time": "2022-10-14T14:09:32.144Z"
   },
   {
    "duration": 10,
    "start_time": "2022-10-14T14:09:32.154Z"
   },
   {
    "duration": 6,
    "start_time": "2022-10-14T14:09:32.165Z"
   },
   {
    "duration": 3,
    "start_time": "2022-10-14T14:09:32.185Z"
   },
   {
    "duration": 15,
    "start_time": "2022-10-14T14:09:32.190Z"
   },
   {
    "duration": 28,
    "start_time": "2022-10-14T14:09:32.206Z"
   },
   {
    "duration": 5,
    "start_time": "2022-10-14T14:09:32.236Z"
   },
   {
    "duration": 9,
    "start_time": "2022-10-14T14:09:32.242Z"
   },
   {
    "duration": 7,
    "start_time": "2022-10-14T14:09:32.252Z"
   },
   {
    "duration": 6,
    "start_time": "2022-10-14T14:09:32.260Z"
   },
   {
    "duration": 277,
    "start_time": "2022-10-14T14:09:32.270Z"
   },
   {
    "duration": 7,
    "start_time": "2022-10-14T14:09:32.549Z"
   },
   {
    "duration": 35,
    "start_time": "2022-10-14T14:09:32.558Z"
   },
   {
    "duration": 294,
    "start_time": "2022-10-14T14:09:32.595Z"
   },
   {
    "duration": 380,
    "start_time": "2022-10-14T14:09:32.891Z"
   },
   {
    "duration": 247,
    "start_time": "2022-10-14T14:09:33.274Z"
   },
   {
    "duration": 218,
    "start_time": "2022-10-14T14:09:33.523Z"
   },
   {
    "duration": 192,
    "start_time": "2022-10-14T14:09:33.743Z"
   },
   {
    "duration": 197,
    "start_time": "2022-10-14T14:09:33.936Z"
   },
   {
    "duration": 222,
    "start_time": "2022-10-14T14:09:34.135Z"
   },
   {
    "duration": 2637,
    "start_time": "2022-10-14T14:09:34.359Z"
   },
   {
    "duration": 121,
    "start_time": "2022-10-14T14:09:36.998Z"
   },
   {
    "duration": 303,
    "start_time": "2022-10-14T14:09:37.121Z"
   },
   {
    "duration": 414,
    "start_time": "2022-10-14T14:09:37.426Z"
   },
   {
    "duration": 14,
    "start_time": "2022-10-14T14:09:37.843Z"
   },
   {
    "duration": 27,
    "start_time": "2022-10-14T14:09:37.859Z"
   },
   {
    "duration": 13,
    "start_time": "2022-10-14T14:09:37.888Z"
   },
   {
    "duration": 124,
    "start_time": "2022-10-14T14:09:37.903Z"
   },
   {
    "duration": 248,
    "start_time": "2022-10-14T14:09:38.029Z"
   },
   {
    "duration": 314,
    "start_time": "2022-10-14T14:09:38.279Z"
   },
   {
    "duration": 7,
    "start_time": "2022-10-14T14:09:38.595Z"
   },
   {
    "duration": 38,
    "start_time": "2022-10-14T14:09:38.603Z"
   },
   {
    "duration": 196,
    "start_time": "2022-10-14T14:09:38.642Z"
   },
   {
    "duration": 6,
    "start_time": "2022-10-14T14:09:38.840Z"
   },
   {
    "duration": 213,
    "start_time": "2022-10-14T14:09:38.848Z"
   },
   {
    "duration": 6,
    "start_time": "2022-10-14T14:09:39.063Z"
   },
   {
    "duration": 210,
    "start_time": "2022-10-14T14:09:39.071Z"
   },
   {
    "duration": 5,
    "start_time": "2022-10-14T14:09:39.285Z"
   },
   {
    "duration": 166,
    "start_time": "2022-10-14T14:09:39.292Z"
   },
   {
    "duration": 6,
    "start_time": "2022-10-14T14:09:39.460Z"
   },
   {
    "duration": 232,
    "start_time": "2022-10-14T14:09:39.468Z"
   },
   {
    "duration": 155,
    "start_time": "2022-10-14T14:09:39.702Z"
   },
   {
    "duration": 160,
    "start_time": "2022-10-14T14:09:39.859Z"
   },
   {
    "duration": 151,
    "start_time": "2022-10-14T14:09:40.020Z"
   },
   {
    "duration": 21,
    "start_time": "2022-10-14T14:09:40.173Z"
   },
   {
    "duration": 13,
    "start_time": "2022-10-14T14:09:40.195Z"
   },
   {
    "duration": 21,
    "start_time": "2022-10-14T14:09:40.210Z"
   },
   {
    "duration": 163,
    "start_time": "2022-10-14T14:09:40.233Z"
   },
   {
    "duration": 6,
    "start_time": "2022-10-14T14:09:40.398Z"
   },
   {
    "duration": 178,
    "start_time": "2022-10-14T14:10:04.307Z"
   },
   {
    "duration": 120,
    "start_time": "2022-10-14T14:10:55.800Z"
   },
   {
    "duration": 19,
    "start_time": "2022-10-14T14:13:44.710Z"
   },
   {
    "duration": 773,
    "start_time": "2022-10-14T14:13:57.696Z"
   },
   {
    "duration": 22,
    "start_time": "2022-10-14T14:13:58.472Z"
   },
   {
    "duration": 2035,
    "start_time": "2022-10-14T14:13:58.496Z"
   },
   {
    "duration": 9,
    "start_time": "2022-10-14T14:14:00.533Z"
   },
   {
    "duration": 42,
    "start_time": "2022-10-14T14:14:00.543Z"
   },
   {
    "duration": 37,
    "start_time": "2022-10-14T14:14:00.588Z"
   },
   {
    "duration": 15,
    "start_time": "2022-10-14T14:14:00.627Z"
   },
   {
    "duration": 7,
    "start_time": "2022-10-14T14:14:00.643Z"
   },
   {
    "duration": 22,
    "start_time": "2022-10-14T14:14:00.652Z"
   },
   {
    "duration": 53,
    "start_time": "2022-10-14T14:14:00.677Z"
   },
   {
    "duration": 39,
    "start_time": "2022-10-14T14:14:00.732Z"
   },
   {
    "duration": 4,
    "start_time": "2022-10-14T14:14:00.773Z"
   },
   {
    "duration": 37,
    "start_time": "2022-10-14T14:14:00.778Z"
   },
   {
    "duration": 18,
    "start_time": "2022-10-14T14:14:00.816Z"
   },
   {
    "duration": 156,
    "start_time": "2022-10-14T14:14:00.836Z"
   },
   {
    "duration": 4,
    "start_time": "2022-10-14T14:14:00.994Z"
   },
   {
    "duration": 26,
    "start_time": "2022-10-14T14:14:01.000Z"
   },
   {
    "duration": 21,
    "start_time": "2022-10-14T14:14:01.029Z"
   },
   {
    "duration": 37,
    "start_time": "2022-10-14T14:14:01.052Z"
   },
   {
    "duration": 34,
    "start_time": "2022-10-14T14:14:01.091Z"
   },
   {
    "duration": 24,
    "start_time": "2022-10-14T14:14:01.127Z"
   },
   {
    "duration": 21,
    "start_time": "2022-10-14T14:14:01.154Z"
   },
   {
    "duration": 34,
    "start_time": "2022-10-14T14:14:01.176Z"
   },
   {
    "duration": 15,
    "start_time": "2022-10-14T14:14:01.213Z"
   },
   {
    "duration": 26,
    "start_time": "2022-10-14T14:14:01.230Z"
   },
   {
    "duration": 63,
    "start_time": "2022-10-14T14:14:01.258Z"
   },
   {
    "duration": 46,
    "start_time": "2022-10-14T14:14:01.323Z"
   },
   {
    "duration": 433,
    "start_time": "2022-10-14T14:14:01.374Z"
   },
   {
    "duration": 82,
    "start_time": "2022-10-14T14:14:01.809Z"
   },
   {
    "duration": 0,
    "start_time": "2022-10-14T14:14:01.893Z"
   },
   {
    "duration": 0,
    "start_time": "2022-10-14T14:14:01.894Z"
   },
   {
    "duration": 0,
    "start_time": "2022-10-14T14:14:01.895Z"
   },
   {
    "duration": 0,
    "start_time": "2022-10-14T14:14:01.897Z"
   },
   {
    "duration": 0,
    "start_time": "2022-10-14T14:14:01.898Z"
   },
   {
    "duration": 0,
    "start_time": "2022-10-14T14:14:01.899Z"
   },
   {
    "duration": 0,
    "start_time": "2022-10-14T14:14:01.900Z"
   },
   {
    "duration": 0,
    "start_time": "2022-10-14T14:14:01.901Z"
   },
   {
    "duration": 0,
    "start_time": "2022-10-14T14:14:01.903Z"
   },
   {
    "duration": 0,
    "start_time": "2022-10-14T14:14:01.904Z"
   },
   {
    "duration": 0,
    "start_time": "2022-10-14T14:14:01.905Z"
   },
   {
    "duration": 0,
    "start_time": "2022-10-14T14:14:01.907Z"
   },
   {
    "duration": 0,
    "start_time": "2022-10-14T14:14:01.908Z"
   },
   {
    "duration": 0,
    "start_time": "2022-10-14T14:14:01.909Z"
   },
   {
    "duration": 0,
    "start_time": "2022-10-14T14:14:01.910Z"
   },
   {
    "duration": 0,
    "start_time": "2022-10-14T14:14:01.912Z"
   },
   {
    "duration": 0,
    "start_time": "2022-10-14T14:14:01.913Z"
   },
   {
    "duration": 0,
    "start_time": "2022-10-14T14:14:01.914Z"
   },
   {
    "duration": 0,
    "start_time": "2022-10-14T14:14:01.916Z"
   },
   {
    "duration": 0,
    "start_time": "2022-10-14T14:14:01.916Z"
   },
   {
    "duration": 0,
    "start_time": "2022-10-14T14:14:01.918Z"
   },
   {
    "duration": 0,
    "start_time": "2022-10-14T14:14:01.919Z"
   },
   {
    "duration": 0,
    "start_time": "2022-10-14T14:14:01.921Z"
   },
   {
    "duration": 0,
    "start_time": "2022-10-14T14:14:01.922Z"
   },
   {
    "duration": 0,
    "start_time": "2022-10-14T14:14:01.923Z"
   },
   {
    "duration": 0,
    "start_time": "2022-10-14T14:14:01.924Z"
   },
   {
    "duration": 0,
    "start_time": "2022-10-14T14:14:01.925Z"
   },
   {
    "duration": 0,
    "start_time": "2022-10-14T14:14:01.926Z"
   },
   {
    "duration": 0,
    "start_time": "2022-10-14T14:14:01.928Z"
   },
   {
    "duration": 0,
    "start_time": "2022-10-14T14:14:01.986Z"
   },
   {
    "duration": 0,
    "start_time": "2022-10-14T14:14:01.988Z"
   },
   {
    "duration": 0,
    "start_time": "2022-10-14T14:14:01.989Z"
   },
   {
    "duration": 0,
    "start_time": "2022-10-14T14:14:01.990Z"
   },
   {
    "duration": 0,
    "start_time": "2022-10-14T14:14:01.991Z"
   },
   {
    "duration": 0,
    "start_time": "2022-10-14T14:14:01.992Z"
   },
   {
    "duration": 0,
    "start_time": "2022-10-14T14:14:01.993Z"
   },
   {
    "duration": 0,
    "start_time": "2022-10-14T14:14:01.994Z"
   },
   {
    "duration": 9,
    "start_time": "2022-10-14T14:15:07.137Z"
   },
   {
    "duration": 7,
    "start_time": "2022-10-14T14:17:03.606Z"
   },
   {
    "duration": 160,
    "start_time": "2022-10-14T14:17:04.409Z"
   },
   {
    "duration": 3,
    "start_time": "2022-10-14T14:17:04.740Z"
   },
   {
    "duration": 15,
    "start_time": "2022-10-14T14:17:05.048Z"
   },
   {
    "duration": 3,
    "start_time": "2022-10-14T14:17:05.191Z"
   },
   {
    "duration": 4,
    "start_time": "2022-10-14T14:17:05.354Z"
   },
   {
    "duration": 4,
    "start_time": "2022-10-14T14:17:05.500Z"
   },
   {
    "duration": 6,
    "start_time": "2022-10-14T14:17:05.672Z"
   },
   {
    "duration": 4,
    "start_time": "2022-10-14T14:17:05.852Z"
   },
   {
    "duration": 14,
    "start_time": "2022-10-14T14:17:06.211Z"
   },
   {
    "duration": 356,
    "start_time": "2022-10-14T14:17:16.061Z"
   },
   {
    "duration": 7,
    "start_time": "2022-10-14T14:17:17.284Z"
   },
   {
    "duration": 738,
    "start_time": "2022-10-14T14:17:23.887Z"
   },
   {
    "duration": 14,
    "start_time": "2022-10-14T14:17:24.627Z"
   },
   {
    "duration": 1919,
    "start_time": "2022-10-14T14:17:24.643Z"
   },
   {
    "duration": 8,
    "start_time": "2022-10-14T14:17:26.565Z"
   },
   {
    "duration": 7,
    "start_time": "2022-10-14T14:17:26.575Z"
   },
   {
    "duration": 12,
    "start_time": "2022-10-14T14:17:26.583Z"
   },
   {
    "duration": 9,
    "start_time": "2022-10-14T14:17:26.597Z"
   },
   {
    "duration": 10,
    "start_time": "2022-10-14T14:17:26.609Z"
   },
   {
    "duration": 11,
    "start_time": "2022-10-14T14:17:26.620Z"
   },
   {
    "duration": 35,
    "start_time": "2022-10-14T14:17:26.634Z"
   },
   {
    "duration": 48,
    "start_time": "2022-10-14T14:17:26.670Z"
   },
   {
    "duration": 3,
    "start_time": "2022-10-14T14:17:26.720Z"
   },
   {
    "duration": 10,
    "start_time": "2022-10-14T14:17:26.725Z"
   },
   {
    "duration": 9,
    "start_time": "2022-10-14T14:17:26.736Z"
   },
   {
    "duration": 166,
    "start_time": "2022-10-14T14:17:26.747Z"
   },
   {
    "duration": 18,
    "start_time": "2022-10-14T14:17:26.915Z"
   },
   {
    "duration": 17,
    "start_time": "2022-10-14T14:17:26.935Z"
   },
   {
    "duration": 6,
    "start_time": "2022-10-14T14:17:26.954Z"
   },
   {
    "duration": 6,
    "start_time": "2022-10-14T14:17:26.962Z"
   },
   {
    "duration": 14,
    "start_time": "2022-10-14T14:17:26.971Z"
   },
   {
    "duration": 16,
    "start_time": "2022-10-14T14:17:26.987Z"
   },
   {
    "duration": 5,
    "start_time": "2022-10-14T14:17:27.008Z"
   },
   {
    "duration": 21,
    "start_time": "2022-10-14T14:17:27.015Z"
   },
   {
    "duration": 4,
    "start_time": "2022-10-14T14:17:27.040Z"
   },
   {
    "duration": 9,
    "start_time": "2022-10-14T14:17:27.046Z"
   },
   {
    "duration": 11,
    "start_time": "2022-10-14T14:17:27.057Z"
   },
   {
    "duration": 16,
    "start_time": "2022-10-14T14:17:27.070Z"
   },
   {
    "duration": 305,
    "start_time": "2022-10-14T14:17:27.091Z"
   },
   {
    "duration": 1190,
    "start_time": "2022-10-14T14:17:27.397Z"
   },
   {
    "duration": 0,
    "start_time": "2022-10-14T14:17:28.588Z"
   },
   {
    "duration": 0,
    "start_time": "2022-10-14T14:17:28.590Z"
   },
   {
    "duration": 0,
    "start_time": "2022-10-14T14:17:28.591Z"
   },
   {
    "duration": 0,
    "start_time": "2022-10-14T14:17:28.592Z"
   },
   {
    "duration": 0,
    "start_time": "2022-10-14T14:17:28.593Z"
   },
   {
    "duration": 0,
    "start_time": "2022-10-14T14:17:28.595Z"
   },
   {
    "duration": 0,
    "start_time": "2022-10-14T14:17:28.596Z"
   },
   {
    "duration": 0,
    "start_time": "2022-10-14T14:17:28.597Z"
   },
   {
    "duration": 0,
    "start_time": "2022-10-14T14:17:28.598Z"
   },
   {
    "duration": 0,
    "start_time": "2022-10-14T14:17:28.598Z"
   },
   {
    "duration": 0,
    "start_time": "2022-10-14T14:17:28.599Z"
   },
   {
    "duration": 0,
    "start_time": "2022-10-14T14:17:28.601Z"
   },
   {
    "duration": 0,
    "start_time": "2022-10-14T14:17:28.602Z"
   },
   {
    "duration": 0,
    "start_time": "2022-10-14T14:17:28.603Z"
   },
   {
    "duration": 0,
    "start_time": "2022-10-14T14:17:28.604Z"
   },
   {
    "duration": 0,
    "start_time": "2022-10-14T14:17:28.605Z"
   },
   {
    "duration": 0,
    "start_time": "2022-10-14T14:17:28.606Z"
   },
   {
    "duration": 0,
    "start_time": "2022-10-14T14:17:28.608Z"
   },
   {
    "duration": 0,
    "start_time": "2022-10-14T14:17:28.609Z"
   },
   {
    "duration": 0,
    "start_time": "2022-10-14T14:17:28.610Z"
   },
   {
    "duration": 0,
    "start_time": "2022-10-14T14:17:28.611Z"
   },
   {
    "duration": 0,
    "start_time": "2022-10-14T14:17:28.612Z"
   },
   {
    "duration": 0,
    "start_time": "2022-10-14T14:17:28.613Z"
   },
   {
    "duration": 0,
    "start_time": "2022-10-14T14:17:28.614Z"
   },
   {
    "duration": 0,
    "start_time": "2022-10-14T14:17:28.615Z"
   },
   {
    "duration": 0,
    "start_time": "2022-10-14T14:17:28.616Z"
   },
   {
    "duration": 0,
    "start_time": "2022-10-14T14:17:28.617Z"
   },
   {
    "duration": 0,
    "start_time": "2022-10-14T14:17:28.618Z"
   },
   {
    "duration": 0,
    "start_time": "2022-10-14T14:17:28.619Z"
   },
   {
    "duration": 0,
    "start_time": "2022-10-14T14:17:28.620Z"
   },
   {
    "duration": 0,
    "start_time": "2022-10-14T14:17:28.621Z"
   },
   {
    "duration": 0,
    "start_time": "2022-10-14T14:17:28.622Z"
   },
   {
    "duration": 0,
    "start_time": "2022-10-14T14:17:28.623Z"
   },
   {
    "duration": 0,
    "start_time": "2022-10-14T14:17:28.624Z"
   },
   {
    "duration": 0,
    "start_time": "2022-10-14T14:17:28.625Z"
   },
   {
    "duration": 0,
    "start_time": "2022-10-14T14:17:28.626Z"
   },
   {
    "duration": 0,
    "start_time": "2022-10-14T14:17:28.627Z"
   },
   {
    "duration": 0,
    "start_time": "2022-10-14T14:17:28.628Z"
   },
   {
    "duration": 1078,
    "start_time": "2022-10-14T14:17:38.631Z"
   },
   {
    "duration": 6,
    "start_time": "2022-10-14T14:17:59.390Z"
   },
   {
    "duration": 7,
    "start_time": "2022-10-14T14:18:23.471Z"
   },
   {
    "duration": 155,
    "start_time": "2022-10-14T14:18:23.802Z"
   },
   {
    "duration": 4,
    "start_time": "2022-10-14T14:18:24.138Z"
   },
   {
    "duration": 10,
    "start_time": "2022-10-14T14:18:24.434Z"
   },
   {
    "duration": 3,
    "start_time": "2022-10-14T14:18:24.591Z"
   },
   {
    "duration": 4,
    "start_time": "2022-10-14T14:18:24.740Z"
   },
   {
    "duration": 4,
    "start_time": "2022-10-14T14:18:24.895Z"
   },
   {
    "duration": 4,
    "start_time": "2022-10-14T14:18:25.048Z"
   },
   {
    "duration": 4,
    "start_time": "2022-10-14T14:18:25.204Z"
   },
   {
    "duration": 14,
    "start_time": "2022-10-14T14:18:25.538Z"
   },
   {
    "duration": 4,
    "start_time": "2022-10-14T14:18:26.235Z"
   },
   {
    "duration": 6,
    "start_time": "2022-10-14T14:18:26.380Z"
   },
   {
    "duration": 5,
    "start_time": "2022-10-14T14:18:26.538Z"
   },
   {
    "duration": 5,
    "start_time": "2022-10-14T14:18:26.694Z"
   },
   {
    "duration": 387,
    "start_time": "2022-10-14T14:18:26.857Z"
   },
   {
    "duration": 4,
    "start_time": "2022-10-14T14:18:27.246Z"
   },
   {
    "duration": 9,
    "start_time": "2022-10-14T14:18:27.251Z"
   },
   {
    "duration": 21,
    "start_time": "2022-10-14T14:18:27.349Z"
   },
   {
    "duration": 294,
    "start_time": "2022-10-14T14:18:27.718Z"
   },
   {
    "duration": 301,
    "start_time": "2022-10-14T14:18:28.015Z"
   },
   {
    "duration": 217,
    "start_time": "2022-10-14T14:18:28.318Z"
   },
   {
    "duration": 173,
    "start_time": "2022-10-14T14:18:28.537Z"
   },
   {
    "duration": 213,
    "start_time": "2022-10-14T14:18:28.712Z"
   },
   {
    "duration": 227,
    "start_time": "2022-10-14T14:18:28.927Z"
   },
   {
    "duration": 204,
    "start_time": "2022-10-14T14:18:29.157Z"
   },
   {
    "duration": 110,
    "start_time": "2022-10-14T14:18:37.468Z"
   },
   {
    "duration": 133,
    "start_time": "2022-10-14T14:19:14.134Z"
   },
   {
    "duration": 9,
    "start_time": "2022-10-14T14:35:39.302Z"
   },
   {
    "duration": 5,
    "start_time": "2022-10-14T14:36:04.327Z"
   },
   {
    "duration": 14,
    "start_time": "2022-10-14T15:20:25.442Z"
   },
   {
    "duration": 20,
    "start_time": "2022-10-14T15:21:42.902Z"
   },
   {
    "duration": 804,
    "start_time": "2022-10-15T12:28:28.870Z"
   },
   {
    "duration": 24,
    "start_time": "2022-10-15T12:28:29.676Z"
   },
   {
    "duration": 2028,
    "start_time": "2022-10-15T12:28:29.701Z"
   },
   {
    "duration": 7,
    "start_time": "2022-10-15T12:28:31.731Z"
   },
   {
    "duration": 5,
    "start_time": "2022-10-15T12:28:31.740Z"
   },
   {
    "duration": 10,
    "start_time": "2022-10-15T12:28:31.747Z"
   },
   {
    "duration": 18,
    "start_time": "2022-10-15T12:28:31.758Z"
   },
   {
    "duration": 5,
    "start_time": "2022-10-15T12:28:31.778Z"
   },
   {
    "duration": 16,
    "start_time": "2022-10-15T12:28:31.784Z"
   },
   {
    "duration": 39,
    "start_time": "2022-10-15T12:28:31.803Z"
   },
   {
    "duration": 31,
    "start_time": "2022-10-15T12:28:31.844Z"
   },
   {
    "duration": 3,
    "start_time": "2022-10-15T12:28:31.877Z"
   },
   {
    "duration": 26,
    "start_time": "2022-10-15T12:28:31.882Z"
   },
   {
    "duration": 10,
    "start_time": "2022-10-15T12:28:31.911Z"
   },
   {
    "duration": 140,
    "start_time": "2022-10-15T12:28:31.923Z"
   },
   {
    "duration": 6,
    "start_time": "2022-10-15T12:28:32.065Z"
   },
   {
    "duration": 11,
    "start_time": "2022-10-15T12:28:32.073Z"
   },
   {
    "duration": 17,
    "start_time": "2022-10-15T12:28:32.096Z"
   },
   {
    "duration": 6,
    "start_time": "2022-10-15T12:28:32.115Z"
   },
   {
    "duration": 7,
    "start_time": "2022-10-15T12:28:32.123Z"
   },
   {
    "duration": 5,
    "start_time": "2022-10-15T12:28:32.132Z"
   },
   {
    "duration": 13,
    "start_time": "2022-10-15T12:28:32.139Z"
   },
   {
    "duration": 27,
    "start_time": "2022-10-15T12:28:32.153Z"
   },
   {
    "duration": 5,
    "start_time": "2022-10-15T12:28:32.181Z"
   },
   {
    "duration": 17,
    "start_time": "2022-10-15T12:28:32.187Z"
   },
   {
    "duration": 8,
    "start_time": "2022-10-15T12:28:32.205Z"
   },
   {
    "duration": 8,
    "start_time": "2022-10-15T12:28:32.215Z"
   },
   {
    "duration": 284,
    "start_time": "2022-10-15T12:28:32.224Z"
   },
   {
    "duration": 6,
    "start_time": "2022-10-15T12:28:32.510Z"
   },
   {
    "duration": 29,
    "start_time": "2022-10-15T12:28:32.517Z"
   },
   {
    "duration": 299,
    "start_time": "2022-10-15T12:28:32.548Z"
   },
   {
    "duration": 392,
    "start_time": "2022-10-15T12:28:32.849Z"
   },
   {
    "duration": 218,
    "start_time": "2022-10-15T12:28:33.243Z"
   },
   {
    "duration": 179,
    "start_time": "2022-10-15T12:28:33.463Z"
   },
   {
    "duration": 179,
    "start_time": "2022-10-15T12:28:33.644Z"
   },
   {
    "duration": 196,
    "start_time": "2022-10-15T12:28:33.824Z"
   },
   {
    "duration": 206,
    "start_time": "2022-10-15T12:28:34.022Z"
   },
   {
    "duration": 2669,
    "start_time": "2022-10-15T12:28:34.230Z"
   },
   {
    "duration": 96,
    "start_time": "2022-10-15T12:28:36.903Z"
   },
   {
    "duration": 239,
    "start_time": "2022-10-15T12:28:37.000Z"
   },
   {
    "duration": 386,
    "start_time": "2022-10-15T12:28:37.243Z"
   },
   {
    "duration": 13,
    "start_time": "2022-10-15T12:28:37.630Z"
   },
   {
    "duration": 8,
    "start_time": "2022-10-15T12:28:37.644Z"
   },
   {
    "duration": 10,
    "start_time": "2022-10-15T12:28:37.653Z"
   },
   {
    "duration": 109,
    "start_time": "2022-10-15T12:28:37.665Z"
   },
   {
    "duration": 234,
    "start_time": "2022-10-15T12:28:37.776Z"
   },
   {
    "duration": 296,
    "start_time": "2022-10-15T12:28:38.012Z"
   },
   {
    "duration": 6,
    "start_time": "2022-10-15T12:28:38.310Z"
   },
   {
    "duration": 8,
    "start_time": "2022-10-15T12:28:38.317Z"
   },
   {
    "duration": 186,
    "start_time": "2022-10-15T12:28:38.327Z"
   },
   {
    "duration": 4,
    "start_time": "2022-10-15T12:28:38.515Z"
   },
   {
    "duration": 185,
    "start_time": "2022-10-15T12:28:38.521Z"
   },
   {
    "duration": 6,
    "start_time": "2022-10-15T12:28:38.707Z"
   },
   {
    "duration": 197,
    "start_time": "2022-10-15T12:28:38.716Z"
   },
   {
    "duration": 5,
    "start_time": "2022-10-15T12:28:38.916Z"
   },
   {
    "duration": 150,
    "start_time": "2022-10-15T12:28:38.923Z"
   },
   {
    "duration": 6,
    "start_time": "2022-10-15T12:28:39.075Z"
   },
   {
    "duration": 209,
    "start_time": "2022-10-15T12:28:39.082Z"
   },
   {
    "duration": 148,
    "start_time": "2022-10-15T12:28:39.293Z"
   },
   {
    "duration": 160,
    "start_time": "2022-10-15T12:28:39.442Z"
   },
   {
    "duration": 145,
    "start_time": "2022-10-15T12:28:39.609Z"
   },
   {
    "duration": 14,
    "start_time": "2022-10-15T12:28:39.756Z"
   },
   {
    "duration": 8,
    "start_time": "2022-10-15T12:28:39.772Z"
   },
   {
    "duration": 25,
    "start_time": "2022-10-15T12:28:39.795Z"
   },
   {
    "duration": 145,
    "start_time": "2022-10-15T12:28:39.822Z"
   }
  ],
  "kernelspec": {
   "display_name": "Python 3 (ipykernel)",
   "language": "python",
   "name": "python3"
  },
  "language_info": {
   "codemirror_mode": {
    "name": "ipython",
    "version": 3
   },
   "file_extension": ".py",
   "mimetype": "text/x-python",
   "name": "python",
   "nbconvert_exporter": "python",
   "pygments_lexer": "ipython3",
   "version": "3.9.5"
  },
  "toc": {
   "base_numbering": 1,
   "nav_menu": {},
   "number_sections": true,
   "sideBar": true,
   "skip_h1_title": true,
   "title_cell": "Table of Contents",
   "title_sidebar": "Contents",
   "toc_cell": false,
   "toc_position": {},
   "toc_section_display": true,
   "toc_window_display": false
  }
 },
 "nbformat": 4,
 "nbformat_minor": 2
}
